{
 "cells": [
  {
   "cell_type": "markdown",
   "metadata": {
    "slideshow": {
     "slide_type": "slide"
    }
   },
   "source": [
    "# CSS 120\n",
    "\n",
    "## Climate Change Models\n",
    "\n",
    "### Umberto Mignozzetti (UCSD)\n",
    "\n",
    "(Based on Project Pythia and ClimateMatch)"
   ]
  },
  {
   "cell_type": "markdown",
   "metadata": {
    "execution": {}
   },
   "source": [
    "## Today's lecture\n",
    "\n",
    "In this lecture, we will study the physics of:\n",
    "\n",
    "1. Radiation and greenhouse effect\n",
    "1. Energy Balance\n",
    "1. Zero-Dimensional Energy Balance Model\n",
    "1. Climate Change Scenarios\n",
    "1. Climate feedbacks"
   ]
  },
  {
   "cell_type": "markdown",
   "metadata": {
    "execution": {},
    "slideshow": {
     "slide_type": "slide"
    }
   },
   "source": [
    "## Packages"
   ]
  },
  {
   "cell_type": "code",
   "execution_count": null,
   "metadata": {
    "execution": {}
   },
   "outputs": [],
   "source": [
    "import matplotlib.pyplot as plt\n",
    "import numpy as np\n",
    "import holoviews as hv\n",
    "import panel as pn\n",
    "from scipy.optimize import brentq"
   ]
  },
  {
   "cell_type": "markdown",
   "metadata": {
    "execution": {},
    "slideshow": {
     "slide_type": "slide"
    }
   },
   "source": [
    "# Radiation and the Greenhouse Effect"
   ]
  },
  {
   "cell_type": "markdown",
   "metadata": {
    "execution": {},
    "slideshow": {
     "slide_type": "slide"
    }
   },
   "source": [
    "## Planck's Law\n",
    "\n",
    "All objects with a temperature emit **[electromagnetic radiation](https://www.noaa.gov/jetstream/satellites/electromagnetic-waves)**. \n",
    "\n",
    "This energy travels through space in the form of waves. \n",
    "\n",
    "We will use the blackbody model as a basis to understand Earth's energy balance. \n",
    "\n",
    "> In climate science, the blackbody model refers to the concept of a “blackbody” in physics, which is an idealized object that absorbs all incident electromagnetic radiation, regardless of frequency or angle of incidence, and re-radiates energy perfectly according to its temperature."
   ]
  },
  {
   "cell_type": "markdown",
   "metadata": {
    "execution": {},
    "slideshow": {
     "slide_type": "slide"
    }
   },
   "source": [
    "## Planck's Law\n",
    "\n",
    "If we suppose Earth behaves as a perfect blackbody, then it emits energy at all wavelengths according to **[Planck's Law](https://glossary.ametsoc.org/wiki/Planck%27s_radiation_law)**:\n",
    "\n",
    "\\begin{align}\n",
    "B(\\lambda,T) = \\frac{2 h c^2}{\\lambda^5}\\frac{1}{e^{hc/(\\kappa T)}-1}\n",
    "\\end{align}\n",
    "\n",
    "Where $h =  6.626075 \\times 10^{-34} \\text{ J s}$ is Planck's constant, $c= 2.99792 \\times 10^8 \\text{ m s}^{-1}$ is the speed of light, and $\\kappa = 1.3804 \\times 10^{23} \\text{ W K}^{-1}$ is Boltzmann's constant."
   ]
  },
  {
   "cell_type": "markdown",
   "metadata": {
    "execution": {},
    "slideshow": {
     "slide_type": "slide"
    }
   },
   "source": [
    "## Planck's Law\n",
    "\n",
    "Let us simulate how the blackbody curve changes as Earth warms and cools relative to its current surface temperature of about 288 K. Use the slide bar to adjust the emission temperature.\n",
    "\n",
    "Give the code a few seconds to replot before choosing a new temperature.\n",
    "\n",
    "No need to worry about understanding the code here - this is conceptual.\n",
    "\n",
    "Make sure you execute this cell to enable the widget! Please run this cell **twice** to be able to use the slides bar."
   ]
  },
  {
   "cell_type": "markdown",
   "metadata": {
    "execution": {},
    "slideshow": {
     "slide_type": "slide"
    }
   },
   "source": [
    "## Planck's Law"
   ]
  },
  {
   "cell_type": "code",
   "execution_count": null,
   "metadata": {},
   "outputs": [],
   "source": [
    "# constants\n",
    "h = 6.626075e-34  # J s\n",
    "c = 2.99792e8  # m s^-1\n",
    "k = 1.3804e-23  # W K^-1\n",
    "\n",
    "# Planck's Law depending on wavelength (lambda) and temperature (T)\n",
    "def planck(wavelength, temperature):\n",
    "    a = 2.0 * h * c**2\n",
    "    b = h * c / (wavelength * k * temperature)\n",
    "    intensity = a / ((wavelength**5) * (np.exp(b) - 1.0))\n",
    "\n",
    "    lpeak = (2.898 * 1e-3) / temperature\n",
    "\n",
    "    return intensity"
   ]
  },
  {
   "cell_type": "markdown",
   "metadata": {
    "execution": {},
    "slideshow": {
     "slide_type": "slide"
    }
   },
   "source": [
    "## Planck's Law"
   ]
  },
  {
   "cell_type": "code",
   "execution_count": null,
   "metadata": {
    "slideshow": {
     "slide_type": "-"
    }
   },
   "outputs": [],
   "source": [
    "def update_plot(emiss_temp):\n",
    "    # generate x-axis in increments from 1um to 100 micrometer in 1 nm increments\n",
    "    # starting at 1 nm to avoid wav = 0, which would result in division by zero.\n",
    "    wavelengths = np.arange(1e-6, 50e-6, 1e-9)\n",
    "\n",
    "    # get the blackbody curve and peak emission wavelength for 288 K\n",
    "    intensity288 = planck(wavelengths, 288)\n",
    "\n",
    "    # get the blackbody curve and peak emission wavelength for selected temperature\n",
    "    intensity = planck(wavelengths, emiss_temp)\n",
    "\n",
    "    #     # get the intensity at peak wavelength to limit the lines\n",
    "    #     Ipeak,_ = planck(lpeak,emission_temperature)\n",
    "    #     Ipeak288,_ = planck(lpeak288,288)\n",
    "\n",
    "    # curves output\n",
    "    vary = zip(wavelengths * 1e6, intensity)\n",
    "    init_val = zip(wavelengths * 1e6, intensity288)\n",
    "\n",
    "    # Specified individually\n",
    "    list_of_curves = [\n",
    "        hv.Curve(init_val, label=\"T=288K\").opts(ylim=(0, 1.0e7)),\n",
    "        hv.Curve(vary, label=\"T=\" + str(emiss_temp) + \"K\").opts(ylim=(0, 1.0e7)),\n",
    "    ]\n",
    "\n",
    "    bb_plot = hv.Overlay(list_of_curves).opts(\n",
    "        height=300,\n",
    "        width=600,\n",
    "        xlabel=\"Wavelength (μm)\",\n",
    "        ylabel=\"B(λ,T) (W/(m³ steradian)\",\n",
    "        title=\"Spectral Radiance\",\n",
    "    )\n",
    "\n",
    "    return bb_plot"
   ]
  },
  {
   "cell_type": "markdown",
   "metadata": {
    "execution": {},
    "slideshow": {
     "slide_type": "slide"
    }
   },
   "source": [
    "## Planck's Law"
   ]
  },
  {
   "cell_type": "code",
   "execution_count": null,
   "metadata": {
    "cellView": "form",
    "execution": {},
    "tags": [
     "hide-input"
    ]
   },
   "outputs": [],
   "source": [
    "hv.extension(\"bokeh\")\n",
    "\n",
    "emiss_temp_widget = pn.widgets.IntSlider(\n",
    "    name=\"Emission Temperature\", value=288, start=250, end=300\n",
    ")\n",
    "bound_plot = pn.bind(update_plot, emiss_temp=emiss_temp_widget)\n",
    "\n",
    "pn.Row(emiss_temp_widget, bound_plot)"
   ]
  },
  {
   "cell_type": "markdown",
   "metadata": {
    "execution": {},
    "slideshow": {
     "slide_type": "slide"
    }
   },
   "source": [
    "## Climate Connection\n",
    "\n",
    "The **electromagnetic spectrum** (shown below), which displays the different wavelengths of electromagnetic energy.\n",
    "\n",
    "![Diagram of the Electromagnetic Spectrum](https://upload.wikimedia.org/wikipedia/commons/thumb/3/30/EM_spectrumrevised.png/1920px-EM_spectrumrevised.png)\n",
    "Diagram of the Electromagnetic Spectrum. (Credit: [Wikipedia](https://upload.wikimedia.org/wikipedia/commons/thumb/3/30/EM_spectrumrevised.png/1920px-EM_spectrumrevised.png))\n",
    "\n",
    "According to our model and noting that 1 micrometer = $10^{-6}$ meters, with a surface temperature of 288 K what type of radiation does Earth primarily emit at? "
   ]
  },
  {
   "cell_type": "markdown",
   "metadata": {
    "execution": {},
    "slideshow": {
     "slide_type": "slide"
    }
   },
   "source": [
    "## Stefan-Boltzmann Law\n",
    "\n",
    "If we integrate Planck's Law over all wavelengths and outward angles of emission, the total **outgoing longwave radiation (OLR)** for a given **emission temperature** ($\\mathbf{T}$) follows the **[Stefan-Boltzmann Law](https://glossary.ametsoc.org/wiki/Stefan-boltzmann_law)**.\n",
    "\n",
    "\\begin{align}\n",
    "OLR = \\sigma T^4\n",
    "\\end{align}\n",
    "\n",
    "Where the **[Stefan-Boltzmann constant](https://glossary.ametsoc.org/wiki/Stefan-boltzmann_constant)** is $\\sigma = 5.67 \\times 10^{-8}\\text{ W m}^{-2} \\text{ K}^{-4}$."
   ]
  },
  {
   "cell_type": "markdown",
   "metadata": {
    "execution": {},
    "slideshow": {
     "slide_type": "slide"
    }
   },
   "source": [
    "## Stefan-Boltzmann Law\n",
    "\n",
    "Rearranging the equation above, we can solve for the emission temperature of Earth, $T$.\n",
    "\n",
    "\\begin{align}\n",
    "T = \\sqrt[4]{\\frac{OLR}{\\sigma}}\n",
    "\\end{align}\n",
    "\n",
    "Using $OLR = 239\\text{ W m}^{-2}$ we can calculate the value of $T$:"
   ]
  },
  {
   "cell_type": "markdown",
   "metadata": {
    "execution": {},
    "slideshow": {
     "slide_type": "slide"
    }
   },
   "source": [
    "## Stefan-Boltzmann Law"
   ]
  },
  {
   "cell_type": "code",
   "execution_count": null,
   "metadata": {
    "execution": {},
    "executionInfo": {
     "elapsed": 33,
     "status": "ok",
     "timestamp": 1681268100158,
     "user": {
      "displayName": "Jenna Pearson",
      "userId": "05648130581702734913"
     },
     "user_tz": 420
    }
   },
   "outputs": [],
   "source": [
    "# define the Stefan-Boltzmann Constant, noting we are using 'e' for scientific notation\n",
    "sigma = 5.67e-8  # W m^-2 K^-4\n",
    "\n",
    "# define the outgoing longwave radiation based on observations from the IPCC AR6 Figure 7.2\n",
    "OLR = 239  # W m^-2\n",
    "\n",
    "# plug into equation\n",
    "T = (OLR / sigma) ** (1 / 4)\n",
    "\n",
    "# display answer\n",
    "print(\"Emission Temperature: \", T, \"K or\", T - 273, \"°C\")"
   ]
  },
  {
   "cell_type": "markdown",
   "metadata": {
    "execution": {},
    "slideshow": {
     "slide_type": "slide"
    }
   },
   "source": [
    "## Stefan-Boltzmann Law (Your turn)\n",
    "\n",
    "1. How does this compare to the actual global mean surface temperature of $~288 \\text{ K} / 15\\text{°C}$?\n",
    "2. Using $T = 288 \\text{ K}$ would you expect the corresponding outgoing longwave radiation to be higher or lower than the observed $239 \\text{ W m}^{-2}$?\n",
    "3. What could be accounted for in this model to make it more realistic?"
   ]
  },
  {
   "cell_type": "markdown",
   "metadata": {
    "execution": {},
    "slideshow": {
     "slide_type": "slide"
    }
   },
   "source": [
    "## Stefan-Boltzmann Law (Your turn)\n",
    "\n",
    "By modifying the code above and solving for OLR, find the outgoing longwave radiation expected for the observed surface temperature of $288 \\text{ K}$."
   ]
  },
  {
   "cell_type": "code",
   "execution_count": null,
   "metadata": {
    "execution": {},
    "executionInfo": {
     "elapsed": 31,
     "status": "ok",
     "timestamp": 1681268100161,
     "user": {
      "displayName": "Jenna Pearson",
      "userId": "05648130581702734913"
     },
     "user_tz": 420
    }
   },
   "outputs": [],
   "source": [
    "# define the Stefan-Boltzmann Constant, noting we are using 'e' for scientific notation\n",
    "sigma = ...\n",
    "\n",
    "# define the global mean surface temperature based on observations\n",
    "T = ...\n",
    "\n",
    "# plug into equation\n",
    "OLR = ...\n",
    "\n",
    "# display answer\n",
    "print(\"OLR: \", OLR, \"W m^2\")"
   ]
  },
  {
   "cell_type": "markdown",
   "metadata": {
    "execution": {},
    "slideshow": {
     "slide_type": "slide"
    }
   },
   "source": [
    "# The Greenhouse Effect"
   ]
  },
  {
   "cell_type": "markdown",
   "metadata": {
    "execution": {},
    "slideshow": {
     "slide_type": "slide"
    }
   },
   "source": [
    "## The Greenhouse Effect\n",
    "\n",
    "The expected surface temperature using the blackbody radiation model is much colder than we observe it to be.\n",
    "\n",
    "In this model, we assumed there is nothing that lies between Earth's surface and space that interacts with Earth's emitted radiation.\n",
    "\n",
    "From the initial lecture on the global energy budget we know this is not true.\n",
    "\n",
    "Earth has an atmosphere, and within it are many gases that interact with radiation in the infrared range at which Earth primarily emits.\n",
    "\n",
    "> The effect of these gases on radiation, called the **[greenhouse effect](https://glossary.ametsoc.org/wiki/Greenhouse_effect#:~:text=As%20used%20in%20the%20field,absorb%20and%20emit%20infrared%20radiation.)**, is what warms earth to a habitable temperature. "
   ]
  },
  {
   "cell_type": "markdown",
   "metadata": {
    "execution": {},
    "slideshow": {
     "slide_type": "slide"
    }
   },
   "source": [
    "## The Greenhouse Effect\n",
    "\n",
    "The gases that are responsible for this ([carbon dioxide](https://glossary.ametsoc.org/wiki/Carbon_dioxide), [water vapor](https://glossary.ametsoc.org/wiki/Water_vapor), [methane](https://glossary.ametsoc.org/wiki/Methane), [ozone](https://glossary.ametsoc.org/wiki/Ozone), [nitrous oxide](https://glossary.ametsoc.org/wiki/Nitrous_oxide), and [chloroflourocarbons](https://glossary.ametsoc.org/wiki/Chlorofluorocarbons)) are termed **[greenhouse gases](https://glossary.ametsoc.org/wiki/Greenhouse_gases)**, and are all **[trace gases](https://glossarytest.ametsoc.net/wiki/Trace_gas)** present in very low concentrations in Earth's atmosphere. **[Anthropogenic](https://glossarytest.ametsoc.net/wiki/Anthropogenic)** climate change is caused to a large extent by increased concentrations of many of these trace gases due to emissions from human activities.\n",
    " \n",
    "The figure below shows the contributions to the global surface air temperature change relative to 1750.\n",
    "\n",
    "We can see that all of the greenhouse gases have contributed positively, that is towards warming Earth.\n",
    "\n",
    "Also, note that the total curve tracks the volcano curve quite well until around the 1850s when industrialization took hold.\n",
    "\n",
    "The total and volcanic curves begin to deviate here, and after the mid-1900s the total curve begins tracking the total anthropogenic curve instead."
   ]
  },
  {
   "cell_type": "markdown",
   "metadata": {
    "execution": {},
    "slideshow": {
     "slide_type": "slide"
    }
   },
   "source": [
    "## The Greenhouse Effect\n",
    "\n",
    "![Attributed global surface air temperature change (GSAT)](https://www.ipcc.ch/report/ar6/wg1/downloads/figures/IPCC_AR6_WGI_Figure_7_8.png)  \n",
    "Figure 7.8 | Attributed global surface air temperature change (GSAT) from 1750 to 2019 produced using the two-layer emulator (Supplementary Material 7.SM.2), forced with ERF derived in this chapter (displayed in Figure 2.10) and climate response constrained to assessed ranges for key climate metrics described in Cross-Chapter Box 7.1. The results shown are the medians from a 2237-member ensemble that encompasses uncertainty in forcing and climate response (year-2019 best estimates and uncertainties are shown in Figure 7.7 for several components). Temperature contributions are expressed for carbon dioxide (CO2), methane (CH4), nitrous oxide (N2O), other well-mixed greenhouse gases (WMGHGs), ozone (O3), aerosols, and other anthropogenic forcings, as well as total anthropogenic, solar, volcanic, and total forcing. Shaded uncertainty bands show very likely (5–95%) ranges. Further details on data sources and processing are available in the chapter data table (Table 7.SM.14). (Credit [IPCC](https://www.ipcc.ch/report/ar6/wg1/downloads/figures/IPCC_AR6_WGI_Figure_7_8.png))"
   ]
  },
  {
   "cell_type": "markdown",
   "metadata": {
    "execution": {},
    "slideshow": {
     "slide_type": "slide"
    }
   },
   "source": [
    "## A simple greenhouse model\n",
    "\n",
    "*This section draws content from [The Climate Laboratory](https://brian-rose.github.io/ClimateLaboratoryBook/) by Brian E. J. Rose.*\n",
    "\n",
    "As shown above, greenhouse gases are incredibly important for regulating Earth's energy balance and temperature.\n",
    "\n",
    "A first approach is to model the greenhouse effect on outgoing longwave radiation (OLR) to space by adding a transmissivity coefficient. \n",
    "\n",
    "The **transmissivity coeficient (**$\\mathbf{\\tau}$**)** is the fraction of \n",
    "the radiation emitted from Earth that actually makes it to space. "
   ]
  },
  {
   "cell_type": "markdown",
   "metadata": {
    "execution": {},
    "slideshow": {
     "slide_type": "slide"
    }
   },
   "source": [
    "## A simple greenhouse model\n",
    "\n",
    "This coefficient $\\mathbf{\\tau}$ is a number that lies between 0 and 1, and represents the *effects* of all the greenhouse gases on radiation, rather than including them explicity in the model.\n",
    "\n",
    "This approach is called a **[parametrization](https://glossary.ametsoc.org/wiki/Parameterization)**.\n",
    "\n",
    "Applying this to the original model for blackbody radiation, the modified model is\n",
    "\n",
    "\\begin{align}\n",
    "OLR = \\tau \\sigma T^4\n",
    "\\end{align}\n",
    "\n",
    "Using  $OLR = 239 \\text{ W m}^{-2}$ and $T = 288 \\text{ K}$, we can estimate $\\tau$."
   ]
  },
  {
   "cell_type": "markdown",
   "metadata": {
    "execution": {},
    "slideshow": {
     "slide_type": "slide"
    }
   },
   "source": [
    "## A simple greenhouse model"
   ]
  },
  {
   "cell_type": "code",
   "execution_count": null,
   "metadata": {
    "execution": {},
    "executionInfo": {
     "elapsed": 22,
     "status": "ok",
     "timestamp": 1681268100163,
     "user": {
      "displayName": "Jenna Pearson",
      "userId": "05648130581702734913"
     },
     "user_tz": 420
    }
   },
   "outputs": [],
   "source": [
    "# define the Stefan-Boltzmann Constant, noting we are using 'e' for scientific notation\n",
    "sigma = 5.67e-8  # W m^-2 K^-4\n",
    "\n",
    "# define the outgoing longwave radiation based on observations from the IPCC AR6 Figure 7.2\n",
    "OLR = 239  # W m^-2\n",
    "\n",
    "# define the emission temperature based on observtions of global mean surface temperature\n",
    "T = 288  # K\n",
    "\n",
    "# plug into equation\n",
    "tau = OLR / (sigma * T**4)  # unitless number between 0 and 1\n",
    "\n",
    "# display answer\n",
    "print(\"Transmissivity Coefficient: \", tau)"
   ]
  },
  {
   "cell_type": "markdown",
   "metadata": {
    "execution": {},
    "slideshow": {
     "slide_type": "slide"
    }
   },
   "source": [
    "## A simple greenhouse model (Your turn)"
   ]
  },
  {
   "cell_type": "markdown",
   "metadata": {
    "execution": {},
    "slideshow": {
     "slide_type": "slide"
    }
   },
   "source": [
    "1.  For a generic planet, what could be said about the planet's atmosphere when $\\tau$ is close to 1? Close to 0? Use the OLR seen at the top of the atmosphere in your answer.\n",
    "\n",
    "2.  In terms of energy received from the sun, what does only modifying the _OLR_ to account for the greenhouse effect imply? Are there any greenhouse gases you think would make this implication problematic?\n",
    "\n",
    "3.  Is there any other part of the atmosphere aside from greenhouse gases that we have not discussed that would also affect $\\tau$?"
   ]
  },
  {
   "cell_type": "markdown",
   "metadata": {
    "execution": {},
    "slideshow": {
     "slide_type": "slide"
    }
   },
   "source": [
    "## A simple greenhouse model (Your turn again)\n",
    "\n",
    "Using list comprehension, calculate the OLR for three values of $\\tau = 0.2,0.6114,0.8$. \n",
    "\n",
    "Then plot this on a bar chat to compare. This should help you answer one of the questions above.\n",
    "\n",
    "Hint: what is [list comprehension](https://foundations.projectpythia.org/foundations/quickstart.html#lists)?"
   ]
  },
  {
   "cell_type": "code",
   "execution_count": null,
   "metadata": {
    "execution": {},
    "executionInfo": {
     "elapsed": 401,
     "status": "ok",
     "timestamp": 1681268104208,
     "user": {
      "displayName": "Jenna Pearson",
      "userId": "05648130581702734913"
     },
     "user_tz": 420
    }
   },
   "outputs": [],
   "source": [
    "# define the Stefan-Boltzmann Constant, noting we are using 'e' for scientific notation\n",
    "sigma = ...\n",
    "\n",
    "# define the emission temperature based on observtions of global mean surface temperature\n",
    "T = ...\n",
    "\n",
    "# define values of tau\n",
    "tau = ...\n",
    "\n",
    "# get values of OLR from tau using list comprehension\n",
    "OLR = ...\n",
    "\n",
    "# convert tau to list of strings using list comprehension so we can create a categorical plot\n",
    "tau = ...\n",
    "\n",
    "fig, ax = plt.subplots()\n",
    "_ = ...\n",
    "ax.set_xlabel(\"Transmissivity\")\n",
    "ax.set_ylabel(\"Outgoing Longwave Radiation (W m$^{-2}$)\")"
   ]
  },
  {
   "cell_type": "markdown",
   "metadata": {
    "execution": {},
    "slideshow": {
     "slide_type": "slide"
    }
   },
   "source": [
    "# Energy Balance"
   ]
  },
  {
   "cell_type": "markdown",
   "metadata": {
    "execution": {},
    "slideshow": {
     "slide_type": "slide"
    }
   },
   "source": [
    "## Incoming Solar Radiation (Insolation) and Albedo ($\\alpha$)\n",
    "\n",
    "Just as Earth emits radiation, so does the sun. \n",
    "\n",
    "Radiation from the sun is referred to as *solar* or **[shortwave radiation](https://glossarytest.ametsoc.net/wiki/Shortwave_radiation)**. \n",
    "\n",
    "We will denote the incoming solar radiation, or **[insolation](https://glossary.ametsoc.org/wiki/Insolation)**, as $Q$. \n",
    "\n",
    "From the 'All Sky' Energy budget shown below, the insolation is observed to be $Q = 340 \\text{ W m}^{-2}$. "
   ]
  },
  {
   "cell_type": "markdown",
   "metadata": {
    "execution": {},
    "slideshow": {
     "slide_type": "slide"
    }
   },
   "source": [
    "## Incoming Solar Radiation (Insolation) and Albedo ($\\alpha$)\n",
    "\n",
    "_Note that 'All Sky' refers to fluxes that **include the effects of clouds**. Compare the 'All Sky' figure to the 'Clear Sky' figure below, to see how the fluxes differ when measured only over regions that are cloud-free._\n",
    "\n",
    "Some of this radiation is reflected back to space (for example off of ice and snow or clouds). We will denote the reflected flux back to space as $F_{\\text{ref}}$. \n",
    "\n",
    "From the 'All Sky' energy budget below, this reflected flux is $F_{\\text{ref}} = 100 \\text{ W m}^{-2}$."
   ]
  },
  {
   "cell_type": "markdown",
   "metadata": {
    "execution": {},
    "slideshow": {
     "slide_type": "slide"
    }
   },
   "source": [
    "## Incoming Solar Radiation (Insolation) and Albedo ($\\alpha$)\n",
    "\n",
    "![Global Mean Energy Budget](https://www.ipcc.ch/report/ar6/wg1/downloads/figures/IPCC_AR6_WGI_Figure_7_2.png)\n",
    "Figure 7.2 | Schematic representation of the global mean energy budget of the Earth (upper panel), and its equivalent without considerations of cloud effects (lower panel). Numbers indicate best estimates for the magnitudes of the globally averaged energy balance components in $\\text{ W m}^{-2}$ together with their uncertainty ranges in parentheses (5–95% confidence range), representing climate conditions at the beginning of the 21st century. Note that the cloud-free energy budget shown in the lower panel is not the one that Earth would achieve in equilibrium when no clouds could form. It rather represents the global mean fluxes as determined solely by removing the clouds but otherwise retaining the entire atmospheric structure. This enables the quantification of the effects of clouds on the Earth energy budget and corresponds to the way clear-sky fluxes are calculated in climate models. Thus, the cloud-free energy budget is not closed and therefore the sensible and latent heat fluxes are not quantified in the lower panel. Figure adapted from Wild et al. (2015, 2019). (Credit: [IPCC AR6 Report](https://www.ipcc.ch/report/ar6/wg1/downloads/figures/IPCC_AR6_WGI_Figure_7_2.png))"
   ]
  },
  {
   "cell_type": "markdown",
   "metadata": {
    "execution": {},
    "slideshow": {
     "slide_type": "slide"
    }
   },
   "source": [
    "## Incoming Solar Radiation (Insolation) and Albedo ($\\alpha$)\n",
    "\n",
    "The _fraction_ of reflected radiation relative to the insolation is called the **[planetary albedo](https://glossarytest.ametsoc.net/wiki/Planetary_albedo)** or just **albedo (**$\\mathbf{\\alpha}$**)**\n",
    "\n",
    "\\begin{align}\n",
    "\\alpha = \\frac{F_{\\text{ref}}}{Q}\n",
    "\\end{align}\n",
    "\n",
    "Albedo is a unitless number between 0 and 1. We can use this formula to find the albedo of Earth."
   ]
  },
  {
   "cell_type": "markdown",
   "metadata": {
    "execution": {},
    "slideshow": {
     "slide_type": "slide"
    }
   },
   "source": [
    "## Incoming Solar Radiation (Insolation) and Albedo ($\\alpha$)"
   ]
  },
  {
   "cell_type": "code",
   "execution_count": null,
   "metadata": {
    "execution": {},
    "executionInfo": {
     "elapsed": 17,
     "status": "ok",
     "timestamp": 1681355999731,
     "user": {
      "displayName": "Jenna Pearson",
      "userId": "05648130581702734913"
     },
     "user_tz": 420
    }
   },
   "outputs": [],
   "source": [
    "# define the observed insolation based on observations from the IPCC AR6 Figure 7.2\n",
    "Q = 340  # W m^-2\n",
    "\n",
    "# define the observed reflected radiation based on observations from the IPCC AR6 Figure 7.2\n",
    "F_ref = 100  # W m^-2\n",
    "\n",
    "# plug into equation\n",
    "alpha = F_ref / Q  # unitless number between 0 and 1\n",
    "\n",
    "# display answer\n",
    "print(\"Albedo: \", alpha)"
   ]
  },
  {
   "cell_type": "markdown",
   "metadata": {
    "execution": {},
    "slideshow": {
     "slide_type": "slide"
    }
   },
   "source": [
    "## Absorbed Shortwave Radiation (ASR)\n",
    "\n",
    "The **absorbed shortwave radiation (ASR)** is the amount of insolation that is _not_ reflected, and actually makes it to Earth's surface. Thus,\n",
    "\n",
    "\\begin{align}\n",
    "ASR = Q-F_{\\text{ref}} = (1-\\alpha)Q\n",
    "\\end{align}\n",
    "\n",
    "From observations, we can estimate the absorbed shortwave radiation."
   ]
  },
  {
   "cell_type": "markdown",
   "metadata": {
    "execution": {},
    "slideshow": {
     "slide_type": "slide"
    }
   },
   "source": [
    "## Absorbed Shortwave Radiation (ASR)"
   ]
  },
  {
   "cell_type": "code",
   "execution_count": null,
   "metadata": {
    "execution": {}
   },
   "outputs": [],
   "source": [
    "# plug into equation\n",
    "ASR = (1 - alpha) * Q\n",
    "\n",
    "# display answer\n",
    "print(\"Absorbed Shortwave Radiation: \", ASR, \" W m^-2\")"
   ]
  },
  {
   "cell_type": "markdown",
   "metadata": {
    "execution": {},
    "slideshow": {
     "slide_type": "slide"
    }
   },
   "source": [
    "## Equilibrium Temperature\n",
    "\n",
    "Energy Balance is achieved when radiation absorbed by Earth's surface (ASR) is equal to longwave radiation going out to space (OLR). That is\n",
    "\n",
    "\\begin{align}\n",
    "ASR = OLR\n",
    "\\end{align}\n",
    "\n",
    "By substituting into the equations from previous sections, we can find the surface temperature of Earth needed to maintain this balance. This is called the **equilibrium temperature (** $\\mathbf{T_{\\text{eq}}}$ **)**.\n",
    "\n",
    "Recall $OLR = \\tau\\sigma T^4$ and $ASR = (1-\\alpha)Q$. The **equilibrium temperature** is the temperature the system would have if the energy balance was perfectly reached. "
   ]
  },
  {
   "cell_type": "markdown",
   "metadata": {
    "execution": {},
    "slideshow": {
     "slide_type": "slide"
    }
   },
   "source": [
    "## Equilibrium Temperature\n",
    "\n",
    "Assuming energy balance, we will call the emission temperature denoted previously the equilibrium temperature ($T_{\\text{eq}}$) instead. Thus,\n",
    "\n",
    "\\begin{align}\n",
    "(1-\\alpha)Q = ASR = OLR = \\tau\\sigma T_{\\text{eq}}^4\n",
    "\\end{align}\n",
    "\n",
    "Solving for $T_{\\text{eq}}$ we find\n",
    "\n",
    "\\begin{align}\n",
    "T_{\\text{eq}} = \\sqrt[4]{\\frac{(1-\\alpha)Q}{\\tau\\sigma}}\n",
    "\\end{align}\n",
    "\n",
    "Let's calculate what this should be for Earth using observations:"
   ]
  },
  {
   "cell_type": "markdown",
   "metadata": {
    "slideshow": {
     "slide_type": "slide"
    }
   },
   "source": [
    "## Equilibrium Temperature"
   ]
  },
  {
   "cell_type": "code",
   "execution_count": null,
   "metadata": {
    "execution": {},
    "executionInfo": {
     "elapsed": 236,
     "status": "ok",
     "timestamp": 1681356054176,
     "user": {
      "displayName": "Jenna Pearson",
      "userId": "05648130581702734913"
     },
     "user_tz": 420
    }
   },
   "outputs": [],
   "source": [
    "# define the Stefan-Boltzmann Constant, noting we are using 'e' for scientific notation\n",
    "sigma = 5.67e-8  # W m^-2 K^-4\n",
    "\n",
    "tau = 0.6127  # unitless number between 0 and 1\n",
    "\n",
    "# plug into equation\n",
    "T_eq = (((1 - alpha) * Q) / (tau * sigma)) ** (1 / 4)\n",
    "\n",
    "# display answer\n",
    "print(\"Equilibrium Temperature: \", T_eq, \"K or\", T_eq - 273, \"°C\")"
   ]
  },
  {
   "cell_type": "markdown",
   "metadata": {
    "execution": {},
    "slideshow": {
     "slide_type": "slide"
    }
   },
   "source": [
    "## Increasing Greenhouse Gas Concentrations\n",
    "\n",
    "Assume due to the increasing presence of greenhouse gases in the the atmosphere, that $\\tau$ decreases to $0.57$.\n",
    "\n",
    "We can then use our climate model and python to find the new equilibrium temperature."
   ]
  },
  {
   "cell_type": "code",
   "execution_count": null,
   "metadata": {
    "execution": {},
    "executionInfo": {
     "elapsed": 4,
     "status": "ok",
     "timestamp": 1681356085750,
     "user": {
      "displayName": "Jenna Pearson",
      "userId": "05648130581702734913"
     },
     "user_tz": 420
    }
   },
   "outputs": [],
   "source": [
    "# define transmissivity (assupmtion in this case)\n",
    "tau_2 = 0.57  # unitless number between 0 and 1\n",
    "\n",
    "# plug into equation\n",
    "T_eq_2 = (((1 - alpha) * Q) / (tau_2 * sigma)) ** (1 / 4)\n",
    "\n",
    "# display answer\n",
    "print(\"New Equilibrium Temperature: \", T_eq_2, \"K or\", T_eq_2 - 273, \"°C\")"
   ]
  },
  {
   "cell_type": "markdown",
   "metadata": {
    "execution": {},
    "slideshow": {
     "slide_type": "slide"
    }
   },
   "source": [
    "# Zero-Dimensional Energy Balance Model"
   ]
  },
  {
   "cell_type": "markdown",
   "metadata": {
    "execution": {},
    "slideshow": {
     "slide_type": "slide"
    }
   },
   "source": [
    "## Moving Forward in Time\n",
    "\n",
    "One of the crucial things missing from the simple model we have looked at so far is its ability to _change with time_. \n",
    "\n",
    "As the composition of the atmosphere (among other things) changes, in response, so does the energy balance and global mean surface temperature. \n",
    "\n",
    "This is shown by the thick black lines in the figure below, where the time series of observed global mean surface air temperature change from the 1850-1900 reference period is plotted. \n",
    "\n",
    "Figures like this are called 'hockey stick' figures due to their shape: a relatively stable period followed by a steep increase"
   ]
  },
  {
   "cell_type": "markdown",
   "metadata": {
    "execution": {},
    "slideshow": {
     "slide_type": "slide"
    }
   },
   "source": [
    "## Moving Forward in Time\n",
    "\n",
    "![Observerd and simulated change in temperature](https://www.ipcc.ch/report/ar6/wg1/downloads/figures/IPCC_AR6_WGI_Figure_3_4.png)\n",
    "Figure 3.4 | Observed and simulated time series of the anomalies in annual and global mean surface air temperature (GSAT). All anomalies are differences from the 1850–1900 time mean of each individual time series. The reference period 1850–1900 is indicated by grey shading. (a) Single simulations from CMIP6 models (thin lines) and the multi-model mean (thick red line). Observational data (thick black lines) are from the Met Office Hadley Centre/Climatic Research Unit dataset (HadCRUT5), and are blended surface temperature (2 m air temperature over land and sea surface temperature over the ocean). All models have been subsampled using the HadCRUT5 observational data mask. Vertical lines indicate large historical volcanic eruptions. CMIP6 models which are marked with an asterisk are either tuned to reproduce observed warming directly, or indirectly by tuning equilibrium climate sensitivity. Inset: GSAT for each model over the reference period, not masked to any observations. (b) Multi-model means of CMIP5 (blue line) and CMIP6 (red line) ensembles and associated 5th to 95th percentile ranges (shaded regions). Observational data are HadCRUT5, Berkeley Earth, National Oceanic and Atmospheric Administration NOAAGlobalTemp-Interim and Kadow et al. (2020). Masking was done as in (a). CMIP6 historical simulations were extended with SSP2-4.5 simulations for the period 2015–2020 and CMIP5 simulations were extended with RCP4.5 simulations for the period 2006–2020. All available ensemble members were used (see Section 3.2). The multi-model means and percentiles were calculated solely from simulations available for the whole time span (1850–2020). The figure is updated from Bock et al. (2020), their Figures 1 and 2. CC BY 4.0 https://creativecommons.org/licenses/by/4.0/. Further details on data sources and processing are available in the chapter data table (Table 3.SM.1). (Credit: [IPCC Report AR6](https://www.ipcc.ch/report/ar6/wg1/downloads/figures/IPCC_AR6_WGI_Figure_3_4.png))\n"
   ]
  },
  {
   "cell_type": "markdown",
   "metadata": {
    "execution": {},
    "slideshow": {
     "slide_type": "slide"
    }
   },
   "source": [
    "## Moving Forward in Time\n",
    "\n",
    "In order to incorporate time-dependent behavior into our model, we need to include a mathematical representation of how the _change in energy_ relates to a _change in temperature_ over time.\n",
    "\n",
    "We can represent the change in temperature over time as the net heat input or loss from radiation ($ASR-OLR$) multiplied by the heat capacity of the Earth system.\n",
    "\n",
    "As we learned, the heat capacity of a medium is its ability to increase in temperature given an input of heat. Not all components of the Earth system (for example land, ocean, atmosphere) have the same heat capacity."
   ]
  },
  {
   "cell_type": "markdown",
   "metadata": {
    "slideshow": {
     "slide_type": "slide"
    }
   },
   "source": [
    "## Moving Forward in Time\n",
    "\n",
    "Mathematically, the rate of change of global mean surface temperature ($T$) over time is given as\n",
    "\n",
    "\\begin{align*}\n",
    "\\text{rate of change of }T &= \\frac{1}{\\text{heat capacity}}\\cdot (\\text{energy flux in - energy flux out}) \\\\\n",
    "&= \\frac{1}{C} \\cdot ASR - OLR\n",
    "\\end{align*}\n",
    "\n",
    "where $C$ is the heat capacity of the Earth system. Note here that when $ASR > OLR$, then the system is gaining heat. Conversely when $ASR < OLR$, then the system is losing heat over time.\n",
    "\n",
    "To calculate the heat capacity for the Earth system, we will assume that it is a combination of atmosphere and ocean only, that is $C = C_{\\text{oc}} + C_{\\text{atmo}}$."
   ]
  },
  {
   "cell_type": "markdown",
   "metadata": {
    "slideshow": {
     "slide_type": "slide"
    }
   },
   "source": [
    "## Moving Forward in Time\n",
    "\n",
    "Generally, the heat capacity of a medium is the specific heat of that medium times the total mass.\n",
    "\n",
    "For the atmosphere, we have $C_{\\text{atm}} = c_{\\text{atm}} \\cdot \\frac{W_{\\text{atm}}}{g} $ where $c_{\\text{atm}}$ is the specific heat of the atmosphere, $W_{\\text{atm}}$ is the weight of a column of air, and $g$ is the acceleration due to gravity.\n",
    "\n",
    "For the ocean we have $C_{\\text{oc}} = c_{\\text{oc}} \\cdot \\rho_{\\text{oc}} \\cdot d_{\\text{oc}}$ where $c_{\\text{oc}}$ is the specific heat of the ocean, $\\rho_{\\text{oc}}$ is the density of seawater, and $d_{\\text{oc}}$ is a representative depth of the ocean."
   ]
  },
  {
   "cell_type": "markdown",
   "metadata": {
    "slideshow": {
     "slide_type": "slide"
    }
   },
   "source": [
    "## Moving Forward in Time"
   ]
  },
  {
   "cell_type": "code",
   "execution_count": null,
   "metadata": {
    "execution": {}
   },
   "outputs": [],
   "source": [
    "# heat capacity of the ocean\n",
    "c_oc = 3850     # specific heat of seawater in J/kg/K\n",
    "rho_oc = 1025   # average density of seawater in kg/m3\n",
    "d_oc = 70       # depth of water in m (here representative of the mixed layer)\n",
    "C_oc = c_oc * rho_oc * d_oc  # heat capacity of the ocean\n",
    "\n",
    "# heat capacity of the atmosphere\n",
    "c_atm = 1004    # specific heat of the atmosphere at constant pressure in J/kg/K\n",
    "W_atm = 100000  # weight (pressure) of atmospheric column in Pa\n",
    "g = 9.81        # acceleration due to gravity in m/s^2\n",
    "C_atm = c_atm * (W_atm / g)  # heat capacity of the atmosphere\n",
    "\n",
    "# total heat capacity\n",
    "C = C_oc + C_atm\n",
    "\n",
    "# print results\n",
    "print(f'Ocean Heat Capacity:      {C_oc:.2f} J m^-2 K^-1')\n",
    "print(f'Atmosphere Heat Capacity:  {C_atm:.2f} J m^-2 K^-1')\n",
    "print(f'Total Heat Capacity:      {C:.2f} J m^-2 K^-1')"
   ]
  },
  {
   "cell_type": "markdown",
   "metadata": {
    "execution": {},
    "slideshow": {
     "slide_type": "slide"
    }
   },
   "source": [
    "## Numerical Model\n",
    "\n",
    "Knowing the heat capacity, and the descriptions of $OLR$ and $ASR$ from previous section, we can write the equation\n",
    "\n",
    "First note that \n",
    "\\begin{align}\n",
    "\\text{rate of change }T = \\frac{\\text{change in }T}{\\text{change in time}}=\\frac{dT}{dt}\n",
    "\\end{align}\n",
    "\n",
    "So the equation for our model can be written\n",
    "\\begin{align}\n",
    "\\frac{dT}{dt}= \\frac{1}{C}(ASR - OLR)\n",
    "\\end{align}\n",
    "\n",
    "Numerically, we can use this equation to compute the global mean surface temperature after a small interval of time by adding on the amount of energy gained or lost multiplied by the time interval itself."
   ]
  },
  {
   "cell_type": "markdown",
   "metadata": {
    "execution": {},
    "slideshow": {
     "slide_type": "slide"
    }
   },
   "source": [
    "## Numerical Model\n",
    "\n",
    "The particular method of numerically defining the time and temperature intervals (changes) is called **[discretization](https://glossarytest.ametsoc.net/wiki/Discretization)**, and the way we have chosen to do this is called the **Forward Euler method**.\n",
    "\n",
    "The exact details of this method are beyond the scope of this class, and we will use the method without further elaboration.\n",
    "\n",
    "The Forward Euler method assumes we can use $\\text{change in }T = T_{n+1} - T_{n}$ and $\\text{change in t} = t_{n+1} - t_{n}$ where $t$ is time.\n",
    "\n",
    "Thus, if we know the time interval and the current temperature $\\left(T_n\\right)$, we can predict the temperature at the end of our time interval, $\\left(T_{n+1}\\right)$."
   ]
  },
  {
   "cell_type": "markdown",
   "metadata": {
    "execution": {},
    "slideshow": {
     "slide_type": "slide"
    }
   },
   "source": [
    "## Numerical Model"
   ]
  },
  {
   "cell_type": "code",
   "execution_count": null,
   "metadata": {},
   "outputs": [],
   "source": [
    "# define the time interval, currently one year expressed in seconds\n",
    "dt = 60.0 * 60.0 * 24.0 * 365.0\n",
    "\n",
    "# define albedo\n",
    "alpha = 0.2941\n",
    "\n",
    "# define transmissivity\n",
    "tau = 0.6127    # unitless number between 0 and 1\n",
    "\n",
    "\n",
    "# define a function for absorbed shortwave radiation (ASR)\n",
    "def ASR(alpha, Q):\n",
    "    return (1 - alpha) * Q"
   ]
  },
  {
   "cell_type": "markdown",
   "metadata": {
    "execution": {},
    "slideshow": {
     "slide_type": "slide"
    }
   },
   "source": [
    "## Numerical Model"
   ]
  },
  {
   "cell_type": "code",
   "execution_count": null,
   "metadata": {
    "execution": {}
   },
   "outputs": [],
   "source": [
    "# define a function for outgoing longwave radiation (OLR)\n",
    "def OLR(tau, T):\n",
    "    # define the Stefan-Boltzmann Constant, noting we are using 'e' for scientific notation\n",
    "    sigma = 5.67e-8  # W m^-2 K^-4\n",
    "\n",
    "    return tau * sigma * T**4\n",
    "\n",
    "# create a function to find the new temperature based on the previous using Euler's method.\n",
    "def step_forward(T, alpha, tau, dt):\n",
    "    # define the observed insolation based on observations from the IPCC AR6 Figure 7.2\n",
    "    Q = 340  # W m^-2\n",
    "\n",
    "    # find the new temperature using forward Euler method\n",
    "    T_new = T + dt / C * (ASR(alpha, Q) - OLR(tau, T))\n",
    "\n",
    "    return T_new"
   ]
  },
  {
   "cell_type": "markdown",
   "metadata": {
    "execution": {},
    "slideshow": {
     "slide_type": "slide"
    }
   },
   "source": [
    "## Numerical Model\n",
    "\n",
    "We can now use a loop to apply this function many times over by specifying an initial temperature and a time interval."
   ]
  },
  {
   "cell_type": "code",
   "execution_count": null,
   "metadata": {},
   "outputs": [],
   "source": [
    "# define the number of timesteps (currently years) to run the model\n",
    "numtsteps = 15\n",
    "\n",
    "# for converting number of seconds in a year\n",
    "sec_2_yr = 3.154e7\n",
    "\n",
    "# set the intial temperature (initial condition)\n",
    "T_series = [288]\n",
    "\n",
    "# set the initial time to 0\n",
    "t_series = [0]"
   ]
  },
  {
   "cell_type": "markdown",
   "metadata": {
    "execution": {},
    "slideshow": {
     "slide_type": "slide"
    }
   },
   "source": [
    "## Numerical Model"
   ]
  },
  {
   "cell_type": "code",
   "execution_count": null,
   "metadata": {
    "execution": {},
    "executionInfo": {
     "elapsed": 6,
     "status": "ok",
     "timestamp": 1681356197368,
     "user": {
      "displayName": "Jenna Pearson",
      "userId": "05648130581702734913"
     },
     "user_tz": 420
    }
   },
   "outputs": [],
   "source": [
    "# run the model\n",
    "for n in range(numtsteps):\n",
    "    # calculate and append the time since running the model, dependent on dt and the numtsteps\n",
    "    t_series.append((n + 1) * dt / sec_2_yr)\n",
    "\n",
    "    # calculate and append the new temperature using our pre-defined function\n",
    "    T_series.append(step_forward(T_series[n], alpha=alpha, tau=tau, dt=dt))\n",
    "\n",
    "# display the temeprature time series\n",
    "print(T_series)"
   ]
  },
  {
   "cell_type": "markdown",
   "metadata": {
    "execution": {},
    "slideshow": {
     "slide_type": "slide"
    }
   },
   "source": [
    "## Numerical Model"
   ]
  },
  {
   "cell_type": "code",
   "execution_count": null,
   "metadata": {
    "execution": {},
    "executionInfo": {
     "elapsed": 177,
     "status": "ok",
     "timestamp": 1681356200832,
     "user": {
      "displayName": "Jenna Pearson",
      "userId": "05648130581702734913"
     },
     "user_tz": 420
    }
   },
   "outputs": [],
   "source": [
    "# display the time series\n",
    "print(t_series)"
   ]
  },
  {
   "cell_type": "markdown",
   "metadata": {
    "execution": {},
    "slideshow": {
     "slide_type": "slide"
    }
   },
   "source": [
    "## Numerical Model"
   ]
  },
  {
   "cell_type": "code",
   "execution_count": null,
   "metadata": {
    "execution": {},
    "executionInfo": {
     "elapsed": 921,
     "status": "ok",
     "timestamp": 1681356201977,
     "user": {
      "displayName": "Jenna Pearson",
      "userId": "05648130581702734913"
     },
     "user_tz": 420
    }
   },
   "outputs": [],
   "source": [
    "# plot the results\n",
    "fig, ax = plt.subplots()\n",
    "ax.plot(t_series, T_series)\n",
    "ax.set_xlabel(\"Time (years)\")\n",
    "ax.set_ylabel(\"Global mean temperature (K)\")"
   ]
  },
  {
   "cell_type": "markdown",
   "metadata": {
    "execution": {},
    "slideshow": {
     "slide_type": "slide"
    }
   },
   "source": [
    "# Revisiting the Climate Change Scenarios"
   ]
  },
  {
   "cell_type": "markdown",
   "metadata": {
    "execution": {},
    "slideshow": {
     "slide_type": "slide"
    }
   },
   "source": [
    "## Enhanced Greenhouse Effect\n",
    "\n",
    "We looked at how changing the transmissivity $\\left(\\tau\\right)$ affected the equilibrium temperature $T_{\\text{eq}}$.\n",
    "\n",
    "Now we can use our time-dependent model to investigate this in more depth.\n",
    "\n",
    "Reuse the model, this time setting $\\tau = 0.57$."
   ]
  },
  {
   "cell_type": "code",
   "execution_count": null,
   "metadata": {},
   "outputs": [],
   "source": [
    "# define transmissivity (calculated previously from observations)\n",
    "tau_2 = 0.57  # unitless number between 0 and 1\n",
    "\n",
    "# define the number of timesteps (currently years) to run the model\n",
    "numtsteps = 15\n",
    "\n",
    "# set the intial temperature (initial condition)\n",
    "T_series = [288]\n",
    "\n",
    "# set the initial time to 0\n",
    "t_series = [0]\n",
    "\n",
    "# run the model\n",
    "for n in range(numtsteps):\n",
    "    # calculate and append the time since running the model, dependent on dt and the numtsteps\n",
    "    t_series.append((n + 1) * dt / sec_2_yr)\n",
    "\n",
    "    # calculate and append the new temperature using our pre-defined function\n",
    "    T_series.append(step_forward(T_series[n], alpha=alpha, tau=tau_2, dt=dt))"
   ]
  },
  {
   "cell_type": "markdown",
   "metadata": {
    "execution": {},
    "slideshow": {
     "slide_type": "slide"
    }
   },
   "source": [
    "## Enhanced Greenhouse Effect"
   ]
  },
  {
   "cell_type": "code",
   "execution_count": null,
   "metadata": {
    "execution": {},
    "executionInfo": {
     "elapsed": 942,
     "status": "ok",
     "timestamp": 1681356214169,
     "user": {
      "displayName": "Jenna Pearson",
      "userId": "05648130581702734913"
     },
     "user_tz": 420
    }
   },
   "outputs": [],
   "source": [
    "fig, ax = plt.subplots()\n",
    "ax.plot(t_series, T_series)\n",
    "\n",
    "ax.set_xlabel(\"Time (years)\")\n",
    "ax.set_ylabel(\"Global mean temperature (K)\")"
   ]
  },
  {
   "cell_type": "markdown",
   "metadata": {
    "execution": {},
    "slideshow": {
     "slide_type": "slide"
    }
   },
   "source": [
    "# Climate Feedbacks"
   ]
  },
  {
   "cell_type": "markdown",
   "metadata": {
    "execution": {},
    "slideshow": {
     "slide_type": "slide"
    }
   },
   "source": [
    "## Ice-Albedo Feedback: Temperature Dependent Albedo\n",
    "\n",
    "Our current model only contains one feedback, the 'Planck feedback' also called the 'Planck temperature response'. \n",
    "\n",
    "This feedback encapsulates that a warming of Earth leads to the planet emitting more energy. \n",
    "\n",
    "In reality, there are many  [climate feedbacks](https://www.ipcc.ch/report/ar6/wg1/downloads/report/IPCC_AR6_WGI_AnnexVII.pdf) that contribute to the Earth's net temperature change due to an energy imbalance. \n",
    "\n",
    "In this section, we will focus on incorporating an **ice-albedo feedback** into our model."
   ]
  },
  {
   "cell_type": "markdown",
   "metadata": {
    "slideshow": {
     "slide_type": "slide"
    }
   },
   "source": [
    "## Ice-Albedo Feedback: Temperature Dependent Albedo\n",
    "\n",
    "When the Earth's surface warms, snow and ice melt.\n",
    "\n",
    "This lowers the **albedo (**$\\mathbf{\\alpha}$**)**, because less solar radiation is reflected off Earth's surface. \n",
    "\n",
    "This lower albedo causes the climate to warm even more than if the albedo had stayed the same, increasing the snow and ice melt. This is referred to as a **positive feedback**.\n",
    "\n",
    "Positive feedbacks amplify the changes that are already occurring. \n",
    "\n",
    "This particular feedback is referred to as the **ice-albedo feedback**."
   ]
  },
  {
   "cell_type": "markdown",
   "metadata": {
    "slideshow": {
     "slide_type": "slide"
    }
   },
   "source": [
    "## Ice-Albedo Feedback: Temperature Dependent Albedo\n",
    "\n",
    "A simple way to parameterize ice-albedo feedback in our model is through a temperature-dependent albedo, such as the one defined below:\n",
    "\n",
    "\\begin{align}\n",
    "\\alpha = \\left\\{\n",
    "        \\begin{array}{cl}\n",
    "        0.1 & T \\gt 300 \\text{ K} \\\\\n",
    "        0.1 + (0.7-0.1) \\cdot \\frac{(T-300)^2}{(240-300)^2} & 240\\text{ K} \\le T \\le 300\\text{ K} \\\\\n",
    "        0.7 & T \\lt 240\\text{ K}\n",
    "        \\end{array}\n",
    "        \\right.\n",
    "\\end{align}\n",
    "\n",
    "Using this new temperature-dependent albedo, we can plot the graphs of absorbed shortwave radiation $\\left(ASR\\right)$ and outgoing longwave radiation $\\left(OLR\\right)$"
   ]
  },
  {
   "cell_type": "markdown",
   "metadata": {
    "slideshow": {
     "slide_type": "slide"
    }
   },
   "source": [
    "## Ice-Albedo Feedback: Temperature Dependent Albedo"
   ]
  },
  {
   "cell_type": "code",
   "execution_count": null,
   "metadata": {},
   "outputs": [],
   "source": [
    "# create a array ot temperatures to evaluates the ASR and OLR at\n",
    "T = np.arange(200, 360, 2, dtype=np.float64)\n",
    "\n",
    "# create empty arrays to fill with values later\n",
    "ASR_vals = np.zeros_like(T)\n",
    "\n",
    "# define the slope of the ramp function\n",
    "m = (0.7 - 0.3) / (280 - 250)\n",
    "\n",
    "# define the observed insolation based on observations from the IPCC AR6 Figure 7.2\n",
    "Q = 340  # W m^-2\n",
    "\n",
    "# define transmissivity\n",
    "tau = 0.6127  # unitless number between 0 and 1"
   ]
  },
  {
   "cell_type": "markdown",
   "metadata": {
    "slideshow": {
     "slide_type": "slide"
    }
   },
   "source": [
    "## Ice-Albedo Feedback: Temperature Dependent Albedo"
   ]
  },
  {
   "cell_type": "code",
   "execution_count": null,
   "metadata": {},
   "outputs": [],
   "source": [
    "# define a function for absorbed shortwave radiation (ASR)\n",
    "def ASR(Q, T):\n",
    "    # define function for albedo\n",
    "    if T >= 300:  # temperature of very warm and ice free earth.\n",
    "        alpha = 0.1  # average albedo of land and sea without ice\n",
    "    elif T > 240:  # temperature of Earth to sustain permafrost and sea ice everywhere.\n",
    "        alpha = 0.1 + (0.7 - 0.1) * (T - 300) ** 2 / (240 - 300) ** 2\n",
    "    else:\n",
    "        alpha = 0.7  # average albedo of land and sea ice\n",
    "    return (1 - alpha) * Q\n",
    "\n",
    "# define a function for outgoing longwave raditation (OLR)\n",
    "def OLR(tau, T):\n",
    "    # define the Stefan-Boltzmann Constant, noting we are using 'e' for scientific notation\n",
    "    sigma = 5.67e-8  # W m^-2 K^-4\n",
    "\n",
    "    return tau * sigma * T**4\n",
    "\n",
    "\n",
    "# calculate OLR for different values of T\n",
    "OLR_vals = OLR(tau, T)\n",
    "\n",
    "# calculate ASR for different values of T\n",
    "for tt, temp in enumerate(T):\n",
    "    ASR_vals[tt] = ASR(Q, temp)"
   ]
  },
  {
   "cell_type": "markdown",
   "metadata": {
    "slideshow": {
     "slide_type": "slide"
    }
   },
   "source": [
    "## Ice-Albedo Feedback: Temperature Dependent Albedo"
   ]
  },
  {
   "cell_type": "code",
   "execution_count": null,
   "metadata": {
    "execution": {},
    "executionInfo": {
     "elapsed": 912,
     "status": "ok",
     "timestamp": 1681699458086,
     "user": {
      "displayName": "Jenna Pearson",
      "userId": "05648130581702734913"
     },
     "user_tz": 420
    }
   },
   "outputs": [],
   "source": [
    "# make plots\n",
    "fig, ax = plt.subplots()\n",
    "ax.plot(T, ASR_vals, label=\"Absorbed Shortwave Radiation ($ASR$)\")\n",
    "ax.plot(T, OLR_vals, label=\"Outgoing Longwave Radiation ($OLR$)\")\n",
    "\n",
    "\n",
    "ax.set_xlabel(\"Temperature (K)\")\n",
    "ax.set_ylabel(\"Radiative Flux (Wm$^{-2}$)\")\n",
    "ax.legend()"
   ]
  },
  {
   "cell_type": "markdown",
   "metadata": {
    "execution": {},
    "slideshow": {
     "slide_type": "slide"
    }
   },
   "source": [
    "## Multiple Equilibria From Graphs\n",
    "\n",
    "**Equilibrium temperatures** are solutions to the model equation when the rate of change of temperature is zero. There are two types of equilibrium solutions: *stable* and *unstable*.\n",
    "\n",
    "  - A *stable equilibrium* temperature is a solution that the model asymptotes to (moves towards) over time. \n",
    "  - An *unstable equilibrium* temperature is a solution that the model diverges (moves away) from over time. The only time the model will stay at this equilibrium is if it starts *exactly* at the unstable equilibrium temperature. \n",
    " \n",
    "We can now incorporate the temperature-dependent albedo we defined above into our time-dependent model."
   ]
  },
  {
   "cell_type": "markdown",
   "metadata": {
    "execution": {},
    "slideshow": {
     "slide_type": "slide"
    }
   },
   "source": [
    "## Multiple Equilibria From Graphs"
   ]
  },
  {
   "cell_type": "code",
   "execution_count": null,
   "metadata": {
    "execution": {},
    "executionInfo": {
     "elapsed": 2,
     "status": "ok",
     "timestamp": 1682069593068,
     "user": {
      "displayName": "Ohad Zivan",
      "userId": "06528534325719580785"
     },
     "user_tz": -120
    }
   },
   "outputs": [],
   "source": [
    "# create a function to find the new temperature based on the previous using Euler's method.\n",
    "def step_forward(T, tau, Q, dt):\n",
    "\n",
    "    # define the heat capacity\n",
    "    C = 286471954.64  # J m^-2K\n",
    "\n",
    "    T_new = T + dt / C * (ASR(Q, T) - OLR(tau, T))\n",
    "\n",
    "    return T_new"
   ]
  },
  {
   "cell_type": "markdown",
   "metadata": {
    "execution": {},
    "slideshow": {
     "slide_type": "slide"
    }
   },
   "source": [
    "## Multiple Equilibria From Graphs\n",
    "\n",
    "Let us explore how our model behaves under a variety of initial temperatures. We can use a `for` loop to compare different initial temperatures."
   ]
  },
  {
   "cell_type": "code",
   "execution_count": null,
   "metadata": {
    "execution": {},
    "executionInfo": {
     "elapsed": 1690,
     "status": "ok",
     "timestamp": 1682069718713,
     "user": {
      "displayName": "Ohad Zivan",
      "userId": "06528534325719580785"
     },
     "user_tz": -120
    }
   },
   "outputs": [],
   "source": [
    "dt = 60.0 * 60.0 * 24.0 * 365.0  # time interval, one year expressed in seconds\n",
    "\n",
    "fig, ax = plt.subplots()\n",
    "for init_temp in T:  # suite of initial temperatures in K\n",
    "    numtsteps = 40  #  number of years to run the model\n",
    "\n",
    "    # for converting the number of seconds in a year\n",
    "    sec_2_yr = 3.154e7\n",
    "\n",
    "    # set the initial temperature (initial condition)\n",
    "    T_series = [init_temp]\n",
    "\n",
    "    # set the initial time to 0\n",
    "    t_series = [0]\n",
    "\n",
    "    # run the model\n",
    "    for n in range(numtsteps):\n",
    "\n",
    "        # calculate and append the time since running the model, dependent on dt and the numtsteps\n",
    "        t_series.append((n + 1) * dt / sec_2_yr)\n",
    "\n",
    "        # calculate and append the new temperature using our pre-defined function\n",
    "        T_series.append(step_forward(T_series[n], tau=tau, Q=Q, dt=dt))\n",
    "\n",
    "    # make plot\n",
    "    ax.plot(t_series, T_series)\n",
    "\n",
    "ax.set_title(\"Temporal Evolution of Temperature\")\n",
    "ax.set_xlabel(\"Time (years)\")\n",
    "ax.set_ylabel(\"Temperature (K)\")"
   ]
  },
  {
   "cell_type": "markdown",
   "metadata": {
    "execution": {},
    "slideshow": {
     "slide_type": "slide"
    }
   },
   "source": [
    "## Finding Equilibria Numerically & Determining Convergence or Divergence\n",
    "\n",
    "To verify the equilibrium solutions we identified graphically in the previous section, we can use python to find the exact values (i.e., where the rate of change in temperature is zero). \n",
    "\n",
    "That is find the temperatures that satisfy \n",
    "\n",
    "\\begin{align}\n",
    "0 = ASR-OLR.\n",
    "\\end{align}\n",
    "\n",
    "To aid us, we will use [brentq](https://docs.scipy.org/doc/scipy/reference/generated/scipy.optimize.brentq.html#scipy-optimize-brentq), a *root-finding function* from the `scipy` package."
   ]
  },
  {
   "cell_type": "markdown",
   "metadata": {
    "execution": {},
    "slideshow": {
     "slide_type": "slide"
    }
   },
   "source": [
    "## Finding Equilibria Numerically & Determining Convergence or Divergence"
   ]
  },
  {
   "cell_type": "code",
   "execution_count": null,
   "metadata": {
    "execution": {},
    "executionInfo": {
     "elapsed": 2,
     "status": "ok",
     "timestamp": 1682069900203,
     "user": {
      "displayName": "Ohad Zivan",
      "userId": "06528534325719580785"
     },
     "user_tz": -120
    }
   },
   "outputs": [],
   "source": [
    "# create function to find the forcing at the top of the atmosphere\n",
    "def Ftoa(T):\n",
    "    return ASR(Q, T) - OLR(tau, T)\n",
    "\n",
    "\n",
    "#  brentq() requires a function and two end-points to be input as arguments\n",
    "#  it will look for a root/zero of the function between those end-points\n",
    "Teq1 = brentq(\n",
    "    Ftoa, 200.0, 240.0\n",
    ")  # these ranges are from the intersections of the graphs of ASR and OLR\n",
    "Teq2 = brentq(Ftoa, 240.0, 280.0)\n",
    "Teq3 = brentq(Ftoa, 280.0, 320.0)\n",
    "\n",
    "print(Teq1, Teq2, Teq3)"
   ]
  },
  {
   "cell_type": "markdown",
   "metadata": {
    "execution": {},
    "slideshow": {
     "slide_type": "slide"
    }
   },
   "source": [
    "## Finding Equilibria Numerically & Determining Convergence or Divergence\n",
    "\n",
    "To assess the stability of these equilibria, we can plot the difference in $ASR$ and $OSR$. \n",
    "\n",
    "This is the same function `Ftoa` that we calculated in the previous cell, but we will recalculate it below for plotting purposes.\n",
    "\n",
    "(get off slide show... too big :-)"
   ]
  },
  {
   "cell_type": "code",
   "execution_count": null,
   "metadata": {
    "execution": {},
    "executionInfo": {
     "elapsed": 1877,
     "status": "ok",
     "timestamp": 1681699462185,
     "user": {
      "displayName": "Jenna Pearson",
      "userId": "05648130581702734913"
     },
     "user_tz": 420
    },
    "slideshow": {
     "slide_type": "-"
    }
   },
   "outputs": [],
   "source": [
    "# we've already calculated ASR and OLR above\n",
    "fig, ax = plt.subplots()\n",
    "F = ASR_vals - OLR_vals\n",
    "ax.plot(T, F, color=\"k\", linewidth=3)\n",
    "\n",
    "# find positive values and fill with red\n",
    "pos_ind1 = T <= Teq1\n",
    "ax.fill_between(T[pos_ind1], 0, F[pos_ind1], color=\"red\")\n",
    "\n",
    "pos_ind2 = (T >= Teq2) & (T <= Teq3)\n",
    "ax.fill_between(T[pos_ind2], 0, F[pos_ind2], color=\"red\")\n",
    "\n",
    "# find negative values and fill with blue\n",
    "neg_ind1 = (T >= Teq1) & (T <= Teq2)\n",
    "ax.fill_between(T[neg_ind1], 0, F[neg_ind1], color=\"blue\")\n",
    "\n",
    "neg_ind2 = T >= Teq3\n",
    "ax.fill_between(T[neg_ind2], 0, F[neg_ind2], color=\"blue\")\n",
    "\n",
    "# plot vertical lines/names at equilibrium temperatures\n",
    "ax.axvline(x=Teq1, color=\"k\", ls=\":\")\n",
    "ax.axvline(x=Teq2, color=\"k\", ls=\":\")\n",
    "ax.axvline(x=Teq3, color=\"k\", ls=\":\")\n",
    "\n",
    "ax.annotate(\n",
    "    \"$T_{eq1}$\",\n",
    "    xy=(Teq1 - 5, -295),\n",
    "    xytext=(Teq1 - 5, -295),\n",
    "    rotation=90,\n",
    "    annotation_clip=False,\n",
    ")\n",
    "ax.annotate(\n",
    "    \"$T_{eq2}$\",\n",
    "    xy=(Teq2 - 5, -295),\n",
    "    xytext=(Teq2 - 5, -295),\n",
    "    rotation=90,\n",
    "    annotation_clip=False,\n",
    ")\n",
    "ax.annotate(\n",
    "    \"$T_{eq3}$\",\n",
    "    xy=(Teq3 - 5, -295),\n",
    "    xytext=(Teq3 - 5, -295),\n",
    "    rotation=90,\n",
    "    annotation_clip=False,\n",
    ")\n",
    "\n",
    "# plot arrows/text to show stability of equilibrium points\n",
    "ax.annotate(\n",
    "    \"\",\n",
    "    xy=(232, -50),\n",
    "    xytext=(200, -50),\n",
    "    arrowprops=dict(facecolor=\"black\", arrowstyle=\"-|>\"),\n",
    ")\n",
    "\n",
    "ax.annotate(\n",
    "    \"\",\n",
    "    xy=(242.5, -50),\n",
    "    xytext=(233, -50),\n",
    "    arrowprops=dict(facecolor=\"black\", arrowstyle=\"<|-\"),\n",
    ")\n",
    "\n",
    "ax.annotate(\n",
    "    \"\",\n",
    "    xy=(305.5, -50),\n",
    "    xytext=(243.5, -50),\n",
    "    arrowprops=dict(facecolor=\"black\", arrowstyle=\"-|>\"),\n",
    ")\n",
    "\n",
    "ax.annotate(\n",
    "    \"\",\n",
    "    xy=(358, -50),\n",
    "    xytext=(307, -50),\n",
    "    arrowprops=dict(facecolor=\"black\", arrowstyle=\"<|-\"),\n",
    ")\n",
    "\n",
    "\n",
    "ax.annotate(\"convergence\", xy=(358, -170), xytext=(307, -170), rotation=90)\n",
    "\n",
    "ax.annotate(\"divergence\", xy=(305.5, -170), xytext=(243.5, -170), rotation=90)\n",
    "\n",
    "ax.annotate(\"convergence\", xy=(242.5, -170), xytext=(233, -170), rotation=90)\n",
    "\n",
    "\n",
    "ax.set_xlabel(\"Temperature (K)\")\n",
    "ax.set_ylabel(\"$ASR-OLR$ (Wm$^{-2}$)\");"
   ]
  },
  {
   "cell_type": "markdown",
   "metadata": {
    "execution": {},
    "slideshow": {
     "slide_type": "slide"
    }
   },
   "source": [
    "## Finding Equilibria Numerically & Determining Convergence or Divergence\n",
    "\n",
    "The red regions represent conditions where the Earth would warm, because the energy absorbed by the Earth system is greater than the energy emitted or reflected back into space. \n",
    "\n",
    "The blue regions represent conditions where the Earth would cool, because the outgoing radiation is larger than the absorbed radiation.\n",
    "\n",
    "For example, if Earth started at an initial temperature below $T_{\\text{eq1}}$ (in the left red region), it will move to the right on the $x$-axis, towards the $T_{\\text{eq1}}$ equilibrium state.\n",
    "\n",
    "Conversely, if Earth started between $T_{\\text{eq1}}$ and $T_{\\text{eq1}}$ (the left blue region), the temperature would decrease, moving left on the $x$-axis until it reaches $T_{\\text{eq1}}$.\n",
    "\n",
    "Thus $T_{\\text{eq1}}$ is a *stable* equilibrium as the temperature curves will tend to this point after a long time."
   ]
  },
  {
   "cell_type": "markdown",
   "metadata": {
    "execution": {},
    "slideshow": {
     "slide_type": "slide"
    }
   },
   "source": [
    "## Changing Insolation: Effect on the Number Equilibrium Solutions\n",
    "\n",
    "We learned that insolation (the amount of radiation Earth receives from the sun at the top of the atmosphere) fluctuates with time. \n",
    "\n",
    "Over Earth's history, the insolation has sometimes been lower, and sometimes higher, than the currently observed $340 \\text{ Wm}^{-2}$.\n",
    "\n",
    "These insolation changes directly affect the $ASR$, causing Earth to warm or cool depending on whether it receives more or less insolation respectively. \n",
    "\n",
    "To look at the effect that changing insolation has on Earth's equilibrium state(s), we can re-plot $ASR$ as a function of temperature for several different insolation values (including the temperature-dependent albedo), alongside the $OLR$."
   ]
  },
  {
   "cell_type": "markdown",
   "metadata": {
    "execution": {},
    "slideshow": {
     "slide_type": "slide"
    }
   },
   "source": [
    "## Changing Insolation: Effect on the Number Equilibrium Solutions\n",
    "\n",
    "As we increase or decrease the insolation, the number of intersections between $ASR$ and $OLR$ can change! This means the number of equilibrium solutions for our model will also change."
   ]
  },
  {
   "cell_type": "code",
   "execution_count": null,
   "metadata": {
    "execution": {}
   },
   "outputs": [],
   "source": [
    "# define the observed insolation\n",
    "Q_vals = [220, 340, 420]  # W m^-2\n",
    "\n",
    "fig, ax = plt.subplots()\n",
    "for Q_2 in Q_vals:\n",
    "    # calculate ASR and OLR for different values of T\n",
    "    for tt, temp in enumerate(T):\n",
    "\n",
    "        ASR_vals[tt] = ASR(Q_2, temp)\n",
    "\n",
    "    # make plots\n",
    "    ax.plot(T, ASR_vals, label=\"$ASR$ for $Q$ = \" + str(Q_2) + \" Wm$^{-2}$\")\n",
    "\n",
    "# note we calculated OLR previously, and it does not depend on Q\n",
    "ax.plot(T, OLR_vals, label=\"$OLR$\")\n",
    "\n",
    "\n",
    "ax.set_xlabel(\"Temperature (K)\")\n",
    "ax.set_ylabel(\"Radiative Flux (Wm$^{-2}$)\")\n",
    "ax.legend()"
   ]
  },
  {
   "cell_type": "markdown",
   "metadata": {
    "execution": {},
    "slideshow": {
     "slide_type": "slide"
    }
   },
   "source": [
    "## Effect on Equilibrium Temperatures\n",
    "\n",
    "To understand how this effect translates to different equilibrium temperatures of our model over time, we will apply a range of insolation values to our model.\n",
    "\n",
    "Let us first start off with a very cold Earth, at $220 \\text{K}$, and warm the Earth by steadily increasing the insolation above our present-day $340 \\text{ Wm}^{-2}$ value."
   ]
  },
  {
   "cell_type": "markdown",
   "metadata": {
    "execution": {},
    "slideshow": {
     "slide_type": "slide"
    }
   },
   "source": [
    "## Effect on Equilibrium Temperatures"
   ]
  },
  {
   "cell_type": "code",
   "execution_count": null,
   "metadata": {
    "execution": {},
    "executionInfo": {
     "elapsed": 1740,
     "status": "ok",
     "timestamp": 1681699463921,
     "user": {
      "displayName": "Jenna Pearson",
      "userId": "05648130581702734913"
     },
     "user_tz": 420
    }
   },
   "outputs": [],
   "source": [
    "# these are the values of insolation we will use\n",
    "insolation_vals = np.arange(340, 500, 3)\n",
    "\n",
    "# initial temperature we will use\n",
    "init_temp = 220  # K\n",
    "\n",
    "fig, ax = plt.subplots()\n",
    "\n",
    "for i, insolation in enumerate(insolation_vals):  # suite of initial temperatures in K\n",
    "\n",
    "    numtsteps = 100  #  number of years to run the model\n",
    "\n",
    "    # for converting the number of seconds in a year\n",
    "    sec_2_yr = 3.154e7\n",
    "\n",
    "    # set the initial temperature (initial condition)\n",
    "    T_series = [init_temp]\n",
    "\n",
    "    # set the initial time to 0\n",
    "    t_series = [0]\n",
    "\n",
    "    # run the model\n",
    "    for n in range(numtsteps):\n",
    "\n",
    "        # calculate and append the time since running the model, dependent on dt and the numtsteps\n",
    "        t_series.append((n + 1) * dt / sec_2_yr)\n",
    "\n",
    "        # calculate and append the new temperature using our pre-defined function\n",
    "        T_series.append(step_forward(T_series[n], tau=tau, Q=insolation, dt=dt))\n",
    "\n",
    "    # make plot\n",
    "    colors = plt.cm.coolwarm(np.linspace(0, 1, insolation_vals.shape[0]))\n",
    "    if (\n",
    "        insolation == 385\n",
    "    ):  # This is just to highlight a particularly interesting insolation value\n",
    "        ax.plot(t_series, T_series, color=colors[i], linestyle=\"dashed\")\n",
    "    else:\n",
    "        ax.plot(t_series, T_series, color=colors[i])\n",
    "\n",
    "ax.set_ylabel(\"Temperature (K)\")\n",
    "ax.set_xlabel(\"Time (years)\")"
   ]
  },
  {
   "cell_type": "markdown",
   "metadata": {
    "slideshow": {
     "slide_type": "slide"
    }
   },
   "source": [
    "## Questions?"
   ]
  },
  {
   "cell_type": "markdown",
   "metadata": {
    "slideshow": {
     "slide_type": "slide"
    }
   },
   "source": [
    "## See you in the next lecture!"
   ]
  },
  {
   "cell_type": "markdown",
   "metadata": {
    "execution": {},
    "slideshow": {
     "slide_type": "slide"
    }
   },
   "source": [
    "## Equilibrium Climate Sensitivity (Your turn)\n",
    "\n",
    "Here we define the **[equilibrium climate sensitivity](https://www.ipcc.ch/report/ar6/wg1/downloads/report/IPCC_AR6_WGI_AnnexVII.pdf)** as the long-term global warming (equilibrium temperature increase) caused by a doubling of carbon dioxide above its pre-industrial concentration. \n",
    "\n",
    "The impact of a doubling of carbon dioxide on these energy flows is measured by a [radiative forcing](https://www.ipcc.ch/report/ar6/wg1/downloads/report/IPCC_AR6_WGI_AnnexVII.pdf). \n",
    "\n",
    "Here a positive radiation forcing leads to warming, and a negative radiative forcing leads to cooling.\n",
    "\n",
    "The equilibrium climate sensitivity depends on a number of things, including physics and feedbacks of the model used. In the following exercise, you will calculate the equilibrium climate sensitivity of _our_ model.\n",
    "\n",
    "1. Write a function called `step_forward()` as from above, and then create another function that adds in a radiative forcing to the difference between $ASR$ and $OLR$ and call it `step_forward_forced()`. \n",
    "\n",
    "Make sure both functions output the energy balance of the model. \n",
    "\n",
    "Consistent with the [IPCC AR6](https://www.ipcc.ch/report/ar6/wg1/chapter/chapter-7/#Effective), use an effective radiative forcing of 3.93 W m$^{-2}$, where _effective_ means the climate system, but not the surface temperature, has been allowed to adjust."
   ]
  },
  {
   "cell_type": "markdown",
   "metadata": {
    "slideshow": {
     "slide_type": "slide"
    }
   },
   "source": [
    "## Equilibrium Climate Sensitivity (Your turn)"
   ]
  },
  {
   "cell_type": "code",
   "execution_count": null,
   "metadata": {
    "execution": {}
   },
   "outputs": [],
   "source": [
    "# define your functions and constants\n",
    "\n",
    "# define albedo\n",
    "alpha = 0.2941  # unitless number between 0 and 1\n",
    "\n",
    "# define transmissivity\n",
    "tau = 0.6127    # unitless number between 0 and 1\n",
    "\n",
    "# effective radiative forcing for a doubling of CO2\n",
    "F = 3.93  # W/m^2\n",
    "\n",
    "# define the time interval, one year expressed in seconds\n",
    "dt = 60.0 * 60.0 * 24.0 * 365.0\n",
    "\n",
    "# for converting number of seconds in a year\n",
    "sec_2_yr = 3.154e7\n",
    "\n",
    "\n",
    "# define a function for absorbed shortwave radiation (ASR)\n",
    "def ASR(alpha, Q):\n",
    "    return (1 - alpha) * Q\n",
    "\n",
    "\n",
    "# define a function for outgoing longwave radiation (OLR)\n",
    "def OLR(tau, T):\n",
    "    # define the Stefan-Boltzmann Constant, noting we are using 'e' for scientific notation\n",
    "    sigma = 5.67e-8  # W m^-2 K^-4\n",
    "\n",
    "    return tau * sigma * T**4\n",
    "\n",
    "\n",
    "# create a function to find the new temperature based on the previous using Euler's method.\n",
    "def step_forward(T, alpha, tau, dt):\n",
    "    # define the observed insolation based on observations from the IPCC AR6 Figure 7.2\n",
    "    ...\n",
    "\n",
    "    # define the Stefan-Boltzmann Constant, noting we are using 'e' for scientific notation\n",
    "    ...\n",
    "\n",
    "    Ftoa = ...\n",
    "\n",
    "    T_new = ...\n",
    "\n",
    "    return ...\n",
    "\n",
    "\n",
    "# create a function to find the new temperature based on the previous using Euler's method.\n",
    "def step_forward_forced(T, alpha, tau, dt):\n",
    "    # define the observed insolation based on observations from the IPCC AR6 Figure 7.2\n",
    "    ...\n",
    "\n",
    "    # define the Stefan-Boltzmann Constant, noting we are using 'e' for scientific notation\n",
    "    ...\n",
    "\n",
    "    Ftoa = ...\n",
    "\n",
    "    T_new = ...\n",
    "\n",
    "    return ..."
   ]
  },
  {
   "cell_type": "markdown",
   "metadata": {
    "slideshow": {
     "slide_type": "slide"
    }
   },
   "source": [
    "## Equilibrium Climate Sensitivity (Your turn)\n",
    "\n",
    "2. Using an initial temperature of 288 K, run the model to equilibrium. Make sure your model is in equilbrium by checking that the energy balance is near zero."
   ]
  },
  {
   "cell_type": "code",
   "execution_count": null,
   "metadata": {
    "execution": {}
   },
   "outputs": [],
   "source": [
    "# run the model to equilibrium without forcing and begining with T(0) = 288K\n",
    "\n",
    "# define the number of timesteps (years) to run the model\n",
    "numtsteps = 40\n",
    "\n",
    "# set the intial temperature (initial condition)\n",
    "T_series = [288]\n",
    "\n",
    "# set the initial time to 0\n",
    "t_series = [0]\n",
    "\n",
    "# run the model\n",
    "for n in range(numtsteps):\n",
    "    # calculate and append the time since running the model, dependent on dt and the numtsteps\n",
    "    t_series.append(...)\n",
    "\n",
    "    # calculate and append the new temperature using our pre-defined function and get energy balance\n",
    "    ...\n",
    "    T_series.append(...)\n",
    "\n",
    "print(...)"
   ]
  },
  {
   "cell_type": "markdown",
   "metadata": {
    "execution": {},
    "slideshow": {
     "slide_type": "slide"
    }
   },
   "source": [
    "## Equilibrium Climate Sensitivity (Your turn)\n",
    "\n",
    "3. Run the forced model equilibrium using the unforced equilibrium temperature as your inital condition and the `step_forward_forced()` function you wrote above.\n"
   ]
  },
  {
   "cell_type": "code",
   "execution_count": null,
   "metadata": {
    "execution": {}
   },
   "outputs": [],
   "source": [
    "# define the number of timesteps (years) to run the model\n",
    "numtsteps = 40\n",
    "\n",
    "# set initial condition (temperature) to the equilibrium value from the last run without forcing\n",
    "T_series_forced = [T_series[-1]]\n",
    "\n",
    "# set the initial time to 0\n",
    "t_series_forced = [0]\n",
    "\n",
    "# run the model\n",
    "for n in range(numtsteps):\n",
    "    # calculate and append the time since running the model, dependent on dt and the numtsteps\n",
    "    t_series_forced.append(...)\n",
    "\n",
    "    # calculate and append the new temperature using our pre-defined function and get energy balance\n",
    "    ...\n",
    "    T_series_forced.append(...)\n",
    "\n",
    "print(...)"
   ]
  },
  {
   "cell_type": "markdown",
   "metadata": {
    "execution": {},
    "slideshow": {
     "slide_type": "slide"
    }
   },
   "source": [
    "## Equilibrium Climate Sensitivity (Your turn)\n",
    "\n",
    "4. Plot the temperature curve from the forced simulation as a function of time."
   ]
  },
  {
   "cell_type": "code",
   "execution_count": null,
   "metadata": {
    "execution": {}
   },
   "outputs": [],
   "source": [
    "# plot the time series\n",
    "fig, ax = plt.subplots()\n",
    "_ = ...\n",
    "\n",
    "ax.set_xlabel(\"Time (years)\")\n",
    "ax.set_ylabel(\"Global mean temperature (K)\")"
   ]
  },
  {
   "cell_type": "markdown",
   "metadata": {
    "execution": {}
   },
   "source": [
    "## Equilibrium Climate Sensitivity (Your turn)\n",
    "\n",
    "5. Subtract the intial temperature used for your forced simulation from the final temperature after running to equilibrium to get the equilibrium climate sensitivty.\n"
   ]
  },
  {
   "cell_type": "code",
   "execution_count": null,
   "metadata": {
    "execution": {}
   },
   "outputs": [],
   "source": [
    "# calculate equilibrium climate sensitivity\n",
    "ecs = ...\n",
    "print(\"Equilibrium Climate Sensitivity: \", ecs)"
   ]
  }
 ],
 "metadata": {
  "celltoolbar": "Slideshow",
  "colab": {
   "collapsed_sections": [],
   "include_colab_link": true,
   "name": "W1D5_Tutorial1",
   "provenance": [],
   "toc_visible": true
  },
  "gpuClass": "standard",
  "kernel": {
   "display_name": "Python 3",
   "language": "python",
   "name": "python3"
  },
  "kernelspec": {
   "display_name": "Python 3 (ipykernel)",
   "language": "python",
   "name": "python3"
  },
  "language_info": {
   "codemirror_mode": {
    "name": "ipython",
    "version": 3
   },
   "file_extension": ".py",
   "mimetype": "text/x-python",
   "name": "python",
   "nbconvert_exporter": "python",
   "pygments_lexer": "ipython3",
   "version": "3.9.5"
  }
 },
 "nbformat": 4,
 "nbformat_minor": 4
}
