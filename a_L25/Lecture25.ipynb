{
 "cells": [
  {
   "cell_type": "markdown",
   "metadata": {
    "slideshow": {
     "slide_type": "slide"
    }
   },
   "source": [
    "# CSS 120\n",
    "\n",
    "## Climate Change Models\n",
    "\n",
    "### Umberto Mignozzetti (UCSD)\n",
    "\n",
    "(Based on Project Pythia and ClimateMatch)"
   ]
  },
  {
   "cell_type": "markdown",
   "metadata": {
    "execution": {},
    "slideshow": {
     "slide_type": "slide"
    }
   },
   "source": [
    "## Today's lecture\n",
    "\n",
    "In this lecture, we will keep studying the physics of climate change.\n",
    "\n",
    "1. Climate feedbacks\n",
    "1. Multiplicity of equilibrium\n",
    "1. Changing in forcings (insolation)\n",
    "1. Adding dimensionality (vertical models)\n",
    "1. Earth System Models"
   ]
  },
  {
   "cell_type": "markdown",
   "metadata": {
    "execution": {},
    "slideshow": {
     "slide_type": "slide"
    }
   },
   "source": [
    "## Packages"
   ]
  },
  {
   "cell_type": "code",
   "execution_count": null,
   "metadata": {},
   "outputs": [],
   "source": [
    "!pip install metpy --quiet"
   ]
  },
  {
   "cell_type": "markdown",
   "metadata": {
    "execution": {},
    "slideshow": {
     "slide_type": "slide"
    }
   },
   "source": [
    "## Packages"
   ]
  },
  {
   "cell_type": "code",
   "execution_count": null,
   "metadata": {
    "execution": {}
   },
   "outputs": [],
   "source": [
    "import matplotlib.pyplot as plt\n",
    "from matplotlib import animation\n",
    "import numpy as np\n",
    "import holoviews as hv\n",
    "import panel as pn\n",
    "from scipy.optimize import brentq\n",
    "import xarray as xr\n",
    "import climlab\n",
    "import pooch\n",
    "import os\n",
    "import tempfile\n",
    "\n",
    "# New package!\n",
    "import metpy                     # used to make Skew T Plots of temperature and pressure\n",
    "from metpy.plots import SkewT    # plotting function used widely in climate science"
   ]
  },
  {
   "cell_type": "markdown",
   "metadata": {
    "execution": {},
    "slideshow": {
     "slide_type": "slide"
    }
   },
   "source": [
    "## Packages"
   ]
  },
  {
   "cell_type": "code",
   "execution_count": null,
   "metadata": {},
   "outputs": [],
   "source": [
    "def pooch_load(filelocation=None, filename=None, processor=None):\n",
    "    shared_location = \"~/\"\n",
    "    user_temp_cache = tempfile.gettempdir()\n",
    "    if os.path.exists(os.path.join(shared_location, filename)):\n",
    "        file = os.path.join(shared_location, filename)\n",
    "    else:\n",
    "        file = pooch.retrieve(\n",
    "            filelocation,\n",
    "            known_hash=None,\n",
    "            fname=os.path.join(user_temp_cache, filename),\n",
    "            processor=processor,\n",
    "        )\n",
    "    return file\n",
    "\n",
    "#  make animations stuff\n",
    "plt.rcParams[\"animation.html\"] = \"jshtml\"\n",
    "\n",
    "def initial_figure(model):\n",
    "    with plt.ioff():  # will hide the inital figure which will plot separate from the video otherwise\n",
    "        fig = plt.figure(figsize=(6, 6))\n",
    "        lines = []\n",
    "\n",
    "        skew = SkewT(fig, rotation=30)\n",
    "        #  plot the observations\n",
    "        skew.plot(\n",
    "            Tglobal.level,\n",
    "            Tglobal,\n",
    "            color=\"black\",\n",
    "            linestyle=\"-\",\n",
    "            linewidth=2,\n",
    "            label=\"Observations\",\n",
    "        )\n",
    "        lines.append(\n",
    "            skew.plot(\n",
    "                model.lev,\n",
    "                model.Tatm - climlab.constants.tempCtoK,\n",
    "                linestyle=\"-\",\n",
    "                linewidth=2,\n",
    "                color=\"C0\",\n",
    "                label=\"RC model (all gases)\",\n",
    "            )[0]\n",
    "        )\n",
    "        skew.ax.legend()\n",
    "        skew.ax.set_ylim(1050, 10)\n",
    "        skew.ax.set_xlim(-60, 75)\n",
    "        # Add the relevant special lines\n",
    "        skew.plot_dry_adiabats(linewidth=1.5, label=\"dry adiabats\")\n",
    "        # skew.plot_moist_adiabats(linewidth=1.5, label = 'moist adiabats')\n",
    "        skew.ax.set_xlabel(\"Temperature ($^\\circ$C)\", fontsize=14)\n",
    "        skew.ax.set_ylabel(\"Pressure (hPa)\", fontsize=14)\n",
    "        lines.append(\n",
    "            skew.plot(\n",
    "                1000,\n",
    "                model.Ts - climlab.constants.tempCtoK,\n",
    "                \"o\",\n",
    "                markersize=8,\n",
    "                color=\"C0\",\n",
    "            )[0]\n",
    "        )\n",
    "\n",
    "    return fig, lines\n",
    "\n",
    "\n",
    "def animate(day, model, lines):\n",
    "    lines[0].set_xdata(np.array(model.Tatm) - climlab.constants.tempCtoK)\n",
    "    lines[1].set_xdata(np.array(model.Ts) - climlab.constants.tempCtoK)\n",
    "    # lines[2].set_xdata(np.array(model.q)*1E3)\n",
    "    # lines[-1].set_text('Day {}'.format(int(model.time['days_elapsed'])))\n",
    "    # This is kind of a hack, but without it the initial frame doesn't appear\n",
    "    if day != 0:\n",
    "        model.step_forward()\n",
    "    return lines\n",
    "\n",
    "\n",
    "# to setup the skewT and plot observations\n",
    "def make_basic_skewT():\n",
    "    fig = plt.figure(figsize=(9, 9))\n",
    "    skew = SkewT(fig, rotation=30)\n",
    "    skew.plot(\n",
    "        Tglobal.level,\n",
    "        Tglobal,\n",
    "        color=\"black\",\n",
    "        linestyle=\"-\",\n",
    "        linewidth=2,\n",
    "        label=\"Observations\",\n",
    "    )\n",
    "    skew.ax.set_ylim(1050, 10)\n",
    "    skew.ax.set_xlim(-90, 45)\n",
    "    # Add the relevant special lines\n",
    "    # skew.plot_dry_adiabats(linewidth=1.5, label = 'dry adiabats')\n",
    "    # skew.plot_moist_adiabats(linewidth=1.5, label = 'moist adiabats')\n",
    "    # skew.plot_mixing_lines()\n",
    "    skew.ax.legend()\n",
    "    skew.ax.set_xlabel(\"Temperature (degC)\", fontsize=14)\n",
    "    skew.ax.set_ylabel(\"Pressure (hPa)\", fontsize=14)\n",
    "    return skew\n",
    "\n",
    "\n",
    "# to setup the skewT and plot observations\n",
    "def make_skewT():\n",
    "    fig = plt.figure(figsize=(9, 9))\n",
    "    skew = SkewT(fig, rotation=30)\n",
    "    skew.plot(\n",
    "        Tglobal.level,\n",
    "        Tglobal,\n",
    "        color=\"black\",\n",
    "        linestyle=\"-\",\n",
    "        linewidth=2,\n",
    "        label=\"Observations\",\n",
    "    )\n",
    "    skew.ax.set_ylim(1050, 10)\n",
    "    skew.ax.set_xlim(-90, 45)\n",
    "    # Add the relevant special lines\n",
    "    skew.plot_dry_adiabats(linewidth=1.5, label=\"dry adiabats\")\n",
    "    # skew.plot_moist_adiabats(linewidth=1.5, label = 'moist adiabats')\n",
    "    # skew.plot_mixing_lines()\n",
    "    skew.ax.legend()\n",
    "    skew.ax.set_xlabel(\"Temperature (degC)\", fontsize=14)\n",
    "    skew.ax.set_ylabel(\"Pressure (hPa)\", fontsize=14)\n",
    "    return skew\n",
    "\n",
    "\n",
    "# to add a model derived profile to the skewT figure\n",
    "def add_profile(skew, model, linestyle=\"-\", color=None):\n",
    "    line = skew.plot(\n",
    "        model.lev,\n",
    "        model.Tatm - climlab.constants.tempCtoK,\n",
    "        label=model.name,\n",
    "        linewidth=2,\n",
    "    )[0]\n",
    "    skew.plot(\n",
    "        1000,\n",
    "        model.Ts - climlab.constants.tempCtoK,\n",
    "        \"o\",\n",
    "        markersize=8,\n",
    "        color=line.get_color(),\n",
    "    )\n",
    "    skew.ax.legend()"
   ]
  },
  {
   "cell_type": "markdown",
   "metadata": {
    "execution": {},
    "slideshow": {
     "slide_type": "slide"
    }
   },
   "source": [
    "# Climate Feedbacks"
   ]
  },
  {
   "cell_type": "markdown",
   "metadata": {
    "execution": {},
    "slideshow": {
     "slide_type": "slide"
    }
   },
   "source": [
    "## Ice-Albedo Feedback: Temperature Dependent Albedo\n",
    "\n",
    "Our current model only contains one feedback, the 'Planck feedback' also called the 'Planck temperature response'. \n",
    "\n",
    "This feedback encapsulates that a warming of Earth leads to the planet emitting more energy. \n",
    "\n",
    "In reality, there are many  [climate feedbacks](https://www.ipcc.ch/report/ar6/wg1/downloads/report/IPCC_AR6_WGI_AnnexVII.pdf) that contribute to the Earth's net temperature change due to an energy imbalance. \n",
    "\n",
    "In this section, we will focus on incorporating an **ice-albedo feedback** into our model."
   ]
  },
  {
   "cell_type": "markdown",
   "metadata": {
    "slideshow": {
     "slide_type": "slide"
    }
   },
   "source": [
    "## Ice-Albedo Feedback: Temperature Dependent Albedo\n",
    "\n",
    "When the Earth's surface warms, snow and ice melt.\n",
    "\n",
    "This lowers the **albedo (**$\\mathbf{\\alpha}$**)**, because less solar radiation is reflected off Earth's surface. \n",
    "\n",
    "This lower albedo causes the climate to warm even more than if the albedo had stayed the same, increasing the snow and ice melt. \n",
    "\n",
    "> This is referred to as a **positive feedback**.\n",
    "\n",
    "Positive feedbacks amplify the changes that are already occurring. \n",
    "\n",
    "This particular feedback is referred to as the **ice-albedo feedback**."
   ]
  },
  {
   "cell_type": "markdown",
   "metadata": {
    "slideshow": {
     "slide_type": "slide"
    }
   },
   "source": [
    "## Ice-Albedo Feedback: Temperature Dependent Albedo\n",
    "\n",
    "A simple way to parameterize ice-albedo feedback in our model is through a temperature-dependent albedo, such as the one defined below:\n",
    "\n",
    "\\begin{align}\n",
    "\\alpha = \\left\\{\n",
    "        \\begin{array}{cl}\n",
    "        0.1 & T \\gt 300 \\text{ K} \\\\\n",
    "        0.1 + (0.7-0.1) \\cdot \\frac{(T-300)^2}{(240-300)^2} & 240\\text{ K} \\le T \\le 300\\text{ K} \\\\\n",
    "        0.7 & T \\lt 240\\text{ K}\n",
    "        \\end{array}\n",
    "        \\right.\n",
    "\\end{align}\n",
    "\n",
    "Using this new temperature-dependent albedo, we can plot the graphs of absorbed shortwave radiation $\\left(ASR\\right)$ and outgoing longwave radiation $\\left(OLR\\right)$"
   ]
  },
  {
   "cell_type": "markdown",
   "metadata": {
    "slideshow": {
     "slide_type": "slide"
    }
   },
   "source": [
    "## Ice-Albedo Feedback: Temperature Dependent Albedo"
   ]
  },
  {
   "cell_type": "code",
   "execution_count": null,
   "metadata": {},
   "outputs": [],
   "source": [
    "# create a array ot temperatures to evaluates the ASR and OLR at\n",
    "T = np.arange(200, 360, 2, dtype=np.float64)\n",
    "\n",
    "# create empty arrays to fill with values later\n",
    "ASR_vals = np.zeros_like(T)\n",
    "\n",
    "# define the slope of the ramp function\n",
    "m = (0.7 - 0.3) / (280 - 250)\n",
    "\n",
    "# define the observed insolation based on observations from the IPCC AR6 Figure 7.2\n",
    "Q = 340  # W m^-2\n",
    "\n",
    "# define transmissivity\n",
    "tau = 0.6127  # unitless number between 0 and 1"
   ]
  },
  {
   "cell_type": "markdown",
   "metadata": {
    "slideshow": {
     "slide_type": "slide"
    }
   },
   "source": [
    "## Ice-Albedo Feedback: Temperature Dependent Albedo"
   ]
  },
  {
   "cell_type": "code",
   "execution_count": null,
   "metadata": {},
   "outputs": [],
   "source": [
    "# define a function for absorbed shortwave radiation (ASR)\n",
    "def ASR(Q, T):\n",
    "    # define function for albedo\n",
    "    if T >= 300:  # temperature of very warm and ice free earth.\n",
    "        alpha = 0.1  # average albedo of land and sea without ice\n",
    "    elif T > 240:  # temperature of Earth to sustain permafrost and sea ice everywhere.\n",
    "        alpha = 0.1 + (0.7 - 0.1) * (T - 300) ** 2 / (240 - 300) ** 2\n",
    "    else:\n",
    "        alpha = 0.7  # average albedo of land and sea ice\n",
    "    return (1 - alpha) * Q"
   ]
  },
  {
   "cell_type": "markdown",
   "metadata": {
    "slideshow": {
     "slide_type": "slide"
    }
   },
   "source": [
    "## Ice-Albedo Feedback: Temperature Dependent Albedo"
   ]
  },
  {
   "cell_type": "code",
   "execution_count": null,
   "metadata": {},
   "outputs": [],
   "source": [
    "# define a function for outgoing longwave radiation (OLR)\n",
    "def OLR(tau, T):\n",
    "    # define the Stefan-Boltzmann Constant, noting we are using 'e' for scientific notation\n",
    "    sigma = 5.67e-8  # W m^-2 K^-4\n",
    "\n",
    "    return tau * sigma * T**4\n",
    "\n",
    "\n",
    "# calculate OLR for different values of T\n",
    "OLR_vals = OLR(tau, T)\n",
    "\n",
    "# calculate ASR for different values of T\n",
    "for tt, temp in enumerate(T):\n",
    "    ASR_vals[tt] = ASR(Q, temp)"
   ]
  },
  {
   "cell_type": "markdown",
   "metadata": {
    "slideshow": {
     "slide_type": "slide"
    }
   },
   "source": [
    "## Ice-Albedo Feedback: Temperature Dependent Albedo"
   ]
  },
  {
   "cell_type": "code",
   "execution_count": null,
   "metadata": {
    "execution": {},
    "executionInfo": {
     "elapsed": 912,
     "status": "ok",
     "timestamp": 1681699458086,
     "user": {
      "displayName": "Jenna Pearson",
      "userId": "05648130581702734913"
     },
     "user_tz": 420
    }
   },
   "outputs": [],
   "source": [
    "# make plots\n",
    "fig, ax = plt.subplots()\n",
    "ax.plot(T, ASR_vals, label=\"Absorbed Shortwave Radiation ($ASR$)\")\n",
    "ax.plot(T, OLR_vals, label=\"Outgoing Longwave Radiation ($OLR$)\")\n",
    "\n",
    "\n",
    "ax.set_xlabel(\"Temperature (K)\")\n",
    "ax.set_ylabel(\"Radiative Flux (Wm$^{-2}$)\")\n",
    "ax.legend()"
   ]
  },
  {
   "cell_type": "markdown",
   "metadata": {
    "execution": {},
    "slideshow": {
     "slide_type": "slide"
    }
   },
   "source": [
    "## Multiplicity of Equilibria"
   ]
  },
  {
   "cell_type": "markdown",
   "metadata": {
    "execution": {},
    "slideshow": {
     "slide_type": "slide"
    }
   },
   "source": [
    "## Multiple Equilibria\n",
    "\n",
    "**Equilibrium temperatures** are solutions to the model equation when the rate of change of temperature is zero. \n",
    "\n",
    "There are two types of equilibrium solutions: *stable* and *unstable*.\n",
    "\n",
    "- A *stable equilibrium* temperature is a solution that the model asymptotes to (moves towards) over time. \n",
    "- An *unstable equilibrium* temperature is a solution that the model diverges (moves away) from over time. The only time the model will stay at this equilibrium is if it starts *exactly* at the unstable equilibrium temperature. \n",
    " \n",
    "We can now incorporate the temperature-dependent albedo we defined above into our time-dependent model."
   ]
  },
  {
   "cell_type": "markdown",
   "metadata": {
    "execution": {},
    "slideshow": {
     "slide_type": "slide"
    }
   },
   "source": [
    "## Multiple Equilibria"
   ]
  },
  {
   "cell_type": "code",
   "execution_count": null,
   "metadata": {
    "execution": {},
    "executionInfo": {
     "elapsed": 2,
     "status": "ok",
     "timestamp": 1682069593068,
     "user": {
      "displayName": "Ohad Zivan",
      "userId": "06528534325719580785"
     },
     "user_tz": -120
    }
   },
   "outputs": [],
   "source": [
    "# create a function to find the new temperature based on the previous using Euler's method.\n",
    "def step_forward(T, tau, Q, dt):\n",
    "\n",
    "    # define the heat capacity\n",
    "    C = 286471954.64  # J m^-2K\n",
    "\n",
    "    T_new = T + dt / C * (ASR(Q, T) - OLR(tau, T))\n",
    "\n",
    "    return T_new"
   ]
  },
  {
   "cell_type": "markdown",
   "metadata": {
    "execution": {},
    "slideshow": {
     "slide_type": "slide"
    }
   },
   "source": [
    "## Multiple Equilibria\n",
    "\n",
    "Let us explore how our model behaves under a variety of initial temperatures.\n",
    "\n",
    "We can use a `for` loop to compare different initial temperatures."
   ]
  },
  {
   "cell_type": "code",
   "execution_count": null,
   "metadata": {
    "execution": {},
    "executionInfo": {
     "elapsed": 1690,
     "status": "ok",
     "timestamp": 1682069718713,
     "user": {
      "displayName": "Ohad Zivan",
      "userId": "06528534325719580785"
     },
     "user_tz": -120
    }
   },
   "outputs": [],
   "source": [
    "dt = 60.0 * 60.0 * 24.0 * 365.0  # time interval, one year expressed in seconds\n",
    "\n",
    "fig, ax = plt.subplots()\n",
    "for init_temp in T:  # suite of initial temperatures in K\n",
    "    numtsteps = 40  #  number of years to run the model\n",
    "    # for converting the number of seconds in a year\n",
    "    sec_2_yr = 3.154e7\n",
    "    # set the initial temperature (initial condition)\n",
    "    T_series = [init_temp]\n",
    "    # set the initial time to 0\n",
    "    t_series = [0]\n",
    "    # run the model\n",
    "    for n in range(numtsteps):\n",
    "        # calculate and append the time since running the model, dependent on dt and the numtsteps\n",
    "        t_series.append((n + 1) * dt / sec_2_yr)\n",
    "        # calculate and append the new temperature using our pre-defined function\n",
    "        T_series.append(step_forward(T_series[n], tau=tau, Q=Q, dt=dt))\n",
    "    # make plot\n",
    "    ax.plot(t_series, T_series)\n",
    "\n",
    "ax.set_title(\"Temporal Evolution of Temperature\"); ax.set_xlabel(\"Time (years)\"); ax.set_ylabel(\"Temperature (K)\")"
   ]
  },
  {
   "cell_type": "markdown",
   "metadata": {
    "execution": {},
    "slideshow": {
     "slide_type": "slide"
    }
   },
   "source": [
    "## Finding Equilibria Numerically & Determining Convergence or Divergence\n",
    "\n",
    "To verify the equilibrium solutions we identified graphically in the previous section, we can use python to find the exact values where the rate of change in temperature is zero:\n",
    "\n",
    "\\begin{align}\n",
    "0 = ASR-OLR.\n",
    "\\end{align}\n",
    "\n",
    "To aid us, we will use [brentq](https://docs.scipy.org/doc/scipy/reference/generated/scipy.optimize.brentq.html#scipy-optimize-brentq), a *root-finding function* from the `scipy` package."
   ]
  },
  {
   "cell_type": "markdown",
   "metadata": {
    "execution": {},
    "slideshow": {
     "slide_type": "slide"
    }
   },
   "source": [
    "## Finding Equilibria Numerically & Determining Convergence or Divergence"
   ]
  },
  {
   "cell_type": "code",
   "execution_count": null,
   "metadata": {
    "execution": {},
    "executionInfo": {
     "elapsed": 2,
     "status": "ok",
     "timestamp": 1682069900203,
     "user": {
      "displayName": "Ohad Zivan",
      "userId": "06528534325719580785"
     },
     "user_tz": -120
    }
   },
   "outputs": [],
   "source": [
    "# create function to find the forcing at the top of the atmosphere\n",
    "def Ftoa(T):\n",
    "    return ASR(Q, T) - OLR(tau, T)\n",
    "\n",
    "\n",
    "#  brentq() requires a function and two end-points to be input as arguments\n",
    "#  it will look for a root/zero of the function between those end-points\n",
    "Teq1 = brentq(\n",
    "    Ftoa, 200.0, 240.0\n",
    ")  # these ranges are from the intersections of the graphs of ASR and OLR\n",
    "Teq2 = brentq(Ftoa, 240.0, 280.0)\n",
    "Teq3 = brentq(Ftoa, 280.0, 320.0)\n",
    "\n",
    "print(Teq1, Teq2, Teq3)"
   ]
  },
  {
   "cell_type": "markdown",
   "metadata": {
    "execution": {},
    "slideshow": {
     "slide_type": "slide"
    }
   },
   "source": [
    "## Finding Equilibria Numerically & Determining Convergence or Divergence\n",
    "\n",
    "To assess the stability of these equilibria, we can plot the difference in $ASR$ and $OSR$. \n",
    "\n",
    "This is the same function `Ftoa` that we calculated in the previous cell, but we will recalculate it below for plotting purposes."
   ]
  },
  {
   "cell_type": "code",
   "execution_count": null,
   "metadata": {
    "execution": {},
    "executionInfo": {
     "elapsed": 1877,
     "status": "ok",
     "timestamp": 1681699462185,
     "user": {
      "displayName": "Jenna Pearson",
      "userId": "05648130581702734913"
     },
     "user_tz": 420
    }
   },
   "outputs": [],
   "source": [
    "# we've already calculated ASR and OLR above\n",
    "fig, ax = plt.subplots()\n",
    "F = ASR_vals - OLR_vals\n",
    "ax.plot(T, F, color=\"k\", linewidth=3)\n",
    "\n",
    "# find positive values and fill with red\n",
    "pos_ind1 = T <= Teq1\n",
    "ax.fill_between(T[pos_ind1], 0, F[pos_ind1], color=\"red\")\n",
    "\n",
    "pos_ind2 = (T >= Teq2) & (T <= Teq3)\n",
    "ax.fill_between(T[pos_ind2], 0, F[pos_ind2], color=\"red\")\n",
    "\n",
    "# find negative values and fill with blue\n",
    "neg_ind1 = (T >= Teq1) & (T <= Teq2)\n",
    "ax.fill_between(T[neg_ind1], 0, F[neg_ind1], color=\"blue\")\n",
    "\n",
    "neg_ind2 = T >= Teq3\n",
    "ax.fill_between(T[neg_ind2], 0, F[neg_ind2], color=\"blue\")\n",
    "\n",
    "# plot vertical lines/names at equilibrium temperatures\n",
    "ax.axvline(x=Teq1, color=\"k\", ls=\":\")\n",
    "ax.axvline(x=Teq2, color=\"k\", ls=\":\")\n",
    "ax.axvline(x=Teq3, color=\"k\", ls=\":\")\n",
    "\n",
    "ax.annotate(\n",
    "    \"$T_{eq1}$\",\n",
    "    xy=(Teq1 - 5, -295),\n",
    "    xytext=(Teq1 - 5, -295),\n",
    "    rotation=90,\n",
    "    annotation_clip=False,\n",
    ")\n",
    "ax.annotate(\n",
    "    \"$T_{eq2}$\",\n",
    "    xy=(Teq2 - 5, -295),\n",
    "    xytext=(Teq2 - 5, -295),\n",
    "    rotation=90,\n",
    "    annotation_clip=False,\n",
    ")\n",
    "ax.annotate(\n",
    "    \"$T_{eq3}$\",\n",
    "    xy=(Teq3 - 5, -295),\n",
    "    xytext=(Teq3 - 5, -295),\n",
    "    rotation=90,\n",
    "    annotation_clip=False,\n",
    ")\n",
    "\n",
    "# plot arrows/text to show stability of equilibrium points\n",
    "ax.annotate(\n",
    "    \"\",\n",
    "    xy=(232, -50),\n",
    "    xytext=(200, -50),\n",
    "    arrowprops=dict(facecolor=\"black\", arrowstyle=\"-|>\"),\n",
    ")\n",
    "\n",
    "ax.annotate(\n",
    "    \"\",\n",
    "    xy=(242.5, -50),\n",
    "    xytext=(233, -50),\n",
    "    arrowprops=dict(facecolor=\"black\", arrowstyle=\"<|-\"),\n",
    ")\n",
    "\n",
    "ax.annotate(\n",
    "    \"\",\n",
    "    xy=(305.5, -50),\n",
    "    xytext=(243.5, -50),\n",
    "    arrowprops=dict(facecolor=\"black\", arrowstyle=\"-|>\"),\n",
    ")\n",
    "\n",
    "ax.annotate(\n",
    "    \"\",\n",
    "    xy=(358, -50),\n",
    "    xytext=(307, -50),\n",
    "    arrowprops=dict(facecolor=\"black\", arrowstyle=\"<|-\"),\n",
    ")\n",
    "\n",
    "\n",
    "ax.annotate(\"convergence\", xy=(358, -170), xytext=(307, -170), rotation=90)\n",
    "\n",
    "ax.annotate(\"divergence\", xy=(305.5, -170), xytext=(243.5, -170), rotation=90)\n",
    "\n",
    "ax.annotate(\"convergence\", xy=(242.5, -170), xytext=(233, -170), rotation=90)\n",
    "\n",
    "\n",
    "ax.set_xlabel(\"Temperature (K)\")\n",
    "ax.set_ylabel(\"$ASR-OLR$ (Wm$^{-2}$)\");"
   ]
  },
  {
   "cell_type": "markdown",
   "metadata": {
    "execution": {},
    "slideshow": {
     "slide_type": "slide"
    }
   },
   "source": [
    "## Finding Equilibria Numerically & Determining Convergence or Divergence\n",
    "\n",
    "The red regions represent conditions where the Earth would warm, because the energy absorbed by the Earth system is greater than the energy emitted or reflected back into space. \n",
    "\n",
    "The blue regions represent conditions where the Earth would cool, because the outgoing radiation is larger than the absorbed radiation.\n",
    "\n",
    "For example, if Earth started at an initial temperature below $T_{\\text{eq1}}$ (in the left red region), it will move to the right on the $x$-axis, towards the $T_{\\text{eq1}}$ equilibrium state.\n",
    "\n",
    "Conversely, if Earth started between $T_{\\text{eq1}}$ and $T_{\\text{eq1}}$ (the left blue region), the temperature would decrease, moving left on the $x$-axis until it reaches $T_{\\text{eq1}}$.\n",
    "\n",
    "Thus $T_{\\text{eq1}}$ is a *stable* equilibrium as the temperature curves will tend to this point after a long time."
   ]
  },
  {
   "cell_type": "markdown",
   "metadata": {
    "execution": {},
    "slideshow": {
     "slide_type": "slide"
    }
   },
   "source": [
    "# Changing Insolation"
   ]
  },
  {
   "cell_type": "markdown",
   "metadata": {
    "execution": {},
    "slideshow": {
     "slide_type": "slide"
    }
   },
   "source": [
    "## Changing Insolation\n",
    "\n",
    "Insolation fluctuates with time.\n",
    "\n",
    "Over Earth's history, the insolation has sometimes been lower, and sometimes higher, than the currently observed $340 \\text{ Wm}^{-2}$.\n",
    "\n",
    "These insolation changes directly affect the $ASR$, causing Earth to warm or cool depending on whether it receives more or less insolation respectively.\n",
    "\n",
    "To look at the effect that changing insolation has on Earth's equilibrium state(s), we can re-plot $ASR$ as a function of temperature for several different insolation values, alongside the $OLR$."
   ]
  },
  {
   "cell_type": "markdown",
   "metadata": {
    "execution": {},
    "slideshow": {
     "slide_type": "slide"
    }
   },
   "source": [
    "## Changing Insolation"
   ]
  },
  {
   "cell_type": "code",
   "execution_count": null,
   "metadata": {
    "execution": {}
   },
   "outputs": [],
   "source": [
    "# define the observed insolation\n",
    "Q_vals = [220, 340, 420]  # W m^-2\n",
    "\n",
    "fig, ax = plt.subplots()\n",
    "for Q_2 in Q_vals:\n",
    "    # calculate ASR and OLR for different values of T\n",
    "    for tt, temp in enumerate(T):\n",
    "\n",
    "        ASR_vals[tt] = ASR(Q_2, temp)\n",
    "\n",
    "    # make plots\n",
    "    ax.plot(T, ASR_vals, label=\"$ASR$ for $Q$ = \" + str(Q_2) + \" Wm$^{-2}$\")\n",
    "\n",
    "# note we calculated OLR previously, and it does not depend on Q\n",
    "ax.plot(T, OLR_vals, label=\"$OLR$\"); ax.set_xlabel(\"Temperature (K)\")\n",
    "ax.set_ylabel(\"Radiative Flux (Wm$^{-2}$)\"); ax.legend()"
   ]
  },
  {
   "cell_type": "markdown",
   "metadata": {
    "execution": {},
    "slideshow": {
     "slide_type": "slide"
    }
   },
   "source": [
    "## Changing Insolation\n",
    "\n",
    "As we increase or decrease the insolation, the number of intersections between $ASR$ and $OLR$ can change!\n",
    "\n",
    "This means the number of equilibrium solutions for our model will also change.\n",
    "\n",
    "### Effect on Equilibrium Temperatures\n",
    "\n",
    "To understand how this effect translates to different equilibrium temperatures of our model over time, we will apply a range of insolation values to our model.\n",
    "\n",
    "Let us first start off with a very cold Earth, at $220 \\text{K}$, and warm the Earth by steadily increasing the insolation above our present-day $340 \\text{ Wm}^{-2}$ value."
   ]
  },
  {
   "cell_type": "markdown",
   "metadata": {
    "execution": {},
    "slideshow": {
     "slide_type": "slide"
    }
   },
   "source": [
    "## Changing Insolation"
   ]
  },
  {
   "cell_type": "code",
   "execution_count": null,
   "metadata": {
    "execution": {},
    "executionInfo": {
     "elapsed": 1740,
     "status": "ok",
     "timestamp": 1681699463921,
     "user": {
      "displayName": "Jenna Pearson",
      "userId": "05648130581702734913"
     },
     "user_tz": 420
    }
   },
   "outputs": [],
   "source": [
    "# these are the values of insolation we will use\n",
    "insolation_vals = np.arange(340, 500, 3)\n",
    "\n",
    "# initial temperature we will use\n",
    "init_temp = 220  # K\n",
    "\n",
    "fig, ax = plt.subplots()\n",
    "\n",
    "for i, insolation in enumerate(insolation_vals):  # suite of initial temperatures in K\n",
    "\n",
    "    numtsteps = 100  #  number of years to run the model\n",
    "\n",
    "    # for converting the number of seconds in a year\n",
    "    sec_2_yr = 3.154e7\n",
    "\n",
    "    # set the initial temperature (initial condition)\n",
    "    T_series = [init_temp]\n",
    "\n",
    "    # set the initial time to 0\n",
    "    t_series = [0]\n",
    "\n",
    "    # run the model\n",
    "    for n in range(numtsteps):\n",
    "\n",
    "        # calculate and append the time since running the model, dependent on dt and the numtsteps\n",
    "        t_series.append((n + 1) * dt / sec_2_yr)\n",
    "\n",
    "        # calculate and append the new temperature using our pre-defined function\n",
    "        T_series.append(step_forward(T_series[n], tau=tau, Q=insolation, dt=dt))\n",
    "\n",
    "    # make plot\n",
    "    colors = plt.cm.coolwarm(np.linspace(0, 1, insolation_vals.shape[0]))\n",
    "    if (\n",
    "        insolation == 385\n",
    "    ):  # This is just to highlight a particularly interesting insolation value\n",
    "        ax.plot(t_series, T_series, color=colors[i], linestyle=\"dashed\")\n",
    "    else:\n",
    "        ax.plot(t_series, T_series, color=colors[i])\n",
    "\n",
    "ax.set_ylabel(\"Temperature (K)\")\n",
    "ax.set_xlabel(\"Time (years)\")"
   ]
  },
  {
   "cell_type": "markdown",
   "metadata": {
    "execution": {},
    "slideshow": {
     "slide_type": "slide"
    }
   },
   "source": [
    "# Vertical Structure of the Atmosphere"
   ]
  },
  {
   "cell_type": "markdown",
   "metadata": {
    "execution": {},
    "slideshow": {
     "slide_type": "slide"
    }
   },
   "source": [
    "## Vertical Structure of the Atmosphere\n",
    "\n",
    "The energy balance model we have been using is _zero-dimensional_, yielding only the global mean surface temperature.\n",
    "\n",
    "We might ask, is it possible to construct a similar, _one-dimensional_, model for an _atmospheric column_ to estimate the global mean temperature _profile_ (i.e., including the height/$z$ dimension)?\n",
    "\n",
    "Additionally, can we explicitly include the effects of different gases in this model, rather than just parametrizing their collective effects through a single parameter $\\tau$? \n",
    "\n",
    "> **The answer is yes, we can!**"
   ]
  },
  {
   "cell_type": "markdown",
   "metadata": {
    "execution": {},
    "slideshow": {
     "slide_type": "slide"
    }
   },
   "source": [
    "## Vertical Structure of the Atmosphere\n",
    "\n",
    "Since it is too complex to construct from scratch, we will use a model already available within the python package [`climlab`](https://climlab.readthedocs.io/en/latest/intro.html).\n",
    "\n",
    "The model we will first use is a radiative equilibrium model. \n",
    "\n",
    "> **Radiative equilibrium models** consider different layers of the atmosphere. Each of these layers absorbs and emits radiation depending on its constituent gases, allowing the model to calculate the radiation budget for each layer as radiative energy is transferred between atmospheric layers, the Earth's surface, and space. \n",
    "\n",
    "**Radiative equilibrium** is reached when each layer gains energy at the same rate as it loses energy."
   ]
  },
  {
   "cell_type": "markdown",
   "metadata": {
    "slideshow": {
     "slide_type": "slide"
    }
   },
   "source": [
    "## Vertical Structure of the Atmosphere\n",
    "\n",
    "To set up this model, we will need information about some of the mean properties of the atmosphere.\n",
    "\n",
    "We are going to download water vapor data from the Community Earth System Model (CESM), to use a variable called [specific humidity](https://glossary.ametsoc.org/wiki/Specific_humidity).\n",
    "\n",
    "**Specific humidity** is the mass of water vapor per mass of a unit block of air. This is useful because water vapor is an important greenhouse gas."
   ]
  },
  {
   "cell_type": "markdown",
   "metadata": {
    "slideshow": {
     "slide_type": "slide"
    }
   },
   "source": [
    "## Vertical Structure of the Atmosphere"
   ]
  },
  {
   "cell_type": "code",
   "execution_count": null,
   "metadata": {
    "execution": {},
    "executionInfo": {
     "elapsed": 121302,
     "status": "ok",
     "timestamp": 1682124999876,
     "user": {
      "displayName": "Jenna Pearson",
      "userId": "05648130581702734913"
     },
     "user_tz": 420
    }
   },
   "outputs": [],
   "source": [
    "filename_sq = \"cpl_1850_f19-Q-gw-only.cam.h0.nc\"\n",
    "url_sq = \"https://osf.io/c6q4j/download/\"\n",
    "\n",
    "ds = xr.open_dataset(\n",
    "    pooch_load(filelocation=url_sq, filename=filename_sq)\n",
    ")  # ds = dataset\n",
    "ds"
   ]
  },
  {
   "cell_type": "markdown",
   "metadata": {
    "slideshow": {
     "slide_type": "slide"
    }
   },
   "source": [
    "## Vertical Structure of the Atmosphere\n",
    "\n",
    "The specific humidity is stored in a variable called `Q`:"
   ]
  },
  {
   "cell_type": "code",
   "execution_count": null,
   "metadata": {
    "execution": {}
   },
   "outputs": [],
   "source": [
    "ds.Q"
   ]
  },
  {
   "cell_type": "markdown",
   "metadata": {
    "slideshow": {
     "slide_type": "slide"
    }
   },
   "source": [
    "## Vertical Structure of the Atmosphere"
   ]
  },
  {
   "cell_type": "code",
   "execution_count": null,
   "metadata": {
    "execution": {}
   },
   "outputs": [],
   "source": [
    "ds.time"
   ]
  },
  {
   "cell_type": "markdown",
   "metadata": {
    "execution": {},
    "slideshow": {
     "slide_type": "slide"
    }
   },
   "source": [
    "## Vertical Structure of the Atmosphere\n",
    "\n",
    "However, we want an annual average profile.\n",
    "\n",
    "We need to take global, annual average using a weighting (ds.gw) that is calculated based on the model grid - and is similar, but not identical, to a cosine(latitude) weighting:"
   ]
  },
  {
   "cell_type": "code",
   "execution_count": null,
   "metadata": {
    "execution": {},
    "executionInfo": {
     "elapsed": 5500,
     "status": "ok",
     "timestamp": 1680830700022,
     "user": {
      "displayName": "Abigail Bodner",
      "userId": "16617086768288510233"
     },
     "user_tz": 240
    }
   },
   "outputs": [],
   "source": [
    "weight_factor = ds.gw / ds.gw.mean(dim=\"lat\")\n",
    "Qglobal = (ds.Q * weight_factor).mean(dim=(\"lat\", \"lon\", \"time\"))\n",
    "Qglobal"
   ]
  },
  {
   "cell_type": "markdown",
   "metadata": {
    "execution": {},
    "slideshow": {
     "slide_type": "slide"
    }
   },
   "source": [
    "## Vertical Structure of the Atmosphere\n",
    "\n",
    "Now that we have a global mean water vapor profile, we can define a model that has the same vertical levels as this water vapor data."
   ]
  },
  {
   "cell_type": "code",
   "execution_count": null,
   "metadata": {
    "execution": {},
    "executionInfo": {
     "elapsed": 148,
     "status": "ok",
     "timestamp": 1680831446236,
     "user": {
      "displayName": "Abigail Bodner",
      "userId": "16617086768288510233"
     },
     "user_tz": 240
    }
   },
   "outputs": [],
   "source": [
    "# use 'lev=Qglobal.lev' to create an identical vertical grid to water vapor data\n",
    "mystate = climlab.column_state(lev=Qglobal.lev, water_depth=2.5)\n",
    "mystate"
   ]
  },
  {
   "cell_type": "markdown",
   "metadata": {
    "execution": {},
    "slideshow": {
     "slide_type": "slide"
    }
   },
   "source": [
    "## Vertical Structure of the Atmosphere\n",
    "\n",
    "To model the absorption and emission of different gases within each atmospheric layer, we use the **[Rapid Radiative Transfer Model](https://climlab.readthedocs.io/en/latest/api/climlab.radiation.RRTMG.html)**, which is contained within the `RRTMG` module.\n",
    "\n",
    "We must first initialize our model using the water vapor."
   ]
  },
  {
   "cell_type": "code",
   "execution_count": null,
   "metadata": {
    "execution": {},
    "executionInfo": {
     "elapsed": 3619,
     "status": "ok",
     "timestamp": 1680831453423,
     "user": {
      "displayName": "Abigail Bodner",
      "userId": "16617086768288510233"
     },
     "user_tz": 240
    }
   },
   "outputs": [],
   "source": [
    "radmodel = climlab.radiation.RRTMG(\n",
    "    name=\"Radiation (all gases)\",      # give our model a name\n",
    "    state=mystate,                     # give our model an initial condition\n",
    "    specific_humidity=Qglobal.values,  # tell the model how much water vapor there is\n",
    "    albedo=0.25,                       # set the SURFACE shortwave albedo\n",
    "    # set the timestep to one day (measured in seconds)\n",
    "    timestep=climlab.constants.seconds_per_day,\n",
    ")\n",
    "radmodel"
   ]
  },
  {
   "cell_type": "markdown",
   "metadata": {
    "execution": {},
    "slideshow": {
     "slide_type": "slide"
    }
   },
   "source": [
    "## Vertical Structure of the Atmosphere\n",
    "\n",
    "Let's explore this initial state. Here `Ts` is the initial global mean surface temperature, and `Tatm` is the initial global mean air temperature profile."
   ]
  },
  {
   "cell_type": "code",
   "execution_count": null,
   "metadata": {
    "execution": {},
    "executionInfo": {
     "elapsed": 115,
     "status": "ok",
     "timestamp": 1680831456021,
     "user": {
      "displayName": "Abigail Bodner",
      "userId": "16617086768288510233"
     },
     "user_tz": 240
    }
   },
   "outputs": [],
   "source": [
    "radmodel.state"
   ]
  },
  {
   "cell_type": "markdown",
   "metadata": {
    "execution": {},
    "slideshow": {
     "slide_type": "slide"
    }
   },
   "source": [
    "## Vertical Structure of the Atmosphere\n",
    "\n",
    "One of the perks of using this model is its ability to incorporate the radiative effects of individual greenhouse gases in different parts of the radiation spectrum, rather than using a bulk reduction in transmission of outgoing longwave radiation (as in our previous models).\n",
    "\n",
    "Let's display `absorber_vmr`, which contains the **volume mixing ratio**'s of each gas used in the radiative transfer model (these are pre-defined; and do not include the water vapor we used as a model input above).\n",
    "\n",
    "The volume mixing ratio describes the fraction of molecules in the air that are a given gas.\n",
    "\n",
    "For example, $21\\%$ of air is oxygen so its volume mixing ratio is $0.21$."
   ]
  },
  {
   "cell_type": "markdown",
   "metadata": {
    "slideshow": {
     "slide_type": "slide"
    }
   },
   "source": [
    "## Vertical Structure of the Atmosphere"
   ]
  },
  {
   "cell_type": "code",
   "execution_count": null,
   "metadata": {
    "execution": {},
    "executionInfo": {
     "elapsed": 158,
     "status": "ok",
     "timestamp": 1680831467961,
     "user": {
      "displayName": "Abigail Bodner",
      "userId": "16617086768288510233"
     },
     "user_tz": 240
    }
   },
   "outputs": [],
   "source": [
    "radmodel.absorber_vmr"
   ]
  },
  {
   "cell_type": "markdown",
   "metadata": {
    "execution": {},
    "slideshow": {
     "slide_type": "slide"
    }
   },
   "source": [
    "## Vertical Structure of the Atmosphere\n",
    "\n",
    "To look at carbon dioxide (`\"CO2\"`) in a more familiar unit, parts per million (by volume), we can convert and print the new value."
   ]
  },
  {
   "cell_type": "code",
   "execution_count": null,
   "metadata": {
    "execution": {},
    "executionInfo": {
     "elapsed": 125,
     "status": "ok",
     "timestamp": 1680831471172,
     "user": {
      "displayName": "Abigail Bodner",
      "userId": "16617086768288510233"
     },
     "user_tz": 240
    }
   },
   "outputs": [],
   "source": [
    "radmodel.absorber_vmr[\"CO2\"] * 1e6"
   ]
  },
  {
   "cell_type": "markdown",
   "metadata": {
    "execution": {},
    "slideshow": {
     "slide_type": "slide"
    }
   },
   "source": [
    "## Vertical Structure of the Atmosphere\n",
    "\n",
    "We can also look at all the available diagnostics of our model:"
   ]
  },
  {
   "cell_type": "code",
   "execution_count": null,
   "metadata": {
    "execution": {},
    "executionInfo": {
     "elapsed": 287,
     "status": "ok",
     "timestamp": 1680831473662,
     "user": {
      "displayName": "Abigail Bodner",
      "userId": "16617086768288510233"
     },
     "user_tz": 240
    }
   },
   "outputs": [],
   "source": [
    "diag_ds = climlab.to_xarray(radmodel.diagnostics)\n",
    "diag_ds"
   ]
  },
  {
   "cell_type": "markdown",
   "metadata": {
    "execution": {},
    "slideshow": {
     "slide_type": "slide"
    }
   },
   "source": [
    "## Vertical Structure of the Atmosphere\n",
    "\n",
    "For example to look at $OLR$ (Note that the $OLR$ is currently 0 as we have not run the model forward in time, so it has not calculated any radiation components):"
   ]
  },
  {
   "cell_type": "code",
   "execution_count": null,
   "metadata": {
    "execution": {},
    "executionInfo": {
     "elapsed": 158,
     "status": "ok",
     "timestamp": 1680831477856,
     "user": {
      "displayName": "Abigail Bodner",
      "userId": "16617086768288510233"
     },
     "user_tz": 240
    }
   },
   "outputs": [],
   "source": [
    "radmodel.OLR"
   ]
  },
  {
   "cell_type": "markdown",
   "metadata": {
    "execution": {},
    "slideshow": {
     "slide_type": "slide"
    }
   },
   "source": [
    "# Vertical Structure of the Atmosphere: Compare Data to the Model"
   ]
  },
  {
   "cell_type": "markdown",
   "metadata": {
    "execution": {},
    "slideshow": {
     "slide_type": "slide"
    }
   },
   "source": [
    "## Vertical Structure of the Atmosphere: Compare Data to the Model\n",
    "\n",
    "Before we run our model forward, we will download a reanalysis product from NCEP to get a sense of what the real global mean atmospheric temperature profile looks like.\n",
    "\n",
    "We will compare this profile to our model runs later."
   ]
  },
  {
   "cell_type": "code",
   "execution_count": null,
   "metadata": {
    "execution": {},
    "executionInfo": {
     "elapsed": 979,
     "status": "ok",
     "timestamp": 1682125086037,
     "user": {
      "displayName": "Jenna Pearson",
      "userId": "05648130581702734913"
     },
     "user_tz": 420
    }
   },
   "outputs": [],
   "source": [
    "filename_ncep_air = \"air.mon.1981-2010.ltm.nc\"\n",
    "url_ncep_air = \"https://osf.io/w6cd5/download/\"\n",
    "ncep_air = xr.open_dataset(\n",
    "    pooch_load(filelocation=url_ncep_air, filename=filename_ncep_air)\n",
    ")  # ds = dataset\n",
    "\n",
    "# this is the long term monthly means (note only 12 time steps)\n",
    "ncep_air.air"
   ]
  },
  {
   "cell_type": "markdown",
   "metadata": {
    "execution": {},
    "slideshow": {
     "slide_type": "slide"
    }
   },
   "source": [
    "## Vertical Structure of the Atmosphere: Compare Data to the Model"
   ]
  },
  {
   "cell_type": "code",
   "execution_count": null,
   "metadata": {
    "execution": {},
    "executionInfo": {
     "elapsed": 7,
     "status": "ok",
     "timestamp": 1680662820551,
     "user": {
      "displayName": "Jenna Pearson",
      "userId": "05648130581702734913"
     },
     "user_tz": 420
    }
   },
   "outputs": [],
   "source": [
    "# need to take the average over space and time\n",
    "# the grid cells are not the same size moving towards the poles, so we weight by the cosine of latitude to compensate for this\n",
    "coslat = np.cos(np.deg2rad(ncep_air.lat))\n",
    "weight = coslat / coslat.mean(dim=\"lat\")\n",
    "\n",
    "Tglobal = (ncep_air.air * weight).mean(dim=(\"lat\", \"lon\", \"time\"))\n",
    "Tglobal"
   ]
  },
  {
   "cell_type": "markdown",
   "metadata": {
    "execution": {},
    "slideshow": {
     "slide_type": "slide"
    }
   },
   "source": [
    "## Vertical Structure of the Atmosphere: Compare Data to the Model\n",
    "\n",
    "Below we will define two helper funcitons to visualize the profiles output from our model with a _SkewT_ plot.\n",
    "\n",
    "This is common way to plot atmospheric temperature in climate science, and the `metpy` package has a built in function to make this easier."
   ]
  },
  {
   "cell_type": "code",
   "execution_count": null,
   "metadata": {
    "execution": {}
   },
   "outputs": [],
   "source": [
    "# to setup the skewT and plot observations\n",
    "def make_skewT():\n",
    "    fig = plt.figure(\n",
    "        figsize=(9, 9)\n",
    "    )\n",
    "    skew = SkewT(fig, rotation=30)\n",
    "    skew.plot(\n",
    "        Tglobal.level,\n",
    "        Tglobal,\n",
    "        color=\"black\",\n",
    "        linestyle=\"-\",\n",
    "        linewidth=2,\n",
    "        label=\"Observations\",\n",
    "    )\n",
    "    skew.ax.set_ylim(1050, 10)\n",
    "    skew.ax.set_xlim(-90, 45)\n",
    "    # Add the relevant special lines\n",
    "    # skew.plot_dry_adiabats(linewidth=1.5, label = 'dry adiabats')\n",
    "    # skew.plot_moist_adiabats(linewidth=1.5, label = 'moist adiabats')\n",
    "    # skew.plot_mixing_lines()\n",
    "    skew.ax.legend()\n",
    "    skew.ax.set_xlabel(\"Temperature (degC)\"\n",
    "                       #, fontsize=14\n",
    "                      )\n",
    "    skew.ax.set_ylabel(\"Pressure (hPa)\"\n",
    "                       #, fontsize=14\n",
    "                      )\n",
    "    return skew"
   ]
  },
  {
   "cell_type": "markdown",
   "metadata": {
    "execution": {},
    "slideshow": {
     "slide_type": "slide"
    }
   },
   "source": [
    "## Vertical Structure of the Atmosphere: Compare Data to the Model"
   ]
  },
  {
   "cell_type": "code",
   "execution_count": null,
   "metadata": {
    "execution": {}
   },
   "outputs": [],
   "source": [
    "# to add a model derived profile to the skewT figure\n",
    "def add_profile(skew, model, linestyle=\"-\", color=None):\n",
    "    line = skew.plot(\n",
    "        model.lev,\n",
    "        model.Tatm - climlab.constants.tempCtoK,\n",
    "        label=model.name,\n",
    "        linewidth=2,\n",
    "    )[0]\n",
    "    skew.plot(\n",
    "        1000,\n",
    "        model.Ts - climlab.constants.tempCtoK,\n",
    "        \"o\",\n",
    "        markersize=8,\n",
    "        color=line.get_color(),\n",
    "    )\n",
    "    skew.ax.legend()"
   ]
  },
  {
   "cell_type": "markdown",
   "metadata": {
    "execution": {},
    "slideshow": {
     "slide_type": "slide"
    }
   },
   "source": [
    "## Vertical Structure of the Atmosphere: Compare Data to the Model\n",
    "\n",
    "SkewT (also known as SkewT-logP) plots are generally used for much [more complex reasons](https://www.weather.gov/source/zhu/ZHU_Training_Page/convective_parameters/skewt/skewtinfo.html) than we will use here.\n",
    "\n",
    "However, one of the benefits of this plot that we will utilize is the fact that pressure decreases approximately logarithmically with height.\n",
    "\n",
    "Thus, with a _logP_ axis, we are showing information that is roughly linear in height, making the plots more intuitive."
   ]
  },
  {
   "cell_type": "code",
   "execution_count": null,
   "metadata": {
    "execution": {},
    "executionInfo": {
     "elapsed": 2544,
     "status": "ok",
     "timestamp": 1680662823964,
     "user": {
      "displayName": "Jenna Pearson",
      "userId": "05648130581702734913"
     },
     "user_tz": 420
    }
   },
   "outputs": [],
   "source": [
    "skew = make_skewT()"
   ]
  },
  {
   "cell_type": "markdown",
   "metadata": {
    "execution": {},
    "slideshow": {
     "slide_type": "slide"
    }
   },
   "source": [
    "# Earth System Models"
   ]
  },
  {
   "cell_type": "markdown",
   "metadata": {
    "execution": {},
    "slideshow": {
     "slide_type": "slide"
    }
   },
   "source": [
    "## Earth System Model data\n",
    "\n",
    "ESMs include the physical processes typical of General Circulation Models (GCMs), but also include chemical and biological changes within the climate system (e.g. changes in vegetation, biomes, atmospheric CO$_2$).\n",
    "\n",
    "The several systems simulated in an ESM (ocean, atmosphere, cryosphere, land) are coupled to each other, and each system has its own variables, physics, and discretizations -- both of the spatial grid and the timestep.\n",
    "\n",
    "<img src=\"https://upload.wikimedia.org/wikipedia/commons/7/73/AtmosphericModelSchematic.png\" alt= “EarthSystemModel” width=\"420\" height=\"400\">\n",
    "\n",
    "Atmospheric Model Schematic (Credit: [Wikipedia](https://upload.wikimedia.org/wikipedia/commons/7/73/AtmosphericModelSchematic.png))"
   ]
  },
  {
   "cell_type": "markdown",
   "metadata": {
    "slideshow": {
     "slide_type": "slide"
    }
   },
   "source": [
    "## Questions?"
   ]
  },
  {
   "cell_type": "markdown",
   "metadata": {
    "slideshow": {
     "slide_type": "slide"
    }
   },
   "source": [
    "## See you in the next class!"
   ]
  }
 ],
 "metadata": {
  "celltoolbar": "Slideshow",
  "colab": {
   "collapsed_sections": [],
   "include_colab_link": true,
   "name": "W1D5_Tutorial1",
   "provenance": [],
   "toc_visible": true
  },
  "gpuClass": "standard",
  "kernel": {
   "display_name": "Python 3",
   "language": "python",
   "name": "python3"
  },
  "kernelspec": {
   "display_name": "Python 3 (ipykernel)",
   "language": "python",
   "name": "python3"
  },
  "language_info": {
   "codemirror_mode": {
    "name": "ipython",
    "version": 3
   },
   "file_extension": ".py",
   "mimetype": "text/x-python",
   "name": "python",
   "nbconvert_exporter": "python",
   "pygments_lexer": "ipython3",
   "version": "3.9.5"
  }
 },
 "nbformat": 4,
 "nbformat_minor": 4
}
