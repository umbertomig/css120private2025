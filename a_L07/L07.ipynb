{
 "cells": [
  {
   "cell_type": "markdown",
   "metadata": {
    "slideshow": {
     "slide_type": "slide"
    }
   },
   "source": [
    "# CSS 120 - Environmental Data Science\n",
    "\n",
    "## Lecture 04\n",
    "\n",
    "### Umberto Mignozzetti"
   ]
  },
  {
   "cell_type": "markdown",
   "metadata": {
    "slideshow": {
     "slide_type": "slide"
    }
   },
   "source": [
    "## Today's Class\n",
    "\n",
    "Some more Exploratory Data Analysis in Python."
   ]
  },
  {
   "cell_type": "markdown",
   "metadata": {
    "slideshow": {
     "slide_type": "slide"
    }
   },
   "source": [
    "## Load Pandas\n",
    "\n",
    "Load pandas is very easy. Provided that the package is installed (if not, check [here](https://pandas.pydata.org/pandas-docs/stable/getting_started/install.html) how to install it), type:"
   ]
  },
  {
   "cell_type": "code",
   "execution_count": 1,
   "metadata": {
    "slideshow": {
     "slide_type": "fragment"
    }
   },
   "outputs": [],
   "source": [
    "# My code here\n",
    "import pandas as pd"
   ]
  },
  {
   "cell_type": "markdown",
   "metadata": {
    "slideshow": {
     "slide_type": "slide"
    }
   },
   "source": [
    "## Dataset Information\n",
    "\n",
    "Suppose we have a pandas dataset called `dat`. To make it more realistic, use the following example:\n",
    "\n",
    "```\n",
    "# For me: QOG-EI\n",
    "dat = pd.read_csv('qog_ei2.csv')\n",
    "\n",
    "# For you: NIMBY Wind Turbines\n",
    "nimby = pd.read_csv('nimby.csv')\n",
    "```\n",
    "\n",
    "If you are having VPN issues, I put the data on Canvas, so you can download it and load from your own computer."
   ]
  },
  {
   "cell_type": "code",
   "execution_count": 2,
   "metadata": {
    "slideshow": {
     "slide_type": "fragment"
    }
   },
   "outputs": [
    {
     "data": {
      "text/html": [
       "<div>\n",
       "<style scoped>\n",
       "    .dataframe tbody tr th:only-of-type {\n",
       "        vertical-align: middle;\n",
       "    }\n",
       "\n",
       "    .dataframe tbody tr th {\n",
       "        vertical-align: top;\n",
       "    }\n",
       "\n",
       "    .dataframe thead th {\n",
       "        text-align: right;\n",
       "    }\n",
       "</style>\n",
       "<table border=\"1\" class=\"dataframe\">\n",
       "  <thead>\n",
       "    <tr style=\"text-align: right;\">\n",
       "      <th></th>\n",
       "      <th>cname</th>\n",
       "      <th>ccode</th>\n",
       "      <th>year</th>\n",
       "      <th>cckp_rain</th>\n",
       "      <th>cckp_temp</th>\n",
       "      <th>edgar_ch4</th>\n",
       "      <th>edgar_co</th>\n",
       "      <th>edgar_co2gdp</th>\n",
       "      <th>edgar_co2pc</th>\n",
       "      <th>edgar_co2t</th>\n",
       "      <th>...</th>\n",
       "      <th>edgar_so2</th>\n",
       "      <th>emdat_ndis</th>\n",
       "      <th>emdat_nhome</th>\n",
       "      <th>emdat_ninj</th>\n",
       "      <th>epi_agr</th>\n",
       "      <th>epi_air</th>\n",
       "      <th>ross_gas_exp</th>\n",
       "      <th>ross_gas_netexp</th>\n",
       "      <th>ross_oil_exp</th>\n",
       "      <th>ross_oil_netexp</th>\n",
       "    </tr>\n",
       "  </thead>\n",
       "  <tbody>\n",
       "    <tr>\n",
       "      <th>0</th>\n",
       "      <td>Afghanistan</td>\n",
       "      <td>4.0</td>\n",
       "      <td>2011</td>\n",
       "      <td>25.666667</td>\n",
       "      <td>13.725000</td>\n",
       "      <td>676.794808</td>\n",
       "      <td>1128.252944</td>\n",
       "      <td>0.112816</td>\n",
       "      <td>0.233037</td>\n",
       "      <td>6.923214</td>\n",
       "      <td>...</td>\n",
       "      <td>36.993859</td>\n",
       "      <td>4.0</td>\n",
       "      <td>9700.0</td>\n",
       "      <td>115.0</td>\n",
       "      <td>NaN</td>\n",
       "      <td>NaN</td>\n",
       "      <td>0.0</td>\n",
       "      <td>0.0</td>\n",
       "      <td>0.0</td>\n",
       "      <td>0.0</td>\n",
       "    </tr>\n",
       "    <tr>\n",
       "      <th>1</th>\n",
       "      <td>Afghanistan</td>\n",
       "      <td>4.0</td>\n",
       "      <td>2012</td>\n",
       "      <td>29.641667</td>\n",
       "      <td>13.133333</td>\n",
       "      <td>665.967057</td>\n",
       "      <td>2399.616400</td>\n",
       "      <td>0.140125</td>\n",
       "      <td>0.315852</td>\n",
       "      <td>9.695696</td>\n",
       "      <td>...</td>\n",
       "      <td>37.765312</td>\n",
       "      <td>11.0</td>\n",
       "      <td>2680.0</td>\n",
       "      <td>427.0</td>\n",
       "      <td>NaN</td>\n",
       "      <td>NaN</td>\n",
       "      <td>0.0</td>\n",
       "      <td>0.0</td>\n",
       "      <td>0.0</td>\n",
       "      <td>0.0</td>\n",
       "    </tr>\n",
       "    <tr>\n",
       "      <th>2</th>\n",
       "      <td>Afghanistan</td>\n",
       "      <td>4.0</td>\n",
       "      <td>2013</td>\n",
       "      <td>29.508333</td>\n",
       "      <td>14.066667</td>\n",
       "      <td>672.457563</td>\n",
       "      <td>4214.489091</td>\n",
       "      <td>0.223629</td>\n",
       "      <td>0.514951</td>\n",
       "      <td>16.340258</td>\n",
       "      <td>...</td>\n",
       "      <td>59.684960</td>\n",
       "      <td>6.0</td>\n",
       "      <td>0.0</td>\n",
       "      <td>143.0</td>\n",
       "      <td>NaN</td>\n",
       "      <td>NaN</td>\n",
       "      <td>0.0</td>\n",
       "      <td>NaN</td>\n",
       "      <td>NaN</td>\n",
       "      <td>NaN</td>\n",
       "    </tr>\n",
       "    <tr>\n",
       "      <th>3</th>\n",
       "      <td>Afghanistan</td>\n",
       "      <td>4.0</td>\n",
       "      <td>2014</td>\n",
       "      <td>24.108333</td>\n",
       "      <td>13.516667</td>\n",
       "      <td>687.200050</td>\n",
       "      <td>1133.124883</td>\n",
       "      <td>0.138165</td>\n",
       "      <td>0.316582</td>\n",
       "      <td>10.370594</td>\n",
       "      <td>...</td>\n",
       "      <td>63.695128</td>\n",
       "      <td>3.0</td>\n",
       "      <td>10000.0</td>\n",
       "      <td>135.0</td>\n",
       "      <td>NaN</td>\n",
       "      <td>NaN</td>\n",
       "      <td>NaN</td>\n",
       "      <td>NaN</td>\n",
       "      <td>NaN</td>\n",
       "      <td>NaN</td>\n",
       "    </tr>\n",
       "    <tr>\n",
       "      <th>4</th>\n",
       "      <td>Afghanistan</td>\n",
       "      <td>4.0</td>\n",
       "      <td>2015</td>\n",
       "      <td>32.433333</td>\n",
       "      <td>13.850000</td>\n",
       "      <td>689.005619</td>\n",
       "      <td>1071.567819</td>\n",
       "      <td>0.129386</td>\n",
       "      <td>0.292045</td>\n",
       "      <td>9.852574</td>\n",
       "      <td>...</td>\n",
       "      <td>60.217536</td>\n",
       "      <td>7.0</td>\n",
       "      <td>45100.0</td>\n",
       "      <td>58102.0</td>\n",
       "      <td>NaN</td>\n",
       "      <td>NaN</td>\n",
       "      <td>NaN</td>\n",
       "      <td>NaN</td>\n",
       "      <td>NaN</td>\n",
       "      <td>NaN</td>\n",
       "    </tr>\n",
       "  </tbody>\n",
       "</table>\n",
       "<p>5 rows × 22 columns</p>\n",
       "</div>"
      ],
      "text/plain": [
       "         cname  ccode  year  cckp_rain  cckp_temp   edgar_ch4     edgar_co  \\\n",
       "0  Afghanistan    4.0  2011  25.666667  13.725000  676.794808  1128.252944   \n",
       "1  Afghanistan    4.0  2012  29.641667  13.133333  665.967057  2399.616400   \n",
       "2  Afghanistan    4.0  2013  29.508333  14.066667  672.457563  4214.489091   \n",
       "3  Afghanistan    4.0  2014  24.108333  13.516667  687.200050  1133.124883   \n",
       "4  Afghanistan    4.0  2015  32.433333  13.850000  689.005619  1071.567819   \n",
       "\n",
       "   edgar_co2gdp  edgar_co2pc  edgar_co2t  ...  edgar_so2  emdat_ndis  \\\n",
       "0      0.112816     0.233037    6.923214  ...  36.993859         4.0   \n",
       "1      0.140125     0.315852    9.695696  ...  37.765312        11.0   \n",
       "2      0.223629     0.514951   16.340258  ...  59.684960         6.0   \n",
       "3      0.138165     0.316582   10.370594  ...  63.695128         3.0   \n",
       "4      0.129386     0.292045    9.852574  ...  60.217536         7.0   \n",
       "\n",
       "   emdat_nhome  emdat_ninj  epi_agr  epi_air  ross_gas_exp  ross_gas_netexp  \\\n",
       "0       9700.0       115.0      NaN      NaN           0.0              0.0   \n",
       "1       2680.0       427.0      NaN      NaN           0.0              0.0   \n",
       "2          0.0       143.0      NaN      NaN           0.0              NaN   \n",
       "3      10000.0       135.0      NaN      NaN           NaN              NaN   \n",
       "4      45100.0     58102.0      NaN      NaN           NaN              NaN   \n",
       "\n",
       "   ross_oil_exp  ross_oil_netexp  \n",
       "0           0.0              0.0  \n",
       "1           0.0              0.0  \n",
       "2           NaN              NaN  \n",
       "3           NaN              NaN  \n",
       "4           NaN              NaN  \n",
       "\n",
       "[5 rows x 22 columns]"
      ]
     },
     "execution_count": 2,
     "metadata": {},
     "output_type": "execute_result"
    }
   ],
   "source": [
    "# My code here\n",
    "dat = pd.read_csv('qog_ei2.csv')\n",
    "dat.head()"
   ]
  },
  {
   "cell_type": "code",
   "execution_count": 3,
   "metadata": {},
   "outputs": [],
   "source": [
    "# Your code here: Load (nimby.csv)"
   ]
  },
  {
   "cell_type": "markdown",
   "metadata": {
    "slideshow": {
     "slide_type": "slide"
    }
   },
   "source": [
    "### .head(.)\n",
    "\n",
    "This method prints the first few observations of the dataset.\n",
    "\n",
    "Syntax and Usage: `print(dat.head())`"
   ]
  },
  {
   "cell_type": "code",
   "execution_count": 4,
   "metadata": {
    "slideshow": {
     "slide_type": "fragment"
    }
   },
   "outputs": [
    {
     "data": {
      "text/html": [
       "<div>\n",
       "<style scoped>\n",
       "    .dataframe tbody tr th:only-of-type {\n",
       "        vertical-align: middle;\n",
       "    }\n",
       "\n",
       "    .dataframe tbody tr th {\n",
       "        vertical-align: top;\n",
       "    }\n",
       "\n",
       "    .dataframe thead th {\n",
       "        text-align: right;\n",
       "    }\n",
       "</style>\n",
       "<table border=\"1\" class=\"dataframe\">\n",
       "  <thead>\n",
       "    <tr style=\"text-align: right;\">\n",
       "      <th></th>\n",
       "      <th>cname</th>\n",
       "      <th>ccode</th>\n",
       "      <th>year</th>\n",
       "      <th>cckp_rain</th>\n",
       "      <th>cckp_temp</th>\n",
       "      <th>edgar_ch4</th>\n",
       "      <th>edgar_co</th>\n",
       "      <th>edgar_co2gdp</th>\n",
       "      <th>edgar_co2pc</th>\n",
       "      <th>edgar_co2t</th>\n",
       "      <th>...</th>\n",
       "      <th>edgar_so2</th>\n",
       "      <th>emdat_ndis</th>\n",
       "      <th>emdat_nhome</th>\n",
       "      <th>emdat_ninj</th>\n",
       "      <th>epi_agr</th>\n",
       "      <th>epi_air</th>\n",
       "      <th>ross_gas_exp</th>\n",
       "      <th>ross_gas_netexp</th>\n",
       "      <th>ross_oil_exp</th>\n",
       "      <th>ross_oil_netexp</th>\n",
       "    </tr>\n",
       "  </thead>\n",
       "  <tbody>\n",
       "    <tr>\n",
       "      <th>0</th>\n",
       "      <td>Afghanistan</td>\n",
       "      <td>4.0</td>\n",
       "      <td>2011</td>\n",
       "      <td>25.666667</td>\n",
       "      <td>13.725000</td>\n",
       "      <td>676.794808</td>\n",
       "      <td>1128.252944</td>\n",
       "      <td>0.112816</td>\n",
       "      <td>0.233037</td>\n",
       "      <td>6.923214</td>\n",
       "      <td>...</td>\n",
       "      <td>36.993859</td>\n",
       "      <td>4.0</td>\n",
       "      <td>9700.0</td>\n",
       "      <td>115.0</td>\n",
       "      <td>NaN</td>\n",
       "      <td>NaN</td>\n",
       "      <td>0.0</td>\n",
       "      <td>0.0</td>\n",
       "      <td>0.0</td>\n",
       "      <td>0.0</td>\n",
       "    </tr>\n",
       "    <tr>\n",
       "      <th>1</th>\n",
       "      <td>Afghanistan</td>\n",
       "      <td>4.0</td>\n",
       "      <td>2012</td>\n",
       "      <td>29.641667</td>\n",
       "      <td>13.133333</td>\n",
       "      <td>665.967057</td>\n",
       "      <td>2399.616400</td>\n",
       "      <td>0.140125</td>\n",
       "      <td>0.315852</td>\n",
       "      <td>9.695696</td>\n",
       "      <td>...</td>\n",
       "      <td>37.765312</td>\n",
       "      <td>11.0</td>\n",
       "      <td>2680.0</td>\n",
       "      <td>427.0</td>\n",
       "      <td>NaN</td>\n",
       "      <td>NaN</td>\n",
       "      <td>0.0</td>\n",
       "      <td>0.0</td>\n",
       "      <td>0.0</td>\n",
       "      <td>0.0</td>\n",
       "    </tr>\n",
       "    <tr>\n",
       "      <th>2</th>\n",
       "      <td>Afghanistan</td>\n",
       "      <td>4.0</td>\n",
       "      <td>2013</td>\n",
       "      <td>29.508333</td>\n",
       "      <td>14.066667</td>\n",
       "      <td>672.457563</td>\n",
       "      <td>4214.489091</td>\n",
       "      <td>0.223629</td>\n",
       "      <td>0.514951</td>\n",
       "      <td>16.340258</td>\n",
       "      <td>...</td>\n",
       "      <td>59.684960</td>\n",
       "      <td>6.0</td>\n",
       "      <td>0.0</td>\n",
       "      <td>143.0</td>\n",
       "      <td>NaN</td>\n",
       "      <td>NaN</td>\n",
       "      <td>0.0</td>\n",
       "      <td>NaN</td>\n",
       "      <td>NaN</td>\n",
       "      <td>NaN</td>\n",
       "    </tr>\n",
       "    <tr>\n",
       "      <th>3</th>\n",
       "      <td>Afghanistan</td>\n",
       "      <td>4.0</td>\n",
       "      <td>2014</td>\n",
       "      <td>24.108333</td>\n",
       "      <td>13.516667</td>\n",
       "      <td>687.200050</td>\n",
       "      <td>1133.124883</td>\n",
       "      <td>0.138165</td>\n",
       "      <td>0.316582</td>\n",
       "      <td>10.370594</td>\n",
       "      <td>...</td>\n",
       "      <td>63.695128</td>\n",
       "      <td>3.0</td>\n",
       "      <td>10000.0</td>\n",
       "      <td>135.0</td>\n",
       "      <td>NaN</td>\n",
       "      <td>NaN</td>\n",
       "      <td>NaN</td>\n",
       "      <td>NaN</td>\n",
       "      <td>NaN</td>\n",
       "      <td>NaN</td>\n",
       "    </tr>\n",
       "    <tr>\n",
       "      <th>4</th>\n",
       "      <td>Afghanistan</td>\n",
       "      <td>4.0</td>\n",
       "      <td>2015</td>\n",
       "      <td>32.433333</td>\n",
       "      <td>13.850000</td>\n",
       "      <td>689.005619</td>\n",
       "      <td>1071.567819</td>\n",
       "      <td>0.129386</td>\n",
       "      <td>0.292045</td>\n",
       "      <td>9.852574</td>\n",
       "      <td>...</td>\n",
       "      <td>60.217536</td>\n",
       "      <td>7.0</td>\n",
       "      <td>45100.0</td>\n",
       "      <td>58102.0</td>\n",
       "      <td>NaN</td>\n",
       "      <td>NaN</td>\n",
       "      <td>NaN</td>\n",
       "      <td>NaN</td>\n",
       "      <td>NaN</td>\n",
       "      <td>NaN</td>\n",
       "    </tr>\n",
       "  </tbody>\n",
       "</table>\n",
       "<p>5 rows × 22 columns</p>\n",
       "</div>"
      ],
      "text/plain": [
       "         cname  ccode  year  cckp_rain  cckp_temp   edgar_ch4     edgar_co  \\\n",
       "0  Afghanistan    4.0  2011  25.666667  13.725000  676.794808  1128.252944   \n",
       "1  Afghanistan    4.0  2012  29.641667  13.133333  665.967057  2399.616400   \n",
       "2  Afghanistan    4.0  2013  29.508333  14.066667  672.457563  4214.489091   \n",
       "3  Afghanistan    4.0  2014  24.108333  13.516667  687.200050  1133.124883   \n",
       "4  Afghanistan    4.0  2015  32.433333  13.850000  689.005619  1071.567819   \n",
       "\n",
       "   edgar_co2gdp  edgar_co2pc  edgar_co2t  ...  edgar_so2  emdat_ndis  \\\n",
       "0      0.112816     0.233037    6.923214  ...  36.993859         4.0   \n",
       "1      0.140125     0.315852    9.695696  ...  37.765312        11.0   \n",
       "2      0.223629     0.514951   16.340258  ...  59.684960         6.0   \n",
       "3      0.138165     0.316582   10.370594  ...  63.695128         3.0   \n",
       "4      0.129386     0.292045    9.852574  ...  60.217536         7.0   \n",
       "\n",
       "   emdat_nhome  emdat_ninj  epi_agr  epi_air  ross_gas_exp  ross_gas_netexp  \\\n",
       "0       9700.0       115.0      NaN      NaN           0.0              0.0   \n",
       "1       2680.0       427.0      NaN      NaN           0.0              0.0   \n",
       "2          0.0       143.0      NaN      NaN           0.0              NaN   \n",
       "3      10000.0       135.0      NaN      NaN           NaN              NaN   \n",
       "4      45100.0     58102.0      NaN      NaN           NaN              NaN   \n",
       "\n",
       "   ross_oil_exp  ross_oil_netexp  \n",
       "0           0.0              0.0  \n",
       "1           0.0              0.0  \n",
       "2           NaN              NaN  \n",
       "3           NaN              NaN  \n",
       "4           NaN              NaN  \n",
       "\n",
       "[5 rows x 22 columns]"
      ]
     },
     "execution_count": 4,
     "metadata": {},
     "output_type": "execute_result"
    }
   ],
   "source": [
    "# My code here\n",
    "dat.head()"
   ]
  },
  {
   "cell_type": "markdown",
   "metadata": {
    "slideshow": {
     "slide_type": "slide"
    }
   },
   "source": [
    "### .shape\n",
    "\n",
    "This prints the number of rows and columns of a dataset.\n",
    "\n",
    "Syntax and Usage: `print(dat.shape)`\n",
    "\n",
    "Note: no parenthesis necessary."
   ]
  },
  {
   "cell_type": "code",
   "execution_count": 5,
   "metadata": {
    "slideshow": {
     "slide_type": "fragment"
    }
   },
   "outputs": [
    {
     "name": "stdout",
     "output_type": "stream",
     "text": [
      "(1944, 22)\n"
     ]
    }
   ],
   "source": [
    "# My code here\n",
    "print(dat.shape)"
   ]
  },
  {
   "cell_type": "markdown",
   "metadata": {
    "slideshow": {
     "slide_type": "slide"
    }
   },
   "source": [
    "### .describe(.)\n",
    "\n",
    "This method gives us a few summary statistics of the dataset.\n",
    "\n",
    "Syntax and Usage: `print(dat.describe())`"
   ]
  },
  {
   "cell_type": "code",
   "execution_count": 6,
   "metadata": {
    "slideshow": {
     "slide_type": "fragment"
    }
   },
   "outputs": [
    {
     "data": {
      "text/html": [
       "<div>\n",
       "<style scoped>\n",
       "    .dataframe tbody tr th:only-of-type {\n",
       "        vertical-align: middle;\n",
       "    }\n",
       "\n",
       "    .dataframe tbody tr th {\n",
       "        vertical-align: top;\n",
       "    }\n",
       "\n",
       "    .dataframe thead th {\n",
       "        text-align: right;\n",
       "    }\n",
       "</style>\n",
       "<table border=\"1\" class=\"dataframe\">\n",
       "  <thead>\n",
       "    <tr style=\"text-align: right;\">\n",
       "      <th></th>\n",
       "      <th>ccode</th>\n",
       "      <th>year</th>\n",
       "      <th>cckp_rain</th>\n",
       "      <th>cckp_temp</th>\n",
       "      <th>edgar_ch4</th>\n",
       "      <th>edgar_co</th>\n",
       "      <th>edgar_co2gdp</th>\n",
       "      <th>edgar_co2pc</th>\n",
       "      <th>edgar_co2t</th>\n",
       "      <th>edgar_pm10</th>\n",
       "      <th>...</th>\n",
       "      <th>edgar_so2</th>\n",
       "      <th>emdat_ndis</th>\n",
       "      <th>emdat_nhome</th>\n",
       "      <th>emdat_ninj</th>\n",
       "      <th>epi_agr</th>\n",
       "      <th>epi_air</th>\n",
       "      <th>ross_gas_exp</th>\n",
       "      <th>ross_gas_netexp</th>\n",
       "      <th>ross_oil_exp</th>\n",
       "      <th>ross_oil_netexp</th>\n",
       "    </tr>\n",
       "  </thead>\n",
       "  <tbody>\n",
       "    <tr>\n",
       "      <th>count</th>\n",
       "      <td>1944.000000</td>\n",
       "      <td>1944.000000</td>\n",
       "      <td>1909.000000</td>\n",
       "      <td>1909.000000</td>\n",
       "      <td>935.000000</td>\n",
       "      <td>920.000000</td>\n",
       "      <td>1592.000000</td>\n",
       "      <td>1592.000000</td>\n",
       "      <td>1592.000000</td>\n",
       "      <td>935.000000</td>\n",
       "      <td>...</td>\n",
       "      <td>920.000000</td>\n",
       "      <td>1135.000000</td>\n",
       "      <td>1.135000e+03</td>\n",
       "      <td>1135.000000</td>\n",
       "      <td>180.000000</td>\n",
       "      <td>180.000000</td>\n",
       "      <td>510.000000</td>\n",
       "      <td>3.770000e+02</td>\n",
       "      <td>377.000000</td>\n",
       "      <td>3.770000e+02</td>\n",
       "    </tr>\n",
       "    <tr>\n",
       "      <th>mean</th>\n",
       "      <td>431.576646</td>\n",
       "      <td>2015.493827</td>\n",
       "      <td>101.498813</td>\n",
       "      <td>19.617308</td>\n",
       "      <td>1934.365057</td>\n",
       "      <td>3133.246175</td>\n",
       "      <td>0.263105</td>\n",
       "      <td>5.063384</td>\n",
       "      <td>192.187607</td>\n",
       "      <td>316.148844</td>\n",
       "      <td>...</td>\n",
       "      <td>522.875882</td>\n",
       "      <td>3.185903</td>\n",
       "      <td>8.433491e+03</td>\n",
       "      <td>2204.177093</td>\n",
       "      <td>39.330556</td>\n",
       "      <td>44.223333</td>\n",
       "      <td>220.026074</td>\n",
       "      <td>-9.924248e+07</td>\n",
       "      <td>247.826074</td>\n",
       "      <td>-1.931242e+09</td>\n",
       "    </tr>\n",
       "    <tr>\n",
       "      <th>std</th>\n",
       "      <td>253.820837</td>\n",
       "      <td>2.873730</td>\n",
       "      <td>73.645173</td>\n",
       "      <td>8.077334</td>\n",
       "      <td>5814.050697</td>\n",
       "      <td>11685.103652</td>\n",
       "      <td>0.487962</td>\n",
       "      <td>8.662352</td>\n",
       "      <td>922.562575</td>\n",
       "      <td>1434.611139</td>\n",
       "      <td>...</td>\n",
       "      <td>2599.615848</td>\n",
       "      <td>4.331682</td>\n",
       "      <td>7.745217e+04</td>\n",
       "      <td>18972.864223</td>\n",
       "      <td>17.611478</td>\n",
       "      <td>21.887447</td>\n",
       "      <td>817.171735</td>\n",
       "      <td>2.537080e+09</td>\n",
       "      <td>769.882584</td>\n",
       "      <td>4.030846e+10</td>\n",
       "    </tr>\n",
       "    <tr>\n",
       "      <th>min</th>\n",
       "      <td>4.000000</td>\n",
       "      <td>2011.000000</td>\n",
       "      <td>1.591667</td>\n",
       "      <td>-7.058333</td>\n",
       "      <td>0.078601</td>\n",
       "      <td>0.017547</td>\n",
       "      <td>0.017499</td>\n",
       "      <td>0.028257</td>\n",
       "      <td>0.028978</td>\n",
       "      <td>0.000003</td>\n",
       "      <td>...</td>\n",
       "      <td>0.000098</td>\n",
       "      <td>1.000000</td>\n",
       "      <td>0.000000e+00</td>\n",
       "      <td>0.000000</td>\n",
       "      <td>0.000000</td>\n",
       "      <td>9.900000</td>\n",
       "      <td>0.000000</td>\n",
       "      <td>-1.257700e+10</td>\n",
       "      <td>0.000000</td>\n",
       "      <td>-3.131204e+11</td>\n",
       "    </tr>\n",
       "    <tr>\n",
       "      <th>25%</th>\n",
       "      <td>208.000000</td>\n",
       "      <td>2013.000000</td>\n",
       "      <td>44.958333</td>\n",
       "      <td>12.058333</td>\n",
       "      <td>112.523592</td>\n",
       "      <td>147.570238</td>\n",
       "      <td>0.120669</td>\n",
       "      <td>0.632430</td>\n",
       "      <td>3.018878</td>\n",
       "      <td>11.408565</td>\n",
       "      <td>...</td>\n",
       "      <td>8.376655</td>\n",
       "      <td>1.000000</td>\n",
       "      <td>0.000000e+00</td>\n",
       "      <td>0.000000</td>\n",
       "      <td>26.425000</td>\n",
       "      <td>27.650000</td>\n",
       "      <td>0.000000</td>\n",
       "      <td>-2.278775e+08</td>\n",
       "      <td>0.000000</td>\n",
       "      <td>-3.530433e+09</td>\n",
       "    </tr>\n",
       "    <tr>\n",
       "      <th>50%</th>\n",
       "      <td>428.000000</td>\n",
       "      <td>2015.000000</td>\n",
       "      <td>85.375000</td>\n",
       "      <td>23.108333</td>\n",
       "      <td>466.890681</td>\n",
       "      <td>509.657832</td>\n",
       "      <td>0.183944</td>\n",
       "      <td>2.313080</td>\n",
       "      <td>13.055521</td>\n",
       "      <td>44.095190</td>\n",
       "      <td>...</td>\n",
       "      <td>43.459212</td>\n",
       "      <td>2.000000</td>\n",
       "      <td>0.000000e+00</td>\n",
       "      <td>0.000000</td>\n",
       "      <td>38.750000</td>\n",
       "      <td>37.900000</td>\n",
       "      <td>0.000000</td>\n",
       "      <td>0.000000e+00</td>\n",
       "      <td>0.058950</td>\n",
       "      <td>0.000000e+00</td>\n",
       "    </tr>\n",
       "    <tr>\n",
       "      <th>75%</th>\n",
       "      <td>659.000000</td>\n",
       "      <td>2018.000000</td>\n",
       "      <td>143.491667</td>\n",
       "      <td>26.058333</td>\n",
       "      <td>1457.967982</td>\n",
       "      <td>1865.734227</td>\n",
       "      <td>0.276122</td>\n",
       "      <td>6.726182</td>\n",
       "      <td>72.949199</td>\n",
       "      <td>158.261192</td>\n",
       "      <td>...</td>\n",
       "      <td>197.125007</td>\n",
       "      <td>3.000000</td>\n",
       "      <td>0.000000e+00</td>\n",
       "      <td>100.000000</td>\n",
       "      <td>51.800000</td>\n",
       "      <td>54.850000</td>\n",
       "      <td>2.533853</td>\n",
       "      <td>0.000000e+00</td>\n",
       "      <td>59.632440</td>\n",
       "      <td>2.363406e+08</td>\n",
       "    </tr>\n",
       "    <tr>\n",
       "      <th>max</th>\n",
       "      <td>894.000000</td>\n",
       "      <td>2020.000000</td>\n",
       "      <td>401.500000</td>\n",
       "      <td>29.316667</td>\n",
       "      <td>62790.361631</td>\n",
       "      <td>129684.105502</td>\n",
       "      <td>12.475647</td>\n",
       "      <td>173.591562</td>\n",
       "      <td>11535.199836</td>\n",
       "      <td>17040.646337</td>\n",
       "      <td>...</td>\n",
       "      <td>33052.250035</td>\n",
       "      <td>43.000000</td>\n",
       "      <td>2.000000e+06</td>\n",
       "      <td>521028.000000</td>\n",
       "      <td>79.500000</td>\n",
       "      <td>98.800000</td>\n",
       "      <td>8008.198000</td>\n",
       "      <td>2.105596e+10</td>\n",
       "      <td>7477.621250</td>\n",
       "      <td>2.324591e+11</td>\n",
       "    </tr>\n",
       "  </tbody>\n",
       "</table>\n",
       "<p>8 rows × 21 columns</p>\n",
       "</div>"
      ],
      "text/plain": [
       "             ccode         year    cckp_rain    cckp_temp     edgar_ch4  \\\n",
       "count  1944.000000  1944.000000  1909.000000  1909.000000    935.000000   \n",
       "mean    431.576646  2015.493827   101.498813    19.617308   1934.365057   \n",
       "std     253.820837     2.873730    73.645173     8.077334   5814.050697   \n",
       "min       4.000000  2011.000000     1.591667    -7.058333      0.078601   \n",
       "25%     208.000000  2013.000000    44.958333    12.058333    112.523592   \n",
       "50%     428.000000  2015.000000    85.375000    23.108333    466.890681   \n",
       "75%     659.000000  2018.000000   143.491667    26.058333   1457.967982   \n",
       "max     894.000000  2020.000000   401.500000    29.316667  62790.361631   \n",
       "\n",
       "            edgar_co  edgar_co2gdp  edgar_co2pc    edgar_co2t    edgar_pm10  \\\n",
       "count     920.000000   1592.000000  1592.000000   1592.000000    935.000000   \n",
       "mean     3133.246175      0.263105     5.063384    192.187607    316.148844   \n",
       "std     11685.103652      0.487962     8.662352    922.562575   1434.611139   \n",
       "min         0.017547      0.017499     0.028257      0.028978      0.000003   \n",
       "25%       147.570238      0.120669     0.632430      3.018878     11.408565   \n",
       "50%       509.657832      0.183944     2.313080     13.055521     44.095190   \n",
       "75%      1865.734227      0.276122     6.726182     72.949199    158.261192   \n",
       "max    129684.105502     12.475647   173.591562  11535.199836  17040.646337   \n",
       "\n",
       "       ...     edgar_so2   emdat_ndis   emdat_nhome     emdat_ninj  \\\n",
       "count  ...    920.000000  1135.000000  1.135000e+03    1135.000000   \n",
       "mean   ...    522.875882     3.185903  8.433491e+03    2204.177093   \n",
       "std    ...   2599.615848     4.331682  7.745217e+04   18972.864223   \n",
       "min    ...      0.000098     1.000000  0.000000e+00       0.000000   \n",
       "25%    ...      8.376655     1.000000  0.000000e+00       0.000000   \n",
       "50%    ...     43.459212     2.000000  0.000000e+00       0.000000   \n",
       "75%    ...    197.125007     3.000000  0.000000e+00     100.000000   \n",
       "max    ...  33052.250035    43.000000  2.000000e+06  521028.000000   \n",
       "\n",
       "          epi_agr     epi_air  ross_gas_exp  ross_gas_netexp  ross_oil_exp  \\\n",
       "count  180.000000  180.000000    510.000000     3.770000e+02    377.000000   \n",
       "mean    39.330556   44.223333    220.026074    -9.924248e+07    247.826074   \n",
       "std     17.611478   21.887447    817.171735     2.537080e+09    769.882584   \n",
       "min      0.000000    9.900000      0.000000    -1.257700e+10      0.000000   \n",
       "25%     26.425000   27.650000      0.000000    -2.278775e+08      0.000000   \n",
       "50%     38.750000   37.900000      0.000000     0.000000e+00      0.058950   \n",
       "75%     51.800000   54.850000      2.533853     0.000000e+00     59.632440   \n",
       "max     79.500000   98.800000   8008.198000     2.105596e+10   7477.621250   \n",
       "\n",
       "       ross_oil_netexp  \n",
       "count     3.770000e+02  \n",
       "mean     -1.931242e+09  \n",
       "std       4.030846e+10  \n",
       "min      -3.131204e+11  \n",
       "25%      -3.530433e+09  \n",
       "50%       0.000000e+00  \n",
       "75%       2.363406e+08  \n",
       "max       2.324591e+11  \n",
       "\n",
       "[8 rows x 21 columns]"
      ]
     },
     "execution_count": 6,
     "metadata": {},
     "output_type": "execute_result"
    }
   ],
   "source": [
    "# My code here\n",
    "dat.describe()"
   ]
  },
  {
   "cell_type": "markdown",
   "metadata": {
    "slideshow": {
     "slide_type": "slide"
    }
   },
   "source": [
    "## Statistics\n",
    "\n",
    "We can easily compute statistics from the data. Here are a few methods that we have available:\n",
    "\n",
    "| Method           | Description                  |\n",
    "|------------------|------------------------------|\n",
    "| `.median()`      | Median                       |\n",
    "| `.mean()`        | Mean                         |\n",
    "| `.min()`         | Minimum                      |\n",
    "| `.max()`         | Maximum                      |\n",
    "| `.var()`         | Variance                     |\n",
    "| `.std()`         | Standard Deviation           |\n",
    "| `.sum()`         | Sum values                   |\n",
    "| `.mode()`        | More frequent values         |\n",
    "| `.quantile(val)` | Quantile value (btw 0 and 1) |"
   ]
  },
  {
   "cell_type": "code",
   "execution_count": 15,
   "metadata": {
    "slideshow": {
     "slide_type": "fragment"
    }
   },
   "outputs": [
    {
     "data": {
      "text/plain": [
       "Index(['cname', 'ccode', 'year', 'cckp_rain', 'cckp_temp', 'edgar_ch4',\n",
       "       'edgar_co', 'edgar_co2gdp', 'edgar_co2pc', 'edgar_co2t', 'edgar_pm10',\n",
       "       'edgar_pm25', 'edgar_so2', 'emdat_ndis', 'emdat_nhome', 'emdat_ninj',\n",
       "       'epi_agr', 'epi_air', 'ross_gas_exp', 'ross_gas_netexp', 'ross_oil_exp',\n",
       "       'ross_oil_netexp'],\n",
       "      dtype='object')"
      ]
     },
     "execution_count": 15,
     "metadata": {},
     "output_type": "execute_result"
    }
   ],
   "source": [
    "# My code here\n",
    "dat.head()\n",
    "dat.columns"
   ]
  },
  {
   "cell_type": "code",
   "execution_count": 8,
   "metadata": {
    "slideshow": {
     "slide_type": "slide"
    }
   },
   "outputs": [
    {
     "data": {
      "text/plain": [
       "19.617308363890345"
      ]
     },
     "execution_count": 8,
     "metadata": {},
     "output_type": "execute_result"
    }
   ],
   "source": [
    "dat['cckp_temp'].mean()"
   ]
  },
  {
   "cell_type": "code",
   "execution_count": 9,
   "metadata": {
    "slideshow": {
     "slide_type": "fragment"
    }
   },
   "outputs": [
    {
     "data": {
      "text/plain": [
       "23.1083333333333"
      ]
     },
     "execution_count": 9,
     "metadata": {},
     "output_type": "execute_result"
    }
   ],
   "source": [
    "dat['cckp_temp'].median()"
   ]
  },
  {
   "cell_type": "code",
   "execution_count": 10,
   "metadata": {
    "slideshow": {
     "slide_type": "fragment"
    }
   },
   "outputs": [
    {
     "data": {
      "text/plain": [
       "0    1.0\n",
       "Name: emdat_ndis, dtype: float64"
      ]
     },
     "execution_count": 10,
     "metadata": {},
     "output_type": "execute_result"
    }
   ],
   "source": [
    "dat['emdat_ndis'].mode()"
   ]
  },
  {
   "cell_type": "code",
   "execution_count": 11,
   "metadata": {
    "slideshow": {
     "slide_type": "fragment"
    }
   },
   "outputs": [
    {
     "data": {
      "text/plain": [
       "12.0583333333333"
      ]
     },
     "execution_count": 11,
     "metadata": {},
     "output_type": "execute_result"
    }
   ],
   "source": [
    "dat['cckp_temp'].quantile(0.25)"
   ]
  },
  {
   "cell_type": "code",
   "execution_count": 12,
   "metadata": {
    "slideshow": {
     "slide_type": "slide"
    }
   },
   "outputs": [
    {
     "data": {
      "text/plain": [
       "27.7333333333333"
      ]
     },
     "execution_count": 12,
     "metadata": {},
     "output_type": "execute_result"
    }
   ],
   "source": [
    "dat['cckp_temp'].quantile(0.90)"
   ]
  },
  {
   "cell_type": "code",
   "execution_count": 13,
   "metadata": {
    "slideshow": {
     "slide_type": "fragment"
    }
   },
   "outputs": [
    {
     "data": {
      "text/plain": [
       "8.013333333333335"
      ]
     },
     "execution_count": 13,
     "metadata": {},
     "output_type": "execute_result"
    }
   ],
   "source": [
    "dat['cckp_temp'].quantile(0.10)"
   ]
  },
  {
   "cell_type": "markdown",
   "metadata": {
    "slideshow": {
     "slide_type": "slide"
    }
   },
   "source": [
    "## Statistics\n",
    "\n",
    "**Your turn**: Try with the `nimby` dataset."
   ]
  },
  {
   "cell_type": "code",
   "execution_count": null,
   "metadata": {},
   "outputs": [],
   "source": [
    "# Your answers here"
   ]
  },
  {
   "cell_type": "markdown",
   "metadata": {
    "slideshow": {
     "slide_type": "slide"
    }
   },
   "source": [
    "## Counting\n",
    "\n",
    "### Counting data\n",
    "\n",
    "To count data we need to:\n",
    "\n",
    "```\n",
    "dat[\"variable\"].value_counts()\n",
    "```\n",
    "\n",
    "If we want it sorted, we can type:\n",
    "\n",
    "```\n",
    "dat[\"variable\"].value_counts(sort = True)\n",
    "```\n",
    "\n",
    "We can also count proportions:\n",
    "\n",
    "```\n",
    "dat[\"variable\"].value_counts(normalize = True)\n",
    "```"
   ]
  },
  {
   "cell_type": "code",
   "execution_count": 16,
   "metadata": {
    "slideshow": {
     "slide_type": "slide"
    }
   },
   "outputs": [
    {
     "data": {
      "text/plain": [
       "emdat_ndis\n",
       "4.0     0.075771\n",
       "11.0    0.002643\n",
       "6.0     0.019383\n",
       "3.0     0.149780\n",
       "7.0     0.022907\n",
       "5.0     0.049339\n",
       "1.0     0.405286\n",
       "2.0     0.209692\n",
       "8.0     0.009692\n",
       "20.0    0.002643\n",
       "28.0    0.001762\n",
       "43.0    0.000881\n",
       "41.0    0.000881\n",
       "36.0    0.001762\n",
       "33.0    0.000881\n",
       "30.0    0.000881\n",
       "22.0    0.002643\n",
       "17.0    0.000881\n",
       "10.0    0.008811\n",
       "9.0     0.004405\n",
       "13.0    0.005286\n",
       "12.0    0.006167\n",
       "16.0    0.003524\n",
       "18.0    0.002643\n",
       "23.0    0.001762\n",
       "14.0    0.002643\n",
       "15.0    0.001762\n",
       "19.0    0.000881\n",
       "26.0    0.000881\n",
       "25.0    0.000881\n",
       "29.0    0.000881\n",
       "27.0    0.000881\n",
       "24.0    0.000881\n",
       "Name: proportion, dtype: float64"
      ]
     },
     "execution_count": 16,
     "metadata": {},
     "output_type": "execute_result"
    }
   ],
   "source": [
    "# My code here\n",
    "dat['emdat_ndis'].value_counts(sort = False, normalize = True)"
   ]
  },
  {
   "cell_type": "code",
   "execution_count": 17,
   "metadata": {},
   "outputs": [
    {
     "data": {
      "text/plain": [
       "emdat_ndis\n",
       "4.0      86\n",
       "11.0      3\n",
       "6.0      22\n",
       "3.0     170\n",
       "7.0      26\n",
       "5.0      56\n",
       "1.0     460\n",
       "2.0     238\n",
       "8.0      11\n",
       "20.0      3\n",
       "28.0      2\n",
       "43.0      1\n",
       "41.0      1\n",
       "36.0      2\n",
       "33.0      1\n",
       "30.0      1\n",
       "22.0      3\n",
       "17.0      1\n",
       "10.0     10\n",
       "9.0       5\n",
       "13.0      6\n",
       "12.0      7\n",
       "16.0      4\n",
       "18.0      3\n",
       "23.0      2\n",
       "14.0      3\n",
       "15.0      2\n",
       "19.0      1\n",
       "26.0      1\n",
       "25.0      1\n",
       "29.0      1\n",
       "27.0      1\n",
       "24.0      1\n",
       "Name: count, dtype: int64"
      ]
     },
     "execution_count": 17,
     "metadata": {},
     "output_type": "execute_result"
    }
   ],
   "source": [
    "dat['emdat_ndis'].value_counts(sort = False)"
   ]
  },
  {
   "cell_type": "code",
   "execution_count": 18,
   "metadata": {
    "scrolled": true
   },
   "outputs": [
    {
     "data": {
      "text/plain": [
       "emdat_ndis\n",
       "1.0     460\n",
       "2.0     238\n",
       "3.0     170\n",
       "4.0      86\n",
       "5.0      56\n",
       "7.0      26\n",
       "6.0      22\n",
       "8.0      11\n",
       "10.0     10\n",
       "12.0      7\n",
       "13.0      6\n",
       "9.0       5\n",
       "16.0      4\n",
       "11.0      3\n",
       "14.0      3\n",
       "18.0      3\n",
       "22.0      3\n",
       "20.0      3\n",
       "36.0      2\n",
       "28.0      2\n",
       "23.0      2\n",
       "15.0      2\n",
       "17.0      1\n",
       "30.0      1\n",
       "33.0      1\n",
       "41.0      1\n",
       "43.0      1\n",
       "19.0      1\n",
       "26.0      1\n",
       "25.0      1\n",
       "29.0      1\n",
       "27.0      1\n",
       "24.0      1\n",
       "Name: count, dtype: int64"
      ]
     },
     "execution_count": 18,
     "metadata": {},
     "output_type": "execute_result"
    }
   ],
   "source": [
    "dat['emdat_ndis'].value_counts()"
   ]
  },
  {
   "cell_type": "markdown",
   "metadata": {
    "slideshow": {
     "slide_type": "slide"
    }
   },
   "source": [
    "## Statistics\n",
    "\n",
    "**Your turn**: Try with the `nimby` dataset: Check the frequency of wind turbines."
   ]
  },
  {
   "cell_type": "code",
   "execution_count": null,
   "metadata": {},
   "outputs": [],
   "source": [
    "# Your answers here"
   ]
  },
  {
   "cell_type": "markdown",
   "metadata": {
    "slideshow": {
     "slide_type": "slide"
    }
   },
   "source": [
    "### Detecting missing data\n",
    "\n",
    "We can also detect missing data using the function:\n",
    "\n",
    "```\n",
    "dat.isna()\n",
    "```\n",
    "\n",
    "And if we want, count the missing data by variable:\n",
    "\n",
    "```\n",
    "dat.isna().sum()\n",
    "```\n",
    "\n",
    "Ultimately, to remove the missing we should:\n",
    "\n",
    "```\n",
    "dat.dropna()\n",
    "```\n",
    "\n",
    "Or we can fill the missing with a custom value (proceed with caution here!)\n",
    "\n",
    "```\n",
    "dat.fillna(0)\n",
    "```"
   ]
  },
  {
   "cell_type": "code",
   "execution_count": null,
   "metadata": {
    "slideshow": {
     "slide_type": "slide"
    }
   },
   "outputs": [],
   "source": [
    "dat.isna()"
   ]
  },
  {
   "cell_type": "code",
   "execution_count": null,
   "metadata": {
    "slideshow": {
     "slide_type": "slide"
    }
   },
   "outputs": [],
   "source": [
    "dat"
   ]
  },
  {
   "cell_type": "code",
   "execution_count": null,
   "metadata": {
    "slideshow": {
     "slide_type": "slide"
    }
   },
   "outputs": [],
   "source": [
    "dat.isna().sum()"
   ]
  },
  {
   "cell_type": "markdown",
   "metadata": {},
   "source": [
    "## Plots\n",
    "\n",
    "Now, let's create some plots!\n",
    "\n",
    "The library to create plots is the `matplotlib`. We can import this library easily in python:\n",
    "\n",
    "```\n",
    "from matplotlib import pyplot as plt\n",
    "```"
   ]
  },
  {
   "cell_type": "code",
   "execution_count": null,
   "metadata": {},
   "outputs": [],
   "source": [
    "# My code here\n",
    "from matplotlib import pyplot as plt"
   ]
  },
  {
   "cell_type": "code",
   "execution_count": null,
   "metadata": {},
   "outputs": [],
   "source": [
    "dat.head()"
   ]
  },
  {
   "cell_type": "markdown",
   "metadata": {
    "slideshow": {
     "slide_type": "slide"
    }
   },
   "source": [
    "### Histogram\n",
    "\n",
    "We can make a simple histogram using the function `.hist()`:\n",
    "\n",
    "```\n",
    "dat['variable'].hist()\n",
    "plt.show()\n",
    "```\n",
    "\n",
    "And if we want overlapping histograms by a category:\n",
    "\n",
    "```\n",
    "dat[dat['vcat'] == 'v1']['variable'].hist()\n",
    "dat[dat['vcat'] == 'v2']['variable'].hist()\n",
    "plt.legend([\"v1\", \"v2\"])\n",
    "plt.show()\n",
    "```\n",
    "\n",
    "Let's try?"
   ]
  },
  {
   "cell_type": "code",
   "execution_count": null,
   "metadata": {
    "slideshow": {
     "slide_type": "slide"
    }
   },
   "outputs": [],
   "source": [
    "# My code here\n",
    "dat.cckp_rain.hist()"
   ]
  },
  {
   "cell_type": "code",
   "execution_count": null,
   "metadata": {
    "slideshow": {
     "slide_type": "slide"
    }
   },
   "outputs": [],
   "source": [
    "dat.cckp_temp.hist()"
   ]
  },
  {
   "cell_type": "markdown",
   "metadata": {
    "slideshow": {
     "slide_type": "slide"
    }
   },
   "source": [
    "## Univariate x (multi/bi)variate statistics\n",
    "\n",
    "So far, we have studied only univariate stats: Stats about a single variable.\n",
    "\n",
    "But our main interest is to understand relationships between variables.\n",
    "\n",
    "To that end, we need to study combinations of variables, and how one variable affects the other.\n",
    "\n",
    "Next class, we will study techniques for multivariate exploratory data analysis."
   ]
  },
  {
   "cell_type": "markdown",
   "metadata": {
    "slideshow": {
     "slide_type": "slide"
    }
   },
   "source": [
    "## Great work!"
   ]
  }
 ],
 "metadata": {
  "celltoolbar": "Slideshow",
  "kernelspec": {
   "display_name": "Python 3 (ipykernel)",
   "language": "python",
   "name": "python3"
  },
  "language_info": {
   "codemirror_mode": {
    "name": "ipython",
    "version": 3
   },
   "file_extension": ".py",
   "mimetype": "text/x-python",
   "name": "python",
   "nbconvert_exporter": "python",
   "pygments_lexer": "ipython3",
   "version": "3.9.5"
  }
 },
 "nbformat": 4,
 "nbformat_minor": 4
}
