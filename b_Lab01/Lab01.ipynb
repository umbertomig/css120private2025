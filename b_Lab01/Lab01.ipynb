{
 "cells": [
  {
   "cell_type": "markdown",
   "id": "4a45aab6",
   "metadata": {
    "nbgrader": {
     "grade": false,
     "grade_id": "intro-cell",
     "locked": true,
     "schema_version": 3,
     "solution": false,
     "task": false
    }
   },
   "source": [
    "# Lab 01: CSS 120\n",
    "\n",
    "In this self-paced lab, you'll get hands-on practice with the following **concepts**:\n",
    "\n",
    "- Open file\n",
    "- Perform Exploratory Data Analysis\n",
    "\n",
    "### Note on hidden tests\n",
    "\n",
    "Some of the questions in this lab will have **hidden tests**. This means that in addition to the `assert` statements you see in the code, there are *hidden* tests. The point is to check whether your code **generalizes** to other cases.\n",
    "\n",
    "The lab will notify you when/where there is a hidden test, even if you can't see it.\n",
    "\n",
    "### Motivation\n",
    "\n",
    "One issue with climate change mitigation policies is that people prefer them but not close to their homes. For instance, imagine that SDGE intends to put a large solar farm close to your place. Imagine furthermore that the mountain you love to hike will have a solar farm. It seems something not very cool indeed.\n",
    "\n",
    "In this Lab we are going to investigate a dataset of wind turbine proposals and government party vote share in Canada."
   ]
  },
  {
   "cell_type": "markdown",
   "id": "ceac587b",
   "metadata": {
    "nbgrader": {
     "grade": false,
     "grade_id": "q1-cell",
     "locked": true,
     "schema_version": 3,
     "solution": false,
     "task": false
    }
   },
   "source": [
    "## Question 01\n",
    "\n",
    "Load pandas and numpy using their common aliases."
   ]
  },
  {
   "cell_type": "code",
   "execution_count": 1,
   "id": "33bf9b35",
   "metadata": {
    "nbgrader": {
     "grade": false,
     "grade_id": "cell-d39a0941248e0e9c",
     "locked": false,
     "schema_version": 3,
     "solution": true,
     "task": false
    }
   },
   "outputs": [],
   "source": [
    "### BEGIN SOLUTION\n",
    "import pandas as pd\n",
    "import numpy as np\n",
    "### END SOLUTION"
   ]
  },
  {
   "cell_type": "code",
   "execution_count": 2,
   "id": "539694b7",
   "metadata": {
    "nbgrader": {
     "grade": true,
     "grade_id": "cell-33daa3a69d2b124b",
     "locked": true,
     "points": 1,
     "schema_version": 3,
     "solution": false,
     "task": false
    }
   },
   "outputs": [],
   "source": [
    "assert pd and np"
   ]
  },
  {
   "cell_type": "markdown",
   "id": "d9c0037e",
   "metadata": {
    "nbgrader": {
     "grade": false,
     "grade_id": "q02-cell",
     "locked": true,
     "schema_version": 3,
     "solution": false,
     "task": false
    }
   },
   "source": [
    "## Question 02\n",
    "\n",
    "The dataset is in <https://raw.githubusercontent.com/umbertomig/CSS120/main/stokes_electoral_2015.csv>. Load it on pandas, saving it as `dat`."
   ]
  },
  {
   "cell_type": "code",
   "execution_count": 3,
   "id": "bdd125e2",
   "metadata": {
    "nbgrader": {
     "grade": false,
     "grade_id": "cell-a6ac96a88373be65",
     "locked": false,
     "schema_version": 3,
     "solution": true,
     "task": false
    }
   },
   "outputs": [],
   "source": [
    "### BEGIN SOLUTION\n",
    "dat = pd.read_csv(\"https://raw.githubusercontent.com/umbertomig/CSS120/main/stokes_electoral_2015.csv\")\n",
    "### END SOLUTION"
   ]
  },
  {
   "cell_type": "code",
   "execution_count": 4,
   "id": "3c0b14e9",
   "metadata": {
    "nbgrader": {
     "grade": true,
     "grade_id": "cell-46c1fb7f4e9f0a8d",
     "locked": true,
     "points": 1,
     "schema_version": 3,
     "solution": false,
     "task": false
    }
   },
   "outputs": [],
   "source": [
    "assert dat.shape[0] == 1500 and type(dat) == pd.DataFrame"
   ]
  },
  {
   "cell_type": "markdown",
   "id": "19f16a5b",
   "metadata": {
    "nbgrader": {
     "grade": false,
     "grade_id": "q03-cell",
     "locked": true,
     "schema_version": 3,
     "solution": false,
     "task": false
    }
   },
   "source": [
    "## Question 03\n",
    "\n",
    "What is the average vote share of the Liberal Party (the ruling party at the time)?\n",
    "\n",
    "1. Save the results as `avg_libvs`.\n",
    "2. The `perc_lib` variable holds this information."
   ]
  },
  {
   "cell_type": "code",
   "execution_count": 5,
   "id": "6cfcfec9",
   "metadata": {
    "nbgrader": {
     "grade": false,
     "grade_id": "cell-58e34fa47ac352c0",
     "locked": true,
     "schema_version": 3,
     "solution": false,
     "task": false
    }
   },
   "outputs": [],
   "source": [
    "avg_libvs = ..."
   ]
  },
  {
   "cell_type": "code",
   "execution_count": 6,
   "id": "b521c972",
   "metadata": {
    "nbgrader": {
     "grade": false,
     "grade_id": "cell-a6926ce66023eff4",
     "locked": false,
     "schema_version": 3,
     "solution": true,
     "task": false
    }
   },
   "outputs": [],
   "source": [
    "### BEGIN SOLUTION\n",
    "avg_libvs = dat.perc_lib.mean()\n",
    "### END SOLUTION"
   ]
  },
  {
   "cell_type": "code",
   "execution_count": 7,
   "id": "90ad9fa0",
   "metadata": {
    "nbgrader": {
     "grade": true,
     "grade_id": "cell-337a7390947f3aa5",
     "locked": true,
     "points": 1,
     "schema_version": 3,
     "solution": false,
     "task": false
    }
   },
   "outputs": [],
   "source": [
    "assert float(str(avg_libvs)[:4]) < 1/3 and float(str(avg_libvs)[:5]) > 1/3"
   ]
  },
  {
   "cell_type": "markdown",
   "id": "d0519a85",
   "metadata": {
    "nbgrader": {
     "grade": false,
     "grade_id": "q04-cell",
     "locked": true,
     "schema_version": 3,
     "solution": false,
     "task": false
    }
   },
   "source": [
    "## Question 04\n",
    "\n",
    "How many turbine projects were proposed?\n",
    "\n",
    "1. Save the results as `nprojs`.\n",
    "2. The `propturbine` variable holds this information."
   ]
  },
  {
   "cell_type": "code",
   "execution_count": 8,
   "id": "1ae29011",
   "metadata": {
    "nbgrader": {
     "grade": false,
     "grade_id": "cell-14a4033de48a2378",
     "locked": true,
     "schema_version": 3,
     "solution": false,
     "task": false
    }
   },
   "outputs": [],
   "source": [
    "nprojs = ..."
   ]
  },
  {
   "cell_type": "code",
   "execution_count": 9,
   "id": "b675c6c2",
   "metadata": {
    "nbgrader": {
     "grade": false,
     "grade_id": "cell-660c23dedc0a904b",
     "locked": false,
     "schema_version": 3,
     "solution": true,
     "task": false
    }
   },
   "outputs": [],
   "source": [
    "### BEGIN SOLUTION\n",
    "nprojs = dat.propturbine.sum()\n",
    "### END SOLUTION"
   ]
  },
  {
   "cell_type": "code",
   "execution_count": 10,
   "id": "ad3ac83f",
   "metadata": {
    "nbgrader": {
     "grade": true,
     "grade_id": "cell-21bdfd0159d9c9ff",
     "locked": true,
     "points": 1,
     "schema_version": 3,
     "solution": false,
     "task": false
    }
   },
   "outputs": [],
   "source": [
    "assert nprojs % 42 == nprojs // 42"
   ]
  },
  {
   "cell_type": "markdown",
   "id": "e903687c",
   "metadata": {
    "nbgrader": {
     "grade": false,
     "grade_id": "q05-cell",
     "locked": true,
     "schema_version": 3,
     "solution": false,
     "task": false
    }
   },
   "source": [
    "## Question 05\n",
    "\n",
    "How many projects were proposed in 2003?\n",
    "\n",
    "1. Save the results as `nprojs2003`.\n",
    "2. The `propturbine` variable holds this information."
   ]
  },
  {
   "cell_type": "code",
   "execution_count": 11,
   "id": "5b2285dc",
   "metadata": {
    "nbgrader": {
     "grade": false,
     "grade_id": "cell-745dd2d552aedbfb",
     "locked": true,
     "schema_version": 3,
     "solution": false,
     "task": false
    }
   },
   "outputs": [],
   "source": [
    "nprojs2003 = ..."
   ]
  },
  {
   "cell_type": "code",
   "execution_count": 12,
   "id": "35810c2e",
   "metadata": {
    "nbgrader": {
     "grade": false,
     "grade_id": "cell-40c324465401933f",
     "locked": false,
     "schema_version": 3,
     "solution": true,
     "task": false
    }
   },
   "outputs": [],
   "source": [
    "### BEGIN SOLUTION\n",
    "nprojs2003 = dat.loc[dat.elecyear == 2003].propturbine.sum()\n",
    "### END SOLUTION"
   ]
  },
  {
   "cell_type": "code",
   "execution_count": 13,
   "id": "77ede7cc",
   "metadata": {
    "nbgrader": {
     "grade": true,
     "grade_id": "cell-394b37fc7f1d8a22",
     "locked": true,
     "points": 1,
     "schema_version": 3,
     "solution": false,
     "task": false
    }
   },
   "outputs": [],
   "source": [
    "assert not nprojs2003 % 2"
   ]
  },
  {
   "cell_type": "markdown",
   "id": "928fad9f",
   "metadata": {
    "nbgrader": {
     "grade": false,
     "grade_id": "q06-cell",
     "locked": true,
     "schema_version": 3,
     "solution": false,
     "task": false
    }
   },
   "source": [
    "## Question 06\n",
    "\n",
    "How many projects were proposed in 2007?\n",
    "\n",
    "1. Save the results as `nprojs2007`.\n",
    "2. The `propturbine` variable holds this information."
   ]
  },
  {
   "cell_type": "code",
   "execution_count": 14,
   "id": "8f7eb796",
   "metadata": {
    "nbgrader": {
     "grade": false,
     "grade_id": "cell-a66d95beb8fb4a27",
     "locked": true,
     "schema_version": 3,
     "solution": false,
     "task": false
    }
   },
   "outputs": [],
   "source": [
    "nprojs2007 = ..."
   ]
  },
  {
   "cell_type": "code",
   "execution_count": 15,
   "id": "e70450dc",
   "metadata": {
    "nbgrader": {
     "grade": false,
     "grade_id": "cell-0d037aa77e24b657",
     "locked": false,
     "schema_version": 3,
     "solution": true,
     "task": false
    }
   },
   "outputs": [],
   "source": [
    "### BEGIN SOLUTION\n",
    "nprojs2007 = dat.loc[dat.elecyear == 2007].propturbine.sum()\n",
    "### END SOLUTION"
   ]
  },
  {
   "cell_type": "code",
   "execution_count": 16,
   "id": "d8cce4de",
   "metadata": {
    "nbgrader": {
     "grade": true,
     "grade_id": "cell-28d2b21695542522",
     "locked": true,
     "points": 1,
     "schema_version": 3,
     "solution": false,
     "task": false
    }
   },
   "outputs": [],
   "source": [
    "assert (nprojs2007 % 7) / (nprojs2007 // 3) <= 4/3"
   ]
  },
  {
   "cell_type": "markdown",
   "id": "8ef6ad15",
   "metadata": {
    "nbgrader": {
     "grade": false,
     "grade_id": "q07-cell",
     "locked": true,
     "schema_version": 3,
     "solution": false,
     "task": false
    }
   },
   "source": [
    "## Question 07\n",
    "\n",
    "How many projects were proposed in 2011?\n",
    "\n",
    "1. Save the results as `nprojs2011`.\n",
    "2. The `propturbine` variable holds this information."
   ]
  },
  {
   "cell_type": "code",
   "execution_count": 17,
   "id": "85d050d7",
   "metadata": {
    "nbgrader": {
     "grade": false,
     "grade_id": "cell-66b91c33d64347ea",
     "locked": true,
     "schema_version": 3,
     "solution": false,
     "task": false
    }
   },
   "outputs": [],
   "source": [
    "nprojs2011 = ..."
   ]
  },
  {
   "cell_type": "code",
   "execution_count": 18,
   "id": "a9eedd15",
   "metadata": {
    "nbgrader": {
     "grade": false,
     "grade_id": "cell-08b37e4fab67f12b",
     "locked": false,
     "schema_version": 3,
     "solution": true,
     "task": false
    }
   },
   "outputs": [],
   "source": [
    "### BEGIN SOLUTION\n",
    "nprojs2011 = dat.loc[dat.elecyear == 2011].propturbine.sum()\n",
    "### END SOLUTION"
   ]
  },
  {
   "cell_type": "code",
   "execution_count": 19,
   "id": "13e048f6",
   "metadata": {
    "nbgrader": {
     "grade": true,
     "grade_id": "cell-1509676154845be9",
     "locked": true,
     "points": 1,
     "schema_version": 3,
     "solution": false,
     "task": false
    }
   },
   "outputs": [],
   "source": [
    "assert not nprojs2011 % 2 and nprojs2011 > nprojs2007"
   ]
  },
  {
   "cell_type": "markdown",
   "id": "02d5a796",
   "metadata": {
    "nbgrader": {
     "grade": false,
     "grade_id": "q08-cell",
     "locked": true,
     "schema_version": 3,
     "solution": false,
     "task": false
    }
   },
   "source": [
    "## Question 08\n",
    "\n",
    "What was the vote share in the places with proposals?\n",
    "\n",
    "1. Save the results as `vs_prop`.\n",
    "2. The `propturbine` and `perc_lib` variables hold these informations."
   ]
  },
  {
   "cell_type": "code",
   "execution_count": 20,
   "id": "9d09b97a",
   "metadata": {},
   "outputs": [],
   "source": [
    "vs_prop = ..."
   ]
  },
  {
   "cell_type": "code",
   "execution_count": 21,
   "id": "b0a1498d",
   "metadata": {
    "nbgrader": {
     "grade": false,
     "grade_id": "cell-910302ae9c152cc4",
     "locked": false,
     "schema_version": 3,
     "solution": true,
     "task": false
    }
   },
   "outputs": [],
   "source": [
    "### BEGIN SOLUTION\n",
    "vs_prop = dat.loc[dat.propturbine].perc_lib.mean()\n",
    "### END SOLUTION"
   ]
  },
  {
   "cell_type": "code",
   "execution_count": 22,
   "id": "bca4dd89",
   "metadata": {
    "nbgrader": {
     "grade": true,
     "grade_id": "cell-6182a271aa05f41a",
     "locked": true,
     "points": 1,
     "schema_version": 3,
     "solution": false,
     "task": false
    }
   },
   "outputs": [],
   "source": [
    "assert vs_prop / avg_libvs < 1"
   ]
  },
  {
   "cell_type": "markdown",
   "id": "63ac1310",
   "metadata": {
    "nbgrader": {
     "grade": false,
     "grade_id": "q09-cell",
     "locked": true,
     "schema_version": 3,
     "solution": false,
     "task": false
    }
   },
   "source": [
    "## Question 09\n",
    "\n",
    "We may think that places with wind turbine had a lower vote share in the future because of the wind turbines. However, it could be that the government placed the wind turbines in places where voters disliked the government. Is that true?\n",
    "\n",
    "To answer that, look the vote share in 2003 at places that were assigned wind turbines in the future versus places that were not assigned wind turbines.\n",
    "\n",
    "1. Save the results as `mean_diff_vshare_before`.\n",
    "2. The `propturbine`, `elecyear`, `precinct`, and `perc_lib` variables hold these informations."
   ]
  },
  {
   "cell_type": "code",
   "execution_count": 23,
   "id": "3591da1b",
   "metadata": {
    "nbgrader": {
     "grade": false,
     "grade_id": "cell-8193adab729fe012",
     "locked": true,
     "schema_version": 3,
     "solution": false,
     "task": false
    }
   },
   "outputs": [],
   "source": [
    "mean_diff_vshare_before = ..."
   ]
  },
  {
   "cell_type": "code",
   "execution_count": 24,
   "id": "52ae8849",
   "metadata": {
    "nbgrader": {
     "grade": false,
     "grade_id": "cell-4252e4d8a4150382",
     "locked": false,
     "schema_version": 3,
     "solution": true,
     "task": false
    }
   },
   "outputs": [],
   "source": [
    "### BEGIN SOLUTION\n",
    "mean_diff_vshare_before = dat.loc[(dat.precinct.isin(dat.loc[dat.propturbine == 1].precinct)) & (dat.elecyear == 2003)].perc_lib.mean() - dat.loc[(dat.precinct.isin(dat.loc[dat.propturbine == 0].precinct)) & (dat.elecyear == 2003)].perc_lib.mean()\n",
    "### END SOLUTION"
   ]
  },
  {
   "cell_type": "code",
   "execution_count": 25,
   "id": "ba8db1b3",
   "metadata": {
    "nbgrader": {
     "grade": true,
     "grade_id": "cell-e5dc50d00afbd4d0",
     "locked": true,
     "points": 1,
     "schema_version": 3,
     "solution": false,
     "task": false
    }
   },
   "outputs": [],
   "source": [
    "assert abs(mean_diff_vshare_before) > 1/29 and abs(mean_diff_vshare_before) < 1/28"
   ]
  },
  {
   "cell_type": "markdown",
   "id": "faffa2cf",
   "metadata": {
    "nbgrader": {
     "grade": false,
     "grade_id": "q10-cell",
     "locked": true,
     "schema_version": 3,
     "solution": false,
     "task": false
    }
   },
   "source": [
    "## Question 10\n",
    "\n",
    "True or False:\n",
    "\n",
    "1. The vote share in places with turbine proposals is smaller than the overall voteshare (0.25pt)\n",
    "1. There were more turbine projects in 2003 than in 2007 (0.25pt)\n",
    "1. There are more turbine projects in 2007 than in 2011 (0.25pt)\n",
    "1. Looking at 2003, vote shares, places with turbine proposals later had an average vote share higher thanplaces without turbine proposals (0.25pt)\n",
    "\n",
    "Hint: To answer, make `q10_i = True` or `q10_i = False`"
   ]
  },
  {
   "cell_type": "code",
   "execution_count": 26,
   "id": "666f1142",
   "metadata": {},
   "outputs": [],
   "source": [
    "q10_1 = ...\n",
    "q10_2 = ...\n",
    "q10_3 = ...\n",
    "q10_4 = ..."
   ]
  },
  {
   "cell_type": "code",
   "execution_count": 27,
   "id": "2ccc9ec8",
   "metadata": {
    "nbgrader": {
     "grade": false,
     "grade_id": "cell-c2285ae7f259b54c",
     "locked": false,
     "schema_version": 3,
     "solution": true,
     "task": false
    }
   },
   "outputs": [],
   "source": [
    "### BEGIN SOLUTION\n",
    "q10_1 = True\n",
    "q10_2 = False\n",
    "q10_3 = False\n",
    "q10_4 = True\n",
    "### END SOLUTION"
   ]
  },
  {
   "cell_type": "code",
   "execution_count": 28,
   "id": "a42fb46b",
   "metadata": {
    "nbgrader": {
     "grade": true,
     "grade_id": "cell-21d297f13fd71d87",
     "locked": true,
     "points": 0.25,
     "schema_version": 3,
     "solution": false,
     "task": false
    }
   },
   "outputs": [],
   "source": [
    "assert q10_1 or q10_2"
   ]
  },
  {
   "cell_type": "code",
   "execution_count": 29,
   "id": "dad812fa",
   "metadata": {
    "nbgrader": {
     "grade": true,
     "grade_id": "cell-bdbf316f96e28882",
     "locked": true,
     "points": 0.25,
     "schema_version": 3,
     "solution": false,
     "task": false
    }
   },
   "outputs": [],
   "source": [
    "assert q10_3 or q10_4"
   ]
  },
  {
   "cell_type": "code",
   "execution_count": 30,
   "id": "e4c765cc",
   "metadata": {
    "nbgrader": {
     "grade": true,
     "grade_id": "cell-55ebc2ba5cbecf8e",
     "locked": true,
     "points": 0.25,
     "schema_version": 3,
     "solution": false,
     "task": false
    }
   },
   "outputs": [],
   "source": [
    "assert q10_1 == q10_4 or q10_2 == q10_3"
   ]
  },
  {
   "cell_type": "code",
   "execution_count": 31,
   "id": "b33060fe",
   "metadata": {
    "nbgrader": {
     "grade": true,
     "grade_id": "cell-27154033592c437f",
     "locked": true,
     "points": 0.25,
     "schema_version": 3,
     "solution": false,
     "task": false
    }
   },
   "outputs": [],
   "source": [
    "assert q10_1 + q10_2 == q10_4 + q10_3"
   ]
  },
  {
   "cell_type": "markdown",
   "id": "ad0226c2",
   "metadata": {
    "nbgrader": {
     "grade": false,
     "grade_id": "cell-d742905c25ffa28b",
     "locked": true,
     "schema_version": 3,
     "solution": false,
     "task": false
    }
   },
   "source": [
    "### Great work!"
   ]
  }
 ],
 "metadata": {
  "celltoolbar": "Create Assignment",
  "kernelspec": {
   "display_name": "Python 3 (ipykernel)",
   "language": "python",
   "name": "python3"
  },
  "language_info": {
   "codemirror_mode": {
    "name": "ipython",
    "version": 3
   },
   "file_extension": ".py",
   "mimetype": "text/x-python",
   "name": "python",
   "nbconvert_exporter": "python",
   "pygments_lexer": "ipython3",
   "version": "3.9.5"
  }
 },
 "nbformat": 4,
 "nbformat_minor": 5
}
