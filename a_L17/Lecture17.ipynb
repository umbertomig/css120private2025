{
 "cells": [
  {
   "cell_type": "markdown",
   "metadata": {
    "execution": {},
    "slideshow": {
     "slide_type": "slide"
    }
   },
   "source": [
    "# CSS 120: Environmental Data Science\n",
    "\n",
    "## Climate Reanalysis\n",
    "\n",
    "### Umberto Mignozzetti (UCSD)\n",
    "\n",
    "(Based on Project Pythia and ClimateMatch)"
   ]
  },
  {
   "cell_type": "markdown",
   "metadata": {
    "execution": {},
    "slideshow": {
     "slide_type": "slide"
    }
   },
   "source": [
    "# Today's Lecture\n",
    "\n",
    "In the previous lectures, we examined atmospheric surface temperatures. \n",
    "\n",
    "Spatial variations in surface temperature created by uneven solar radiation (e.g., between the Equator and poles), are one of the main drivers of global-scale air movement. \n",
    "\n",
    "Other processes such as the Earth's rotation, storm tracks, and surface topography can also influence global wind patterns. \n",
    "\n",
    "By the end of this lecture, you will be able to:\n",
    "\n",
    "- Describe the seasonal variations in surface winds.\n",
    "- Calculate seasonal climatologies and create global maps.\n",
    "- Compare statistics derived from these climatologies.\n",
    "\n",
    "We will load the monthly-mean surface wind fields from ERA5 over a 30-year period."
   ]
  },
  {
   "cell_type": "markdown",
   "metadata": {
    "execution": {},
    "slideshow": {
     "slide_type": "slide"
    },
    "tags": []
   },
   "source": [
    "## Packages"
   ]
  },
  {
   "cell_type": "code",
   "execution_count": null,
   "metadata": {
    "execution": {},
    "tags": [
     "colab"
    ]
   },
   "outputs": [],
   "source": [
    "# Just in case...\n",
    "\n",
    "# !pip install pythia_datasets\n",
    "# !pip install cartopy\n",
    "# !pip install geoviews\n",
    "\n",
    "# !pip install boto3 --quiet\n",
    "# !pip install intake"
   ]
  },
  {
   "cell_type": "markdown",
   "metadata": {
    "execution": {},
    "slideshow": {
     "slide_type": "slide"
    },
    "tags": []
   },
   "source": [
    "## Packages"
   ]
  },
  {
   "cell_type": "code",
   "execution_count": null,
   "metadata": {
    "execution": {}
   },
   "outputs": [],
   "source": [
    "from intake import open_catalog\n",
    "import matplotlib.pyplot as plt\n",
    "import matplotlib\n",
    "import os\n",
    "import pooch\n",
    "import tempfile\n",
    "import boto3\n",
    "import botocore\n",
    "import numpy as np\n",
    "import xarray as xr\n",
    "import warnings\n",
    "import datetime\n",
    "from cartopy import crs as ccrs, feature as cfeature\n",
    "import ipywidgets as widgets\n",
    "\n",
    "#  Suppress warnings issued by Cartopy when downloading data files\n",
    "warnings.filterwarnings(\"ignore\")\n",
    "\n",
    "# Some display customizations\n",
    "%config InlineBackend.figure_format = 'retina'\n",
    "plt.style.use(\n",
    "    \"https://raw.githubusercontent.com/ClimateMatchAcademy/course-content/main/cma.mplstyle\"\n",
    ")"
   ]
  },
  {
   "cell_type": "markdown",
   "metadata": {
    "slideshow": {
     "slide_type": "slide"
    }
   },
   "source": [
    "## Some auxiliary functions"
   ]
  },
  {
   "cell_type": "code",
   "execution_count": null,
   "metadata": {
    "cellView": "form",
    "execution": {},
    "tags": [
     "hide-input"
    ]
   },
   "outputs": [],
   "source": [
    "# Plotting Functions\n",
    "def set_projection_figure(projection=ccrs.PlateCarree(), figsize=(5, 4.5)):\n",
    "    # source:https://foundations.projectpythia.org/core/cartopy/cartopy.html\n",
    "\n",
    "    projLccNY = projection  # ccrs.LambertConformal(central_longitude=cLon, central_latitude=cLat)\n",
    "\n",
    "    fig = plt.figure(figsize=figsize)\n",
    "    ax = plt.subplot(1, 1, 1, projection=projLccNY)\n",
    "\n",
    "    format_axes(ax)\n",
    "    # ax.add_feature(cfeature.STATES)\n",
    "    # ax.add_feature(cfeature.RIVERS)\n",
    "    return fig, ax"
   ]
  },
  {
   "cell_type": "markdown",
   "metadata": {
    "slideshow": {
     "slide_type": "slide"
    }
   },
   "source": [
    "## Some auxiliary functions"
   ]
  },
  {
   "cell_type": "code",
   "execution_count": null,
   "metadata": {},
   "outputs": [],
   "source": [
    "# Plotting Functions\n",
    "def geographic_lon_to_360(lon):\n",
    "    return 360 + lon\n",
    "\n",
    "def inverted_geographic_lon_to_360(lon):\n",
    "    return lon - 180\n",
    "## Some auxiliary functions\n",
    "def cbar_label(DD):\n",
    "    return DD.attrs[\"long_name\"] + \" [\" + DD.attrs[\"units\"] + \"]\""
   ]
  },
  {
   "cell_type": "markdown",
   "metadata": {
    "slideshow": {
     "slide_type": "slide"
    }
   },
   "source": [
    "## Some auxiliary functions"
   ]
  },
  {
   "cell_type": "code",
   "execution_count": null,
   "metadata": {},
   "outputs": [],
   "source": [
    "# Plotting Functions## Some auxiliary functions\n",
    "def format_axes(ax):\n",
    "    ax.add_feature(cfeature.COASTLINE)\n",
    "    ax.add_feature(cfeature.LAKES, edgecolor=\"black\", facecolor=\"None\", alpha=0.3)\n",
    "    gl = ax.gridlines(\n",
    "        draw_labels=True, linewidth=1, color=\"black\", alpha=0.5, linestyle=\"--\"\n",
    "    )\n",
    "    gl.xlocator = matplotlib.ticker.MaxNLocator(7)\n",
    "    gl.ylocator = matplotlib.ticker.MaxNLocator(5)\n",
    "    gl.xlabels_top = False\n",
    "    gl.ylabels_left = False\n",
    "    # gl.xlines = False"
   ]
  },
  {
   "cell_type": "markdown",
   "metadata": {
    "slideshow": {
     "slide_type": "slide"
    }
   },
   "source": [
    "## Some auxiliary functions"
   ]
  },
  {
   "cell_type": "code",
   "execution_count": null,
   "metadata": {
    "cellView": "form",
    "execution": {},
    "tags": [
     "hide-input"
    ]
   },
   "outputs": [],
   "source": [
    "# Helper functions\n",
    "def pooch_load(filelocation = None, filename = None, processor = None):\n",
    "    shared_location = \"~/\"\n",
    "    user_temp_cache = tempfile.gettempdir()\n",
    "\n",
    "    if os.path.exists(os.path.join(shared_location, filename)):\n",
    "        file = os.path.join(shared_location, filename)\n",
    "    else:\n",
    "        file = pooch.retrieve(\n",
    "            filelocation,\n",
    "            known_hash=None,\n",
    "            fname=os.path.join(user_temp_cache, filename),\n",
    "            processor=processor,\n",
    "        )\n",
    "\n",
    "    return file"
   ]
  },
  {
   "cell_type": "markdown",
   "metadata": {
    "execution": {},
    "slideshow": {
     "slide_type": "slide"
    }
   },
   "source": [
    "# Surface Winds\n",
    "\n",
    "The large-scale atmospheric circulation significantly influences the climate we experience at different latitudes. \n",
    "\n",
    "The global atmospheric circulation is often depicted as a three-cell structure, as visualized [in this figure showing the surface winds](https://commons.wikimedia.org/wiki/File:Earth_Global_Circulation_-_en.svg):\n",
    "\n",
    "\n",
    "This schematic of atmospheric circulation cells reveal meridional (north-south) and zonal (east-west) components of the large-scale surface winds. \n",
    "\n",
    "Let's see if you are able to detect these large-scale patterns in reanalysis data!\n",
    "For this you will load ERA5 wind data from [Pangeo catalog](https://pangeo.io/catalog.html)"
   ]
  },
  {
   "cell_type": "markdown",
   "metadata": {
    "slideshow": {
     "slide_type": "slide"
    }
   },
   "source": [
    "# Surface Winds\n",
    "\n",
    "![Earth Global Circulation - en.svg](https://upload.wikimedia.org/wikipedia/commons/thumb/9/9c/Earth_Global_Circulation_-_en.svg/740px-Earth_Global_Circulation_-_en.svg.png?20190829153037)."
   ]
  },
  {
   "cell_type": "markdown",
   "metadata": {
    "execution": {},
    "slideshow": {
     "slide_type": "slide"
    }
   },
   "source": [
    "## Annual Mean Wind Speed\n",
    "\n",
    "You should start investigating this data by examining the global surface winds.\n",
    "\n",
    "These winds are represented as vectors, consisting of a zonal component denoted as `u10` and a meridional component denoted as `v10`. \n",
    "\n",
    "The magnitude of the wind vector is given by:\n",
    "\n",
    "\\begin{align}\n",
    "||u|| = \\sqrt{u^2 + v^2}\n",
    "\\end{align}\n",
    "\n",
    "To examine long-term changes in the wind field you should visualize the zonal wind component $u$ and the meridional wind component $v$ with monthly-mean data."
   ]
  },
  {
   "cell_type": "markdown",
   "metadata": {
    "slideshow": {
     "slide_type": "slide"
    }
   },
   "source": [
    "## Annual Mean Wind Speed\n",
    "\n",
    "With the help of `xarray`, you can derive monthly means from higher-resolution data using the `xr.resample('1M').mean('time')` function.\n",
    "\n",
    "For your convenience, we have already performed this step, and you can load the data using the following instructions:\n",
    "\n",
    "- The variable `si10` represents the wind speed in this dataset.\n",
    "- To calculate the long-term mean, we selected 30 years of data ranging from 1980 to 2010.\n",
    "\n",
    "Let's grab the reanalysis data from before that we have prepocessed (noting naming convention changes):"
   ]
  },
  {
   "cell_type": "markdown",
   "metadata": {
    "slideshow": {
     "slide_type": "slide"
    }
   },
   "source": [
    "## Annual Mean Wind Speed"
   ]
  },
  {
   "cell_type": "code",
   "execution_count": null,
   "metadata": {
    "execution": {}
   },
   "outputs": [],
   "source": [
    "# note this can take a few minutes to download\n",
    "filename_era5_mm = \"ERA5_surface_winds_mm.nc\"\n",
    "url_era5_mm = \"https://osf.io/3q4vs/download\"\n",
    "\n",
    "ERA5_mm = xr.open_dataset(pooch_load(url_era5_mm, filename_era5_mm)).sel(\n",
    "    time=slice(\"2000\", \"2010\")\n",
    ")  # select the timeslice during loading\n",
    "ERA5_mm"
   ]
  },
  {
   "cell_type": "markdown",
   "metadata": {
    "execution": {},
    "slideshow": {
     "slide_type": "slide"
    }
   },
   "source": [
    "## Annual Mean Wind Speed\n",
    "\n",
    "Now take the annual mean zonal surface wind speed.\n",
    "\n",
    "To visualize this data, we will be using some *helper functions* defined in the beginning of the lecture just to set the map features and aesthetics.\n",
    "\n",
    "Please take a look at them if you are interested in seeing how they work."
   ]
  },
  {
   "cell_type": "code",
   "execution_count": null,
   "metadata": {
    "execution": {}
   },
   "outputs": [],
   "source": [
    "# take the time mean\n",
    "ERA5_ANN = ERA5_mm.mean(\"time\")"
   ]
  },
  {
   "cell_type": "markdown",
   "metadata": {
    "execution": {},
    "slideshow": {
     "slide_type": "slide"
    }
   },
   "source": [
    "## Annual Mean Wind Speed"
   ]
  },
  {
   "cell_type": "code",
   "execution_count": null,
   "metadata": {
    "execution": {},
    "tags": []
   },
   "outputs": [],
   "source": [
    "colorlevels_clim = np.arange(-10, 11, 1)\n",
    "\n",
    "var = \"u10\"\n",
    "\n",
    "fig, ax = set_projection_figure(\n",
    "    projection=ccrs.PlateCarree(), figsize=(9, 5.5)\n",
    ")\n",
    "\n",
    "ax.set_title(\"Mean \" + var, loc=\"left\")\n",
    "\n",
    "dataplot = ax.contourf(\n",
    "    ERA5_ANN.longitude,\n",
    "    ERA5_ANN.latitude,\n",
    "    ERA5_ANN[var],\n",
    "    levels=colorlevels_clim,\n",
    "    transform=ccrs.PlateCarree(),\n",
    "    cmap=plt.cm.coolwarm,\n",
    ")\n",
    "\n",
    "fig.colorbar(dataplot, orientation=\"vertical\", label=\"m/s\", shrink=0.55, pad=0.08)"
   ]
  },
  {
   "cell_type": "markdown",
   "metadata": {
    "execution": {},
    "slideshow": {
     "slide_type": "slide"
    }
   },
   "source": [
    "## Annual Mean Wind Speed\n",
    "\n",
    "In the zonal wind speed figure you created, there are two distinct wind bands between 35 to 65 degrees both north and south of the equator that blow from west to east (red, positive wind speeds). \n",
    "\n",
    "These mid-latitude wind bands are known as the *westerlies*. \n",
    "\n",
    "Additionally, you can see that winds predominantly blow from the east to the west (blue, negative wind speeds) in the tropics (less than 30° N/S), and are referred to as the *easterlies*."
   ]
  },
  {
   "cell_type": "markdown",
   "metadata": {
    "execution": {},
    "slideshow": {
     "slide_type": "slide"
    }
   },
   "source": [
    "## Annual Mean Wind Speed\n",
    "\n",
    "### Your turn\n",
    "\n",
    "Reproduce the previous figure, but modify it to plot **meridional wind** rather than **zonal wind**"
   ]
  },
  {
   "cell_type": "code",
   "execution_count": null,
   "metadata": {
    "execution": {}
   },
   "outputs": [],
   "source": [
    "var = ...\n",
    "fig, ax = set_projection_figure(projection=ccrs.PlateCarree(), figsize=(9, 5.5))\n",
    "ax.set_title(\"Mean \" + str(var), loc=\"left\")\n",
    "dataplot = ax.contourf(\n",
    "    ERA5_ANN.longitude,\n",
    "    ERA5_ANN.latitude,\n",
    "    ERA5_ANN[var],\n",
    "    levels=colorlevels_clim,\n",
    "    transform=ccrs.PlateCarree(),\n",
    "    cmap=plt.cm.coolwarm,\n",
    ")\n",
    "fig.colorbar(dataplot, orientation=\"vertical\", label=\"m/s\", shrink=0.55, pad=0.08)"
   ]
  },
  {
   "cell_type": "markdown",
   "metadata": {
    "execution": {},
    "slideshow": {
     "slide_type": "slide"
    }
   },
   "source": [
    "## Annual Mean Wind Speed\n",
    "\n",
    "There are strong southward winds in the subtropics of the Northern Hemisphere (blue, negative wind speed), and northward winds in the subtropics of the Southern Hemisphere (red, positive wind speed). \n",
    "\n",
    "The meridional winds are strongest on the western side of the continents. "
   ]
  },
  {
   "cell_type": "markdown",
   "metadata": {
    "execution": {},
    "slideshow": {
     "slide_type": "slide"
    }
   },
   "source": [
    "## Zonal-mean Wind Speed\n",
    "\n",
    "To examine the latitudinal variation in the surface winds, you can plot the zonal mean of the annual mean zonal and meridional winds:"
   ]
  },
  {
   "cell_type": "code",
   "execution_count": null,
   "metadata": {
    "execution": {}
   },
   "outputs": [],
   "source": [
    "fig, ax = plt.subplots(figsize=(9, 5.5))\n",
    "\n",
    "ERA5_ANN.mean(\"longitude\")[\"u10\"].plot(\n",
    "    label=\"zonal wind\", ax=ax\n",
    ")  # find the u10 mean value over the latitude\n",
    "\n",
    "ERA5_ANN.mean(\"longitude\")[\"v10\"].plot(\n",
    "    label=\"meridional wind\", ax=ax\n",
    ")  # find the v10 mean value over the latitude\n",
    "\n",
    "ax.legend()  # add legend\n",
    "\n",
    "ax.set_title(\"Annual mean, zonal mean winds\", loc=\"left\")  # add title\n",
    "ax.set_ylabel(\"wind speed (m/s)\")\n",
    "ax.axhline(0, color=\"black\")  # add a black line at x=0"
   ]
  },
  {
   "cell_type": "markdown",
   "metadata": {
    "execution": {},
    "slideshow": {
     "slide_type": "slide"
    }
   },
   "source": [
    "## Monthly Climatology\n",
    "\n",
    "Now, you should examine how the zonal mean winds vary throughout the seasons. \n",
    "\n",
    "Let us focus on the zonal wind component and create a special type of diagram called a Hoffmöller diagram.\n",
    "\n",
    "In this diagram, the horizontal axis represents latitude, while the vertical axis represents time.\n",
    "\n",
    "By using the Hoffmöller diagram, you can visualize how the average east-west winds change with each season."
   ]
  },
  {
   "cell_type": "markdown",
   "metadata": {
    "execution": {},
    "slideshow": {
     "slide_type": "slide"
    }
   },
   "source": [
    "## Monthly Climatology"
   ]
  },
  {
   "cell_type": "code",
   "execution_count": null,
   "metadata": {
    "execution": {}
   },
   "outputs": [],
   "source": [
    "ERA5_mm.mean(\"longitude\")[\"u10\"].groupby(\"time.month\").mean().plot()"
   ]
  },
  {
   "cell_type": "markdown",
   "metadata": {
    "execution": {},
    "slideshow": {
     "slide_type": "slide"
    }
   },
   "source": [
    "## Monthly Climatology\n",
    "\n",
    "### Your turn\n",
    "\n",
    "Extend the above analysis to create a Hoffmöller diagram of the meridional winds."
   ]
  },
  {
   "cell_type": "code",
   "execution_count": null,
   "metadata": {
    "execution": {}
   },
   "outputs": [],
   "source": [
    "ERA5_mm.mean(\"longitude\")[...].groupby(\"time.month\").mean().plot()"
   ]
  },
  {
   "cell_type": "markdown",
   "metadata": {
    "execution": {}
   },
   "source": [
    "## Monthly Climatology\n",
    "\n",
    "- The winds in the Southern Hemisphere appear to be generally stronger compared to the Northern Hemisphere.\n",
    "\n",
    "- The period between June and September shows strong meridional winds. \n",
    "    + These winds result from the seasonal variation of the Hadley cell. \n",
    "    + During the winter hemisphere in each respective hemisphere, the Hadley cell becomes much stronger, leading to the intensification of meridional winds."
   ]
  },
  {
   "cell_type": "markdown",
   "metadata": {
    "execution": {},
    "slideshow": {
     "slide_type": "slide"
    }
   },
   "source": [
    "## Monthly Climatology\n",
    "\n",
    "Now let us analyze the seasons:\n",
    "\n",
    "- We will plot the global map for DJF and JJA of the zonal wind. What do you see when you compare the mid-latitudes? (you can also plot their difference!)\n",
    "\n",
    "- And then plot trend of the zonal mean zonal wind in DJF\n",
    "\n",
    "More about this you can find in [Global Physical Climatology](https://www.atmos.washington.edu/~dennis/gpc.html), \n",
    "[The Atmospheric General Circulation](https://www.cambridge.org/us/academic/subjects/earth-and-environmental-science/atmospheric-science-and-meteorology/atmospheric-general-circulation?format=HB&isbn=9781108474245)\n",
    "or the first few chapters of this evolving draft [Physics of Earth's Climate](https://climate-dynamics.org/wp-content/uploads/2017/04/Climate_Book.pdf)"
   ]
  },
  {
   "cell_type": "code",
   "execution_count": null,
   "metadata": {
    "execution": {}
   },
   "outputs": [],
   "source": [
    "ERA5_season = ERA5_mm.groupby('time.season').mean()\n",
    "\n",
    "var='u10'\n",
    "season='DJF'\n",
    "F, ax = set_projection_figure(projection = ccrs.PlateCarree(), figsize = (9, 5.5) )\n",
    "ax.set_title('Zonal Wind DJF mean | '+ var , loc ='left')\n",
    "dataplot = ax.contourf(ERA5_season.longitude, ERA5_season.latitude, ERA5_season.sel(season=season)[var],\n",
    "                       levels = colorlevels_clim,\n",
    "                       transform=ccrs.PlateCarree(), cmap= plt.cm.coolwarm)\n",
    "_ = plt.colorbar(dataplot, orientation='vertical', label = 'm/s', shrink= 0.55 , pad = 0.08) # colorbar\n",
    "plt.show()"
   ]
  },
  {
   "cell_type": "markdown",
   "metadata": {
    "execution": {},
    "slideshow": {
     "slide_type": "slide"
    }
   },
   "source": [
    "## Monthly Climatology"
   ]
  },
  {
   "cell_type": "code",
   "execution_count": null,
   "metadata": {},
   "outputs": [],
   "source": [
    "var='u10'\n",
    "season='JJA'\n",
    "F, ax = set_projection_figure(projection = ccrs.PlateCarree(), figsize = (9, 5.5) )\n",
    "ax.set_title('Zonal Wind DJF mean | '+ var , loc ='left')\n",
    "dataplot = ax.contourf(ERA5_season.longitude, ERA5_season.latitude, ERA5_season.sel(season=season)[var],\n",
    "                       levels = colorlevels_clim,\n",
    "                       transform=ccrs.PlateCarree(), cmap= plt.cm.coolwarm)\n",
    "_ = plt.colorbar(dataplot, orientation='vertical', label = 'm/s', shrink= 0.55 , pad = 0.08) # colorbar\n",
    "plt.show()"
   ]
  },
  {
   "cell_type": "markdown",
   "metadata": {
    "execution": {},
    "slideshow": {
     "slide_type": "slide"
    }
   },
   "source": [
    "## Monthly Climatology"
   ]
  },
  {
   "cell_type": "code",
   "execution_count": null,
   "metadata": {},
   "outputs": [],
   "source": [
    "var='u10'\n",
    "pdata = ERA5_season.sel(season='DJF')[var] - ERA5_season.sel(season='JJA')[var]\n",
    "\n",
    "F, ax = set_projection_figure(projection = ccrs.PlateCarree(), figsize = (9, 5.5) )\n",
    "ax.set_title('Zonal Wind DJF mean - JJA mean | '+ var , loc ='left')\n",
    "dataplot = ax.contourf(ERA5_season.longitude, ERA5_season.latitude,pdata ,\n",
    "                       levels = colorlevels_clim,\n",
    "                       transform=ccrs.PlateCarree(), cmap= plt.cm.coolwarm)\n",
    "_ = plt.colorbar(dataplot, orientation='vertical', label = 'm/s', shrink= 0.55 , pad = 0.08) # colorbar\n",
    "plt.show()"
   ]
  },
  {
   "cell_type": "markdown",
   "metadata": {
    "execution": {},
    "slideshow": {
     "slide_type": "slide"
    }
   },
   "source": [
    "## Extra-tropical Storms\n",
    "\n",
    "In the wind speed figure, you can notice areas of strong winds over the Southern Ocean, North Pacific, and North Atlantic.\n",
    "\n",
    "These powerful winds are caused by weather systems known as extratropical storms or mid-latitude cyclones.\n",
    "\n",
    "These storms occur in the middle latitudes, between 30 and 60 degrees north or south of the equator.\n",
    "\n",
    "During winter, they are particularly strong over the Southern Ocean and the oceans in the Northern Hemisphere."
   ]
  },
  {
   "cell_type": "markdown",
   "metadata": {
    "execution": {},
    "slideshow": {
     "slide_type": "slide"
    }
   },
   "source": [
    "## Extra-tropical Storms\n",
    "\n",
    "Extratropical storms form when warm and cold air masses interact. \n",
    "\n",
    "They have a low-pressure center and produce winds that circulate counterclockwise in the Northern Hemisphere and clockwise in the Southern Hemisphere. \n",
    "\n",
    "These storms can be intense, bringing strong winds, heavy rain, snow, and sleet. \n",
    "\n",
    "They often lead to problems like flooding, power outages, and disruptions in transportation."
   ]
  },
  {
   "cell_type": "markdown",
   "metadata": {
    "execution": {},
    "slideshow": {
     "slide_type": "slide"
    }
   },
   "source": [
    "## Extra-tropical Storms\n",
    "\n",
    "The strength of these storms depends on factors such as the temperature difference between air masses, the speed of the jet stream, and the amount of moisture in the air. \n",
    "\n",
    "If you want to learn more about extratropical storms, you can refer to basic meteorology and atmospheric dynamics resources, or you can explore online sources such as the following:\n",
    "\n",
    "- Wikipedia: [Extratropical Cyclone](https://en.wikipedia.org/wiki/Extratropical_cyclone)\n",
    "- Pressbooks: [Chapter 13 - Extratropical Cyclones](http://pressbooks-dev.oer.hawaii.edu/atmo/chapter/chapter-13-extratropical-cyclones/)\n",
    "\n",
    "Although an individual storm may last only a few days and doesn't create significant ocean currents, the continuous winds and the occurrence of multiple storms over a year can influence the development of ocean currents. \n",
    "\n",
    "These currents are a response to the persistent wind patterns."
   ]
  },
  {
   "cell_type": "markdown",
   "metadata": {
    "slideshow": {
     "slide_type": "slide"
    }
   },
   "source": [
    "## Questions?"
   ]
  },
  {
   "cell_type": "markdown",
   "metadata": {
    "slideshow": {
     "slide_type": "slide"
    }
   },
   "source": [
    "## See you next class!"
   ]
  }
 ],
 "metadata": {
  "celltoolbar": "Slideshow",
  "colab": {
   "collapsed_sections": [],
   "include_colab_link": true,
   "name": "W1D2_Tutorial3",
   "provenance": [],
   "toc_visible": true
  },
  "kernel": {
   "display_name": "Python 3",
   "language": "python",
   "name": "python3"
  },
  "kernelspec": {
   "display_name": "Python 3 (ipykernel)",
   "language": "python",
   "name": "python3"
  },
  "language_info": {
   "codemirror_mode": {
    "name": "ipython",
    "version": 3
   },
   "file_extension": ".py",
   "mimetype": "text/x-python",
   "name": "python",
   "nbconvert_exporter": "python",
   "pygments_lexer": "ipython3",
   "version": "3.9.5"
  },
  "toc-autonumbering": true
 },
 "nbformat": 4,
 "nbformat_minor": 4
}
