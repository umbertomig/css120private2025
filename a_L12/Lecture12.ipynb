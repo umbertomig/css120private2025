{
 "cells": [
  {
   "cell_type": "markdown",
   "id": "852ab240",
   "metadata": {
    "execution": {},
    "slideshow": {
     "slide_type": "slide"
    }
   },
   "source": [
    "# CSS 120: Environmental Data Science\n",
    "\n",
    "## XArray Split-Apply-Combine Operations to Study Terrestrial Temperature and Rainfall\n",
    "\n",
    "### Umberto Mignozzetti (UCSD)\n",
    "\n",
    "(Based on [Climatematch Academy](https://comptools.climatematch.io/tutorials/W1D1_ClimateSystemOverview/student/W1D1_Tutorial5.html))"
   ]
  },
  {
   "cell_type": "markdown",
   "id": "e8282f87",
   "metadata": {
    "execution": {},
    "slideshow": {
     "slide_type": "slide"
    }
   },
   "source": [
    "# Packages"
   ]
  },
  {
   "cell_type": "code",
   "execution_count": null,
   "id": "dfa8af29",
   "metadata": {},
   "outputs": [],
   "source": [
    "!pip install nc-time-axis"
   ]
  },
  {
   "cell_type": "code",
   "execution_count": null,
   "id": "70f262ae",
   "metadata": {
    "execution": {}
   },
   "outputs": [],
   "source": [
    "# imports\n",
    "from datetime import timedelta\n",
    "import numpy as np\n",
    "import pandas as pd\n",
    "import xarray as xr\n",
    "from matplotlib import pyplot as plt\n",
    "from pythia_datasets import DATASETS"
   ]
  },
  {
   "cell_type": "markdown",
   "id": "0ff37248",
   "metadata": {
    "slideshow": {
     "slide_type": "slide"
    }
   },
   "source": [
    "##  Some Environmental Sciences\n",
    "\n",
    "### Terrestrial Temperature and Rainfall\n",
    "\n",
    "So far, we are averaging out our measures. This is important for understanding stability of climate processes.\n",
    "\n",
    "However, some processes are seasonal.\n",
    "\n",
    "1. **Temperature Variations**: As the Earth orbits the sun, its axial tilt causes different regions to receive varying amounts of solar radiation at different times of the year. \n",
    "    + This results in seasonal temperature changes, such as warmer summers and colder winters in temperate regions.\n",
    "\n",
    "2. **Precipitation Patterns**: Many areas experience seasonal changes in precipitation.\n",
    "    + Monsoon climates in South Asia and parts of Africa have distinct wet and dry seasons driven by wind patterns that change with the seasons.\n",
    "\n",
    "3. **Plant Phenology**: The life cycles of plants, including budding, flowering, fruiting, and shedding leaves, often follow seasonal patterns that respond to changes in temperature and daylight hours.\n",
    "\n",
    "4. **Animal Behavior**: Many animals exhibit seasonal behaviors such as migration, hibernation, and breeding, which are synchronized with environmental conditions favorable for survival or reproduction.\n",
    "\n",
    "5. **Oceanic Processes**: Seasonal changes also affect ocean currents and marine ecosystems. \n",
    "    + Seasonal wind patterns can drive upwelling processes that bring nutrients to the ocean surface, supporting high biological productivity during certain times of the year.\n",
    "\n",
    "Understanding seasonal processes is crucial for predicting and managing various aspects of human activity, including agriculture, water resource management, and preparation for weather-related disasters."
   ]
  },
  {
   "cell_type": "markdown",
   "id": "db859d9d",
   "metadata": {},
   "source": [
    "##  Some Environmental Sciences\n",
    "\n",
    "### Terrestrial Temperature and Rainfall\n",
    "\n",
    "![](https://climatereanalyzer.org/clim/animations/scycle/World_ERAI_T2_scycle.gif)"
   ]
  },
  {
   "cell_type": "markdown",
   "id": "29f32825",
   "metadata": {
    "slideshow": {
     "slide_type": "slide"
    }
   },
   "source": [
    "##  Some Environmental Sciences\n",
    "\n",
    "### Land and Sea Surface Temperature Variations\n",
    "\n",
    "Close to the equator, there is the [Intertropical Convergence Zone(ITCZ)](https://earthobservatory.nasa.gov/images/703/the-intertropical-convergence-zone), a belt of low pressure which circles the Earth near the equator where the trade winds of the Northern and Southern Hemispheres come together.\n",
    "\n",
    "**Location:** The ITCZ is not a fixed location. Its position varies seasonally, shifting north or south with the sun's zenith, which is most directly overhead at the equator during the equinoxes and moves toward the Tropic of Cancer in June and the Tropic of Capricorn in December.\n",
    "\n",
    "**Weather Patterns:** The convergence of northern and southern hemisphere trade winds leads to rising warm air that results in cloud formation and precipitation. This makes the ITCZ a major belt of rainfall, which is particularly pronounced over oceans."
   ]
  },
  {
   "cell_type": "markdown",
   "id": "4e2889e7",
   "metadata": {
    "slideshow": {
     "slide_type": "slide"
    }
   },
   "source": [
    "##  Some Environmental Sciences\n",
    "\n",
    "### Land and Sea Surface Temperature Variations\n",
    "\n",
    "![](https://upload.wikimedia.org/wikipedia/commons/b/b7/Precipitation_longterm_mean.gif)"
   ]
  },
  {
   "cell_type": "markdown",
   "id": "657a3057",
   "metadata": {
    "execution": {},
    "slideshow": {
     "slide_type": "slide"
    }
   },
   "source": [
    "## Split-Apply-Combine\n",
    "\n",
    "Simple aggregations can give useful summary of our dataset, but often we would prefer to aggregate conditionally on some coordinate labels or groups. \n",
    "\n",
    "Xarray provides the so-called `groupby` operation which enables the **split-apply-combine** workflow on Xarray DataArrays and Datasets. \n",
    "\n",
    "The split-apply-combine operation is illustrated in this figure from [Project Pythia](https://foundations.projectpythia.org/core/xarray/computation-masking.html):\n",
    "\n",
    "- The **split** step involves breaking up and grouping an xarray Dataset or DataArray depending on the value of the specified group key.\n",
    "- The **apply** step involves computing some function, usually an aggregate, transformation, or filtering, within the individual groups.\n",
    "- The **combine** step merges the results of these operations into an output xarray Dataset or DataArray.\n",
    "\n",
    "We are going to use `groupby` to remove the seasonal cycle (\"climatology\") from our dataset, which will allow us to better observe long-term trends in the data. \n",
    "\n",
    "See the [xarray `groupby` user guide](https://xarray.pydata.org/en/stable/user-guide/groupby.html) for more examples of what `groupby` can take as an input."
   ]
  },
  {
   "cell_type": "markdown",
   "id": "d427d4b9",
   "metadata": {},
   "source": [
    "## Split-Apply-Combine\n",
    "\n",
    "![](l12img01.png)"
   ]
  },
  {
   "cell_type": "markdown",
   "id": "e8b7a7aa",
   "metadata": {
    "slideshow": {
     "slide_type": "slide"
    }
   },
   "source": [
    "##  Split-Apply-Combine"
   ]
  },
  {
   "cell_type": "code",
   "execution_count": null,
   "id": "16cc3780",
   "metadata": {},
   "outputs": [],
   "source": [
    "filepath = DATASETS.fetch(\"CESM2_sst_data.nc\")\n",
    "ds = xr.open_dataset(filepath)\n",
    "ds"
   ]
  },
  {
   "cell_type": "markdown",
   "id": "f04841ae",
   "metadata": {
    "slideshow": {
     "slide_type": "slide"
    }
   },
   "source": [
    "##  Split-Apply-Combine"
   ]
  },
  {
   "cell_type": "code",
   "execution_count": null,
   "id": "d0f67499",
   "metadata": {},
   "outputs": [],
   "source": [
    "ds.tos.sel(\n",
    "    lon=310, lat=50, method=\"nearest\"\n",
    ").plot()  # time range is 2000-01-15 to 2014-12-15"
   ]
  },
  {
   "cell_type": "markdown",
   "id": "d358c3c3",
   "metadata": {
    "slideshow": {
     "slide_type": "slide"
    }
   },
   "source": [
    "##  Split-Apply-Combine\n",
    "\n",
    "### Split: Group Data By Month"
   ]
  },
  {
   "cell_type": "code",
   "execution_count": null,
   "id": "5c65a450",
   "metadata": {},
   "outputs": [],
   "source": [
    "# Or: ds.tos.groupby(\"time.month\")\n",
    "ds.tos.groupby(ds.time.dt.month)"
   ]
  },
  {
   "cell_type": "markdown",
   "id": "7d303e49",
   "metadata": {
    "slideshow": {
     "slide_type": "slide"
    }
   },
   "source": [
    "##  Split-Apply-Combine\n",
    "\n",
    "### Apply and Combine\n",
    "\n",
    "Now that we have groups defined, it’s time to “apply” a calculation to the group. These calculations can either be:\n",
    "\n",
    "- aggregation: reduces the size of the group\n",
    "- transformation: preserves the group’s full size\n",
    "\n",
    "At then end of the apply step, xarray will automatically combine the aggregated/transformed groups back into a single object. "
   ]
  },
  {
   "cell_type": "code",
   "execution_count": null,
   "id": "c045bf64",
   "metadata": {},
   "outputs": [],
   "source": [
    "tos_clim = ds.tos.groupby(\"time.month\").mean()\n",
    "tos_clim"
   ]
  },
  {
   "cell_type": "markdown",
   "id": "f71bf5ea",
   "metadata": {
    "slideshow": {
     "slide_type": "slide"
    }
   },
   "source": [
    "##  Split-Apply-Combine\n",
    "\n",
    "And after computing the stat, we can plot it:"
   ]
  },
  {
   "cell_type": "code",
   "execution_count": null,
   "id": "dc059431",
   "metadata": {},
   "outputs": [],
   "source": [
    "tos_clim.sel(lon=310, lat=50, method=\"nearest\").plot()"
   ]
  },
  {
   "cell_type": "markdown",
   "id": "d60b0159",
   "metadata": {
    "slideshow": {
     "slide_type": "slide"
    }
   },
   "source": [
    "##  Split-Apply-Combine\n",
    "\n",
    "We can now add a spatial dimension to this plot and look at the zonal mean climatology (the monthly mean SST at different latitudes):"
   ]
  },
  {
   "cell_type": "code",
   "execution_count": null,
   "id": "ff42944f",
   "metadata": {},
   "outputs": [],
   "source": [
    "tos_clim.mean(dim=\"lon\").transpose().plot.contourf(levels=12, cmap=\"turbo\")"
   ]
  },
  {
   "cell_type": "markdown",
   "id": "355ec53c",
   "metadata": {
    "slideshow": {
     "slide_type": "slide"
    }
   },
   "source": [
    "##  Split-Apply-Combine\n",
    "\n",
    "Or, we can benchmark based on a given period. In this case, the difference between January and July:"
   ]
  },
  {
   "cell_type": "code",
   "execution_count": null,
   "id": "6794b8b6",
   "metadata": {},
   "outputs": [],
   "source": [
    "(tos_clim.sel(month=1) - tos_clim.sel(month=7)).plot(size=6, robust=True)"
   ]
  },
  {
   "cell_type": "markdown",
   "id": "80b55cf2",
   "metadata": {
    "slideshow": {
     "slide_type": "slide"
    }
   },
   "source": [
    "##  Split-Apply-Combine\n",
    "\n",
    "**Your turn**: What happens if you change the reference point?"
   ]
  },
  {
   "cell_type": "code",
   "execution_count": null,
   "id": "41f72524",
   "metadata": {},
   "outputs": [],
   "source": [
    "# Your answer here"
   ]
  },
  {
   "cell_type": "markdown",
   "id": "82f52f2b",
   "metadata": {
    "slideshow": {
     "slide_type": "slide"
    }
   },
   "source": [
    "##  Questions?"
   ]
  },
  {
   "cell_type": "markdown",
   "id": "697a79a7",
   "metadata": {
    "slideshow": {
     "slide_type": "slide"
    }
   },
   "source": [
    "##  See you next class!"
   ]
  }
 ],
 "metadata": {
  "celltoolbar": "Slideshow",
  "kernelspec": {
   "display_name": "Python 3 (ipykernel)",
   "language": "python",
   "name": "python3"
  },
  "language_info": {
   "codemirror_mode": {
    "name": "ipython",
    "version": 3
   },
   "file_extension": ".py",
   "mimetype": "text/x-python",
   "name": "python",
   "nbconvert_exporter": "python",
   "pygments_lexer": "ipython3",
   "version": "3.9.5"
  }
 },
 "nbformat": 4,
 "nbformat_minor": 5
}
