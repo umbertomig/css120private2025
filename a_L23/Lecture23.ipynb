{
 "cells": [
  {
   "cell_type": "markdown",
   "metadata": {
    "execution": {},
    "slideshow": {
     "slide_type": "slide"
    }
   },
   "source": [
    "# CSS 120: Environmental Data Science\n",
    "\n",
    "## Paleoclimate\n",
    "\n",
    "### Umberto Mignozzetti (UCSD)\n",
    "\n",
    "(Based on Project Pythia and ClimateMatch)"
   ]
  },
  {
   "cell_type": "markdown",
   "metadata": {
    "execution": {},
    "slideshow": {
     "slide_type": "slide"
    }
   },
   "source": [
    "# Packages\n"
   ]
  },
  {
   "cell_type": "code",
   "execution_count": null,
   "metadata": {
    "execution": {}
   },
   "outputs": [],
   "source": [
    "# System helpers\n",
    "import os\n",
    "import sys\n",
    "from io import StringIO\n",
    "import tempfile\n",
    "import xarray as xr\n",
    "\n",
    "# Data analysis\n",
    "import matplotlib.pyplot as plt\n",
    "import pandas as pd\n",
    "import numpy as np\n",
    "import pooch\n",
    "\n",
    "# Principal Component Analysis\n",
    "from sklearn.decomposition import PCA"
   ]
  },
  {
   "cell_type": "markdown",
   "metadata": {
    "execution": {},
    "slideshow": {
     "slide_type": "slide"
    }
   },
   "source": [
    "# Packages\n"
   ]
  },
  {
   "cell_type": "code",
   "execution_count": null,
   "metadata": {},
   "outputs": [],
   "source": [
    "# Paleodata analysis\n",
    "import lipd\n",
    "import pyleoclim as pyleo\n",
    "\n",
    "# Climlab\n",
    "from climlab import constants as const\n",
    "from climlab.solar.orbital import OrbitalTable\n",
    "from climlab.solar.insolation import daily_insolation\n",
    "\n",
    "# Maps\n",
    "import cartopy, cartopy.crs as ccrs, cartopy.feature as cfeature\n",
    "import cartopy.util as cutil, cartopy.io.shapereader as shapereader"
   ]
  },
  {
   "cell_type": "markdown",
   "metadata": {
    "slideshow": {
     "slide_type": "slide"
    }
   },
   "source": [
    "##  Helper functions\n"
   ]
  },
  {
   "cell_type": "code",
   "execution_count": null,
   "metadata": {
    "cellView": "form",
    "execution": {},
    "tags": [
     "hide-input"
    ]
   },
   "outputs": [],
   "source": [
    "# Pooch Load\n",
    "def pooch_load(filelocation=None, filename=None, processor=None):\n",
    "    shared_location = \"~/\"\n",
    "    user_temp_cache = tempfile.gettempdir()\n",
    "\n",
    "    if os.path.exists(os.path.join(shared_location, filename)):\n",
    "        file = os.path.join(shared_location, filename)\n",
    "    else:\n",
    "        file = pooch.retrieve(\n",
    "            filelocation,\n",
    "            known_hash=None,\n",
    "            fname=os.path.join(user_temp_cache, filename),\n",
    "            processor=processor,\n",
    "        )\n",
    "\n",
    "    return file"
   ]
  },
  {
   "cell_type": "markdown",
   "metadata": {
    "slideshow": {
     "slide_type": "slide"
    }
   },
   "source": [
    "##  Helper functions\n"
   ]
  },
  {
   "cell_type": "code",
   "execution_count": null,
   "metadata": {
    "slideshow": {
     "slide_type": "-"
    }
   },
   "outputs": [],
   "source": [
    "# Function to convert the PAGES2K LiDP files in a pandas.DataFrame\n",
    "def lipd2df(\n",
    "    lipd_dirpath,\n",
    "    pkl_filepath=None,\n",
    "    col_str=[\n",
    "        \"paleoData_pages2kID\", \"dataSetName\", \"archiveType\", \"geo_meanElev\", \"geo_meanLat\",\n",
    "        \"geo_meanLon\", \"year\", \"yearUnits\", \"paleoData_variableName\", \"paleoData_units\",\n",
    "        \"paleoData_values\", \"paleoData_proxy\",\n",
    "    ],\n",
    "):\n",
    "    \"\"\"\n",
    "    Convert a bunch of PAGES2k LiPD files to a `pandas.DataFrame` to boost data loading.\n",
    "\n",
    "    If `pkl_filepath` isn't `None`, save the DataFrame as a pikle file.\n",
    "\n",
    "    Parameters:\n",
    "    ----------\n",
    "        lipd_dirpath: str\n",
    "          Path of the PAGES2k LiPD files\n",
    "        pkl_filepath: str or None\n",
    "          Path of the converted pickle file. Default: `None`\n",
    "        col_str: list of str\n",
    "          Name of the variables to extract from the LiPD files\n",
    "\n",
    "    Returns:\n",
    "    -------\n",
    "        df: `pandas.DataFrame`\n",
    "          Converted Pandas DataFrame\n",
    "    \"\"\"\n",
    "\n",
    "    # Save the current working directory for later use, as the LiPD utility will change it in the background\n",
    "    work_dir = os.getcwd()\n",
    "    # LiPD utility requries the absolute path\n",
    "    lipd_dirpath = os.path.abspath(lipd_dirpath)\n",
    "    # Load LiPD files\n",
    "    lipds = lipd.readLipd(lipd_dirpath)\n",
    "    # Extract timeseries from the list of LiDP objects\n",
    "    ts_list = lipd.extractTs(lipds)\n",
    "    # Recover the working directory\n",
    "    os.chdir(work_dir)\n",
    "    # Create an empty pandas.DataFrame with the number of rows to be the number of the timeseries (PAGES2k records),\n",
    "    # and the columns to be the variables we'd like to extract\n",
    "    df_tmp = pd.DataFrame(index=range(len(ts_list)), columns=col_str)\n",
    "    # Loop over the timeseries and pick those for global temperature analysis\n",
    "    i = 0\n",
    "    for ts in ts_list:\n",
    "        if (\n",
    "            \"paleoData_useInGlobalTemperatureAnalysis\" in ts.keys()\n",
    "            and ts[\"paleoData_useInGlobalTemperatureAnalysis\"] == \"TRUE\"\n",
    "        ):\n",
    "            for name in col_str:\n",
    "                try:\n",
    "                    df_tmp.loc[i, name] = ts[name]\n",
    "                except:\n",
    "                    df_tmp.loc[i, name] = np.nan\n",
    "            i += 1\n",
    "    # Drop the rows with all NaNs (those not for global temperature analysis)\n",
    "    df = df_tmp.dropna(how=\"all\")\n",
    "    # Save the dataframe to a pickle file for later use\n",
    "    if pkl_filepath:\n",
    "        save_path = os.path.abspath(pkl_filepath)\n",
    "        print(f\"Saving pickle file at: {save_path}\")\n",
    "        df.to_pickle(save_path)\n",
    "    return df"
   ]
  },
  {
   "cell_type": "markdown",
   "metadata": {
    "slideshow": {
     "slide_type": "slide"
    }
   },
   "source": [
    "##  Helper functions\n"
   ]
  },
  {
   "cell_type": "code",
   "execution_count": null,
   "metadata": {},
   "outputs": [],
   "source": [
    "class SupressOutputs(list):\n",
    "    def __enter__(self):\n",
    "        self._stdout = sys.stdout\n",
    "        sys.stdout = self._stringio = StringIO()\n",
    "        return self\n",
    "\n",
    "    def __exit__(self, *args):\n",
    "        self.extend(self._stringio.getvalue().splitlines())\n",
    "        del self._stringio  # free up some memory\n",
    "        sys.stdout = self._stdout##  Helper functions\n"
   ]
  },
  {
   "cell_type": "markdown",
   "metadata": {
    "execution": {},
    "slideshow": {
     "slide_type": "slide"
    }
   },
   "source": [
    "# Paleoclimate Models"
   ]
  },
  {
   "cell_type": "markdown",
   "metadata": {
    "execution": {},
    "slideshow": {
     "slide_type": "slide"
    }
   },
   "source": [
    "## Paleoclimate Models\n",
    "\n",
    "Another useful tool in paleoclimate is the use of climate models.  \n",
    "\n",
    "We will now explore data from the [Paleoclimate Modelling Intercomparison Project 3 (PMIP3)](https://www.nature.com/articles/nclimate1456).\n",
    "\n",
    "More specifically, we will analyze global mean surface temperature (GMST) data from  simulations for the past 1,000 years. \n",
    "\n",
    "We will also compare the PMIP3 GMST data to a proxy-based reconstruction of temperature from Lake Tanganyika in East Africa [(Tierney et al., 2010)](https://www.nature.com/articles/ngeo865). \n",
    "\n",
    "Through this proxy-model comparison, we may assess the differences and similarities between the two datasets."
   ]
  },
  {
   "cell_type": "markdown",
   "metadata": {
    "execution": {},
    "slideshow": {
     "slide_type": "slide"
    }
   },
   "source": [
    "## Load Proxy-Based Temperature Reconstructions\n",
    "\n",
    "The proxy record we'll be analyzing is a 1,000 year-long lake surface temperature reconstruction from [Tierney et al., 2010](https://https://doi.org/10.1038/ngeo865). \n",
    "\n",
    "This record is from Lake Taganyika in equatorial East Africa and is based on the [TEX86 ratio](https://en.wikipedia.org/wiki/TEX86), which is a temperature proxy derived from the distribution of the isoprenoid glycerol dialkyl glycerol tetraether (iGDGT) of archaeal membrane lipids.\n",
    "\n",
    "The organisms producing these iGDGT compounds alter the structure of the compound in response to changes in temperature, so by measuring changes in the ratio of the different compounds, we can infer past changes in temperature.   \n",
    "\n",
    "Let's start by loading the proxy data, saving it as a `Series` in Pyleoclim, and plotting a time series."
   ]
  },
  {
   "cell_type": "markdown",
   "metadata": {
    "execution": {},
    "slideshow": {
     "slide_type": "slide"
    }
   },
   "source": [
    "## Load Proxy-Based Temperature Reconstructions"
   ]
  },
  {
   "cell_type": "code",
   "execution_count": null,
   "metadata": {
    "execution": {}
   },
   "outputs": [],
   "source": [
    "filename_tang = \"tang_sst.csv\"\n",
    "url_tang = \"https://osf.io/p8tx3/download\"\n",
    "proxy_temp = pd.read_csv(pooch_load(filelocation=url_tang, filename=filename_tang))\n",
    "proxy_temp.head()"
   ]
  },
  {
   "cell_type": "markdown",
   "metadata": {
    "execution": {},
    "slideshow": {
     "slide_type": "slide"
    }
   },
   "source": [
    "## Load Proxy-Based Temperature Reconstructions"
   ]
  },
  {
   "cell_type": "code",
   "execution_count": null,
   "metadata": {
    "execution": {},
    "executionInfo": {
     "elapsed": 696,
     "status": "ok",
     "timestamp": 1681255526502,
     "user": {
      "displayName": "Brodie Pearson",
      "userId": "05269028596972519847"
     },
     "user_tz": 420
    }
   },
   "outputs": [],
   "source": [
    "proxy_t = pyleo.Series(\n",
    "    time=proxy_temp[\"Year\"],\n",
    "    value=proxy_temp[\"LST\"],\n",
    "    time_name=\"Time\",\n",
    "    time_unit=\"yrs\",\n",
    "    value_name=\"Surface Temperature\",\n",
    "    value_unit=\"ºC\",\n",
    "    label=\"Lake Tanganyika Surface Temperature\",\n",
    ")\n",
    "\n",
    "proxy_t.plot(color=\"C1\")"
   ]
  },
  {
   "cell_type": "markdown",
   "metadata": {
    "execution": {},
    "slideshow": {
     "slide_type": "slide"
    }
   },
   "source": [
    "## Your turn\n",
    "\n",
    "1. What is the overall temperature trend over the past 2,000 years? Where are the major increases or decrease in temperature? \n",
    "\n",
    "2. What could be the cause of these shifts in lake surface temperature? "
   ]
  },
  {
   "cell_type": "markdown",
   "metadata": {
    "execution": {},
    "slideshow": {
     "slide_type": "slide"
    }
   },
   "source": [
    "## Last Millenium PMIP3 GMST Data\n",
    "\n",
    "We can now load GMST anomaly data from the PMIP3 simulations for the past 1,000 years ([Braconnot et al., 2012](https://doi.org/10.1038/nclimate1456) and [PAGES 2k-PMIP3 group, 2015](https://cp.copernicus.org/articles/11/1673/2015/)).\n",
    "\n",
    "The anomalies are computed compared to the mean of the time series over the full length of temporal overlap between simulations."
   ]
  },
  {
   "cell_type": "markdown",
   "metadata": {
    "execution": {},
    "slideshow": {
     "slide_type": "slide"
    }
   },
   "source": [
    "## Last Millenium PMIP3 GMST Data"
   ]
  },
  {
   "cell_type": "code",
   "execution_count": null,
   "metadata": {
    "execution": {},
    "executionInfo": {
     "elapsed": 437,
     "status": "ok",
     "timestamp": 1681255552933,
     "user": {
      "displayName": "Brodie Pearson",
      "userId": "05269028596972519847"
     },
     "user_tz": 420
    }
   },
   "outputs": [],
   "source": [
    "# load the raw data 'PMIP3_GMST.txt'\n",
    "filename_PMIP3 = \"PMIP3_GMST.txt\"\n",
    "url_PMIP3 = \"https://osf.io/gw2m5/download\"\n",
    "df = pd.read_table(pooch_load(filelocation=url_PMIP3, filename=filename_PMIP3))\n",
    "\n",
    "# display the raw data\n",
    "df"
   ]
  },
  {
   "cell_type": "markdown",
   "metadata": {
    "execution": {},
    "slideshow": {
     "slide_type": "slide"
    }
   },
   "source": [
    "## Load Proxy-Based Temperature Reconstructions\n",
    "\n",
    "Note that the data file includes several ensemble members for [Community Earth System Model (CESM)](https://www.cesm.ucar.edu/) and [Goddard Institute for Space Studies (GISS)](https://www.giss.nasa.gov/) simulations. \n",
    "\n",
    "Ensembles are essentially groups of climate model simulations used for climate projections, or in this case, reconstructions. \n",
    "\n",
    "You will learn about this in much more detail next week, when we study Climate Modeling.\n",
    "\n",
    "For now, we can replace these with their ensemble mean series."
   ]
  },
  {
   "cell_type": "markdown",
   "metadata": {
    "execution": {},
    "slideshow": {
     "slide_type": "slide"
    }
   },
   "source": [
    "## Load Proxy-Based Temperature Reconstructions"
   ]
  },
  {
   "cell_type": "code",
   "execution_count": null,
   "metadata": {
    "execution": {}
   },
   "outputs": [],
   "source": [
    "# create a new pandas.DataFrame to store the processed data\n",
    "df_new = df.copy()\n",
    "\n",
    "# remove the data columns for CESM and GISS ensemble members\n",
    "for i in range(10):\n",
    "    df_new = df_new.drop([f\"CESM_member_{i+1}\"], axis=1)\n",
    "\n",
    "df_new = df_new.drop([\"GISS-E2-R_r1i1p127.1\"], axis=1)\n",
    "df_new = df_new.drop([\"GISS-E2-R_r1i1p127\"], axis=1)\n",
    "df_new = df_new.drop([\"GISS-E2-R_r1i1p121\"], axis=1)\n",
    "df_new.head()"
   ]
  },
  {
   "cell_type": "markdown",
   "metadata": {
    "execution": {},
    "slideshow": {
     "slide_type": "slide"
    }
   },
   "source": [
    "## Load Proxy-Based Temperature Reconstructions"
   ]
  },
  {
   "cell_type": "code",
   "execution_count": null,
   "metadata": {
    "execution": {}
   },
   "outputs": [],
   "source": [
    "# calculate the ensemble mean for CESM and GISS, and add the results into the table\n",
    "df_new[\"CESM\"] = df[\n",
    "    [\n",
    "        \"CESM_member_1\",\n",
    "        \"CESM_member_2\",\n",
    "        \"CESM_member_3\",\n",
    "        \"CESM_member_4\",\n",
    "        \"CESM_member_5\",\n",
    "        \"CESM_member_6\",\n",
    "        \"CESM_member_7\",\n",
    "        \"CESM_member_8\",\n",
    "        \"CESM_member_9\",\n",
    "        \"CESM_member_10\",\n",
    "    ]\n",
    "].mean(axis=1)\n",
    "\n",
    "df_new[\"GISS\"] = df[\n",
    "    [\n",
    "        \"GISS-E2-R_r1i1p127.1\",\n",
    "        \"GISS-E2-R_r1i1p127\",\n",
    "        \"GISS-E2-R_r1i1p121\",\n",
    "    ]\n",
    "].mean(axis=1)"
   ]
  },
  {
   "cell_type": "markdown",
   "metadata": {
    "execution": {},
    "slideshow": {
     "slide_type": "slide"
    }
   },
   "source": [
    "## Load Proxy-Based Temperature Reconstructions"
   ]
  },
  {
   "cell_type": "code",
   "execution_count": null,
   "metadata": {
    "execution": {},
    "executionInfo": {
     "elapsed": 257,
     "status": "ok",
     "timestamp": 1681255705870,
     "user": {
      "displayName": "Brodie Pearson",
      "userId": "05269028596972519847"
     },
     "user_tz": 420
    }
   },
   "outputs": [],
   "source": [
    "# display the processed data\n",
    "df_new"
   ]
  },
  {
   "cell_type": "markdown",
   "metadata": {
    "execution": {},
    "slideshow": {
     "slide_type": "slide"
    }
   },
   "source": [
    "## Load Proxy-Based Temperature Reconstructions\n",
    "\n",
    "In our new dataframe, you can now see that the ensemble members for CESM and GISS are now replaced with one ensemble mean for each model simulation.\n",
    "\n",
    "Now we can create a Pyleoclim `Series` object for each simulated GMST time series, which will allow us to easily plot the time series for each simulation and perform data analysis using various built-in tools."
   ]
  },
  {
   "cell_type": "markdown",
   "metadata": {
    "execution": {},
    "slideshow": {
     "slide_type": "slide"
    }
   },
   "source": [
    "## Load Proxy-Based Temperature Reconstructions"
   ]
  },
  {
   "cell_type": "code",
   "execution_count": null,
   "metadata": {
    "execution": {}
   },
   "outputs": [],
   "source": [
    "# store each pyleoclim.Series() object into a dictionary\n",
    "ts_dict = {}\n",
    "for name in df_new.columns[1:]:\n",
    "    ts_dict[name] = pyleo.Series(\n",
    "        time=df_new[\"Year\"].values,  # the time axis\n",
    "        value=df_new[name].values,  # the value axis\n",
    "        label=name,  # optional metadata: the nickname of the series\n",
    "        time_name=\"Time\",  # optional metadata: the name of the time axis\n",
    "        time_unit=\"yrs\",  # optional metadata: the unit of the time axis\n",
    "        value_name=\"GMST anomaly\",  # optional metadata: the name of the value axis\n",
    "        value_unit=\"ºC\",  # optional metadata: the unit of the value axis\n",
    "    )"
   ]
  },
  {
   "cell_type": "markdown",
   "metadata": {
    "execution": {},
    "slideshow": {
     "slide_type": "slide"
    }
   },
   "source": [
    "## Load Proxy-Based Temperature Reconstructions\n",
    "\n",
    "We can now plot each simulation. For example, let's plot the CCSM4 GMST anomaly:"
   ]
  },
  {
   "cell_type": "code",
   "execution_count": null,
   "metadata": {
    "execution": {},
    "executionInfo": {
     "elapsed": 616,
     "status": "ok",
     "timestamp": 1681255723006,
     "user": {
      "displayName": "Brodie Pearson",
      "userId": "05269028596972519847"
     },
     "user_tz": 420
    }
   },
   "outputs": [],
   "source": [
    "ts_dict[\"CCSM4\"].plot()"
   ]
  },
  {
   "cell_type": "markdown",
   "metadata": {
    "execution": {},
    "slideshow": {
     "slide_type": "slide"
    }
   },
   "source": [
    "## Load Proxy-Based Temperature Reconstructions\n",
    "\n",
    "But what if we wanted to plot all of the PMIP3 time series at once? \n",
    "\n",
    "We can do that using the `MultipleSeries` object in Pyleoclim, which takes a list of `Series` objects as input. \n",
    "\n",
    "To do so, we have to convert the dictionary of `Series` into a list and then create a `MultipleSeries` object."
   ]
  },
  {
   "cell_type": "code",
   "execution_count": null,
   "metadata": {
    "execution": {}
   },
   "outputs": [],
   "source": [
    "ts_list = [\n",
    "    v for k, v in ts_dict.items()\n",
    "]  # a pythonic way to convert the pyleo.Series items in the dictionary to a list\n",
    "ms_pmip = pyleo.MultipleSeries(ts_list)"
   ]
  },
  {
   "cell_type": "markdown",
   "metadata": {
    "execution": {},
    "slideshow": {
     "slide_type": "slide"
    }
   },
   "source": [
    "## Load Proxy-Based Temperature Reconstructions\n",
    "\n",
    "We can now plot all PMIP3 simulation time series at once:"
   ]
  },
  {
   "cell_type": "code",
   "execution_count": null,
   "metadata": {
    "execution": {},
    "executionInfo": {
     "elapsed": 928,
     "status": "ok",
     "timestamp": 1681255736092,
     "user": {
      "displayName": "Brodie Pearson",
      "userId": "05269028596972519847"
     },
     "user_tz": 420
    }
   },
   "outputs": [],
   "source": [
    "ms_pmip.plot(\n",
    "    lgd_kwargs={\n",
    "        \"bbox_to_anchor\": (1.25, 1),  # move the legend to the right side\n",
    "    }\n",
    ")"
   ]
  },
  {
   "cell_type": "markdown",
   "metadata": {
    "execution": {},
    "slideshow": {
     "slide_type": "slide"
    }
   },
   "source": [
    "## Your turn\n",
    "\n",
    "Note that like the paleo proxy data we have looked at, these model simulations are also referred to as reconstructions as they are attempts to recreate past climates.\n",
    "\n",
    "The reconstructed GMST anomalies from all of the PMIP3 simulations follow the same overall trend of relatively stable, long-term temperature from 800-1800 AD, followed by an increase in temperature over the past 200 years. \n",
    "\n",
    "> What do you think is driving this recent warming trend?\n",
    "\n",
    "Despite the long-term similarities, there are also noticeable differences between the GMST time series from each simulation.  "
   ]
  },
  {
   "cell_type": "markdown",
   "metadata": {
    "execution": {},
    "slideshow": {
     "slide_type": "slide"
    }
   },
   "source": [
    "## Your turn (again)\n",
    "\n",
    "1. How are the GMST anomalies from each simulation different? What could be causing these differences?\n",
    "2. How do we know which simulation is the most accurate and reliable?"
   ]
  },
  {
   "cell_type": "markdown",
   "metadata": {
    "execution": {},
    "slideshow": {
     "slide_type": "slide"
    }
   },
   "source": [
    "## Proxy-Model Comparisons\n",
    "\n",
    "Proxy-based reconstructions of climate variables in the past can provide direct measurements of temperature, precipitation, greenhouse gas concentration, etc.\n",
    "\n",
    "Comparing proxy paleoclimate records with paleoclimate model simulations can help to clarify the interpretation of the proxy record and also help to improve the ability of climate models to simulate past variations in climate.\n",
    "\n",
    "Here, we'll compare the proxy-based Lake Tanganyika surface temperature reconstruction we downloaded and plotted before, with the GMST anomaly PMIP3 simulations.\n",
    "\n",
    "But first, we need to standardize the Lake Tanganyika data since we're comparing the data to the GMST anomaly."
   ]
  },
  {
   "cell_type": "markdown",
   "metadata": {
    "execution": {},
    "slideshow": {
     "slide_type": "slide"
    }
   },
   "source": [
    "## Proxy-Model Comparisons"
   ]
  },
  {
   "cell_type": "code",
   "execution_count": null,
   "metadata": {
    "execution": {}
   },
   "outputs": [],
   "source": [
    "# standardize the proxy data\n",
    "proxy_stnd = proxy_t.standardize()"
   ]
  },
  {
   "cell_type": "markdown",
   "metadata": {
    "execution": {},
    "slideshow": {
     "slide_type": "slide"
    }
   },
   "source": [
    "## Proxy-Model Comparisons"
   ]
  },
  {
   "cell_type": "code",
   "execution_count": null,
   "metadata": {
    "execution": {},
    "executionInfo": {
     "elapsed": 1414,
     "status": "ok",
     "timestamp": 1681255872349,
     "user": {
      "displayName": "Brodie Pearson",
      "userId": "05269028596972519847"
     },
     "user_tz": 420
    }
   },
   "outputs": [],
   "source": [
    "fig, ax = ms_pmip.plot(\n",
    "    lgd_kwargs={\n",
    "        \"bbox_to_anchor\": (1.25, 1),  # move the legend to the right side\n",
    "    }\n",
    ")\n",
    "\n",
    "ax.set_ylabel(\"GMST anomaly (ºC)\")\n",
    "ax1 = ax.twinx()  # create a second axes that shares the same x-axis\n",
    "ax1.set_ylabel(\"Tanganyika Surface Temperature Anomaly (ºC)\")\n",
    "\n",
    "proxy_stnd.plot(ax=ax1, color=\"black\")\n",
    "ax.set_xlim(xmin=850, xmax=2000)\n",
    "ax.set_ylim(ymin=-4, ymax=2)\n",
    "ax1.set_ylim(ymin=-4, ymax=2)"
   ]
  },
  {
   "cell_type": "markdown",
   "metadata": {
    "execution": {},
    "slideshow": {
     "slide_type": "slide"
    }
   },
   "source": [
    "## Your turn\n",
    "\n",
    "How do the model simulated GMST and proxy-based surface temperature compare?\n",
    "\n",
    "1. Is there more variability in the proxy or model temperatures? What might be causing this?\n",
    "\n",
    "2. Are the long-term trends over the last millenium in the simulated GMST anomaly and proxy-based surface temperature record similar or different?"
   ]
  },
  {
   "cell_type": "markdown",
   "metadata": {
    "execution": {},
    "slideshow": {
     "slide_type": "slide"
    }
   },
   "source": [
    "# Paleoclimate Reanalysis Products"
   ]
  },
  {
   "cell_type": "markdown",
   "metadata": {
    "execution": {},
    "slideshow": {
     "slide_type": "slide"
    }
   },
   "source": [
    "## Paleoclimate Reanalysis Products\n",
    "\n",
    "Proxies and models both have advantages and limitations for reconstructing past changes in Earth's climate system. \n",
    "\n",
    "One approach for combining the strengths of both paleoclimate proxies and models is data assimilation. \n",
    "\n",
    "This is the same approach used before, except instead of simulations of Earth's recent past, we are using a simulation that spans many thousands of years back in time.\n",
    "\n",
    "***The results of this process are called reanalysis products.***\n",
    "\n",
    "To do that, let us look at paleoclimate reconstructions from the Last Glacial Maximum Reanalysis (LGMR) product from [Osman et al. (2021)](https://www.nature.com/articles/s41586-021-03984-4), which contains temperature for the past 24,000 years."
   ]
  },
  {
   "cell_type": "markdown",
   "metadata": {
    "execution": {},
    "slideshow": {
     "slide_type": "slide"
    }
   },
   "source": [
    "## Load the LGMR Paleoclimate Reconstruction\n",
    "\n",
    "This dataset contains a reconstruction of surface air temperature (SAT) from the product [Last Glacial Maximum Reanalysis (LGMR)](https://www.ncdc.noaa.gov/paleo/study/33112). \n",
    "\n",
    "Note that this data starts from 100 years before present and goes back in time to ~24,000 BP.\n",
    "\n",
    "The period of time from ~21,000 to 18,000 years ago is referred to as the Last Glacial Maximum (LGM).\n",
    "\n",
    "The LGM was the most recent glacial period in Earth's history. \n",
    "\n",
    "During this time, northern hemisphere ice sheets were larger, global sea level was lower, atmospheric CO<sub>2</sub> was lower, and global mean temperature was cooler."
   ]
  },
  {
   "cell_type": "markdown",
   "metadata": {
    "execution": {},
    "slideshow": {
     "slide_type": "slide"
    }
   },
   "source": [
    "## Load the LGMR Paleoclimate Reconstruction\n",
    "\n",
    "We will calculate the global mean temperature from the LGM to 100 years before present  from a paleoclimate data assimilation to asses how Earth's climate varied over the past 24,000 years.\n",
    "\n",
    "First let's download the paleoclimate data assimilation reconstruction for surface air temperature (SAT). "
   ]
  },
  {
   "cell_type": "code",
   "execution_count": null,
   "metadata": {
    "execution": {},
    "executionInfo": {
     "elapsed": 1997,
     "status": "ok",
     "timestamp": 1681256682525,
     "user": {
      "displayName": "Brodie Pearson",
      "userId": "05269028596972519847"
     },
     "user_tz": 420
    }
   },
   "outputs": [],
   "source": [
    "filename_LGMR_SAT_climo = \"LGMR_SAT_climo.nc\"\n",
    "url_LGMR_SAT_climo = \"https://www.ncei.noaa.gov/pub/data/paleo/reconstructions/osman2021/LGMR_SAT_climo.nc\"\n",
    "\n",
    "ds = xr.open_dataset(\n",
    "    pooch_load(filelocation=url_LGMR_SAT_climo, filename=filename_LGMR_SAT_climo)\n",
    ")\n",
    "ds"
   ]
  },
  {
   "cell_type": "markdown",
   "metadata": {
    "execution": {},
    "slideshow": {
     "slide_type": "slide"
    }
   },
   "source": [
    "## Plotting the Temperature Time Series\n",
    "\n",
    "Now that the data is loaded, we can plot a time series of the temperature data to assess global changes.\n",
    "\n",
    "However, the dimensions of the `sat_mean` variable are age-lat-lon, so we first need to weight the data and calculate a global mean."
   ]
  },
  {
   "cell_type": "code",
   "execution_count": null,
   "metadata": {
    "execution": {},
    "executionInfo": {
     "elapsed": 143,
     "status": "ok",
     "timestamp": 1681256741486,
     "user": {
      "displayName": "Brodie Pearson",
      "userId": "05269028596972519847"
     },
     "user_tz": 420
    }
   },
   "outputs": [],
   "source": [
    "# assign weights\n",
    "weights = np.cos(np.deg2rad(ds.lat))\n",
    "\n",
    "# calculate the global mean surface temperature\n",
    "sat_global_mean = ds.sat.weighted(weights).mean(dim=[\"lat\", \"lon\"])\n",
    "sat_global_mean"
   ]
  },
  {
   "cell_type": "markdown",
   "metadata": {
    "execution": {},
    "slideshow": {
     "slide_type": "slide"
    }
   },
   "source": [
    "## Plotting the Temperature Time Series\n",
    "\n",
    "Now that we calculated our global mean, we can plot the results as a time series to assess global changes in temperature over the past 24,000 years:"
   ]
  },
  {
   "cell_type": "code",
   "execution_count": null,
   "metadata": {
    "execution": {},
    "executionInfo": {
     "elapsed": 559,
     "status": "ok",
     "timestamp": 1681256745162,
     "user": {
      "displayName": "Brodie Pearson",
      "userId": "05269028596972519847"
     },
     "user_tz": 420
    }
   },
   "outputs": [],
   "source": [
    "# plot the global mean surface temperature since the LGM\n",
    "f, ax1 = plt.subplots(1, 1, figsize=(12, 6))\n",
    "ax1.plot(ds[\"age\"], sat_global_mean, linewidth=3)\n",
    "\n",
    "ax1.set_xlim(ds[\"age\"].max().values, ds[\"age\"].min().values)\n",
    "ax1.set_ylabel(\"Global Mean SAT for LGM ($^\\circ$C)\", fontsize=16)\n",
    "ax1.set_xlabel(\"Age (yr BP)\", fontsize=16)"
   ]
  },
  {
   "cell_type": "markdown",
   "metadata": {
    "execution": {},
    "slideshow": {
     "slide_type": "slide"
    }
   },
   "source": [
    "## Your turn:\n",
    "\n",
    "1. How has global temperature varied over the past 24,000 years?\n",
    "\n",
    "2. What climate forcings may have contributed to the increase in temperature ~17,000 years ago? "
   ]
  },
  {
   "cell_type": "markdown",
   "metadata": {
    "execution": {},
    "slideshow": {
     "slide_type": "slide"
    }
   },
   "source": [
    "## Plotting a Temperature Anomaly Map\n",
    "\n",
    "The reanalysis contains *spatial* reconstructions, so we can also make figures showing spatial temperature anomalies for different time periods (i.e., the change in temperature between two specified times).\n",
    "\n",
    "The anomaly that we'll interpret is the difference between global temperature from 18,000 to 21,000 years ago (i.e. \"LGM\") and 100 to 1,000 years ago (i.e. \"modern\")."
   ]
  },
  {
   "cell_type": "markdown",
   "metadata": {
    "execution": {},
    "slideshow": {
     "slide_type": "slide"
    }
   },
   "source": [
    "## Plotting a Temperature Anomaly Map\n",
    "\n",
    "First, we'll calculate the average temperatures for each time period."
   ]
  },
  {
   "cell_type": "code",
   "execution_count": null,
   "metadata": {
    "execution": {}
   },
   "outputs": [],
   "source": [
    "# calculate the LGM (18,000-21,000 year) mean temperature\n",
    "lgm = ds.sat.sel(age=slice(\"18000\", \"21000\"), lon=slice(0, 357.5), lat=slice(-90, 90))\n",
    "lgm_mean = lgm.mean(dim=\"age\")\n",
    "\n",
    "# calculate the \"modern\" (100-1000 year) mean temperature\n",
    "modern = ds.sat.sel(age=slice(\"100\", \"1000\"), lon=slice(0, 357.5), lat=slice(-90, 90))\n",
    "modern_mean = modern.mean(dim=\"age\")"
   ]
  },
  {
   "cell_type": "markdown",
   "metadata": {
    "execution": {},
    "slideshow": {
     "slide_type": "slide"
    }
   },
   "source": [
    "## Plotting a Temperature Anomaly Map\n",
    "\n",
    "Now we can calculate the anomaly and create a map to visualize the change in temperature from the LGM to present in different parts on Earth."
   ]
  },
  {
   "cell_type": "code",
   "execution_count": null,
   "metadata": {
    "execution": {}
   },
   "outputs": [],
   "source": [
    "sat_change = modern_mean - lgm_mean"
   ]
  },
  {
   "cell_type": "markdown",
   "metadata": {
    "execution": {},
    "slideshow": {
     "slide_type": "slide"
    }
   },
   "source": [
    "## Plotting a Temperature Anomaly Map"
   ]
  },
  {
   "cell_type": "code",
   "execution_count": null,
   "metadata": {
    "execution": {}
   },
   "outputs": [],
   "source": [
    "# make a map of changes\n",
    "fig, ax = plt.subplots(figsize=(12, 8), subplot_kw={\"projection\": ccrs.Robinson()})\n",
    "ax.set_global()\n",
    "sat_change.plot(\n",
    "    ax=ax,\n",
    "    transform=ccrs.PlateCarree(),\n",
    "    x=\"lon\",\n",
    "    y=\"lat\",\n",
    "    cmap=\"Reds\",\n",
    "    vmax=30,\n",
    "    cbar_kwargs={\"orientation\": \"horizontal\", \"label\": \"$\\Delta$SAT ($^\\circ$C)\"},\n",
    ")\n",
    "ax.coastlines()\n",
    "ax.set_title(f\"Modern - LGM SAT ($^\\circ$C)\", loc=\"center\", fontsize=16)\n",
    "ax.gridlines(color=\"k\", linewidth=1, linestyle=(0, (1, 5)))\n",
    "ax.spines[\"geo\"].set_edgecolor(\"black\")"
   ]
  },
  {
   "cell_type": "markdown",
   "metadata": {
    "execution": {},
    "slideshow": {
     "slide_type": "slide"
    }
   },
   "source": [
    "## Plotting a Temperature Anomaly Map\n",
    "\n",
    "Before we interpret this data, another useful way to visualize this data is through a plot of zonal mean temperature (the average temperature for all locations at a single latitude).\n",
    "\n",
    "Once we calculate this zonal mean, we can create a plot of LGM to present temperature anomalies versus latitude."
   ]
  },
  {
   "cell_type": "code",
   "execution_count": null,
   "metadata": {
    "execution": {}
   },
   "outputs": [],
   "source": [
    "zonal_mean = sat_change.mean(dim=\"lon\")\n",
    "latitude = ds.lat"
   ]
  },
  {
   "cell_type": "markdown",
   "metadata": {
    "execution": {},
    "slideshow": {
     "slide_type": "slide"
    }
   },
   "source": [
    "## Plotting a Temperature Anomaly Map"
   ]
  },
  {
   "cell_type": "code",
   "execution_count": null,
   "metadata": {
    "execution": {}
   },
   "outputs": [],
   "source": [
    "# Make a zonal mean figure of the changes\n",
    "fig, ax1 = plt.subplots(1, 1)\n",
    "ax1.plot(zonal_mean, latitude)\n",
    "ax1.axvline(x=0, color=\"gray\", alpha=1, linestyle=\":\", linewidth=2)\n",
    "ax1.set_ylim(-90, 90)\n",
    "ax1.set_xlabel(\"$\\Delta$T ($^\\circ$C)\")\n",
    "ax1.set_ylabel(\"Latitude ($^\\circ$)\")\n",
    "ax1.set_title(\n",
    "    f\"Zonal-mean $\\Delta$T ($^\\circ$C) changes\",  # ohad comment: same changes\n",
    "    loc=\"center\",\n",
    ")"
   ]
  },
  {
   "cell_type": "markdown",
   "metadata": {
    "execution": {},
    "slideshow": {
     "slide_type": "slide"
    }
   },
   "source": [
    "## Your turn\n",
    "\n",
    "Looking at both the map and zonal mean plot, consider the following questions: \n",
    "\n",
    "1. How does the temperature anomaly vary with latitude? \n",
    "2. What might be causing spatial differences in the temperature anomaly?"
   ]
  },
  {
   "cell_type": "markdown",
   "metadata": {
    "execution": {},
    "slideshow": {
     "slide_type": "slide"
    }
   },
   "source": [
    "## Questions?"
   ]
  },
  {
   "cell_type": "markdown",
   "metadata": {
    "execution": {},
    "slideshow": {
     "slide_type": "slide"
    }
   },
   "source": [
    "## See you in the next lecture!"
   ]
  }
 ],
 "metadata": {
  "celltoolbar": "Slideshow",
  "colab": {
   "collapsed_sections": [],
   "include_colab_link": true,
   "name": "W1D4_Tutorial1",
   "provenance": [
    {
     "file_id": "1lHuVrVtAW4fQzc0dFdlZuwY0i71KWw_t",
     "timestamp": 1677637469824
    }
   ],
   "toc_visible": true
  },
  "gpuClass": "standard",
  "kernel": {
   "display_name": "Python 3",
   "language": "python",
   "name": "python3"
  },
  "kernelspec": {
   "display_name": "Python 3 (ipykernel)",
   "language": "python",
   "name": "python3"
  },
  "language_info": {
   "codemirror_mode": {
    "name": "ipython",
    "version": 3
   },
   "file_extension": ".py",
   "mimetype": "text/x-python",
   "name": "python",
   "nbconvert_exporter": "python",
   "pygments_lexer": "ipython3",
   "version": "3.9.5"
  }
 },
 "nbformat": 4,
 "nbformat_minor": 4
}
