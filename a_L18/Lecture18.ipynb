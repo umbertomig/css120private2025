{
 "cells": [
  {
   "cell_type": "markdown",
   "metadata": {
    "execution": {},
    "slideshow": {
     "slide_type": "slide"
    },
    "tags": []
   },
   "source": [
    "# CSS 120: Environmental Data Science\n",
    "\n",
    "## Climatic Reanalysis\n",
    "\n",
    "### Umberto Mignozzetti (UCSD)\n",
    "\n",
    "(Based on Pythia and ClimateMatch)"
   ]
  },
  {
   "cell_type": "markdown",
   "metadata": {
    "execution": {},
    "slideshow": {
     "slide_type": "slide"
    }
   },
   "source": [
    "## Today's Class\n",
    "\n",
    "The ocean's motion is driven by radiation from the sun, winds, and various sources & sinks of fresh water (precipitation, rivers, melting and freezing ice).\n",
    "\n",
    "We will study two processes today:\n",
    "\n",
    "1. In the surface, winds drags on the surface of the ocean which results in ocean transport, known as Ekman transport.\n",
    "\n",
    "2. In larger scale, ocean movement driven by these density differences is known as the *thermohaline circulation*. \n",
    "    + The density of ocean water is influenced by temperature (thermo) and salinity (haline), and fluid motion occur in response to pressure gradients caused by these density variations.<br><br>\n",
    "\n",
    "\n",
    "In the next lecture, we will explore the ocean's vast heat capacity, which has a significant impact on the climate system.\n",
    "    \n",
    "We will study the [ECCO (Estimating the Circulation and Climate of the Ocean)](https://www.ecco-group.org) reanalysis data for studying these processes."
   ]
  },
  {
   "cell_type": "markdown",
   "metadata": {
    "execution": {},
    "slideshow": {
     "slide_type": "slide"
    },
    "tags": []
   },
   "source": [
    "## Packages"
   ]
  },
  {
   "cell_type": "code",
   "execution_count": null,
   "metadata": {
    "execution": {},
    "tags": [
     "colab"
    ]
   },
   "outputs": [],
   "source": [
    "# Some installs (if needed)\n",
    "\n",
    "# !pip install cmocean\n",
    "# !pip install gsw\n",
    "\n",
    "# Suppress warnings\n",
    "import warnings\n",
    "warnings.filterwarnings(\"ignore\")"
   ]
  },
  {
   "cell_type": "markdown",
   "metadata": {
    "execution": {},
    "slideshow": {
     "slide_type": "slide"
    },
    "tags": []
   },
   "source": [
    "## Packages"
   ]
  },
  {
   "cell_type": "code",
   "execution_count": null,
   "metadata": {
    "execution": {}
   },
   "outputs": [],
   "source": [
    "from intake import open_catalog\n",
    "import os\n",
    "import pooch\n",
    "import tempfile\n",
    "import numpy as np\n",
    "import xarray as xr\n",
    "import cmocean\n",
    "import gsw\n",
    "from scipy import integrate"
   ]
  },
  {
   "cell_type": "markdown",
   "metadata": {
    "execution": {},
    "slideshow": {
     "slide_type": "slide"
    },
    "tags": []
   },
   "source": [
    "## Packages"
   ]
  },
  {
   "cell_type": "code",
   "execution_count": null,
   "metadata": {},
   "outputs": [],
   "source": [
    "# Packages\n",
    "import matplotlib.pyplot as plt\n",
    "import matplotlib\n",
    "import seaborn as sns\n",
    "import cartopy as cart\n",
    "from cartopy import crs as ccrs, feature as cfeature\n",
    "from cartopy.mpl.ticker import LongitudeFormatter, LatitudeFormatter"
   ]
  },
  {
   "cell_type": "markdown",
   "metadata": {
    "slideshow": {
     "slide_type": "slide"
    }
   },
   "source": [
    "##  Helper function\n",
    "\n",
    "(data pooch)"
   ]
  },
  {
   "cell_type": "code",
   "execution_count": null,
   "metadata": {
    "cellView": "form",
    "execution": {},
    "tags": [
     "hide-input"
    ]
   },
   "outputs": [],
   "source": [
    "# Helper function\n",
    "def pooch_load(filelocation = None, filename = None, processor = None):\n",
    "    shared_location = \"~/\"; user_temp_cache = tempfile.gettempdir()\n",
    "    if os.path.exists(os.path.join(shared_location, filename)):\n",
    "        file = os.path.join(shared_location, filename)\n",
    "    else:\n",
    "        file = pooch.retrieve(filelocation, known_hash = None, fname = os.path.join(user_temp_cache, filename), processor = processor)\n",
    "    return file"
   ]
  },
  {
   "cell_type": "markdown",
   "metadata": {
    "execution": {},
    "slideshow": {
     "slide_type": "slide"
    }
   },
   "source": [
    "## Loading Ocean and Atmosphere Reanalysis Data\n",
    "\n",
    "We will load atmospheric near-surface winds (at 10-meter height), and then load the oceanic surface currents from ECCO reanalysis data\n",
    "\n",
    "*Note, each of these variables is a velocity with two components (zonal and meridional). These two velocity components must be loaded separately for each variable, so you will load four datasets.*"
   ]
  },
  {
   "cell_type": "markdown",
   "metadata": {
    "execution": {},
    "slideshow": {
     "slide_type": "slide"
    }
   },
   "source": [
    "## Atmospheric Wind\n",
    "\n",
    "Wind in east/west direction labeled here as $u$"
   ]
  },
  {
   "cell_type": "code",
   "execution_count": null,
   "metadata": {
    "cellView": "both",
    "execution": {}
   },
   "outputs": [],
   "source": [
    "fname_atm_wind_u = \"wind_evel_monthly_2016.nc\"\n",
    "url_atm_wind_u = \"https://osf.io/ke9yp/download\"\n",
    "atm_wind_u = xr.open_dataarray(pooch_load(url_atm_wind_u, fname_atm_wind_u))\n",
    "atm_wind_u"
   ]
  },
  {
   "cell_type": "markdown",
   "metadata": {
    "execution": {},
    "slideshow": {
     "slide_type": "slide"
    }
   },
   "source": [
    "## Atmospheric Wind\n",
    "\n",
    "Wind in north/south direction labeled here as $v$"
   ]
  },
  {
   "cell_type": "code",
   "execution_count": null,
   "metadata": {
    "execution": {}
   },
   "outputs": [],
   "source": [
    "\n",
    "fname_atm_wind_v = \"wind_nvel_monthly_2016.nc\"\n",
    "url_atm_wind_v = \"https://osf.io/9zkgd/download\"\n",
    "atm_wind_v = xr.open_dataarray(pooch_load(url_atm_wind_v, fname_atm_wind_v))\n",
    "atm_wind_v"
   ]
  },
  {
   "cell_type": "markdown",
   "metadata": {
    "execution": {},
    "slideshow": {
     "slide_type": "slide"
    }
   },
   "source": [
    "## Atmospheric Wind\n",
    "\n",
    "Oceanic surface current from ECCO ($u$ component)"
   ]
  },
  {
   "cell_type": "code",
   "execution_count": null,
   "metadata": {
    "execution": {}
   },
   "outputs": [],
   "source": [
    "fname_ocn_surface_current_u = \"evel_monthly_2016.nc\"\n",
    "ocn_surface_current_u = xr.open_dataarray(fname_ocn_surface_current_u)\n",
    "ocn_surface_current_u"
   ]
  },
  {
   "cell_type": "markdown",
   "metadata": {
    "execution": {},
    "slideshow": {
     "slide_type": "slide"
    }
   },
   "source": [
    "## Atmospheric Wind\n",
    "\n",
    "Oceanic surface current from ECCO ($v$ component)"
   ]
  },
  {
   "cell_type": "code",
   "execution_count": null,
   "metadata": {
    "execution": {}
   },
   "outputs": [],
   "source": [
    "# current in east/west direction labeled here as 'v'\n",
    "fname_ocn_surface_current_v = \"nvel_monthly_2016.nc\"\n",
    "url_ocn_surface_current_v = \"https://osf.io/download/vzdn4/\"\n",
    "ocn_surface_current_v = xr.open_dataarray(\n",
    "    pooch_load(url_ocn_surface_current_v, fname_ocn_surface_current_v)\n",
    ")\n",
    "ocn_surface_current_v"
   ]
  },
  {
   "cell_type": "markdown",
   "metadata": {
    "execution": {},
    "slideshow": {
     "slide_type": "slide"
    }
   },
   "source": [
    "## Exploring the Reanalysis Data\n",
    "\n",
    "Let's examine the time (or temporal/output) frequency, which descibes the rate at which the reanalysis data is provided, for one of the ECCO variables (*atm_wind_u*). \n",
    "\n",
    "*Note that all the variables should have the same output frequency.*"
   ]
  },
  {
   "cell_type": "code",
   "execution_count": null,
   "metadata": {
    "execution": {}
   },
   "outputs": [],
   "source": [
    "atm_wind_u.time"
   ]
  },
  {
   "cell_type": "markdown",
   "metadata": {
    "execution": {},
    "slideshow": {
     "slide_type": "slide"
    },
    "tags": []
   },
   "source": [
    "## Plotting the Annual Mean of Global Surface Wind Stress\n",
    "\n",
    "In this section, we will create global maps displaying the annual mean of atmospheric 10m winds.\n",
    "\n",
    "First, we should compute the annual mean of the surface wind variables. \n",
    "\n",
    "We do so by averaging over the time dimension using `.mean(dim='time')`. \n",
    "\n",
    "Since you have monthly data spanning only one year, `.mean(dim='time')` will give the annual mean for the year 2016."
   ]
  },
  {
   "cell_type": "markdown",
   "metadata": {
    "execution": {},
    "slideshow": {
     "slide_type": "slide"
    },
    "tags": []
   },
   "source": [
    "## Plotting the Annual Mean of Global Surface Wind Stress\n",
    "\n",
    "Annual mean of the surface wind variables."
   ]
  },
  {
   "cell_type": "code",
   "execution_count": null,
   "metadata": {
    "execution": {}
   },
   "outputs": [],
   "source": [
    "# compute the annual mean of atm_wind_u\n",
    "atm_wind_u_an_mean = atm_wind_u.mean(dim=\"time\")\n",
    "atm_wind_u_an_mean"
   ]
  },
  {
   "cell_type": "markdown",
   "metadata": {
    "execution": {},
    "slideshow": {
     "slide_type": "slide"
    },
    "tags": []
   },
   "source": [
    "## Plotting the Annual Mean of Global Surface Wind Stress\n",
    "\n",
    "Annual mean of the surface wind variables."
   ]
  },
  {
   "cell_type": "code",
   "execution_count": null,
   "metadata": {
    "execution": {}
   },
   "outputs": [],
   "source": [
    "# take the annual mean of atm_wind_stress_v\n",
    "atm_wind_v_an_mean = atm_wind_v.mean(dim=\"time\")\n",
    "atm_wind_v_an_mean"
   ]
  },
  {
   "cell_type": "markdown",
   "metadata": {
    "execution": {},
    "slideshow": {
     "slide_type": "slide"
    }
   },
   "source": [
    "## Plotting the Annual Mean of Global Surface Wind Stress\n",
    "\n",
    "We currently have seperate zonal and meridional wind velocity components $(u,v)$. \n",
    "\n",
    "An effective way of visualizing the total surface wind stress is to create a global map of the *magnitude* and *direction* of the wind velocity vector. \n",
    "\n",
    "This type of plot is known as a vector field. \n",
    "\n",
    "A [vector](https://glossary.ametsoc.org/wiki/Vector) is a special mathematical quantity that has both magnitude and direction, just like the wind! \n",
    "\n",
    "The velocity components describe the intensity of wind blowing in the zonal ($u$) or meridional ($v$) directions. \n",
    "\n",
    "Specifically, wind can blow eastward (positive $u$) or westward (negative $u$), as well as northward (positive $v$) or southward (negative $v$)."
   ]
  },
  {
   "cell_type": "markdown",
   "metadata": {
    "slideshow": {
     "slide_type": "slide"
    }
   },
   "source": [
    "## Plotting the Annual Mean of Global Surface Wind Stress\n",
    "\n",
    "The total velocity vector is the *vector sum* of these two components and exhibits varying magnitude and direction. \n",
    "\n",
    "The magnitude ($||u||$) is:\n",
    "\n",
    "\\begin{align}\n",
    "||u|| = \\sqrt{u^2 + v^2},  \\ \\  \\ \\ \n",
    "\\end{align}\n",
    "\n",
    "The direction ($\\theta$) is:\n",
    "\n",
    "$$\n",
    "\\theta = tan^{-1}\\bigg(\\frac{v}{u}\\bigg)\n",
    "$$\n",
    "\n",
    "When plotting a vector field using a computer, it is commonly referred to as a quiver plot. \n",
    "\n",
    "In our case, we will utilize a [quiver function created by Ryan Abernathey](https://rabernat.github.io/intro_to_physical_oceanography/07_ekman.html) that calculates the magnitude and direction of the total velocity vector based on the given zonal and meridional components.\n",
    "\n",
    "We will overlay the quiver plot on top of the annual mean ocean surface temperature (labeled here as theta)."
   ]
  },
  {
   "cell_type": "code",
   "execution_count": null,
   "metadata": {
    "execution": {}
   },
   "outputs": [],
   "source": [
    "fname_surface_temp = \"surface_theta.nc\"\n",
    "url_fname_surface_temp = \"https://osf.io/98ksr/download\"\n",
    "ocn_surface_temp = xr.open_dataarray(\n",
    "    pooch.retrieve(url_fname_surface_temp, known_hash=None, fname=fname_surface_temp)\n",
    ")\n",
    "ocn_surface_temp"
   ]
  },
  {
   "cell_type": "markdown",
   "metadata": {
    "slideshow": {
     "slide_type": "slide"
    }
   },
   "source": [
    "## Plotting the Annual Mean of Global Surface Wind Stress"
   ]
  },
  {
   "cell_type": "code",
   "execution_count": null,
   "metadata": {
    "execution": {}
   },
   "outputs": [],
   "source": [
    "# Longitude and latitude coordinates for plotting\n",
    "lon = atm_wind_u_an_mean.longitude\n",
    "lat = atm_wind_u_an_mean.latitude\n",
    "\n",
    "# Magnitude of total velocity\n",
    "mag = (atm_wind_u_an_mean**2 + atm_wind_v_an_mean**2) ** 0.5\n",
    "\n",
    "# Coarsen the grid so the arrows are distinguishable by only selecting\n",
    "# some longitudes and latitudes defined by sampling_x and sampling_y.\n",
    "slx = slice(None, None, 20)\n",
    "sly = slice(None, None, 20)\n",
    "sl2d = (sly, slx)"
   ]
  },
  {
   "cell_type": "markdown",
   "metadata": {
    "slideshow": {
     "slide_type": "slide"
    }
   },
   "source": [
    "## Plotting the Annual Mean of Global Surface Wind Stress"
   ]
  },
  {
   "cell_type": "code",
   "execution_count": null,
   "metadata": {},
   "outputs": [],
   "source": [
    "# Figure\n",
    "fig, ax = plt.subplots(\n",
    "    figsize=(12, 6), subplot_kw={\"projection\": ccrs.Robinson(central_longitude=180)}\n",
    ")\n",
    "\n",
    "c = ax.contourf(lon, lat, ocn_surface_temp, alpha=0.5)\n",
    "\n",
    "# plot quiver arrows indicating vector direction (winds are in blue, alpha is for opacity)\n",
    "q = ax.quiver(lon[slx], lat[sly], atm_wind_u_an_mean[sl2d], \n",
    "              atm_wind_v_an_mean[sl2d], color=\"b\", alpha=0.5)\n",
    "\n",
    "ax.quiverkey(q, 175, 95, 5, \"5 m/s\", coordinates=\"data\")\n",
    "\n",
    "fig.colorbar(c, label=\"Sea Surface Temperature (degC)\")"
   ]
  },
  {
   "cell_type": "markdown",
   "metadata": {
    "execution": {},
    "slideshow": {
     "slide_type": "slide"
    }
   },
   "source": [
    "## Comparing Global Maps of Surface Currents and Winds\n",
    "\n",
    "Now, let us compute the annual mean of the ocean surface currents, similar to your above analyses of atmospheric winds, and create a global map that shows both of these variables simultaneously."
   ]
  },
  {
   "cell_type": "code",
   "execution_count": null,
   "metadata": {
    "execution": {},
    "tags": []
   },
   "outputs": [],
   "source": [
    "# take the annual mean of ocn_surface_current_u\n",
    "ocn_surface_current_u_an_mean = ocn_surface_current_u.mean(dim=\"time\")\n",
    "ocn_surface_current_u_an_mean"
   ]
  },
  {
   "cell_type": "markdown",
   "metadata": {
    "execution": {},
    "slideshow": {
     "slide_type": "slide"
    }
   },
   "source": [
    "## Comparing Global Maps of Surface Currents and Winds"
   ]
  },
  {
   "cell_type": "code",
   "execution_count": null,
   "metadata": {
    "execution": {}
   },
   "outputs": [],
   "source": [
    "# take the annual mean of ocn_surface_current_v\n",
    "ocn_surface_current_v_an_mean = ocn_surface_current_v.mean(dim=\"time\")\n",
    "ocn_surface_current_v_an_mean"
   ]
  },
  {
   "cell_type": "markdown",
   "metadata": {
    "execution": {},
    "slideshow": {
     "slide_type": "slide"
    }
   },
   "source": [
    "## Comparing Global Maps of Surface Currents and Winds\n",
    "\n",
    "Let's add ocean surface currents to the previous plot above, using **red** quivers. Note the scale of the arrows for the ocean and atmosphere are very different."
   ]
  },
  {
   "cell_type": "code",
   "execution_count": null,
   "metadata": {},
   "outputs": [],
   "source": [
    "# longitude ad latitude coordinates for plotting\n",
    "lon = atm_wind_u_an_mean.longitude\n",
    "lat = atm_wind_u_an_mean.latitude\n",
    "\n",
    "# calculate magnitude of total velocity\n",
    "mag = (atm_wind_u_an_mean**2 + atm_wind_v_an_mean**2) ** 0.5\n",
    "\n",
    "# coarsen the grid so the arrows are distinguishable by only selecting\n",
    "# some longitudes and latitudes defined by sampling_x and sampling_y.\n",
    "slx = slice(None, None, 20)\n",
    "sly = slice(None, None, 20)\n",
    "sl2d = (sly, slx)"
   ]
  },
  {
   "cell_type": "markdown",
   "metadata": {
    "execution": {},
    "slideshow": {
     "slide_type": "slide"
    }
   },
   "source": [
    "## Comparing Global Maps of Surface Currents and Winds"
   ]
  },
  {
   "cell_type": "code",
   "execution_count": null,
   "metadata": {
    "execution": {}
   },
   "outputs": [],
   "source": [
    "# fig, ax = plt.subplots(**kwargs)\n",
    "fig, ax = plt.subplots(figsize=(12, 6), subplot_kw={\"projection\": ccrs.Robinson(central_longitude=180)})\n",
    "\n",
    "c = ax.contourf(lon, lat, ocn_surface_temp, alpha=0.5)\n",
    "\n",
    "# plot quiver arrows indicating vector direction (winds are in blue, alpha is for opacity)\n",
    "q1 = ax.quiver(lon[slx],lat[sly],atm_wind_u_an_mean[sl2d],\n",
    "               atm_wind_v_an_mean[sl2d], color=\"b\", alpha=0.5)\n",
    "\n",
    "# plot quiver arrows indicating vector direction (ocean currents are in red, alpha is for opacity)\n",
    "q2 = ax.quiver(lon[slx], lat[sly], ocn_surface_current_u_an_mean[sl2d],\n",
    "               ocn_surface_current_v_an_mean[sl2d], color=\"r\", alpha=0.5)\n",
    "\n",
    "ax.quiverkey(q1, 175, 95, 5, \"5 m/s\", coordinates=\"data\")\n",
    "\n",
    "ax.quiverkey(q2, 150, 95, 0.05, \"5 cm/s\", coordinates=\"data\")\n",
    "\n",
    "fig.colorbar(c, label=\"Sea Surface Temperature (degC)\")"
   ]
  },
  {
   "cell_type": "markdown",
   "metadata": {
    "execution": {},
    "slideshow": {
     "slide_type": "slide"
    }
   },
   "source": [
    "## Currents and wind direction\n",
    "\n",
    "You may notice that the surface currents (red) are typically not aligned with the wind direction (blue). In fact, the surface ocean currents flow at an angle of approximately 45 degrees to the wind direction! \n",
    "\n",
    "The combination of [Coriolis force](https://en.wikipedia.org/wiki/Coriolis_force) and the friction between ocean layers causes the wind-driven currents to turn and weaken with depth, eventually dissapearing entirely at depth. \n",
    "\n",
    "The resulting current *profile* is called the **[Ekman Spiral](https://en.wikipedia.org/wiki/Ekman_spiral)**, and the depth over which the spiral is present is called the **Ekman layer**.\n",
    "\n",
    "While the shape of this spiral can vary in time and space, the depth-integrated transport of water within the Ekman layer is called [**Ekman transport**](https://en.wikipedia.org/wiki/Ekman_transport). \n",
    "\n",
    "Ekman transport is always *90 degrees to the right* of the wind in the Northern Hemisphere, and 90 degrees to the *left* of the wind in the Southern Hemisphere. \n",
    "\n",
    "Under certain wind patterns or near coastlines, Ekman transport can lead to **Ekman Pumping**, where water is upwelled or downwelled depending on the wind direction. \n",
    "\n",
    "This process is particularily important for coastal ecosystems that rely on this upwelling (which is often seasonal) to bring nutrient-rich waters near the surface. \n",
    "\n",
    "These nutrients fuel the growth of tiny marine plants that support the entire food chain, upon which coastal economies often rely. \n",
    "\n",
    "These tiny plants are also responsible for most of the oxygen we breathe!"
   ]
  },
  {
   "cell_type": "markdown",
   "metadata": {
    "slideshow": {
     "slide_type": "slide"
    }
   },
   "source": [
    "# Thermohaline Circulation"
   ]
  },
  {
   "cell_type": "markdown",
   "metadata": {
    "execution": {},
    "slideshow": {
     "slide_type": "slide"
    }
   },
   "source": [
    "## Thermohaline Data"
   ]
  },
  {
   "cell_type": "code",
   "execution_count": null,
   "metadata": {},
   "outputs": [],
   "source": [
    "# Monthly surface data over the period 2014 to 2016.\n",
    "filename_theta = \"surface_theta.nc\"\n",
    "url_theta = \"https://osf.io/98ksr/download\"\n",
    "\n",
    "subset_theta = xr.open_dataset(pooch_load(url_theta, filename_theta))\n",
    "subset_theta"
   ]
  },
  {
   "cell_type": "markdown",
   "metadata": {
    "execution": {},
    "slideshow": {
     "slide_type": "slide"
    }
   },
   "source": [
    "## Thermohaline Data"
   ]
  },
  {
   "cell_type": "code",
   "execution_count": null,
   "metadata": {},
   "outputs": [],
   "source": [
    "filename_salt = \"surface_salt.nc\"\n",
    "url_salt = \"https://osf.io/aufs2/download\"\n",
    "\n",
    "subset_salt = xr.open_dataset(pooch_load(url_salt, filename_salt))\n",
    "subset_salt"
   ]
  },
  {
   "cell_type": "markdown",
   "metadata": {
    "execution": {},
    "slideshow": {
     "slide_type": "slide"
    }
   },
   "source": [
    "## Plot Surface Temperature and Salinity\n",
    "\n",
    "The ocean flows can be driven by density variations in addition to wind-driven circulation. \n",
    "\n",
    "One example of a density-driven flow is the thermohaline circulation.\n",
    "\n",
    "Density in the ocean is influenced by two main factors: \n",
    "\n",
    "1. Salinity (higher salinity leads to greater density) and \n",
    "2. Temperature (lower temperature generally results in higher density),\n",
    "3. Also, pressure affects density (higher pressure results in higher density), but it generally has a much smaller impact on ocean density than temperature and salinity. \n",
    "\n",
    "To develop a better understanding of how density varies across different regions, let's examine the average salinity and temperature at the ocean surface."
   ]
  },
  {
   "cell_type": "markdown",
   "metadata": {
    "execution": {},
    "slideshow": {
     "slide_type": "slide"
    }
   },
   "source": [
    "## Plot Surface Temperature and Salinity"
   ]
  },
  {
   "cell_type": "code",
   "execution_count": null,
   "metadata": {
    "execution": {}
   },
   "outputs": [],
   "source": [
    "subset_theta = subset_theta.where(subset_theta != 0)\n",
    "subset_salt = subset_salt.where(subset_salt != 0)\n",
    "subset_theta = subset_theta.THETA\n",
    "subset_salt = subset_salt.SALT"
   ]
  },
  {
   "cell_type": "markdown",
   "metadata": {
    "execution": {},
    "slideshow": {
     "slide_type": "slide"
    }
   },
   "source": [
    "## Sea Surface Temperature"
   ]
  },
  {
   "cell_type": "code",
   "execution_count": null,
   "metadata": {
    "execution": {}
   },
   "outputs": [],
   "source": [
    "# this is from cartopy https://rabernat.github.io/research_computing_2018/maps-with-cartopy.html\n",
    "fig, ax = plt.subplots(subplot_kw={\"projection\": ccrs.PlateCarree()}, figsize=(11, 12), dpi=100)\n",
    "p = subset_theta.plot(vmin=0, cmap=cmocean.cm.thermal, \n",
    "                      cbar_kwargs={\"shrink\": 0.75, \"orientation\": \"horizontal\", \"extend\": \"both\",\n",
    "                                   \"pad\": 0.05, \"label\": \"degree C\",}, ax=ax)\n",
    "ax.coastlines(color=\"grey\", lw=0.5)\n",
    "ax.set_xticks([-180, -120, -60, 0, 60, 120, 180], crs=ccrs.PlateCarree())\n",
    "ax.set_yticks([-90, -60, -30, 0, 30, 60, 90], crs=ccrs.PlateCarree())\n",
    "lon_formatter = LongitudeFormatter(zero_direction_label=True)\n",
    "lat_formatter = LatitudeFormatter()\n",
    "ax.add_feature(cart.feature.LAND, zorder=100, edgecolor=\"k\")\n",
    "ax.set_title(\"Sea Surface Temperature (2014-2016 mean)\")\n",
    "fig.tight_layout()"
   ]
  },
  {
   "cell_type": "markdown",
   "metadata": {
    "execution": {},
    "slideshow": {
     "slide_type": "slide"
    }
   },
   "source": [
    "## Sea Surface Salinity"
   ]
  },
  {
   "cell_type": "code",
   "execution_count": null,
   "metadata": {
    "execution": {}
   },
   "outputs": [],
   "source": [
    "# this is from cartopy https://rabernat.github.io/research_computing_2018/maps-with-cartopy.html\n",
    "fig, ax = plt.subplots(subplot_kw={\"projection\": ccrs.PlateCarree()}, figsize=(11, 12), dpi=100)  \n",
    "p = subset_salt.plot(cmap=cmocean.cm.haline,\n",
    "    vmin=30, cbar_kwargs={\"shrink\": 0.75,\"orientation\": \"horizontal\",\"extend\": \n",
    "                          \"both\",\"pad\": 0.05,\"label\": \"psu\",},ax=ax)\n",
    "ax.coastlines(color=\"grey\", lw=0.5)\n",
    "ax.set_xticks([-180, -120, -60, 0, 60, 120, 180], crs=ccrs.PlateCarree())\n",
    "ax.set_yticks([-90, -60, -30, 0, 30, 60, 90], crs=ccrs.PlateCarree())\n",
    "lon_formatter = LongitudeFormatter(zero_direction_label=True)\n",
    "lat_formatter = LatitudeFormatter()\n",
    "ax.add_feature(cart.feature.LAND, zorder=100, edgecolor=\"k\")\n",
    "ax.set_title(\"Sea Surface Salinity (2014-2016 mean)\")\n",
    "fig.tight_layout()"
   ]
  },
  {
   "cell_type": "markdown",
   "metadata": {
    "execution": {},
    "slideshow": {
     "slide_type": "slide"
    }
   },
   "source": [
    "## Calculating Density from Salinity and Temperature\n",
    "\n",
    "The equation relating ocean water density to other water properties is called the ***equation of state***.\n",
    "\n",
    "It is a non-linear function of temperature, salinity, and pressure. \n",
    "\n",
    "This can be expressed as $$\\rho=\\rho(T,S,p)$$\n",
    "\n",
    "Here we will show two ways to calculate the density. \n",
    "\n",
    "The first is a *linear approximation* to the equation of state."
   ]
  },
  {
   "cell_type": "markdown",
   "metadata": {
    "execution": {},
    "slideshow": {
     "slide_type": "slide"
    }
   },
   "source": [
    "## Linearized Equation of State\n",
    "\n",
    "Here we take the linearized equation of state from equation 1.57 in Vallis' textbook [\"*Atmospheric and Oceanic Fluid Dynamics*\"](https://www.cambridge.org/core/books/atmospheric-and-oceanic-fluid-dynamics/41379BDDC4257CBE11143C466F6428A4)\n",
    "\n",
    "$$ \\rho=\\rho_0[1-\\beta_T(T-T_0)+\\beta_S(S-S_0)+\\beta_p(p-p_0)] $$\n",
    "\n",
    "- $\\rho_0\\simeq 1027$ is a reference density\n",
    "- $\\beta_T \\simeq 2*10^{-4}$/K is the thermal expansion coefficient\n",
    "- $\\beta_S \\simeq 7.6*10^{-4}$/ppt is the haline contraction coefficient\n",
    "- $\\beta_p \\simeq 4.4*10^{-10}$/Pa is the compressibility coefficient. \n",
    "\n",
    "The values with $_0$ are reference values, and here we use $T_0=283$K and $S_0=35$. \n",
    "\n",
    "Since surface pressure rarely changes by more than a few percent, let's assume that the pressure at the surface is equal to the reference pressure at every point ($\\beta_p(p-p_0)=0$).\n",
    "\n",
    "Let's now calculate a global map of surface density using this linear equation of state. Note that since we are using theta and salt *datasets*, our result will also be a dataset."
   ]
  },
  {
   "cell_type": "markdown",
   "metadata": {
    "execution": {},
    "slideshow": {
     "slide_type": "slide"
    }
   },
   "source": [
    "## Linearized Equation of State"
   ]
  },
  {
   "cell_type": "code",
   "execution_count": null,
   "metadata": {
    "execution": {}
   },
   "outputs": [],
   "source": [
    "# Equation estimates (linearity assumption)\n",
    "rho_linear = 1027 * (\n",
    "    1 - 2e-4 * (subset_theta + 273.15 - 283) + 7.6e-4 * (subset_salt - 35)\n",
    ")\n",
    "rho_linear"
   ]
  },
  {
   "cell_type": "markdown",
   "metadata": {
    "execution": {},
    "slideshow": {
     "slide_type": "slide"
    }
   },
   "source": [
    "## Linearized Density Plot"
   ]
  },
  {
   "cell_type": "code",
   "execution_count": null,
   "metadata": {
    "execution": {}
   },
   "outputs": [],
   "source": [
    "# plot linearized density\n",
    "fig, ax = plt.subplots(\n",
    "    subplot_kw={\"projection\": ccrs.PlateCarree()}, figsize=(11, 12), dpi=100\n",
    ")  # this is from cartopy https://rabernat.github.io/research_computing_2018/maps-with-cartopy.html\n",
    "p = rho_linear.plot(\n",
    "    cmap=cmocean.cm.dense,\n",
    "    vmin=1021,\n",
    "    vmax=1029,\n",
    "    cbar_kwargs={\n",
    "        \"shrink\": 0.75,\n",
    "        \"orientation\": \"horizontal\",\n",
    "        \"extend\": \"both\",\n",
    "        \"pad\": 0.05,\n",
    "        \"label\": \"kg/m$^3$\",\n",
    "    },\n",
    "    ax=ax,\n",
    ")\n",
    "ax.coastlines(color=\"grey\", lw=0.5)\n",
    "ax.set_xticks([-180, -120, -60, 0, 60, 120, 180], crs=ccrs.PlateCarree())\n",
    "ax.set_yticks([-90, -60, -30, 0, 30, 60, 90], crs=ccrs.PlateCarree())\n",
    "lon_formatter = LongitudeFormatter(zero_direction_label=True)\n",
    "lat_formatter = LatitudeFormatter()\n",
    "ax.add_feature(cart.feature.LAND, zorder=100, edgecolor=\"k\")\n",
    "ax.set_title(\"Surface density from linear equation (2014-2016 mean)\")\n",
    "fig.tight_layout()"
   ]
  },
  {
   "cell_type": "markdown",
   "metadata": {
    "execution": {},
    "slideshow": {
     "slide_type": "slide"
    }
   },
   "source": [
    "## Full Nonlinear Equation of State\n",
    "\n",
    "The full, non-linear equation of state is more complicated than the linear equation we just used. \n",
    "\n",
    "It contains dozens of equations which are impractical to code in this class. \n",
    "\n",
    "Fortunately packages exist to do this calculation!\n",
    "\n",
    "Here we will compute surface density from the full nonlinear equation in `python` using the `gsw` package which is a Python implementation of the [Thermodynamic Equation of Seawater 2010 (TEOS-10)](https://teos-10.github.io/GSW-Python/)"
   ]
  },
  {
   "cell_type": "markdown",
   "metadata": {
    "execution": {},
    "slideshow": {
     "slide_type": "slide"
    }
   },
   "source": [
    "## Full Nonlinear Equation of State"
   ]
  },
  {
   "cell_type": "code",
   "execution_count": null,
   "metadata": {
    "execution": {}
   },
   "outputs": [],
   "source": [
    "## Non-linear equation\n",
    "CT = gsw.CT_from_pt(\n",
    "    subset_salt, subset_theta\n",
    ")  # get conservative temperature from potential temperature\n",
    "rho_nonlinear = gsw.rho(subset_salt, CT, 0)"
   ]
  },
  {
   "cell_type": "markdown",
   "metadata": {
    "execution": {},
    "slideshow": {
     "slide_type": "slide"
    }
   },
   "source": [
    "## Full Nonlinear Equation - Plot"
   ]
  },
  {
   "cell_type": "code",
   "execution_count": null,
   "metadata": {
    "execution": {}
   },
   "outputs": [],
   "source": [
    "# plot density from full nonlinear equation\n",
    "fig, ax = plt.subplots(\n",
    "    subplot_kw={\"projection\": ccrs.PlateCarree()}, figsize=(11, 12), dpi=100\n",
    ")  # this is from cartopy https://rabernat.github.io/research_computing_2018/maps-with-cartopy.html\n",
    "p = rho_nonlinear.plot(\n",
    "    cmap=cmocean.cm.dense,\n",
    "    vmin=1021,\n",
    "    vmax=1029,\n",
    "    cbar_kwargs={\n",
    "        \"shrink\": 0.75,\n",
    "        \"orientation\": \"horizontal\",\n",
    "        \"extend\": \"both\",\n",
    "        \"pad\": 0.05,\n",
    "        \"label\": \"kg/m$^3$\",\n",
    "    },\n",
    "    ax=ax,\n",
    ")\n",
    "ax.coastlines(color=\"grey\", lw=0.5)\n",
    "ax.set_xticks([-180, -120, -60, 0, 60, 120, 180], crs=ccrs.PlateCarree())\n",
    "ax.set_yticks([-90, -60, -30, 0, 30, 60, 90], crs=ccrs.PlateCarree())\n",
    "lon_formatter = LongitudeFormatter(zero_direction_label=True)\n",
    "lat_formatter = LatitudeFormatter()\n",
    "ax.add_feature(cart.feature.LAND, zorder=100, edgecolor=\"k\")\n",
    "ax.set_title(\"Surface density from nonlinear equation (2014-2016 mean)\")\n",
    "fig.tight_layout()"
   ]
  },
  {
   "cell_type": "markdown",
   "metadata": {
    "execution": {},
    "slideshow": {
     "slide_type": "slide"
    }
   },
   "source": [
    "## Difference between Linear and Non-Linear"
   ]
  },
  {
   "cell_type": "code",
   "execution_count": null,
   "metadata": {
    "execution": {}
   },
   "outputs": [],
   "source": [
    "# plot difference between linear and non-linear equations of state\n",
    "fig, ax = plt.subplots(\n",
    "    subplot_kw={\"projection\": ccrs.PlateCarree()}, figsize=(11, 12), dpi=100\n",
    ")  # this is from cartopy https://rabernat.github.io/research_computing_2018/maps-with-cartopy.html\n",
    "p = (rho_linear - rho_nonlinear).plot(\n",
    "    cmap=\"coolwarm\",\n",
    "    vmin=-3,\n",
    "    vmax=3,\n",
    "    cbar_kwargs={\n",
    "        \"shrink\": 0.75,\n",
    "        \"orientation\": \"horizontal\",\n",
    "        \"extend\": \"both\",\n",
    "        \"pad\": 0.05,\n",
    "        \"label\": \"kg/m$^3$\",\n",
    "    },\n",
    "    ax=ax,\n",
    ")\n",
    "ax.coastlines(color=\"grey\", lw=0.5)\n",
    "ax.set_xticks([-180, -120, -60, 0, 60, 120, 180], crs=ccrs.PlateCarree())\n",
    "ax.set_yticks([-90, -60, -30, 0, 30, 60, 90], crs=ccrs.PlateCarree())\n",
    "lon_formatter = LongitudeFormatter(zero_direction_label=True)\n",
    "lat_formatter = LatitudeFormatter()\n",
    "ax.add_feature(cart.feature.LAND, zorder=100, edgecolor=\"k\")\n",
    "ax.set_title(\"Linear minus non-linear equation of state (2014-2016 mean)\")\n",
    "fig.tight_layout()"
   ]
  },
  {
   "cell_type": "markdown",
   "metadata": {
    "execution": {},
    "slideshow": {
     "slide_type": "slide"
    }
   },
   "source": [
    "## Difference between Linear and Non-Linear\n",
    "\n",
    "Upon comparing the two equations of state, we observe that they are generally similar, but certain differences arise. \n",
    "\n",
    "These differences stem from the nonlinearity of the equation of state, where the haline contraction coefficient and thermal expansion coefficient are not constant as assumed in our linear equation of state.\n",
    "\n",
    "Irrespective of the method used to calculate density, we notice the presence of horizontal density variations (gradients) at the ocean surface.\n",
    "\n",
    "For instance, seawater tends to be less dense in the subtropics and denser near the poles.\n",
    "\n",
    "These density differences play a crucial role in driving ocean currents, as we discussed in the slides.\n",
    "\n",
    "These findings emphasize the significant density gradients in the ocean, which shape oceanic circulation patterns. \n",
    "\n",
    "The nonlinearity in the equation of state contributes to these density variations, which in turn also influences the movement of water masses and the formation of currents."
   ]
  },
  {
   "cell_type": "markdown",
   "metadata": {
    "execution": {},
    "slideshow": {
     "slide_type": "slide"
    }
   },
   "source": [
    "## Questions?"
   ]
  },
  {
   "cell_type": "markdown",
   "metadata": {
    "slideshow": {
     "slide_type": "slide"
    }
   },
   "source": [
    "## See you next lecture!"
   ]
  }
 ],
 "metadata": {
  "celltoolbar": "Slideshow",
  "colab": {
   "collapsed_sections": [],
   "include_colab_link": true,
   "name": "W1D2_Tutorial4",
   "provenance": [],
   "toc_visible": true
  },
  "kernel": {
   "display_name": "Python 3",
   "language": "python",
   "name": "python3"
  },
  "kernelspec": {
   "display_name": "Python 3 (ipykernel)",
   "language": "python",
   "name": "python3"
  },
  "language_info": {
   "codemirror_mode": {
    "name": "ipython",
    "version": 3
   },
   "file_extension": ".py",
   "mimetype": "text/x-python",
   "name": "python",
   "nbconvert_exporter": "python",
   "pygments_lexer": "ipython3",
   "version": "3.9.5"
  },
  "toc-autonumbering": true
 },
 "nbformat": 4,
 "nbformat_minor": 4
}
