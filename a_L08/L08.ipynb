{
 "cells": [
  {
   "cell_type": "markdown",
   "metadata": {
    "slideshow": {
     "slide_type": "slide"
    }
   },
   "source": [
    "# CSS 120: Environmental Data Science\n",
    "\n",
    "## Lecture 08 - DataArrays for Global Climate Data\n",
    "\n",
    "(Based on Project Pythia)"
   ]
  },
  {
   "cell_type": "markdown",
   "metadata": {
    "slideshow": {
     "slide_type": "slide"
    }
   },
   "source": [
    "## Today's Lecture\n",
    "\n",
    "So far we learned a lot about single-variables statistics.\n",
    "\n",
    "Now we are going to study a data type called `DataArray`, which provides a simple way to use `numpy` arrays that have multiple attributes.\n",
    "\n",
    "Think of it as the `pandas` for climate research."
   ]
  },
  {
   "cell_type": "markdown",
   "metadata": {
    "slideshow": {
     "slide_type": "slide"
    }
   },
   "source": [
    "## Climate Systems\n",
    "\n",
    "![](./img/l08img01.png)"
   ]
  },
  {
   "cell_type": "markdown",
   "metadata": {
    "slideshow": {
     "slide_type": "slide"
    }
   },
   "source": [
    "## Variations on Climate Systems\n",
    "\n",
    "![](./img/l08img02.png)"
   ]
  },
  {
   "cell_type": "markdown",
   "metadata": {
    "slideshow": {
     "slide_type": "slide"
    }
   },
   "source": [
    "## DataArrays and Datasets\n",
    "\n",
    "![](./img/l08img03.png)"
   ]
  },
  {
   "cell_type": "markdown",
   "metadata": {
    "execution": {},
    "slideshow": {
     "slide_type": "slide"
    }
   },
   "source": [
    "## Packages\n",
    "\n",
    "The first thing we need to do is to install the `xarray` package.\n",
    "\n",
    "Remove the comment of the line below, run it, add the comment back, and restart the kernel."
   ]
  },
  {
   "cell_type": "code",
   "execution_count": null,
   "metadata": {},
   "outputs": [],
   "source": [
    "# !pip install xarray # Then restart the kernel"
   ]
  },
  {
   "cell_type": "markdown",
   "metadata": {
    "execution": {},
    "slideshow": {
     "slide_type": "slide"
    }
   },
   "source": [
    "## Packages\n",
    "\n",
    "Now that we have it installed and the kernel restarted, let us load the packages:"
   ]
  },
  {
   "cell_type": "code",
   "execution_count": null,
   "metadata": {
    "execution": {},
    "tags": []
   },
   "outputs": [],
   "source": [
    "# Packages\n",
    "import numpy as np\n",
    "import pandas as pd\n",
    "from matplotlib import pyplot as plt\n",
    "\n",
    "# XArray\n",
    "import xarray as xr"
   ]
  },
  {
   "cell_type": "markdown",
   "metadata": {
    "slideshow": {
     "slide_type": "slide"
    }
   },
   "source": [
    "## `Xarray` Package\n",
    "\n",
    "[Xarray](https://xarray.pydata.org/en/v2023.05.0/getting-started-guide/why-xarray.html) expands on the capabilities of [NumPy](https://numpy.org/doc/stable/user/index.html#user) arrays, providing streamlined data manipulation.\n",
    "\n",
    "Similar to [Pandas](https://pandas.pydata.org/docs/user_guide/index.html#user-guide), but focused on N-dimensional arrays of data (i.e. grids).\n",
    "\n",
    "Its interface is based largely on the netCDF data model (variables, attributes, and dimensions).\n",
    "\n",
    "Provides functionality similar to netCDF-java's [Common Data Model (CDM)](https://docs.unidata.ucar.edu/netcdf-java/current/userguide/common_data_model_overview.html)."
   ]
  },
  {
   "cell_type": "markdown",
   "metadata": {
    "execution": {},
    "slideshow": {
     "slide_type": "slide"
    }
   },
   "source": [
    "## `DataArray` Object\n",
    "\n",
    "The `DataArray` is one of the basic building blocks of Xarray (see docs [here](http://xarray.pydata.org/en/stable/user-guide/data-structures.html#dataarray)). \n",
    "\n",
    "It provides a `numpy.ndarray`-like object that expands to provide two critical pieces of functionality:\n",
    "\n",
    "1. Coordinate names and values are stored with the data, making slicing and indexing much more powerful\n",
    "2. It has a built-in container for attributes"
   ]
  },
  {
   "cell_type": "markdown",
   "metadata": {
    "execution": {},
    "slideshow": {
     "slide_type": "slide"
    }
   },
   "source": [
    "## Some (cooked) Data\n",
    "\n",
    "For this example, let us create a random array of *temperature* data in units of Kelvin:"
   ]
  },
  {
   "cell_type": "code",
   "execution_count": null,
   "metadata": {
    "execution": {},
    "executionInfo": {
     "elapsed": 151,
     "status": "ok",
     "timestamp": 1681570301490,
     "user": {
      "displayName": "Sloane Garelick",
      "userId": "04706287370408131987"
     },
     "user_tz": 240
    },
    "tags": []
   },
   "outputs": [],
   "source": [
    "rand_data = 283 + 5 * np.random.randn(5, 3, 4)\n",
    "rand_data"
   ]
  },
  {
   "cell_type": "markdown",
   "metadata": {
    "execution": {},
    "slideshow": {
     "slide_type": "slide"
    }
   },
   "source": [
    "## `DataArray`\n",
    "\n",
    "Now we create a basic `DataArray` just by passing our plain `data` as an input:"
   ]
  },
  {
   "cell_type": "code",
   "execution_count": null,
   "metadata": {
    "execution": {},
    "executionInfo": {
     "elapsed": 154,
     "status": "ok",
     "timestamp": 1681570303856,
     "user": {
      "displayName": "Sloane Garelick",
      "userId": "04706287370408131987"
     },
     "user_tz": 240
    },
    "tags": []
   },
   "outputs": [],
   "source": [
    "temperature = xr.DataArray(rand_data)"
   ]
  },
  {
   "cell_type": "markdown",
   "metadata": {
    "execution": {},
    "slideshow": {
     "slide_type": "slide"
    }
   },
   "source": [
    "## `DataArray`: Manipulation\n",
    "\n",
    "Note a few things:\n",
    "\n",
    "1. It generates some basic dimension names for us (`dim_0`, `dim_1`, `dim_2`).\n",
    "\n",
    "2. Wrapping the numpy array in a `DataArray` gives us a rich display in the notebook.\n",
    "\n",
    "We will now improve on that."
   ]
  },
  {
   "cell_type": "code",
   "execution_count": null,
   "metadata": {},
   "outputs": [],
   "source": [
    "temperature"
   ]
  },
  {
   "cell_type": "markdown",
   "metadata": {
    "execution": {},
    "slideshow": {
     "slide_type": "slide"
    }
   },
   "source": [
    "## `DataArray`: Assign Dimension Names\n",
    "\n",
    "Much of the power of Xarray comes from making use of named dimensions. So let us add some more useful names.\n",
    "\n",
    "We can do that by passing an ordered list of names using the keyword argument `dims`:"
   ]
  },
  {
   "cell_type": "code",
   "execution_count": null,
   "metadata": {
    "execution": {},
    "executionInfo": {
     "elapsed": 511,
     "status": "ok",
     "timestamp": 1679942484345,
     "user": {
      "displayName": "Yosmely Tamira Bermudez Gutierrez",
      "userId": "07776907551108334395"
     },
     "user_tz": 180
    },
    "tags": []
   },
   "outputs": [],
   "source": [
    "temperature = xr.DataArray(rand_data, dims=[\"time\", \"lat\", \"lon\"])\n",
    "temperature"
   ]
  },
  {
   "cell_type": "markdown",
   "metadata": {
    "execution": {},
    "slideshow": {
     "slide_type": "slide"
    }
   },
   "source": [
    "## `DataArray`: Assign Dimension Names\n",
    "\n",
    "This is already an improvement over `numpy` arrays. \n",
    "\n",
    "Even better, we can associate arrays representing the values for the coordinates for each of these dimensions with the data when we create the `DataArray`.\n",
    "\n",
    "Now let us create a full `DataArray`, with other attributes."
   ]
  },
  {
   "cell_type": "markdown",
   "metadata": {
    "execution": {},
    "slideshow": {
     "slide_type": "slide"
    }
   },
   "source": [
    "## `DataArray`: Make Time Coordinates\n",
    "\n",
    "Here we will use [Pandas](https://foundations.projectpythia.org/core/pandas.html) to create an array of [datetime data](https://foundations.projectpythia.org/core/datetime.html), which we will then use to create a `DataArray` with a named coordinate `time`.\n"
   ]
  },
  {
   "cell_type": "code",
   "execution_count": null,
   "metadata": {
    "execution": {},
    "executionInfo": {
     "elapsed": 656,
     "status": "ok",
     "timestamp": 1679942588784,
     "user": {
      "displayName": "Yosmely Tamira Bermudez Gutierrez",
      "userId": "07776907551108334395"
     },
     "user_tz": 180
    },
    "tags": []
   },
   "outputs": [],
   "source": [
    "times_index = pd.date_range(\"2024-04-01\", periods=5)\n",
    "times_index"
   ]
  },
  {
   "cell_type": "markdown",
   "metadata": {
    "execution": {},
    "slideshow": {
     "slide_type": "slide"
    }
   },
   "source": [
    "## `DataArray`: Make Space Coordinates\n",
    "\n",
    "We'll also create arrays to represent sample longitude and latitude:\n"
   ]
  },
  {
   "cell_type": "code",
   "execution_count": null,
   "metadata": {
    "execution": {},
    "tags": []
   },
   "outputs": [],
   "source": [
    "lons = np.linspace(-120, -60, 4)\n",
    "lats = np.linspace(25, 55, 3)"
   ]
  },
  {
   "cell_type": "code",
   "execution_count": null,
   "metadata": {},
   "outputs": [],
   "source": [
    "lons"
   ]
  },
  {
   "cell_type": "code",
   "execution_count": null,
   "metadata": {},
   "outputs": [],
   "source": [
    "lats"
   ]
  },
  {
   "cell_type": "markdown",
   "metadata": {
    "execution": {},
    "slideshow": {
     "slide_type": "slide"
    }
   },
   "source": [
    "## `DataArray`: Add all this info\n",
    "\n",
    "When we create the `DataArray` instance, we pass in the arrays we just created:"
   ]
  },
  {
   "cell_type": "code",
   "execution_count": null,
   "metadata": {
    "execution": {},
    "executionInfo": {
     "elapsed": 320,
     "status": "ok",
     "timestamp": 1679942603438,
     "user": {
      "displayName": "Yosmely Tamira Bermudez Gutierrez",
      "userId": "07776907551108334395"
     },
     "user_tz": 180
    },
    "tags": []
   },
   "outputs": [],
   "source": [
    "temperature = xr.DataArray(\n",
    "    rand_data, \n",
    "    coords=[times_index, lats, lons], \n",
    "    dims=[\"time\", \"lat\", \"lon\"]\n",
    ")\n",
    "temperature"
   ]
  },
  {
   "cell_type": "markdown",
   "metadata": {
    "execution": {},
    "slideshow": {
     "slide_type": "slide"
    }
   },
   "source": [
    "## `DataArray`: Set Useful Attributes\n",
    "\n",
    "We can also set some attribute metadata, which will help provide clear descriptions of the data. \n",
    "\n",
    "In this case, we can specify that we're looking at 'air_temperature' data and the units are 'kelvin'."
   ]
  },
  {
   "cell_type": "code",
   "execution_count": null,
   "metadata": {},
   "outputs": [],
   "source": [
    "temperature.attrs[\"units\"] = \"kelvin\"\n",
    "temperature.attrs[\"standard_name\"] = \"air_temperature\""
   ]
  },
  {
   "cell_type": "code",
   "execution_count": null,
   "metadata": {
    "execution": {},
    "executionInfo": {
     "elapsed": 445,
     "status": "ok",
     "timestamp": 1679942614596,
     "user": {
      "displayName": "Yosmely Tamira Bermudez Gutierrez",
      "userId": "07776907551108334395"
     },
     "user_tz": 180
    },
    "tags": []
   },
   "outputs": [],
   "source": [
    "temperature"
   ]
  },
  {
   "cell_type": "markdown",
   "metadata": {
    "execution": {},
    "slideshow": {
     "slide_type": "slide"
    }
   },
   "source": [
    "## `DataArray`: Attributes Are Not Preserved by Default\n",
    "\n",
    "If we perform a mathematical operaton with the `DataArray`, the coordinate values persist, but the attributes are lost. \n",
    "\n",
    "This because it is very challenging to know if the attribute metadata is still correct or appropriate after arbitrary arithmetic operations.\n",
    "\n",
    "To illustrate this, let's do a simple unit conversion from Kelvin to Celsius:"
   ]
  },
  {
   "cell_type": "code",
   "execution_count": null,
   "metadata": {
    "execution": {},
    "executionInfo": {
     "elapsed": 308,
     "status": "ok",
     "timestamp": 1679942626636,
     "user": {
      "displayName": "Yosmely Tamira Bermudez Gutierrez",
      "userId": "07776907551108334395"
     },
     "user_tz": 180
    },
    "tags": []
   },
   "outputs": [],
   "source": [
    "temperature_in_celsius = temperature - 273.15\n",
    "temperature_in_celsius"
   ]
  },
  {
   "cell_type": "markdown",
   "metadata": {
    "execution": {},
    "slideshow": {
     "slide_type": "slide"
    }
   },
   "source": [
    "## `DataArray`: Attributes Are Not Preserved by Default\n",
    "\n",
    "We usually wish to keep metadata with our dataset, even after manipulating the data. \n",
    "\n",
    "For example it can tell us what the units are of a variable of interest. \n",
    "\n",
    "So when you perform operations on your data, make sure to check that all the information you want is carried over. \n",
    "\n",
    "For an in-depth discussion of how Xarray handles metadata, you can find more information in the Xarray documents [here](http://xarray.pydata.org/en/stable/getting-started-guide/faq.html#approach-to-metadata)."
   ]
  },
  {
   "cell_type": "markdown",
   "metadata": {
    "execution": {},
    "slideshow": {
     "slide_type": "slide"
    }
   },
   "source": [
    "## `Dataset` and `DataArray`\n",
    "\n",
    "Along with `DataArray`, the other key object type in Xarray is the `Dataset`\n",
    "\n",
    "It is a dictionary-like container that holds one or more `DataArray`s, which can also optionally share coordinates (see docs [here](http://xarray.pydata.org/en/stable/user-guide/data-structures.html#dataset)).\n",
    "\n",
    "The most common way to create a `Dataset` object is to load data from a file (which we will practice in a later tutorial).\n",
    "\n",
    "Here, instead, we will create another `DataArray` and combine it with our `temperature` data.\n",
    "\n",
    "This will illustrate how the information about common coordinate axes is used."
   ]
  },
  {
   "cell_type": "markdown",
   "metadata": {
    "execution": {},
    "slideshow": {
     "slide_type": "slide"
    }
   },
   "source": [
    "## Pressure `DataArray` Using the Same Coordinates\n",
    "\n",
    "For our next `DataArray` example, we'll create a random array of `pressure` data in units of hectopascal (hPa).\n",
    "\n",
    "This code mirrors how we created the `temperature` object above."
   ]
  },
  {
   "cell_type": "code",
   "execution_count": null,
   "metadata": {
    "execution": {},
    "executionInfo": {
     "elapsed": 335,
     "status": "ok",
     "timestamp": 1679942669187,
     "user": {
      "displayName": "Yosmely Tamira Bermudez Gutierrez",
      "userId": "07776907551108334395"
     },
     "user_tz": 180
    },
    "tags": []
   },
   "outputs": [],
   "source": [
    "pressure_data = 1000.0 + 5 * np.random.randn(5, 3, 4)\n",
    "pressure = xr.DataArray(\n",
    "    pressure_data, coords=[times_index, lats, lons], dims=[\"time\", \"lat\", \"lon\"]\n",
    ")\n",
    "pressure.attrs[\"units\"] = \"hPa\"\n",
    "pressure.attrs[\"standard_name\"] = \"air_pressure\""
   ]
  },
  {
   "cell_type": "markdown",
   "metadata": {
    "execution": {},
    "slideshow": {
     "slide_type": "slide"
    }
   },
   "source": [
    "## Pressure `DataArray`"
   ]
  },
  {
   "cell_type": "code",
   "execution_count": null,
   "metadata": {},
   "outputs": [],
   "source": [
    "pressure"
   ]
  },
  {
   "cell_type": "markdown",
   "metadata": {
    "execution": {},
    "slideshow": {
     "slide_type": "slide"
    }
   },
   "source": [
    "## Creating a `Dataset` Object\n",
    "\n",
    "Each `DataArray` in our `Dataset` needs a name.\n",
    "\n",
    "The most straightforward way to create a `Dataset` with our `temperature` and `pressure` arrays is to pass a dictionary using the keyword argument `data_vars`:"
   ]
  },
  {
   "cell_type": "code",
   "execution_count": null,
   "metadata": {
    "execution": {},
    "executionInfo": {
     "elapsed": 322,
     "status": "ok",
     "timestamp": 1679942691730,
     "user": {
      "displayName": "Yosmely Tamira Bermudez Gutierrez",
      "userId": "07776907551108334395"
     },
     "user_tz": 180
    },
    "tags": []
   },
   "outputs": [],
   "source": [
    "ds = xr.Dataset(\n",
    "    data_vars = {\n",
    "        \"Temperature\": temperature, \n",
    "        \"Pressure\": pressure\n",
    "    }\n",
    ")"
   ]
  },
  {
   "cell_type": "markdown",
   "metadata": {
    "execution": {},
    "slideshow": {
     "slide_type": "slide"
    }
   },
   "source": [
    "## Creating a `Dataset` Object\n",
    "\n",
    "Notice that the `Dataset` object `ds` is aware that both data arrays sit on the same coordinate axes."
   ]
  },
  {
   "cell_type": "code",
   "execution_count": null,
   "metadata": {},
   "outputs": [],
   "source": [
    "ds"
   ]
  },
  {
   "cell_type": "markdown",
   "metadata": {
    "execution": {},
    "slideshow": {
     "slide_type": "slide"
    }
   },
   "source": [
    "## Access Data Variables and Coordinates in a `Dataset`\n",
    "\n",
    "We can pull out any of the individual `DataArray` objects in a few different ways.\n",
    "\n",
    "Using the \"dot\" notation:"
   ]
  },
  {
   "cell_type": "code",
   "execution_count": null,
   "metadata": {
    "execution": {},
    "executionInfo": {
     "elapsed": 678,
     "status": "ok",
     "timestamp": 1679942736703,
     "user": {
      "displayName": "Yosmely Tamira Bermudez Gutierrez",
      "userId": "07776907551108334395"
     },
     "user_tz": 180
    },
    "tags": []
   },
   "outputs": [],
   "source": [
    "ds.Pressure"
   ]
  },
  {
   "cell_type": "markdown",
   "metadata": {
    "execution": {},
    "slideshow": {
     "slide_type": "slide"
    }
   },
   "source": [
    "## Access Data Variables and Coordinates in a `Dataset`\n",
    "\n",
    "Or using dictionary access like this:"
   ]
  },
  {
   "cell_type": "code",
   "execution_count": null,
   "metadata": {
    "execution": {},
    "executionInfo": {
     "elapsed": 610,
     "status": "ok",
     "timestamp": 1679942746338,
     "user": {
      "displayName": "Yosmely Tamira Bermudez Gutierrez",
      "userId": "07776907551108334395"
     },
     "user_tz": 180
    },
    "tags": []
   },
   "outputs": [],
   "source": [
    "ds[\"Pressure\"]"
   ]
  },
  {
   "cell_type": "markdown",
   "metadata": {
    "execution": {},
    "slideshow": {
     "slide_type": "slide"
    }
   },
   "source": [
    "## Summary\n",
    "\n",
    "We just learned how to create `XArrray` `DataArray`s and `Dataset`s\n",
    "\n",
    "Next class we will see how this is useful for manipulating environmental science data."
   ]
  }
 ],
 "metadata": {
  "celltoolbar": "Slideshow",
  "colab": {
   "collapsed_sections": [],
   "include_colab_link": true,
   "name": "W1D1_Tutorial1",
   "provenance": [
    {
     "file_id": "1f2uyMuRNCH2LLG5u4Z4Tdb_OHLHB9saW",
     "timestamp": 1679941598643
    }
   ],
   "toc_visible": true
  },
  "kernel": {
   "display_name": "Python 3",
   "language": "python",
   "name": "python3"
  },
  "kernelspec": {
   "display_name": "Python 3 (ipykernel)",
   "language": "python",
   "name": "python3"
  },
  "language_info": {
   "codemirror_mode": {
    "name": "ipython",
    "version": 3
   },
   "file_extension": ".py",
   "mimetype": "text/x-python",
   "name": "python",
   "nbconvert_exporter": "python",
   "pygments_lexer": "ipython3",
   "version": "3.9.5"
  },
  "toc-autonumbering": false
 },
 "nbformat": 4,
 "nbformat_minor": 4
}
