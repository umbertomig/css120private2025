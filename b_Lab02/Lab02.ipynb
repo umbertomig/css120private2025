{
 "cells": [
  {
   "cell_type": "markdown",
   "id": "4a45aab6",
   "metadata": {
    "nbgrader": {
     "grade": false,
     "grade_id": "intro-cell",
     "locked": true,
     "schema_version": 3,
     "solution": false,
     "task": false
    }
   },
   "source": [
    "# Lab 02: CSS 120\n",
    "\n",
    "In this self-paced lab, you'll get hands-on practice with the following **concepts**:\n",
    "\n",
    "- Load data\n",
    "- Add data to `XArray`\n",
    "- Perform exploratory data analysis\n",
    "\n",
    "### Note on hidden tests\n",
    "\n",
    "Some of the questions in this lab will have **hidden tests**. This means that in addition to the `assert` statements you see in the code, there are *hidden* tests. The point is to check whether your code **generalizes** to other cases.\n",
    "\n",
    "The lab will notify you when/where there is a hidden test, even if you can't see it.\n",
    "\n",
    "### Motivation\n",
    "\n",
    "In this Lab, we will learn how to use XArray to perform simple operations. As you know, XArray provides an efficiency way to study climate data. We will study here the global land temperatures in cities around the world."
   ]
  },
  {
   "cell_type": "code",
   "execution_count": 1,
   "id": "4dd3c7d5",
   "metadata": {
    "nbgrader": {
     "grade": false,
     "grade_id": "cell-28b477107e6720ed",
     "locked": true,
     "schema_version": 3,
     "solution": false,
     "task": false
    }
   },
   "outputs": [],
   "source": [
    "# Importing packages\n",
    "import pandas as pd\n",
    "import numpy as np\n",
    "from matplotlib import pyplot as plt"
   ]
  },
  {
   "cell_type": "markdown",
   "id": "ceac587b",
   "metadata": {
    "nbgrader": {
     "grade": false,
     "grade_id": "q1-cell",
     "locked": true,
     "schema_version": 3,
     "solution": false,
     "task": false
    }
   },
   "source": [
    "## Question 01\n",
    "\n",
    "Load `Xarray` using its common alias (`xr`)."
   ]
  },
  {
   "cell_type": "code",
   "execution_count": 2,
   "id": "33bf9b35",
   "metadata": {
    "nbgrader": {
     "grade": false,
     "grade_id": "cell-d39a0941248e0e9c",
     "locked": false,
     "schema_version": 3,
     "solution": true,
     "task": false
    }
   },
   "outputs": [],
   "source": [
    "### BEGIN SOLUTION\n",
    "import xarray as xr\n",
    "### END SOLUTION"
   ]
  },
  {
   "cell_type": "code",
   "execution_count": 3,
   "id": "539694b7",
   "metadata": {
    "nbgrader": {
     "grade": true,
     "grade_id": "cell-33daa3a69d2b124b",
     "locked": true,
     "points": 1,
     "schema_version": 3,
     "solution": false,
     "task": false
    }
   },
   "outputs": [],
   "source": [
    "assert xr"
   ]
  },
  {
   "cell_type": "markdown",
   "id": "d9c0037e",
   "metadata": {
    "nbgrader": {
     "grade": false,
     "grade_id": "q02-cell",
     "locked": true,
     "schema_version": 3,
     "solution": false,
     "task": false
    }
   },
   "source": [
    "## Question 02\n",
    "\n",
    "The dataset we will use is in the folder of this lab. It is called `land_temp_city.csv`, and it holds the temperature in worldwide cities. Load it on pandas, saving it as `dat`."
   ]
  },
  {
   "cell_type": "code",
   "execution_count": 4,
   "id": "bdd125e2",
   "metadata": {
    "nbgrader": {
     "grade": false,
     "grade_id": "cell-a6ac96a88373be65",
     "locked": false,
     "schema_version": 3,
     "solution": true,
     "task": false
    }
   },
   "outputs": [],
   "source": [
    "### BEGIN SOLUTION\n",
    "dat = pd.read_csv(\"land_temp_city.csv\")\n",
    "### END SOLUTION"
   ]
  },
  {
   "cell_type": "code",
   "execution_count": 5,
   "id": "3c0b14e9",
   "metadata": {
    "nbgrader": {
     "grade": true,
     "grade_id": "cell-46c1fb7f4e9f0a8d",
     "locked": true,
     "points": 1,
     "schema_version": 3,
     "solution": false,
     "task": false
    }
   },
   "outputs": [],
   "source": [
    "assert dat.shape[0] == 8599212 and type(dat) == pd.DataFrame"
   ]
  },
  {
   "cell_type": "markdown",
   "id": "19f16a5b",
   "metadata": {
    "nbgrader": {
     "grade": false,
     "grade_id": "q03-cell",
     "locked": true,
     "schema_version": 3,
     "solution": false,
     "task": false
    }
   },
   "source": [
    "## Question 03\n",
    "\n",
    "To read correctly, you need to parse a few variables differently.\n",
    "\n",
    "Here are the variables:\n",
    "\n",
    "1. Variable `dt` as `date`. Save it as `dt`.\n",
    "2. Variable `Latitude` as `float`. Save it as `y`.\n",
    "3. Variable `Longitude` as `float`. Save it as `x`.\n",
    "\n",
    "For example, run the first line below to check the data about San Diego. They started collecting the average temperatures in January 1st, 1849. Moreover, the latitude is 32.95N and the longitude 117.77W."
   ]
  },
  {
   "cell_type": "code",
   "execution_count": 6,
   "id": "c280277f",
   "metadata": {
    "nbgrader": {
     "grade": false,
     "grade_id": "cell-4ea0ed0f6cc4a57b",
     "locked": true,
     "schema_version": 3,
     "solution": false,
     "task": false
    }
   },
   "outputs": [
    {
     "data": {
      "text/html": [
       "<div>\n",
       "<style scoped>\n",
       "    .dataframe tbody tr th:only-of-type {\n",
       "        vertical-align: middle;\n",
       "    }\n",
       "\n",
       "    .dataframe tbody tr th {\n",
       "        vertical-align: top;\n",
       "    }\n",
       "\n",
       "    .dataframe thead th {\n",
       "        text-align: right;\n",
       "    }\n",
       "</style>\n",
       "<table border=\"1\" class=\"dataframe\">\n",
       "  <thead>\n",
       "    <tr style=\"text-align: right;\">\n",
       "      <th></th>\n",
       "      <th>dt</th>\n",
       "      <th>AverageTemperature</th>\n",
       "      <th>AverageTemperatureUncertainty</th>\n",
       "      <th>City</th>\n",
       "      <th>Country</th>\n",
       "      <th>Latitude</th>\n",
       "      <th>Longitude</th>\n",
       "    </tr>\n",
       "  </thead>\n",
       "  <tbody>\n",
       "    <tr>\n",
       "      <th>6631274</th>\n",
       "      <td>1849-01-01</td>\n",
       "      <td>13.116</td>\n",
       "      <td>2.586</td>\n",
       "      <td>San Diego</td>\n",
       "      <td>United States</td>\n",
       "      <td>32.95N</td>\n",
       "      <td>117.77W</td>\n",
       "    </tr>\n",
       "    <tr>\n",
       "      <th>6631275</th>\n",
       "      <td>1849-02-01</td>\n",
       "      <td>12.656</td>\n",
       "      <td>1.882</td>\n",
       "      <td>San Diego</td>\n",
       "      <td>United States</td>\n",
       "      <td>32.95N</td>\n",
       "      <td>117.77W</td>\n",
       "    </tr>\n",
       "  </tbody>\n",
       "</table>\n",
       "</div>"
      ],
      "text/plain": [
       "                 dt  AverageTemperature  AverageTemperatureUncertainty  \\\n",
       "6631274  1849-01-01              13.116                          2.586   \n",
       "6631275  1849-02-01              12.656                          1.882   \n",
       "\n",
       "              City        Country Latitude Longitude  \n",
       "6631274  San Diego  United States   32.95N   117.77W  \n",
       "6631275  San Diego  United States   32.95N   117.77W  "
      ]
     },
     "execution_count": 6,
     "metadata": {},
     "output_type": "execute_result"
    }
   ],
   "source": [
    "dat.loc[dat.City == \"San Diego\"].head(2)"
   ]
  },
  {
   "cell_type": "markdown",
   "id": "c3f58a60",
   "metadata": {
    "nbgrader": {
     "grade": false,
     "grade_id": "cell-a3ccfdad16dd8e9b",
     "locked": true,
     "schema_version": 3,
     "solution": false,
     "task": false
    }
   },
   "source": [
    "On the other hand, they started collected data about Sydney, Australia, a few earlier. Sydney's latitude is 34.56S and its longitude 151.78E."
   ]
  },
  {
   "cell_type": "code",
   "execution_count": 7,
   "id": "b21e40e3",
   "metadata": {
    "nbgrader": {
     "grade": false,
     "grade_id": "cell-39577de7d6653a9a",
     "locked": true,
     "schema_version": 3,
     "solution": false,
     "task": false
    }
   },
   "outputs": [
    {
     "data": {
      "text/html": [
       "<div>\n",
       "<style scoped>\n",
       "    .dataframe tbody tr th:only-of-type {\n",
       "        vertical-align: middle;\n",
       "    }\n",
       "\n",
       "    .dataframe tbody tr th {\n",
       "        vertical-align: top;\n",
       "    }\n",
       "\n",
       "    .dataframe thead th {\n",
       "        text-align: right;\n",
       "    }\n",
       "</style>\n",
       "<table border=\"1\" class=\"dataframe\">\n",
       "  <thead>\n",
       "    <tr style=\"text-align: right;\">\n",
       "      <th></th>\n",
       "      <th>dt</th>\n",
       "      <th>AverageTemperature</th>\n",
       "      <th>AverageTemperatureUncertainty</th>\n",
       "      <th>City</th>\n",
       "      <th>Country</th>\n",
       "      <th>Latitude</th>\n",
       "      <th>Longitude</th>\n",
       "    </tr>\n",
       "  </thead>\n",
       "  <tbody>\n",
       "    <tr>\n",
       "      <th>7294154</th>\n",
       "      <td>1841-01-01</td>\n",
       "      <td>19.315</td>\n",
       "      <td>3.416</td>\n",
       "      <td>Sydney</td>\n",
       "      <td>Australia</td>\n",
       "      <td>34.56S</td>\n",
       "      <td>151.78E</td>\n",
       "    </tr>\n",
       "    <tr>\n",
       "      <th>7294155</th>\n",
       "      <td>1841-02-01</td>\n",
       "      <td>20.197</td>\n",
       "      <td>2.377</td>\n",
       "      <td>Sydney</td>\n",
       "      <td>Australia</td>\n",
       "      <td>34.56S</td>\n",
       "      <td>151.78E</td>\n",
       "    </tr>\n",
       "  </tbody>\n",
       "</table>\n",
       "</div>"
      ],
      "text/plain": [
       "                 dt  AverageTemperature  AverageTemperatureUncertainty  \\\n",
       "7294154  1841-01-01              19.315                          3.416   \n",
       "7294155  1841-02-01              20.197                          2.377   \n",
       "\n",
       "           City    Country Latitude Longitude  \n",
       "7294154  Sydney  Australia   34.56S   151.78E  \n",
       "7294155  Sydney  Australia   34.56S   151.78E  "
      ]
     },
     "execution_count": 7,
     "metadata": {},
     "output_type": "execute_result"
    }
   ],
   "source": [
    "dat.loc[dat.City == \"Sydney\"].head(2)"
   ]
  },
  {
   "cell_type": "markdown",
   "id": "280b816a",
   "metadata": {
    "nbgrader": {
     "grade": false,
     "grade_id": "cell-b681caea4d0761d0",
     "locked": true,
     "schema_version": 3,
     "solution": false,
     "task": false
    }
   },
   "source": [
    "I want you to:\n",
    "\n",
    "1. Transform the dates into datetime objects:\n",
    "    + *Hint*: check the most voted answer in StackOverflow in [this URL](https://stackoverflow.com/questions/28133018/convert-pandas-series-to-datetime-in-a-dataframe).\n",
    "2. Transform the latitudes so that:\n",
    "    + 32.95N becomes 32.95\n",
    "    + 34.56S becomes -34.56\n",
    "    + Save as `y`, since this is not the most adequate way to do this transformation (we will see later how to do it properly)\n",
    "    + *Hint*: Multiply by minus when `S` and keep the same sign when `N`.\n",
    "2. Transform the longitudes so that:\n",
    "    + 117.77W becomes -117.77\n",
    "    + 151.78E becomes 151.78\n",
    "    + Save as `x`, since this is not the most adequate way to do this transformation (we will see later how to do it properly)\n",
    "    + *Hint*: Multiply by minus when `W` and keep the same sign when `E`.\n",
    "    \n",
    "A hint for for (2) and (3) is to check out these functions:"
   ]
  },
  {
   "cell_type": "code",
   "execution_count": 8,
   "id": "bdaf8d55",
   "metadata": {
    "nbgrader": {
     "grade": false,
     "grade_id": "cell-68654283f72c5482",
     "locked": true,
     "schema_version": 3,
     "solution": false,
     "task": false
    }
   },
   "outputs": [
    {
     "data": {
      "text/plain": [
       "('W', 'N')"
      ]
     },
     "execution_count": 8,
     "metadata": {},
     "output_type": "execute_result"
    }
   ],
   "source": [
    "extract_last_letter = lambda x: x[-1]\n",
    "extract_last_letter(\"117.77W\"), extract_last_letter(\"32.95N\")"
   ]
  },
  {
   "cell_type": "code",
   "execution_count": 9,
   "id": "0517cded",
   "metadata": {
    "nbgrader": {
     "grade": false,
     "grade_id": "cell-b1047db6477bdb52",
     "locked": true,
     "schema_version": 3,
     "solution": false,
     "task": false
    }
   },
   "outputs": [
    {
     "data": {
      "text/plain": [
       "(117.77, 32.95)"
      ]
     },
     "execution_count": 9,
     "metadata": {},
     "output_type": "execute_result"
    }
   ],
   "source": [
    "all_but_last_letter = lambda x: float(x[0:-1])\n",
    "all_but_last_letter(\"117.77W\"), all_but_last_letter(\"32.95N\")"
   ]
  },
  {
   "cell_type": "code",
   "execution_count": 10,
   "id": "b521c972",
   "metadata": {
    "nbgrader": {
     "grade": false,
     "grade_id": "cell-a6926ce66023eff4",
     "locked": false,
     "schema_version": 3,
     "solution": true,
     "task": false
    }
   },
   "outputs": [],
   "source": [
    "### BEGIN SOLUTION\n",
    "dat.dt = pd.to_datetime(dat.dt)\n",
    "dat[\"y\"] = dat.Latitude.apply(lambda x: np.where(extract_last_letter(x) == 'S', -1, 1) * all_but_last_letter(x))\n",
    "dat[\"x\"] = dat.Longitude.apply(lambda x: np.where(extract_last_letter(x) == 'W', -1, 1) * all_but_last_letter(x))\n",
    "### END SOLUTION"
   ]
  },
  {
   "cell_type": "code",
   "execution_count": 11,
   "id": "90ad9fa0",
   "metadata": {
    "nbgrader": {
     "grade": true,
     "grade_id": "cell-337a7390947f3aa5",
     "locked": true,
     "points": 1,
     "schema_version": 3,
     "solution": false,
     "task": false
    }
   },
   "outputs": [],
   "source": [
    "assert dat.dt.sample(n = 1).dtype == '<M8[ns]'"
   ]
  },
  {
   "cell_type": "code",
   "execution_count": 12,
   "id": "90aa4a5a",
   "metadata": {
    "nbgrader": {
     "grade": true,
     "grade_id": "cell-853b786b9b0ceccb",
     "locked": true,
     "points": 1,
     "schema_version": 3,
     "solution": false,
     "task": false
    }
   },
   "outputs": [],
   "source": [
    "assert dat.x.sample(n = 1).dtype.kind == dat.y.sample(n = 1).dtype.kind"
   ]
  },
  {
   "cell_type": "code",
   "execution_count": 13,
   "id": "f770790c",
   "metadata": {
    "nbgrader": {
     "grade": true,
     "grade_id": "cell-129169c74ced263e",
     "locked": true,
     "points": 1,
     "schema_version": 3,
     "solution": false,
     "task": false
    }
   },
   "outputs": [],
   "source": [
    "assert dat.y.mean() == 25.675397306171796 and dat.loc[dat.Country == \"Brazil\"].x.mean() == -45.956917511249415"
   ]
  },
  {
   "cell_type": "markdown",
   "id": "d0519a85",
   "metadata": {
    "nbgrader": {
     "grade": false,
     "grade_id": "q04-cell",
     "locked": true,
     "schema_version": 3,
     "solution": false,
     "task": false
    }
   },
   "source": [
    "## Question 04\n",
    "\n",
    "Plot the San Diego temperature over time. Save the plot in the `sdplot` object.\n",
    "\n",
    "Step by step suggestion:\n",
    "\n",
    "1. Start with filtering the San Diego data. Save in a different object (I usually save something temporary with the word `aux`)\n",
    "2. Keep only `AverageTemperature` and `dt`\n",
    "3. Make `dt` as the index using the `.set_index` function (see [this](https://pandas.pydata.org/pandas-docs/stable/reference/api/pandas.DataFrame.set_index.html)).\n",
    "3. Make the plot placing the index (`dt`) in the `x`-axis and the temperature in the `y`-axis (hint [here](https://www.geeksforgeeks.org/time-series-plot-or-line-plot-with-pandas/))"
   ]
  },
  {
   "cell_type": "code",
   "execution_count": 14,
   "id": "1ae29011",
   "metadata": {
    "nbgrader": {
     "grade": false,
     "grade_id": "cell-14a4033de48a2378",
     "locked": true,
     "schema_version": 3,
     "solution": false,
     "task": false
    }
   },
   "outputs": [],
   "source": [
    "sd_plot = ..."
   ]
  },
  {
   "cell_type": "code",
   "execution_count": 15,
   "id": "b675c6c2",
   "metadata": {
    "nbgrader": {
     "grade": false,
     "grade_id": "cell-660c23dedc0a904b",
     "locked": false,
     "schema_version": 3,
     "solution": true,
     "task": false
    }
   },
   "outputs": [
    {
     "data": {
      "image/png": "[encoded data removed]",
      "text/plain": [
       "<Figure size 432x288 with 1 Axes>"
      ]
     },
     "metadata": {
      "needs_background": "light"
     },
     "output_type": "display_data"
    }
   ],
   "source": [
    "### BEGIN SOLUTION\n",
    "aux = dat.loc[dat.City == \"San Diego\"][[\"dt\", \"AverageTemperature\"]]\n",
    "aux = aux.set_index(\"dt\")\n",
    "sd_plot = aux.plot()\n",
    "### END SOLUTION"
   ]
  },
  {
   "cell_type": "code",
   "execution_count": 16,
   "id": "ad3ac83f",
   "metadata": {
    "nbgrader": {
     "grade": true,
     "grade_id": "cell-21bdfd0159d9c9ff",
     "locked": true,
     "points": 1,
     "schema_version": 3,
     "solution": false,
     "task": false
    }
   },
   "outputs": [],
   "source": [
    "## This cell may contain a hidden test\n",
    "assert sd_plot"
   ]
  },
  {
   "cell_type": "markdown",
   "id": "e903687c",
   "metadata": {
    "nbgrader": {
     "grade": false,
     "grade_id": "q05-cell",
     "locked": true,
     "schema_version": 3,
     "solution": false,
     "task": false
    }
   },
   "source": [
    "## Question 05\n",
    "\n",
    "Filter the dataset to keep only data starting from 1950-01-01 and on. Save as `dat2`.\n",
    "\n",
    "- Hint 1: [Filter dates on pandas](https://stackoverflow.com/questions/22898824/filtering-pandas-dataframes-on-dates)\n",
    "\n",
    "- Hint 2: In case you are curious why the date is in \"YYYY-MM-DD\" format, see [this](https://www.iso.org/iso-8601-date-and-time-format.html)."
   ]
  },
  {
   "cell_type": "code",
   "execution_count": 17,
   "id": "5b2285dc",
   "metadata": {
    "nbgrader": {
     "grade": false,
     "grade_id": "cell-745dd2d552aedbfb",
     "locked": true,
     "schema_version": 3,
     "solution": false,
     "task": false
    }
   },
   "outputs": [],
   "source": [
    "dat2 = ..."
   ]
  },
  {
   "cell_type": "code",
   "execution_count": 18,
   "id": "35810c2e",
   "metadata": {
    "nbgrader": {
     "grade": false,
     "grade_id": "cell-40c324465401933f",
     "locked": false,
     "schema_version": 3,
     "solution": true,
     "task": false
    }
   },
   "outputs": [],
   "source": [
    "### BEGIN SOLUTION\n",
    "dat2 = dat[dat.dt >= '1950-01-01']\n",
    "### END SOLUTION"
   ]
  },
  {
   "cell_type": "code",
   "execution_count": 19,
   "id": "77ede7cc",
   "metadata": {
    "nbgrader": {
     "grade": true,
     "grade_id": "cell-394b37fc7f1d8a22",
     "locked": true,
     "points": 1,
     "schema_version": 3,
     "solution": false,
     "task": false
    }
   },
   "outputs": [],
   "source": [
    "assert dat2.shape == (2685150, 9)"
   ]
  },
  {
   "cell_type": "code",
   "execution_count": 20,
   "id": "d7215e5e",
   "metadata": {
    "nbgrader": {
     "grade": false,
     "grade_id": "cell-e0eadcee12d762d5",
     "locked": true,
     "schema_version": 3,
     "solution": false,
     "task": false
    }
   },
   "outputs": [],
   "source": [
    "# Somewhat relevant for next steps...\n",
    "dat2 = dat2.reset_index(drop = True)\n",
    "dat2 = dat[dat.dt >= '1950-01-01']"
   ]
  },
  {
   "cell_type": "markdown",
   "id": "928fad9f",
   "metadata": {
    "nbgrader": {
     "grade": false,
     "grade_id": "q06-cell",
     "locked": true,
     "schema_version": 3,
     "solution": false,
     "task": false
    }
   },
   "source": [
    "## Question 06\n",
    "\n",
    "Now we are going to import the data to `XArray`. First, keep only the variables:\n",
    "\n",
    "```python\n",
    "vars_to_keep = ['dt', 'x', 'y', 'AverageTemperature']\n",
    "```\n",
    "\n",
    "Second, we need to drop the duplicates:\n",
    "\n",
    "```python\n",
    "dat2[vars_to_keep].drop_duplicates()\n",
    "```\n",
    "\n",
    "Then, adapt this example:\n",
    "\n",
    "```python\n",
    "dat2 = dat2.set_index(['ind1', 'ind2', 'ind3'])\n",
    "dat2.to_xarray()\n",
    "```\n",
    "\n",
    "Changing where needed. Here is the example function documentation: https://pandas.pydata.org/pandas-docs/stable/reference/api/pandas.DataFrame.to_xarray.html"
   ]
  },
  {
   "cell_type": "code",
   "execution_count": 21,
   "id": "8f7eb796",
   "metadata": {
    "nbgrader": {
     "grade": false,
     "grade_id": "cell-a66d95beb8fb4a27",
     "locked": true,
     "schema_version": 3,
     "solution": false,
     "task": false
    }
   },
   "outputs": [],
   "source": [
    "ds = ...\n",
    "vars_to_keep = ['dt', 'x', 'y', 'AverageTemperature', 'City', 'Country']"
   ]
  },
  {
   "cell_type": "code",
   "execution_count": 22,
   "id": "26bd1213",
   "metadata": {},
   "outputs": [],
   "source": [
    "dat2 = dat[dat.dt >= '1950-01-01']\n",
    "dat2 = dat2.dropna()\n",
    "dat2[['City', 'Country']] = dat2[['City', 'Country']].astype('category')\n",
    "dat2 = dat2.reset_index(drop = True)"
   ]
  },
  {
   "cell_type": "code",
   "execution_count": null,
   "id": "e70450dc",
   "metadata": {
    "nbgrader": {
     "grade": false,
     "grade_id": "cell-0d037aa77e24b657",
     "locked": false,
     "schema_version": 3,
     "solution": true,
     "task": false
    }
   },
   "outputs": [],
   "source": [
    "### BEGIN SOLUTION\n",
    "dat2 = dat2[vars_to_keep].drop_duplicates()\n",
    "dat2 = dat2.set_index(['dt', 'x', 'y'])\n",
    "dat2 = dat2.groupby(level = dat2.index.names).nth(0)\n",
    "ds = dat2.to_xarray()\n",
    "### END SOLUTION"
   ]
  },
  {
   "cell_type": "code",
   "execution_count": null,
   "id": "417a8774",
   "metadata": {},
   "outputs": [],
   "source": [
    "ds.to_netcdf(path = 'city_temps.nc')"
   ]
  },
  {
   "cell_type": "code",
   "execution_count": null,
   "id": "1a112f5c",
   "metadata": {
    "nbgrader": {
     "grade": true,
     "grade_id": "cell-f138df5ca12d61f2",
     "locked": true,
     "points": 1,
     "schema_version": 3,
     "solution": false,
     "task": false
    }
   },
   "outputs": [],
   "source": [
    "assert np.isclose(ds.AverageTemperature.mean().to_numpy(), 17.52345202)"
   ]
  },
  {
   "cell_type": "code",
   "execution_count": null,
   "id": "382560c9",
   "metadata": {},
   "outputs": [],
   "source": [
    "ds.to_netcdf('avg_temps.nc')"
   ]
  },
  {
   "cell_type": "markdown",
   "id": "8ef6ad15",
   "metadata": {
    "nbgrader": {
     "grade": false,
     "grade_id": "q07-cell",
     "locked": true,
     "schema_version": 3,
     "solution": false,
     "task": false
    }
   },
   "source": [
    "## Question 07\n",
    "\n",
    "Plot the same graph with San Diego. Just as a reminder, you need to select the:\n",
    "\n",
    "- `x = -117.77`\n",
    "- `y = 32.95`\n",
    "\n",
    "It should be way easier than with base pandas.\n",
    "\n",
    "Step-by-step:\n",
    "\n",
    "1. Select the coordinates.\n",
    "2. Use the plot function."
   ]
  },
  {
   "cell_type": "code",
   "execution_count": null,
   "id": "85d050d7",
   "metadata": {
    "nbgrader": {
     "grade": false,
     "grade_id": "cell-66b91c33d64347ea",
     "locked": true,
     "schema_version": 3,
     "solution": false,
     "task": false
    }
   },
   "outputs": [],
   "source": [
    "ds_plot_2 = ..."
   ]
  },
  {
   "cell_type": "code",
   "execution_count": null,
   "id": "a9eedd15",
   "metadata": {
    "nbgrader": {
     "grade": false,
     "grade_id": "cell-08b37e4fab67f12b",
     "locked": false,
     "schema_version": 3,
     "solution": true,
     "task": false
    }
   },
   "outputs": [],
   "source": [
    "### BEGIN SOLUTION\n",
    "ds_plot_2 = ds.AverageTemperature.sel(x = -117.77, y = 32.95).plot()\n",
    "### END SOLUTION"
   ]
  },
  {
   "cell_type": "code",
   "execution_count": null,
   "id": "13e048f6",
   "metadata": {
    "nbgrader": {
     "grade": true,
     "grade_id": "cell-1509676154845be9",
     "locked": true,
     "points": 1,
     "schema_version": 3,
     "solution": false,
     "task": false
    }
   },
   "outputs": [],
   "source": [
    "# This cell may have a hidden test\n",
    "assert ds_plot_2"
   ]
  },
  {
   "cell_type": "markdown",
   "id": "02d5a796",
   "metadata": {
    "nbgrader": {
     "grade": false,
     "grade_id": "q08-cell",
     "locked": true,
     "schema_version": 3,
     "solution": false,
     "task": false
    }
   },
   "source": [
    "## Question 08\n",
    "\n",
    "Compute the mean temperature accross all cities, and save it in the object `mean_temp`. Then, plot it.\n",
    "\n",
    "Hint: Think hard about how to aggregate correctly."
   ]
  },
  {
   "cell_type": "code",
   "execution_count": null,
   "id": "9d09b97a",
   "metadata": {},
   "outputs": [],
   "source": [
    "mean_temp = ..."
   ]
  },
  {
   "cell_type": "code",
   "execution_count": null,
   "id": "b0a1498d",
   "metadata": {
    "nbgrader": {
     "grade": false,
     "grade_id": "cell-910302ae9c152cc4",
     "locked": false,
     "schema_version": 3,
     "solution": true,
     "task": false
    }
   },
   "outputs": [],
   "source": [
    "### BEGIN SOLUTION\n",
    "mean_temp = ds.AverageTemperature.mean(dim = ['x', 'y'])\n",
    "mean_temp.plot()\n",
    "### END SOLUTION"
   ]
  },
  {
   "cell_type": "code",
   "execution_count": null,
   "id": "bca4dd89",
   "metadata": {
    "nbgrader": {
     "grade": true,
     "grade_id": "cell-6182a271aa05f41a",
     "locked": true,
     "points": 0.5,
     "schema_version": 3,
     "solution": false,
     "task": false
    }
   },
   "outputs": [],
   "source": [
    "assert type(mean_temp) == xr.core.dataarray.DataArray"
   ]
  },
  {
   "cell_type": "code",
   "execution_count": null,
   "id": "c7783d24",
   "metadata": {
    "nbgrader": {
     "grade": true,
     "grade_id": "cell-beccf34a35bdc3af",
     "locked": true,
     "points": 0.5,
     "schema_version": 3,
     "solution": false,
     "task": false
    }
   },
   "outputs": [],
   "source": [
    "assert mean_temp.to_numpy()[3] == 17.69738579795022"
   ]
  },
  {
   "cell_type": "markdown",
   "id": "ad0226c2",
   "metadata": {
    "nbgrader": {
     "grade": false,
     "grade_id": "cell-d742905c25ffa28b",
     "locked": true,
     "schema_version": 3,
     "solution": false,
     "task": false
    }
   },
   "source": [
    "### Great work!"
   ]
  }
 ],
 "metadata": {
  "celltoolbar": "Create Assignment",
  "kernelspec": {
   "display_name": "Python 3 (ipykernel)",
   "language": "python",
   "name": "python3"
  },
  "language_info": {
   "codemirror_mode": {
    "name": "ipython",
    "version": 3
   },
   "file_extension": ".py",
   "mimetype": "text/x-python",
   "name": "python",
   "nbconvert_exporter": "python",
   "pygments_lexer": "ipython3",
   "version": "3.9.5"
  }
 },
 "nbformat": 4,
 "nbformat_minor": 5
}
