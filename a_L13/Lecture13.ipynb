{
 "cells": [
  {
   "cell_type": "markdown",
   "id": "852ab240",
   "metadata": {
    "execution": {},
    "slideshow": {
     "slide_type": "slide"
    }
   },
   "source": [
    "# CSS 120: Environmental Data Science\n",
    "\n",
    "## Long-term climate processes, Xarray operations, and anomalies\n",
    "\n",
    "### Umberto Mignozzetti\n",
    "\n",
    "(Based on [Climatematch Academy](https://comptools.climatematch.io/tutorials/W1D1_ClimateSystemOverview/student/W1D1_Tutorial4.html))"
   ]
  },
  {
   "cell_type": "markdown",
   "id": "e8282f87",
   "metadata": {
    "execution": {},
    "slideshow": {
     "slide_type": "slide"
    }
   },
   "source": [
    "# Packages"
   ]
  },
  {
   "cell_type": "code",
   "execution_count": null,
   "id": "70f262ae",
   "metadata": {
    "execution": {}
   },
   "outputs": [],
   "source": [
    "# imports\n",
    "from datetime import timedelta\n",
    "import numpy as np\n",
    "import pandas as pd\n",
    "import xarray as xr\n",
    "from matplotlib import pyplot as plt\n",
    "from pythia_datasets import DATASETS"
   ]
  },
  {
   "cell_type": "markdown",
   "id": "0ff37248",
   "metadata": {
    "slideshow": {
     "slide_type": "slide"
    }
   },
   "source": [
    "##  Some Environmental Sciences\n",
    "\n",
    "### Milankovich Orbital Cycles\n",
    "\n",
    "To be able to understand our impact in the planet's temperature, we need to have a benchmark.\n",
    "\n",
    "Usually we use the long term temperature variations to certify that some change is anomalous or not.\n",
    "\n",
    "But the environment in the long run has many different forcings.\n",
    "\n",
    "One important process here are the orbital cycles."
   ]
  },
  {
   "cell_type": "markdown",
   "id": "29f32825",
   "metadata": {
    "slideshow": {
     "slide_type": "slide"
    }
   },
   "source": [
    "##  Some Environmental Sciences\n",
    "\n",
    "### Milankovich Orbital Cycles\n",
    "\n",
    "![](l13img01.jpg)"
   ]
  },
  {
   "cell_type": "markdown",
   "id": "4e2889e7",
   "metadata": {
    "slideshow": {
     "slide_type": "slide"
    }
   },
   "source": [
    "##  Some Environmental Sciences\n",
    "\n",
    "### Milankovich Orbital Cycles\n",
    "\n",
    "![](l13img02.jpg)"
   ]
  },
  {
   "cell_type": "markdown",
   "id": "5b8ebc75",
   "metadata": {
    "slideshow": {
     "slide_type": "slide"
    }
   },
   "source": [
    "##  Some Environmental Sciences\n",
    "\n",
    "### Milankovich Orbital Cycles\n",
    "\n",
    "![](l13img03.png)"
   ]
  },
  {
   "cell_type": "markdown",
   "id": "30933f72",
   "metadata": {
    "slideshow": {
     "slide_type": "slide"
    }
   },
   "source": [
    "##  Some Environmental Sciences\n",
    "\n",
    "### Milankovich Orbital Cycles\n",
    "\n",
    "![](l13img04.png)"
   ]
  },
  {
   "cell_type": "markdown",
   "id": "f44c1c67",
   "metadata": {
    "slideshow": {
     "slide_type": "slide"
    }
   },
   "source": [
    "##  Some Environmental Sciences\n",
    "\n",
    "### Milankovich Orbital Cycles\n",
    "\n",
    "![](l13img05.png)"
   ]
  },
  {
   "cell_type": "markdown",
   "id": "b3f4e108-f55e-4c25-a00d-99dc00ba849a",
   "metadata": {
    "execution": {},
    "slideshow": {
     "slide_type": "slide"
    },
    "tags": []
   },
   "source": [
    "# Compute Anomaly\n",
    "\n",
    "First, let us load the data:"
   ]
  },
  {
   "cell_type": "code",
   "execution_count": null,
   "id": "7837f8bd-da89-4718-ab02-d5107576d2d6",
   "metadata": {
    "execution": {},
    "executionInfo": {
     "elapsed": 303,
     "status": "ok",
     "timestamp": 1681569406112,
     "user": {
      "displayName": "Sloane Garelick",
      "userId": "04706287370408131987"
     },
     "user_tz": 240
    },
    "tags": []
   },
   "outputs": [],
   "source": [
    "filepath = DATASETS.fetch(\"CESM2_sst_data.nc\")\n",
    "ds = xr.open_dataset(filepath)\n",
    "ds"
   ]
  },
  {
   "cell_type": "markdown",
   "id": "8cabb77f",
   "metadata": {
    "execution": {},
    "slideshow": {
     "slide_type": "slide"
    }
   },
   "source": [
    "# Compute Anomaly\n",
    "\n",
    "Let us now:\n",
    "\n",
    "1. Split the dataset by month\n",
    "2. Compute monthly averages\n",
    "3. Take the difference to look at deviations from the monthly averages\n",
    "\n",
    "This will show us the temperature anomalies."
   ]
  },
  {
   "cell_type": "markdown",
   "id": "820d1280",
   "metadata": {
    "execution": {},
    "slideshow": {
     "slide_type": "slide"
    }
   },
   "source": [
    "# Compute Anomaly\n",
    "\n",
    "Steps (1) to (3):"
   ]
  },
  {
   "cell_type": "code",
   "execution_count": null,
   "id": "cbe80157",
   "metadata": {
    "execution": {}
   },
   "outputs": [],
   "source": [
    "# group all data by month\n",
    "gb = ds.tos.groupby(\"time.month\")\n",
    "\n",
    "# take the mean over time to get monthly averages\n",
    "tos_clim = gb.mean(dim = \"time\")\n",
    "\n",
    "# subtract this mean from all data of the same month\n",
    "tos_anom = gb - tos_clim"
   ]
  },
  {
   "cell_type": "markdown",
   "id": "6a185c07",
   "metadata": {
    "execution": {},
    "slideshow": {
     "slide_type": "slide"
    }
   },
   "source": [
    "# Compute Anomaly\n",
    "\n",
    "Results:"
   ]
  },
  {
   "cell_type": "code",
   "execution_count": null,
   "id": "09542eab-998d-4b2d-807c-dccd5bd4329e",
   "metadata": {
    "execution": {},
    "executionInfo": {
     "elapsed": 14,
     "status": "ok",
     "timestamp": 1681569533895,
     "user": {
      "displayName": "Sloane Garelick",
      "userId": "04706287370408131987"
     },
     "user_tz": 240
    },
    "tags": []
   },
   "outputs": [],
   "source": [
    "tos_anom"
   ]
  },
  {
   "cell_type": "markdown",
   "id": "6f35c8d6-b0e6-4371-ad80-e182ffcec51b",
   "metadata": {
    "execution": {},
    "slideshow": {
     "slide_type": "slide"
    }
   },
   "source": [
    "# Compute Anomaly\n",
    "\n",
    "A plot may be more helpful in here. For a given location, the plot would be:"
   ]
  },
  {
   "cell_type": "code",
   "execution_count": null,
   "id": "78c1ffc2-45cb-40cc-962e-c76021d9ab1c",
   "metadata": {
    "execution": {},
    "executionInfo": {
     "elapsed": 12,
     "status": "ok",
     "timestamp": 1681569537428,
     "user": {
      "displayName": "Sloane Garelick",
      "userId": "04706287370408131987"
     },
     "user_tz": 240
    },
    "tags": []
   },
   "outputs": [],
   "source": [
    "tos_anom.sel(\n",
    "    lon = 310, \n",
    "    lat = 50, \n",
    "    method = \"nearest\"\n",
    ").plot()"
   ]
  },
  {
   "cell_type": "markdown",
   "id": "0bebb17b-6906-4ba7-a4ff-c07a9206e790",
   "metadata": {
    "execution": {},
    "slideshow": {
     "slide_type": "slide"
    },
    "tags": []
   },
   "source": [
    "# Compute Anomaly\n",
    "\n",
    "**Your turn**: Change the location and check. Can you pick a place closer to San Diego?"
   ]
  },
  {
   "cell_type": "code",
   "execution_count": null,
   "id": "9f75f99e",
   "metadata": {
    "execution": {},
    "executionInfo": {
     "elapsed": 12,
     "status": "ok",
     "timestamp": 1681569537428,
     "user": {
      "displayName": "Sloane Garelick",
      "userId": "04706287370408131987"
     },
     "user_tz": 240
    },
    "tags": []
   },
   "outputs": [],
   "source": [
    "## Answers here"
   ]
  },
  {
   "cell_type": "markdown",
   "id": "e6f15eca",
   "metadata": {
    "execution": {},
    "slideshow": {
     "slide_type": "slide"
    }
   },
   "source": [
    "# Compute Anomaly\n",
    "\n",
    "How about the global anomaly? We can compute that by aggregating on `lat` and `lon`:"
   ]
  },
  {
   "cell_type": "code",
   "execution_count": null,
   "id": "06e3bfff",
   "metadata": {
    "execution": {},
    "tags": []
   },
   "outputs": [],
   "source": [
    "unweighted_mean_global_anom = tos_anom.mean(\n",
    "    dim=[\"lat\", \"lon\"]\n",
    ")\n",
    "unweighted_mean_global_anom.plot()"
   ]
  },
  {
   "cell_type": "markdown",
   "id": "01bfdf21",
   "metadata": {
    "execution": {},
    "slideshow": {
     "slide_type": "slide"
    }
   },
   "source": [
    "# Compute Anomaly\n",
    "\n",
    "However, this result does not take into account that grid cells vary in size.\n",
    "\n",
    "For instance, take a look at the grid below:\n",
    "\n",
    "![](l13img06.png)\n",
    "\n",
    "Closer to the equator, the grids are larger. So, we need to reweight. That's why the name *unweighted* above."
   ]
  },
  {
   "cell_type": "markdown",
   "id": "51177855",
   "metadata": {
    "execution": {},
    "slideshow": {
     "slide_type": "slide"
    }
   },
   "source": [
    "# Compute Anomaly\n",
    "\n",
    "`Xarray` [`.weighted()`](https://xarray.pydata.org/en/stable/user-guide/computation.html#weighted-array-reductions) method helps with this.\n",
    "\n",
    "First, let us load the grid cell area data:"
   ]
  },
  {
   "cell_type": "code",
   "execution_count": null,
   "id": "400c3dab",
   "metadata": {
    "execution": {},
    "slideshow": {
     "slide_type": "-"
    },
    "tags": []
   },
   "outputs": [],
   "source": [
    "filepath2 = DATASETS.fetch(\"CESM2_grid_variables.nc\")\n",
    "areacello = xr.open_dataset(filepath2).areacello\n",
    "areacello"
   ]
  },
  {
   "cell_type": "markdown",
   "id": "e8bd66b3",
   "metadata": {
    "execution": {},
    "slideshow": {
     "slide_type": "slide"
    }
   },
   "source": [
    "# Compute Anomaly\n",
    "\n",
    "Then, let us compute the weighted mean using the `areacello` data:"
   ]
  },
  {
   "cell_type": "code",
   "execution_count": null,
   "id": "5d397f30",
   "metadata": {
    "execution": {},
    "slideshow": {
     "slide_type": "-"
    },
    "tags": []
   },
   "outputs": [],
   "source": [
    "weighted_mean_global_anom = tos_anom.weighted(\n",
    "    areacello\n",
    ").mean(\n",
    "    dim = [\"lat\", \"lon\"]\n",
    ")"
   ]
  },
  {
   "cell_type": "markdown",
   "id": "a4d79093-f013-4821-84f8-3c223141046e",
   "metadata": {
    "execution": {},
    "slideshow": {
     "slide_type": "slide"
    }
   },
   "source": [
    "# Compute Anomaly\n",
    "\n",
    "Now we can compute the weighted and the unweighted mean, and see their differences:"
   ]
  },
  {
   "cell_type": "code",
   "execution_count": null,
   "id": "59b84034-7d42-4080-932f-0eefd165953d",
   "metadata": {
    "execution": {},
    "executionInfo": {
     "elapsed": 297,
     "status": "ok",
     "timestamp": 1681569542731,
     "user": {
      "displayName": "Sloane Garelick",
      "userId": "04706287370408131987"
     },
     "user_tz": 240
    },
    "slideshow": {
     "slide_type": "-"
    },
    "tags": []
   },
   "outputs": [],
   "source": [
    "unweighted_mean_global_anom.plot(size=7)\n",
    "weighted_mean_global_anom.plot()\n",
    "plt.legend([\"unweighted\", \"weighted\"])"
   ]
  },
  {
   "cell_type": "markdown",
   "id": "a75e0064-4363-4328-9a79-d87475ed1c81",
   "metadata": {
    "execution": {},
    "slideshow": {
     "slide_type": "slide"
    }
   },
   "source": [
    "# Compute Anomaly\n",
    "\n",
    "**Your turn**: Why do the calculations change when weighting by area?\n",
    "\n",
    "*Hint*: Think about how area, lat, and lon correlate."
   ]
  },
  {
   "cell_type": "markdown",
   "id": "5b2911ed",
   "metadata": {
    "slideshow": {
     "slide_type": "slide"
    }
   },
   "source": [
    "## Questions?"
   ]
  },
  {
   "cell_type": "markdown",
   "id": "4bed61ec",
   "metadata": {
    "slideshow": {
     "slide_type": "slide"
    }
   },
   "source": [
    "## See you next week!"
   ]
  }
 ],
 "metadata": {
  "celltoolbar": "Slideshow",
  "kernelspec": {
   "display_name": "Python 3 (ipykernel)",
   "language": "python",
   "name": "python3"
  },
  "language_info": {
   "codemirror_mode": {
    "name": "ipython",
    "version": 3
   },
   "file_extension": ".py",
   "mimetype": "text/x-python",
   "name": "python",
   "nbconvert_exporter": "python",
   "pygments_lexer": "ipython3",
   "version": "3.9.5"
  }
 },
 "nbformat": 4,
 "nbformat_minor": 5
}
