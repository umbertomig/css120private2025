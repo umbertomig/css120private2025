{
 "cells": [
  {
   "cell_type": "markdown",
   "id": "aafa853b",
   "metadata": {
    "execution": {},
    "slideshow": {
     "slide_type": "slide"
    }
   },
   "source": [
    "# CSS 120: Environmental Data Science\n",
    "\n",
    "## Environmental Data and Beyond\n",
    "\n",
    "(based on Pythia Project)"
   ]
  },
  {
   "cell_type": "markdown",
   "id": "aedbc889",
   "metadata": {
    "execution": {},
    "slideshow": {
     "slide_type": "slide"
    }
   },
   "source": [
    "# Today's Lecture\n",
    "\n",
    "Climate Sciences and Beyond:\n",
    "\n",
    "- What you learned in this class\n",
    "- What you should keep learning"
   ]
  },
  {
   "cell_type": "markdown",
   "id": "df6a1cff",
   "metadata": {
    "slideshow": {
     "slide_type": "slide"
    }
   },
   "source": [
    "## Solar Radiation and Earth's Energy Budget\n",
    "\n",
    "![](../../a_L09/l09img01.png)"
   ]
  },
  {
   "cell_type": "markdown",
   "id": "1ff11481",
   "metadata": {
    "slideshow": {
     "slide_type": "slide"
    }
   },
   "source": [
    "## Solar Radiation and Earth's Energy Budget\n",
    "\n",
    "![](../../a_L09/l09img02.png)"
   ]
  },
  {
   "cell_type": "markdown",
   "id": "eb62a7b8",
   "metadata": {
    "slideshow": {
     "slide_type": "slide"
    }
   },
   "source": [
    "## Solar Radiation and Earth's Energy Budget\n",
    "\n",
    "![](../../a_L09/l09img03.png)"
   ]
  },
  {
   "cell_type": "markdown",
   "id": "70773ca3",
   "metadata": {},
   "source": [
    "## Solar Radiation and Earth's Energy Budget\n",
    "\n",
    "![](../../a_L09/l09img04.png)"
   ]
  },
  {
   "cell_type": "markdown",
   "id": "8347f526",
   "metadata": {},
   "source": [
    "## Solar Radiation and Earth's Energy Budget\n",
    "\n",
    "![](../../a_L09/l09img05.png)"
   ]
  },
  {
   "cell_type": "markdown",
   "id": "6ef57dcf",
   "metadata": {},
   "source": [
    "## Atmospheric Climate Systems\n",
    "\n",
    "![](../../a_L10/l10img01.png)\n",
    "\n",
    "The movement of air masses on Earth depend on these phenomena."
   ]
  },
  {
   "cell_type": "markdown",
   "id": "4947f019",
   "metadata": {},
   "source": [
    "## Atmospheric Climate Systems\n",
    "\n",
    "![](../../a_L10/l10img02.png)"
   ]
  },
  {
   "cell_type": "markdown",
   "id": "92e35ff3",
   "metadata": {},
   "source": [
    "## Atmospheric Climate Systems\n",
    "\n",
    "![](../../a_L10/l10img03.png)"
   ]
  },
  {
   "cell_type": "markdown",
   "id": "db859d9d",
   "metadata": {},
   "source": [
    "## Terrestrial Temperature and Rainfall\n",
    "\n",
    "![](https://climatereanalyzer.org/clim/animations/scycle/World_ERAI_T2_scycle.gif)"
   ]
  },
  {
   "cell_type": "markdown",
   "id": "4e2889e7",
   "metadata": {
    "slideshow": {
     "slide_type": "slide"
    }
   },
   "source": [
    "## Land and Sea Surface Temperature Variations\n",
    "\n",
    "![](https://upload.wikimedia.org/wikipedia/commons/b/b7/Precipitation_longterm_mean.gif)"
   ]
  },
  {
   "cell_type": "markdown",
   "id": "7b1a81b8",
   "metadata": {
    "slideshow": {
     "slide_type": "slide"
    }
   },
   "source": [
    "## Milankovich Orbital Cycles\n",
    "\n",
    "![](../../a_L13/l13img01.jpg)"
   ]
  },
  {
   "cell_type": "markdown",
   "id": "8178e5d2",
   "metadata": {
    "slideshow": {
     "slide_type": "slide"
    }
   },
   "source": [
    "## Milankovich Orbital Cycles\n",
    "\n",
    "![](../../a_L13/l13img02.jpg)"
   ]
  },
  {
   "cell_type": "markdown",
   "id": "5b8ebc75",
   "metadata": {
    "slideshow": {
     "slide_type": "slide"
    }
   },
   "source": [
    "## Milankovich Orbital Cycles\n",
    "\n",
    "![](../../a_L13/l13img03.png)"
   ]
  },
  {
   "cell_type": "markdown",
   "id": "30933f72",
   "metadata": {
    "slideshow": {
     "slide_type": "slide"
    }
   },
   "source": [
    "## Milankovich Orbital Cycles\n",
    "\n",
    "![](../../a_L13/l13img04.png)"
   ]
  },
  {
   "cell_type": "markdown",
   "id": "f44c1c67",
   "metadata": {
    "slideshow": {
     "slide_type": "slide"
    }
   },
   "source": [
    "## Milankovich Orbital Cycles\n",
    "\n",
    "![](../../a_L13/l13img05.png)"
   ]
  },
  {
   "cell_type": "markdown",
   "id": "29f32825",
   "metadata": {
    "slideshow": {
     "slide_type": "slide"
    }
   },
   "source": [
    "## Carbon Cycles\n",
    "\n",
    "![](../../a_L14/l14img01.png)"
   ]
  },
  {
   "cell_type": "markdown",
   "id": "c4e4e6c8",
   "metadata": {
    "slideshow": {
     "slide_type": "slide"
    }
   },
   "source": [
    "## Carbon Cycles\n",
    "\n",
    "![](../../a_L14/l14img02.png)"
   ]
  },
  {
   "cell_type": "markdown",
   "id": "fd6f8454",
   "metadata": {
    "slideshow": {
     "slide_type": "slide"
    }
   },
   "source": [
    "##  Some Environmental Sciences\n",
    "\n",
    "### Carbon Cycles\n",
    "\n",
    "![](l14img03.png)"
   ]
  },
  {
   "cell_type": "markdown",
   "id": "eb3213c0",
   "metadata": {
    "slideshow": {
     "slide_type": "slide"
    }
   },
   "source": [
    "## Feedback Loops\n",
    "\n",
    "![](../../a_L14/l14img04.png)"
   ]
  },
  {
   "cell_type": "markdown",
   "id": "0842a9c4",
   "metadata": {
    "slideshow": {
     "slide_type": "slide"
    }
   },
   "source": [
    "## Feedback Loops\n",
    "\n",
    "![](../../a_L14/l14img05.png)"
   ]
  },
  {
   "cell_type": "markdown",
   "id": "b3d81c44",
   "metadata": {},
   "source": [
    "## Software\n",
    "\n",
    "And to study these processes, we learned:\n",
    "\n",
    "1. XArray: Process multidimensional data\n",
    "1. Cartopy: Making and process maps and GIS data\n",
    "1. Scipy: Solving equations in Python\n",
    "1. PyleoClimate: Time-series applied on environmental data\n",
    "\n",
    "Great work!"
   ]
  },
  {
   "cell_type": "markdown",
   "id": "72a577d8",
   "metadata": {},
   "source": [
    "## Questions?"
   ]
  },
  {
   "cell_type": "markdown",
   "id": "f60e435e",
   "metadata": {},
   "source": [
    "## Thank you for the great quarter!"
   ]
  }
 ],
 "metadata": {
  "celltoolbar": "Slideshow",
  "kernelspec": {
   "display_name": "Python 3 (ipykernel)",
   "language": "python",
   "name": "python3"
  },
  "language_info": {
   "codemirror_mode": {
    "name": "ipython",
    "version": 3
   },
   "file_extension": ".py",
   "mimetype": "text/x-python",
   "name": "python",
   "nbconvert_exporter": "python",
   "pygments_lexer": "ipython3",
   "version": "3.9.5"
  }
 },
 "nbformat": 4,
 "nbformat_minor": 5
}
