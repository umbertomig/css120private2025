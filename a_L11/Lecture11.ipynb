{
 "cells": [
  {
   "cell_type": "markdown",
   "id": "852ab240",
   "metadata": {
    "execution": {},
    "slideshow": {
     "slide_type": "slide"
    }
   },
   "source": [
    "# CSS 120: Environmental Data Science\n",
    "\n",
    "## Xarray Operations"
   ]
  },
  {
   "cell_type": "markdown",
   "id": "e8282f87",
   "metadata": {
    "execution": {},
    "slideshow": {
     "slide_type": "slide"
    }
   },
   "source": [
    "# Packages"
   ]
  },
  {
   "cell_type": "code",
   "execution_count": null,
   "id": "70f262ae",
   "metadata": {
    "execution": {}
   },
   "outputs": [],
   "source": [
    "# imports\n",
    "from datetime import timedelta\n",
    "import numpy as np\n",
    "import pandas as pd\n",
    "import xarray as xr\n",
    "from matplotlib import pyplot as plt\n",
    "from pythia_datasets import DATASETS"
   ]
  },
  {
   "cell_type": "markdown",
   "id": "0ff37248",
   "metadata": {
    "slideshow": {
     "slide_type": "slide"
    }
   },
   "source": [
    "##  Some Environmental Sciences\n",
    "\n",
    "### Oceanic Climate Systems\n",
    "\n",
    "Like the atmospheric climate systems, the oceanic climate system is key to understand the environment.\n",
    "\n",
    "One process that we have to study is the surface system process.\n",
    "\n",
    "- In the upper 100 meters of the ocean, these processes are driven by wind.\n",
    "\n",
    "    + These currents transport nutrients and heat to different places.\n",
    "\n",
    "- In deeper parts of the ocean, the currents are determined by water density and salinity of the ocean.\n",
    "\n",
    "    + The deep water currents mostly form in the polar regions of the planet."
   ]
  },
  {
   "cell_type": "markdown",
   "id": "29f32825",
   "metadata": {
    "slideshow": {
     "slide_type": "slide"
    }
   },
   "source": [
    "##  Some Environmental Sciences\n",
    "\n",
    "### Oceanic Climate Systems\n",
    "\n",
    "![](l11img01.png)"
   ]
  },
  {
   "cell_type": "markdown",
   "id": "4e2889e7",
   "metadata": {
    "slideshow": {
     "slide_type": "slide"
    }
   },
   "source": [
    "##  Some Environmental Sciences\n",
    "\n",
    "### Oceanic Climate Systems\n",
    "\n",
    "![](l11img02.png)"
   ]
  },
  {
   "cell_type": "markdown",
   "id": "5b8ebc75",
   "metadata": {
    "slideshow": {
     "slide_type": "slide"
    }
   },
   "source": [
    "##  Some Environmental Sciences\n",
    "\n",
    "### Oceanic Climate Systems\n",
    "\n",
    "![](l11img03.png)"
   ]
  },
  {
   "cell_type": "markdown",
   "id": "30933f72",
   "metadata": {
    "slideshow": {
     "slide_type": "slide"
    }
   },
   "source": [
    "##  Some Environmental Sciences\n",
    "\n",
    "### Oceanic Climate Systems\n",
    "\n",
    "![](l11img04.png)"
   ]
  },
  {
   "cell_type": "markdown",
   "id": "Lcbp0S4xhClA",
   "metadata": {
    "execution": {},
    "slideshow": {
     "slide_type": "slide"
    }
   },
   "source": [
    "## Some Environmental Sciences\n",
    "\n",
    "Alongside the latitudinal temperature gradients set by solar radiation, the large-scale ocean circulation patterns are one of the main controls on global sea surface temperature (SST, or tos). \n",
    "\n",
    "The surface currents distort this meridional gradient and can transport heat globally. In this tutorial, we'll use a series of tools in Xarray to interpret sea surface temperature data. \n",
    "\n",
    "Specifically, we’ll import monthly SST data from the Community Earth System Model  v2 (CESM2), which is a Global Climate Model. \n",
    "\n",
    "A climate model is a mathematical representation of Earth's climate system components and their interactions. \n",
    "\n",
    "Climate models are based on well-documented physical processes to simulate the transfer of energy and materials through the climate system. "
   ]
  },
  {
   "cell_type": "markdown",
   "id": "a223a8c5",
   "metadata": {
    "slideshow": {
     "slide_type": "slide"
    }
   },
   "source": [
    "## Some Environmental Sciences\n",
    "\n",
    "You'll learn more about climate models later this week and next week, but for now, we're going to be working with SST data produced from a climate model. \n",
    "\n",
    "To assess global variations in this SST dataset, we will practice using multiple attributes of Xarray:\n",
    "\n",
    "*   Arithmetic methods to convert temperatures from Celsius to Kelvin\n",
    "*   Aggregation methods to calculate mean, median, minimum and maximum values of the data.\n",
    "\n",
    "Finally, we'll create a map of global mean annual SST to visualize spatial variations in SST."
   ]
  },
  {
   "cell_type": "markdown",
   "id": "b3f4e108-f55e-4c25-a00d-99dc00ba849a",
   "metadata": {
    "execution": {},
    "slideshow": {
     "slide_type": "slide"
    },
    "tags": []
   },
   "source": [
    "# Arithmetic Operations\n",
    "\n",
    "Arithmetic operations with a single `DataArray` automatically apply over all array values (like NumPy). This process is called **vectorization**.  \n",
    "\n",
    "First, let's open the monthly sea surface temperature (SST) data from the Community Earth System Model v2 (CESM2), which is a Global Climate Model."
   ]
  },
  {
   "cell_type": "code",
   "execution_count": null,
   "id": "7837f8bd-da89-4718-ab02-d5107576d2d6",
   "metadata": {
    "execution": {},
    "executionInfo": {
     "elapsed": 303,
     "status": "ok",
     "timestamp": 1681569406112,
     "user": {
      "displayName": "Sloane Garelick",
      "userId": "04706287370408131987"
     },
     "user_tz": 240
    },
    "tags": []
   },
   "outputs": [],
   "source": [
    "filepath = DATASETS.fetch(\"CESM2_sst_data.nc\")\n",
    "ds = xr.open_dataset(filepath)\n",
    "ds"
   ]
  },
  {
   "cell_type": "markdown",
   "id": "8cabb77f",
   "metadata": {
    "execution": {},
    "slideshow": {
     "slide_type": "slide"
    }
   },
   "source": [
    "# Arithmetic Operations\n",
    "\n",
    "And look at the temeprature variable `tos`."
   ]
  },
  {
   "cell_type": "code",
   "execution_count": null,
   "id": "cbe80157",
   "metadata": {
    "execution": {}
   },
   "outputs": [],
   "source": [
    "ds.tos"
   ]
  },
  {
   "cell_type": "markdown",
   "id": "6a185c07",
   "metadata": {
    "execution": {},
    "slideshow": {
     "slide_type": "slide"
    }
   },
   "source": [
    "# Arithmetic Operations\n",
    "\n",
    "Note in the attributes that the units are 'degC'. One arithmetic operation we can do is to the  convert the temperature from degrees Celsius to Kelvin:"
   ]
  },
  {
   "cell_type": "code",
   "execution_count": null,
   "id": "09542eab-998d-4b2d-807c-dccd5bd4329e",
   "metadata": {
    "execution": {},
    "executionInfo": {
     "elapsed": 14,
     "status": "ok",
     "timestamp": 1681569533895,
     "user": {
      "displayName": "Sloane Garelick",
      "userId": "04706287370408131987"
     },
     "user_tz": 240
    },
    "tags": []
   },
   "outputs": [],
   "source": [
    "ds.tos + 273.15"
   ]
  },
  {
   "cell_type": "markdown",
   "id": "6f35c8d6-b0e6-4371-ad80-e182ffcec51b",
   "metadata": {
    "execution": {},
    "slideshow": {
     "slide_type": "slide"
    }
   },
   "source": [
    "# Arithmetic Operations\n",
    "\n",
    "You may notice that there are a lot of NaN values in the DataArray for `tos`. NaN isn’t a bad thing and it just means there isn’t data for those coordinates. \n",
    "\n",
    "In this case, there's no `tos` data for areas with land since this dataset only contains SST values.\n",
    "\n",
    "\n",
    "Just to practice another arithmetic operation, lets's square all values in `tos`:"
   ]
  },
  {
   "cell_type": "code",
   "execution_count": null,
   "id": "78c1ffc2-45cb-40cc-962e-c76021d9ab1c",
   "metadata": {
    "execution": {},
    "executionInfo": {
     "elapsed": 12,
     "status": "ok",
     "timestamp": 1681569537428,
     "user": {
      "displayName": "Sloane Garelick",
      "userId": "04706287370408131987"
     },
     "user_tz": 240
    },
    "tags": []
   },
   "outputs": [],
   "source": [
    "ds.tos**2"
   ]
  },
  {
   "cell_type": "markdown",
   "id": "0bebb17b-6906-4ba7-a4ff-c07a9206e790",
   "metadata": {
    "execution": {},
    "slideshow": {
     "slide_type": "slide"
    },
    "tags": []
   },
   "source": [
    "# Aggregation Methods\n",
    "\n",
    "A very common step during data analysis is to summarize the data in question by computing aggregations like `sum()`, `mean()`, `median()`, `min()`, `max()` in which reduced data provide insight into the nature of the large dataset. For example, in the introductory video for this tutorial, we saw maps of the mean annual sea surface temperature and sea surface density. \n",
    "\n",
    "\n",
    "The following table summarizes some other built-in xarray aggregations:\n",
    "\n",
    "| Aggregation              | Description                     |\n",
    "|--------------------------|---------------------------------|\n",
    "| ``count()``              | Total number of items           |\n",
    "| ``mean()``, ``median()`` | Mean and median                 |\n",
    "| ``min()``, ``max()``     | Minimum and maximum             |\n",
    "| ``std()``, ``var()``     | Standard deviation and variance |\n",
    "| ``prod()``               | Compute product of elements            |\n",
    "| ``sum()``                | Compute sum of elements                |\n",
    "| ``argmin()``, ``argmax()``| Find index of minimum and maximum value |\n",
    "\n",
    "\n",
    "Let's explore some of these aggregation methods.\n"
   ]
  },
  {
   "cell_type": "markdown",
   "id": "e6f15eca",
   "metadata": {
    "execution": {},
    "slideshow": {
     "slide_type": "slide"
    }
   },
   "source": [
    "# Arithmetic Operations\n",
    "\n",
    "Compute the temporal minimum:"
   ]
  },
  {
   "cell_type": "code",
   "execution_count": null,
   "id": "06e3bfff",
   "metadata": {
    "execution": {},
    "tags": []
   },
   "outputs": [],
   "source": [
    "ds.tos.min(dim=\"time\")"
   ]
  },
  {
   "cell_type": "markdown",
   "id": "01bfdf21",
   "metadata": {
    "execution": {},
    "slideshow": {
     "slide_type": "slide"
    }
   },
   "source": [
    "# Arithmetic Operations\n",
    "\n",
    "Compute the spatial sum:"
   ]
  },
  {
   "cell_type": "code",
   "execution_count": null,
   "id": "400c3dab",
   "metadata": {
    "execution": {},
    "slideshow": {
     "slide_type": "-"
    },
    "tags": []
   },
   "outputs": [],
   "source": [
    "ds.tos.sum(dim=[\"lat\", \"lon\"])"
   ]
  },
  {
   "cell_type": "markdown",
   "id": "e8bd66b3",
   "metadata": {
    "execution": {},
    "slideshow": {
     "slide_type": "slide"
    }
   },
   "source": [
    "# Arithmetic Operations\n",
    "\n",
    "Compute the temporal median:"
   ]
  },
  {
   "cell_type": "code",
   "execution_count": null,
   "id": "5d397f30",
   "metadata": {
    "execution": {},
    "slideshow": {
     "slide_type": "-"
    },
    "tags": []
   },
   "outputs": [],
   "source": [
    "ds.tos.median(dim=\"time\")"
   ]
  },
  {
   "cell_type": "markdown",
   "id": "a4d79093-f013-4821-84f8-3c223141046e",
   "metadata": {
    "execution": {},
    "slideshow": {
     "slide_type": "slide"
    }
   },
   "source": [
    "# Arithmetic Operations\n",
    "\n",
    "Compute the mean SST:"
   ]
  },
  {
   "cell_type": "code",
   "execution_count": null,
   "id": "59b84034-7d42-4080-932f-0eefd165953d",
   "metadata": {
    "execution": {},
    "executionInfo": {
     "elapsed": 297,
     "status": "ok",
     "timestamp": 1681569542731,
     "user": {
      "displayName": "Sloane Garelick",
      "userId": "04706287370408131987"
     },
     "user_tz": 240
    },
    "slideshow": {
     "slide_type": "-"
    },
    "tags": []
   },
   "outputs": [],
   "source": [
    "ds.tos.mean()"
   ]
  },
  {
   "cell_type": "markdown",
   "id": "a75e0064-4363-4328-9a79-d87475ed1c81",
   "metadata": {
    "execution": {},
    "slideshow": {
     "slide_type": "slide"
    }
   },
   "source": [
    "# Arithmetic Operations\n",
    "\n",
    "Because we specified no `dim` argument, the function was applied over all dimensions, computing the mean of every element of `tos` across time and space. \n",
    "\n",
    "It is possible to specify a dimension along which to compute an aggregation. \n",
    "\n",
    "For example, to calculate the mean in time for all locations (i.e. the global mean annual SST), specify the time dimension as the dimension along which the mean should be calculated:"
   ]
  },
  {
   "cell_type": "code",
   "execution_count": null,
   "id": "a49b957e-ea24-414e-a422-c40a3723fbae",
   "metadata": {
    "execution": {},
    "executionInfo": {
     "elapsed": 815,
     "status": "ok",
     "timestamp": 1681569338417,
     "user": {
      "displayName": "Sloane Garelick",
      "userId": "04706287370408131987"
     },
     "user_tz": 240
    },
    "slideshow": {
     "slide_type": "slide"
    },
    "tags": []
   },
   "outputs": [],
   "source": [
    "ds.tos.mean(dim=\"time\").plot(size=7, vmin=-2, vmax=32, cmap=\"coolwarm\")"
   ]
  },
  {
   "cell_type": "markdown",
   "id": "aVnchVimEp6k",
   "metadata": {
    "execution": {},
    "slideshow": {
     "slide_type": "slide"
    }
   },
   "source": [
    "### Question: Climate Connection\n",
    "\n",
    "Observe the spatial patterns in SST and consider the following in the context of the components of the ocean climate system we learned:\n",
    "\n",
    "Recall that upwelling commonly occurs off the west coast of continents, for example, in the eastern tropical Pacific off the west coast of South America. \n",
    "\n",
    "Do you see evidence for upwelling in this region? How do you think the mean SST in this region would change if you looked at a specific season rather than the annual mean? Would upwelling be more or less evident?"
   ]
  }
 ],
 "metadata": {
  "celltoolbar": "Slideshow",
  "kernelspec": {
   "display_name": "Python 3 (ipykernel)",
   "language": "python",
   "name": "python3"
  },
  "language_info": {
   "codemirror_mode": {
    "name": "ipython",
    "version": 3
   },
   "file_extension": ".py",
   "mimetype": "text/x-python",
   "name": "python",
   "nbconvert_exporter": "python",
   "pygments_lexer": "ipython3",
   "version": "3.9.5"
  }
 },
 "nbformat": 4,
 "nbformat_minor": 5
}
