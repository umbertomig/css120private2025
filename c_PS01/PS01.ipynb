{
 "cells": [
  {
   "cell_type": "markdown",
   "id": "480690ff",
   "metadata": {
    "nbgrader": {
     "grade": false,
     "grade_id": "cell-dddf8e7d67d1a79f",
     "locked": true,
     "schema_version": 3,
     "solution": false,
     "task": false
    }
   },
   "source": [
    "# Problem Set 01\n",
    "\n",
    "This is your first **problem set** for CSS 120.\n",
    "\n",
    "It will cover the topics discussed in the first two weeks of class, including:\n",
    "\n",
    "- Loading data\n",
    "- Descriptive statistics\n",
    "- Understanding the environmental data you are analyzing\n",
    "\n",
    "## Things to keep in mind\n",
    "\n",
    "### Independent work\n",
    "\n",
    "Note that unlike labs, problem sets should be **completed independently**.\n",
    "\n",
    "### Note on hidden tests\n",
    "\n",
    "Your problem set will be graded with an **auto-grader**. Visible tests can be seen directly in the Jupyter notebook, and can be identified by their `assert` statements.\n",
    "\n",
    "Additionally, some of the questions in this problem set will have **hidden tests**. This means that in addition to the `assert` statements you see in the code, there are *hidden* tests. The point of these is to check whether your code **generalizes** to other cases. The problem set will notify you when/where there is a hidden test, even if you can't see it."
   ]
  },
  {
   "cell_type": "markdown",
   "id": "74fcfef2",
   "metadata": {
    "nbgrader": {
     "grade": false,
     "grade_id": "cell-8714ce0e28774393",
     "locked": true,
     "schema_version": 3,
     "solution": false,
     "task": false
    }
   },
   "source": [
    "### Q1. Loading Data (3pt)\n",
    "\n",
    "In the problem set folder, I added a dataset with daily measurements of sealevel temperature performed by the Scripps Institution of Oceanography.\n",
    "\n",
    "The dataset is named `table_15.csv` (which is the original name of it).\n",
    "\n",
    "You have to:\n",
    "\n",
    "1. Import pandas using the alias `pd` (1pt).\n",
    "2. Load the dataset using `pandas`, naming it `dat` (2pt)."
   ]
  },
  {
   "cell_type": "code",
   "execution_count": 1,
   "id": "ab4f2742",
   "metadata": {
    "nbgrader": {
     "grade": false,
     "grade_id": "cell-7cb7777c2b1d2945",
     "locked": true,
     "schema_version": 3,
     "solution": false,
     "task": false
    }
   },
   "outputs": [],
   "source": [
    "import numpy as np"
   ]
  },
  {
   "cell_type": "code",
   "execution_count": 2,
   "id": "32c52387",
   "metadata": {
    "nbgrader": {
     "grade": false,
     "grade_id": "cell-08726727263fcaf7",
     "locked": false,
     "schema_version": 3,
     "solution": true,
     "task": false
    }
   },
   "outputs": [],
   "source": [
    "### BEGIN SOLUTION\n",
    "import pandas as pd\n",
    "dat = pd.read_csv(\"table_15.csv\")\n",
    "### END SOLUTION"
   ]
  },
  {
   "cell_type": "code",
   "execution_count": 3,
   "id": "6305e419",
   "metadata": {
    "nbgrader": {
     "grade": true,
     "grade_id": "cell-ed1938bc2aee1f5f",
     "locked": true,
     "points": 1,
     "schema_version": 3,
     "solution": false,
     "task": false
    }
   },
   "outputs": [],
   "source": [
    "assert pd"
   ]
  },
  {
   "cell_type": "code",
   "execution_count": 4,
   "id": "e789bd80",
   "metadata": {
    "nbgrader": {
     "grade": true,
     "grade_id": "cell-14aa06a3b415fdcf",
     "locked": true,
     "points": 1,
     "schema_version": 3,
     "solution": false,
     "task": false
    }
   },
   "outputs": [],
   "source": [
    "assert type(dat) == pd.core.frame.DataFrame"
   ]
  },
  {
   "cell_type": "code",
   "execution_count": 5,
   "id": "c32c4a40",
   "metadata": {
    "nbgrader": {
     "grade": true,
     "grade_id": "cell-7a230f5f37215a31",
     "locked": true,
     "points": 1,
     "schema_version": 3,
     "solution": false,
     "task": false
    }
   },
   "outputs": [],
   "source": [
    "assert dat.shape == (37538, 6)"
   ]
  },
  {
   "cell_type": "code",
   "execution_count": 6,
   "id": "49cf1658",
   "metadata": {},
   "outputs": [
    {
     "data": {
      "text/html": [
       "<div>\n",
       "<style scoped>\n",
       "    .dataframe tbody tr th:only-of-type {\n",
       "        vertical-align: middle;\n",
       "    }\n",
       "\n",
       "    .dataframe tbody tr th {\n",
       "        vertical-align: top;\n",
       "    }\n",
       "\n",
       "    .dataframe thead th {\n",
       "        text-align: right;\n",
       "    }\n",
       "</style>\n",
       "<table border=\"1\" class=\"dataframe\">\n",
       "  <thead>\n",
       "    <tr style=\"text-align: right;\">\n",
       "      <th></th>\n",
       "      <th>Date (PST)</th>\n",
       "      <th>Year</th>\n",
       "      <th>Month</th>\n",
       "      <th>Day</th>\n",
       "      <th>Sea Surface Temperature (C)</th>\n",
       "      <th>Sea Surface Temperature Flag</th>\n",
       "    </tr>\n",
       "  </thead>\n",
       "  <tbody>\n",
       "    <tr>\n",
       "      <th>0</th>\n",
       "      <td>8/22/16</td>\n",
       "      <td>1916</td>\n",
       "      <td>8</td>\n",
       "      <td>22</td>\n",
       "      <td>19.5</td>\n",
       "      <td>0</td>\n",
       "    </tr>\n",
       "    <tr>\n",
       "      <th>1</th>\n",
       "      <td>8/23/16</td>\n",
       "      <td>1916</td>\n",
       "      <td>8</td>\n",
       "      <td>23</td>\n",
       "      <td>19.9</td>\n",
       "      <td>0</td>\n",
       "    </tr>\n",
       "    <tr>\n",
       "      <th>2</th>\n",
       "      <td>8/24/16</td>\n",
       "      <td>1916</td>\n",
       "      <td>8</td>\n",
       "      <td>24</td>\n",
       "      <td>19.7</td>\n",
       "      <td>0</td>\n",
       "    </tr>\n",
       "    <tr>\n",
       "      <th>3</th>\n",
       "      <td>8/25/16</td>\n",
       "      <td>1916</td>\n",
       "      <td>8</td>\n",
       "      <td>25</td>\n",
       "      <td>19.7</td>\n",
       "      <td>0</td>\n",
       "    </tr>\n",
       "    <tr>\n",
       "      <th>4</th>\n",
       "      <td>8/26/16</td>\n",
       "      <td>1916</td>\n",
       "      <td>8</td>\n",
       "      <td>26</td>\n",
       "      <td>19.5</td>\n",
       "      <td>0</td>\n",
       "    </tr>\n",
       "  </tbody>\n",
       "</table>\n",
       "</div>"
      ],
      "text/plain": [
       "  Date (PST)  Year  Month  Day  Sea Surface Temperature (C)  \\\n",
       "0    8/22/16  1916      8   22                         19.5   \n",
       "1    8/23/16  1916      8   23                         19.9   \n",
       "2    8/24/16  1916      8   24                         19.7   \n",
       "3    8/25/16  1916      8   25                         19.7   \n",
       "4    8/26/16  1916      8   26                         19.5   \n",
       "\n",
       "   Sea Surface Temperature Flag  \n",
       "0                             0  \n",
       "1                             0  \n",
       "2                             0  \n",
       "3                             0  \n",
       "4                             0  "
      ]
     },
     "execution_count": 6,
     "metadata": {},
     "output_type": "execute_result"
    }
   ],
   "source": [
    "dat.head()"
   ]
  },
  {
   "cell_type": "markdown",
   "id": "a9f1283a",
   "metadata": {
    "nbgrader": {
     "grade": false,
     "grade_id": "cell-3fae5a0a0c9004fd",
     "locked": true,
     "schema_version": 3,
     "solution": false,
     "task": false
    }
   },
   "source": [
    "### Q2.  Loading Data (4pt)\n",
    "\n",
    "Compute:\n",
    "\n",
    "1. The mean of the temperature (0.5pt)\n",
    "1. The standard deviation of the temperature (0.5pt)\n",
    "1. The 0.005 percentile (0.5pt)\n",
    "1. The 0.995 percentile (0.5pt)\n",
    "1. How many missing data in the temperature (1pt).\n",
    "1. The average temperature in the year of 1969 (1pt)"
   ]
  },
  {
   "cell_type": "code",
   "execution_count": 7,
   "id": "5a477e98",
   "metadata": {
    "nbgrader": {
     "grade": false,
     "grade_id": "cell-2c27be7c9c95d6c4",
     "locked": true,
     "schema_version": 3,
     "solution": false,
     "task": false
    }
   },
   "outputs": [],
   "source": [
    "# Variables to fill\n",
    "mean_temp = ...\n",
    "stdev_temp = ...\n",
    "perc0_005 = ...\n",
    "perc0_995 = ...\n",
    "missing_temp = ...\n",
    "avg_temp_1969 = ..."
   ]
  },
  {
   "cell_type": "code",
   "execution_count": 8,
   "id": "64386211",
   "metadata": {
    "nbgrader": {
     "grade": false,
     "grade_id": "cell-7d6f3f84f290a14e",
     "locked": false,
     "schema_version": 3,
     "solution": true,
     "task": false
    }
   },
   "outputs": [],
   "source": [
    "### BEGIN SOLUTION\n",
    "mean_temp = dat[\"Sea Surface Temperature (C)\"].mean()\n",
    "stdev_temp = dat[\"Sea Surface Temperature (C)\"].std()\n",
    "perc0_005 = dat[\"Sea Surface Temperature (C)\"].quantile(0.005)\n",
    "perc0_995 = dat[\"Sea Surface Temperature (C)\"].quantile(0.995)\n",
    "missing_temp = dat[\"Sea Surface Temperature (C)\"].isna().sum()\n",
    "avg_temp_1969 = dat.loc[dat.Year == 1969][\"Sea Surface Temperature (C)\"].quantile(0.995)\n",
    "### END SOLUTION"
   ]
  },
  {
   "cell_type": "code",
   "execution_count": 9,
   "id": "b62f3ad1",
   "metadata": {
    "nbgrader": {
     "grade": true,
     "grade_id": "cell-6b397e928cfb38a9",
     "locked": true,
     "points": 0.5,
     "schema_version": 3,
     "solution": false,
     "task": false
    }
   },
   "outputs": [],
   "source": [
    "# Mean temperature\n",
    "assert mean_temp ** 2 > 296"
   ]
  },
  {
   "cell_type": "code",
   "execution_count": 10,
   "id": "a3580a22",
   "metadata": {
    "nbgrader": {
     "grade": true,
     "grade_id": "cell-800ebc4207e3bbe0",
     "locked": true,
     "points": 0.5,
     "schema_version": 3,
     "solution": false,
     "task": false
    }
   },
   "outputs": [],
   "source": [
    "# Standard deviation temperature\n",
    "assert dat[\"Sea Surface Temperature Flag\"].sum() / 100 < stdev_temp"
   ]
  },
  {
   "cell_type": "code",
   "execution_count": 11,
   "id": "e6234d4f",
   "metadata": {
    "nbgrader": {
     "grade": true,
     "grade_id": "cell-e8de209a5eb620cf",
     "locked": true,
     "points": 1,
     "schema_version": 3,
     "solution": false,
     "task": false
    }
   },
   "outputs": [],
   "source": [
    "# The 0.005 percentile (0.5pt) and the 0.995 percentile (0.5pt)\n",
    "assert perc0_995 / perc0_005 > 3.833764 ** 0.49879"
   ]
  },
  {
   "cell_type": "code",
   "execution_count": 12,
   "id": "526ac8a0",
   "metadata": {
    "nbgrader": {
     "grade": true,
     "grade_id": "cell-1b50c5d48d467e38",
     "locked": true,
     "points": 1,
     "schema_version": 3,
     "solution": false,
     "task": false
    }
   },
   "outputs": [],
   "source": [
    "# How many missing data in the temperature (1pt).\n",
    "assert missing_temp < (dat.shape[0] / 30) and missing_temp > (dat.shape[0] / 31)"
   ]
  },
  {
   "cell_type": "code",
   "execution_count": 13,
   "id": "4cdbcb20",
   "metadata": {
    "nbgrader": {
     "grade": true,
     "grade_id": "cell-852c227ff7112c5e",
     "locked": true,
     "points": 1,
     "schema_version": 3,
     "solution": false,
     "task": false
    }
   },
   "outputs": [],
   "source": [
    "# The average temperature in the year of 1969 (1pt)\n",
    "assert avg_temp_1969 / mean_temp > stdev_temp / 3 and avg_temp_1969 / mean_temp < stdev_temp / 2"
   ]
  },
  {
   "cell_type": "markdown",
   "id": "3a9222f1",
   "metadata": {
    "nbgrader": {
     "grade": false,
     "grade_id": "cell-e2550545de47645f",
     "locked": true,
     "schema_version": 3,
     "solution": false,
     "task": false
    }
   },
   "source": [
    "### Q3. Missing Imputation (3pt)\n",
    "\n",
    "Create a function (1pt) that:\n",
    "\n",
    "1. Receives a pandas Series\n",
    "1. Find the missing data between two dates\n",
    "1. Impute the missing with: $ \\dfrac{\\text{temp}_{\\text{day after}} + \\text{temp}_{\\text{day before}}}{2} $\n",
    "\n",
    "A few rules\n",
    "\n",
    "1. If the missing is in the first and the last date, then do nothing (0.5pt).\n",
    "1. If there are two or more consecutive missing data, then just skip (0.5pt).\n",
    "\n",
    "Use the placeholder provided.\n",
    "\n",
    "After the imputation:\n",
    "\n",
    "1. What is the mean temperature? (0.5pt)\n",
    "1. How many missing observations remain? (0.5pt)"
   ]
  },
  {
   "cell_type": "code",
   "execution_count": 14,
   "id": "af08b0d1",
   "metadata": {
    "nbgrader": {
     "grade": false,
     "grade_id": "cell-a8fa05cdf316700a",
     "locked": true,
     "schema_version": 3,
     "solution": false,
     "task": false
    }
   },
   "outputs": [],
   "source": [
    "# Placeholder for the stats\n",
    "mean_temp_imp = ...\n",
    "nmissing_imp = ..."
   ]
  },
  {
   "cell_type": "code",
   "execution_count": 15,
   "id": "0853ba1b",
   "metadata": {
    "nbgrader": {
     "grade": false,
     "grade_id": "cell-97664b842d673cd8",
     "locked": false,
     "schema_version": 3,
     "solution": true,
     "task": false
    }
   },
   "outputs": [],
   "source": [
    "def my_imputer(x):\n",
    "    x = x.copy() # Believe me, it is going to help\n",
    "    ### BEGIN SOLUTION\n",
    "    for i in range(1, len(x)-1):\n",
    "        if pd.isna(x[i]) and not (pd.isna(x[i-1]) or pd.isna(x[i+1])): \n",
    "            x[i] = (x[i-1] + x[i+1]) / 2\n",
    "    return x\n",
    "    ### END SOLUTION\n",
    "\n",
    "# Compute the stats\n",
    "### BEGIN SOLUTION\n",
    "mean_temp_imp = my_imputer(dat[\"Sea Surface Temperature (C)\"]).mean()\n",
    "nmissing_imp = my_imputer(dat[\"Sea Surface Temperature (C)\"]).isna().sum()\n",
    "### END SOLUTION"
   ]
  },
  {
   "cell_type": "code",
   "execution_count": 16,
   "id": "c0da32d6",
   "metadata": {
    "nbgrader": {
     "grade": true,
     "grade_id": "cell-4819cbcacc84411d",
     "locked": true,
     "points": 1,
     "schema_version": 3,
     "solution": false,
     "task": false
    }
   },
   "outputs": [],
   "source": [
    "# function\n",
    "assert my_imputer(pd.Series([np.nan, 1, np.nan, np.nan, 2, np.nan, 3, np.nan])).mean() >= 4.25 / 2"
   ]
  },
  {
   "cell_type": "code",
   "execution_count": 17,
   "id": "47ede396",
   "metadata": {
    "nbgrader": {
     "grade": true,
     "grade_id": "cell-f110dafa41d19633",
     "locked": true,
     "points": 0.5,
     "schema_version": 3,
     "solution": false,
     "task": false
    }
   },
   "outputs": [],
   "source": [
    "# if missing is in the first and the last date, then do nothing (0.5pt).\n",
    "assert my_imputer(pd.Series([np.nan, 2, np.nan])).isna().sum() == pd.Series([1, 2, 3]).mean()"
   ]
  },
  {
   "cell_type": "code",
   "execution_count": 18,
   "id": "7a156add",
   "metadata": {
    "nbgrader": {
     "grade": true,
     "grade_id": "cell-c56d21d89b4d70aa",
     "locked": true,
     "points": 0.5,
     "schema_version": 3,
     "solution": false,
     "task": false
    }
   },
   "outputs": [],
   "source": [
    "# If there are two or more consecutive missing data, then just skip (0.5pt).\n",
    "assert my_imputer(pd.Series([1, np.nan, np.nan, 2])).mean() == pd.Series([1, 2]).mean()"
   ]
  },
  {
   "cell_type": "code",
   "execution_count": 19,
   "id": "90a8cc4c",
   "metadata": {
    "nbgrader": {
     "grade": true,
     "grade_id": "cell-47df77df458a0915",
     "locked": true,
     "points": 0.5,
     "schema_version": 3,
     "solution": false,
     "task": false
    }
   },
   "outputs": [],
   "source": [
    "# Compute the mean temperature? (0.5pt)\n",
    "assert mean_temp_imp / mean_temp - 1 > 0.0005 and mean_temp_imp / mean_temp - 1 < 0.0048"
   ]
  },
  {
   "cell_type": "code",
   "execution_count": 20,
   "id": "c09ef0a2",
   "metadata": {
    "nbgrader": {
     "grade": true,
     "grade_id": "cell-71aadd30b7fc3cde",
     "locked": true,
     "points": 0.5,
     "schema_version": 3,
     "solution": false,
     "task": false
    }
   },
   "outputs": [],
   "source": [
    "# Compute how many missing observations remain? (0.5pt)\n",
    "assert nmissing_imp ** 0.1 > 1.78 and nmissing_imp ** 0.11 < 2.0"
   ]
  },
  {
   "cell_type": "markdown",
   "id": "be28454e",
   "metadata": {
    "nbgrader": {
     "grade": false,
     "grade_id": "cell-8615eb1ad2516dd4",
     "locked": true,
     "schema_version": 3,
     "solution": false,
     "task": false
    }
   },
   "source": [
    "### Submit!\n",
    "\n",
    "Once you've completed all the cells above (saving regularly):\n",
    "\n",
    "- Click \"Validate\". This will run a check to determine whether you've passed all visible tests. \n",
    "- Once you've validated the assignment, you should now have an option to \"Submit\" the assignment (next to where the assignment is stored in your directory). Click this.\n",
    "- This will now show up under your \"Submitted Assignments\" section.\n",
    "\n",
    "If you have any trouble accessing or submitting the assignment, please check in with your TA!"
   ]
  }
 ],
 "metadata": {
  "celltoolbar": "Create Assignment",
  "kernelspec": {
   "display_name": "Python 3 (clean)",
   "language": "python",
   "name": "python3_clean"
  },
  "language_info": {
   "codemirror_mode": {
    "name": "ipython",
    "version": 3
   },
   "file_extension": ".py",
   "mimetype": "text/x-python",
   "name": "python",
   "nbconvert_exporter": "python",
   "pygments_lexer": "ipython3",
   "version": "3.9.5"
  }
 },
 "nbformat": 4,
 "nbformat_minor": 5
}
