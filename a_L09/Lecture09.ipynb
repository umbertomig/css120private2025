{
 "cells": [
  {
   "cell_type": "markdown",
   "id": "aafa853b",
   "metadata": {
    "execution": {},
    "slideshow": {
     "slide_type": "slide"
    }
   },
   "source": [
    "# CSS 120: Environmental Data Science\n",
    "\n",
    "## Xarray Operations (slicing)\n",
    "\n",
    "(based on Pythia Project)"
   ]
  },
  {
   "cell_type": "code",
   "execution_count": null,
   "id": "d3ae6574",
   "metadata": {
    "slideshow": {
     "slide_type": "slide"
    }
   },
   "outputs": [],
   "source": [
    "## Install Packages\n",
    "!pip install pythia_datasets\n",
    "!pip install netCDF4 h5netcdf"
   ]
  },
  {
   "cell_type": "markdown",
   "id": "aedbc889",
   "metadata": {
    "execution": {},
    "slideshow": {
     "slide_type": "slide"
    }
   },
   "source": [
    "# Today's Lecture\n",
    "\n",
    "Global climate datasets can be very large with multiple variables, and DataArrays and Datasets are very useful tools for organizing, comparing and interpreting such data. \n",
    "\n",
    "However, sometimes we are not interested in examining a *global* dataset but wish to examine a specific time or location. \n",
    "\n",
    "We will explore multiple computational tools in `Xarray` that allow you to select data from a specific spatial and temporal range. In particular, you will practice using:\n",
    "\n",
    "-   **`.sel()`:** select data based on coordinate values or date\n",
    "-   **`.interp()`:** interpolate to any latitude/longitude location to extract data\n",
    "-   **`slice()`:** to select a range (or slice) along one or more coordinates, we can pass a Python slice object to `.sel()`"
   ]
  },
  {
   "cell_type": "markdown",
   "id": "df6a1cff",
   "metadata": {
    "slideshow": {
     "slide_type": "slide"
    }
   },
   "source": [
    "##  Some Environmental Science\n",
    "\n",
    "### Solar Radiation and Earth's Energy Budget\n",
    "\n",
    "![](l09img01.png)"
   ]
  },
  {
   "cell_type": "markdown",
   "id": "1ff11481",
   "metadata": {
    "slideshow": {
     "slide_type": "slide"
    }
   },
   "source": [
    "### Solar Radiation and Earth's Energy Budget\n",
    "\n",
    "![](l09img02.png)"
   ]
  },
  {
   "cell_type": "markdown",
   "id": "eb62a7b8",
   "metadata": {
    "slideshow": {
     "slide_type": "slide"
    }
   },
   "source": [
    "### Solar Radiation and Earth's Energy Budget\n",
    "\n",
    "![](l09img03.png)"
   ]
  },
  {
   "cell_type": "markdown",
   "id": "70773ca3",
   "metadata": {},
   "source": [
    "### Solar Radiation and Earth's Energy Budget\n",
    "\n",
    "![](l09img04.png)"
   ]
  },
  {
   "cell_type": "markdown",
   "id": "8347f526",
   "metadata": {},
   "source": [
    "### Solar Radiation and Earth's Energy Budget\n",
    "\n",
    "![](l09img05.png)"
   ]
  },
  {
   "cell_type": "markdown",
   "id": "1b968784",
   "metadata": {
    "execution": {},
    "slideshow": {
     "slide_type": "slide"
    }
   },
   "source": [
    "# Packages"
   ]
  },
  {
   "cell_type": "code",
   "execution_count": null,
   "id": "e5070fb8",
   "metadata": {
    "execution": {}
   },
   "outputs": [],
   "source": [
    "# imports\n",
    "from datetime import timedelta\n",
    "import numpy as np\n",
    "import pandas as pd\n",
    "import xarray as xr\n",
    "from matplotlib import pyplot as plt\n",
    "from pythia_datasets import DATASETS"
   ]
  },
  {
   "cell_type": "markdown",
   "id": "e9f5c05d",
   "metadata": {
    "execution": {},
    "slideshow": {
     "slide_type": "slide"
    }
   },
   "source": [
    "## Subsetting and Selection by Coordinate Values\n",
    "\n",
    "Since Xarray allows us to label coordinates, you can select data based on coordinate names and values, rather than array indices. \n",
    "\n",
    "We'll explore this briefly here."
   ]
  },
  {
   "cell_type": "code",
   "execution_count": null,
   "id": "c74f8348",
   "metadata": {
    "cellView": "form",
    "execution": {}
   },
   "outputs": [],
   "source": [
    "# temperature data\n",
    "rand_data = 283 + 5 * np.random.randn(5, 3, 4)\n",
    "times_index = pd.date_range(\"2018-01-01\", periods=5)\n",
    "lons = np.linspace(-120, -60, 4)\n",
    "lats = np.linspace(25, 55, 3)\n",
    "temperature = xr.DataArray(\n",
    "    rand_data, coords=[times_index, lats, lons], dims=[\"time\", \"lat\", \"lon\"]\n",
    ")\n",
    "temperature.attrs[\"units\"] = \"kelvin\"\n",
    "temperature.attrs[\"standard_name\"] = \"air_temperature\"\n",
    "\n",
    "# pressure data\n",
    "pressure_data = 1000.0 + 5 * np.random.randn(5, 3, 4)\n",
    "pressure = xr.DataArray(\n",
    "    pressure_data, coords=[times_index, lats, lons], dims=[\"time\", \"lat\", \"lon\"]\n",
    ")\n",
    "pressure.attrs[\"units\"] = \"hPa\"\n",
    "pressure.attrs[\"standard_name\"] = \"air_pressure\"\n",
    "\n",
    "# combinate temperature and pressure DataArrays into a Dataset called 'ds'\n",
    "ds = xr.Dataset(data_vars={\"Temperature\": temperature, \"Pressure\": pressure})\n",
    "ds"
   ]
  },
  {
   "cell_type": "markdown",
   "id": "d6e881d4",
   "metadata": {
    "execution": {},
    "slideshow": {
     "slide_type": "slide"
    }
   },
   "source": [
    "## NumPy-like Selection\n",
    "\n",
    "Suppose you want to extract all the spatial data for one single date: January 2, 2018. \n",
    "\n",
    "It's possible to achieve that with NumPy-like index selection."
   ]
  },
  {
   "cell_type": "code",
   "execution_count": null,
   "id": "b06a6469",
   "metadata": {
    "execution": {},
    "executionInfo": {
     "elapsed": 369,
     "status": "ok",
     "timestamp": 1681570689311,
     "user": {
      "displayName": "Sloane Garelick",
      "userId": "04706287370408131987"
     },
     "user_tz": 240
    }
   },
   "outputs": [],
   "source": [
    "indexed_selection = temperature[\n",
    "    1, :, :\n",
    "]  # index 1 along axis 0 is the time slice we want...\n",
    "indexed_selection"
   ]
  },
  {
   "cell_type": "markdown",
   "id": "29140d1e",
   "metadata": {
    "execution": {},
    "slideshow": {
     "slide_type": "slide"
    }
   },
   "source": [
    "## Selection with `.sel()`\n",
    "\n",
    "In Xarray, we can instead select data based on coordinate values using the `.sel()` method."
   ]
  },
  {
   "cell_type": "code",
   "execution_count": null,
   "id": "67cdd383",
   "metadata": {
    "execution": {},
    "executionInfo": {
     "elapsed": 14,
     "status": "ok",
     "timestamp": 1681570692916,
     "user": {
      "displayName": "Sloane Garelick",
      "userId": "04706287370408131987"
     },
     "user_tz": 240
    }
   },
   "outputs": [],
   "source": [
    "named_selection = temperature.sel(time = \"2018-01-02\")\n",
    "named_selection"
   ]
  },
  {
   "cell_type": "markdown",
   "id": "02bf0428",
   "metadata": {
    "execution": {},
    "slideshow": {
     "slide_type": "slide"
    }
   },
   "source": [
    "## Selection with `.sel()`\n",
    "\n",
    "We got the same result as when we used the NumPy-like index selection, but\n",
    "\n",
    "- we didn't have to know anything about how the array was created or stored\n",
    "- our code is agnostic about how many dimensions we are dealing with\n",
    "- the intended meaning of our code is much clearer!\n",
    "\n",
    "By using the .sel() method in Xarray, we can easily isolate data from a specific time. You can also isolate data from a specific coordinate."
   ]
  },
  {
   "cell_type": "markdown",
   "id": "25a439e9",
   "metadata": {
    "execution": {}
   },
   "source": [
    "**Your turn:** Write a line of code to select the temperature data from the coordinates lat = \"25\", lon = \"-120.\""
   ]
  },
  {
   "cell_type": "code",
   "execution_count": null,
   "id": "03ffa2e4",
   "metadata": {
    "execution": {},
    "tags": []
   },
   "outputs": [],
   "source": [
    "coordinate_selection = ...\n",
    "coordinate_selection"
   ]
  },
  {
   "cell_type": "markdown",
   "id": "32a2e2c6",
   "metadata": {
    "execution": {},
    "slideshow": {
     "slide_type": "slide"
    }
   },
   "source": [
    "## Approximate Selection and Interpolation\n",
    "\n",
    "The spatial and temporal resolution of climate data often differs between datasets or a dataset may be incomplete. \n",
    "\n",
    "Therefore, with time and space data, we frequently want to sample \"near\" the coordinate points in our dataset.\n",
    "\n",
    "For example, we may want to analyze data from a specific coordinate or a specific time, but may not have a value from that specific location or date. \n",
    "\n",
    "In that case, we would want to use the data from the closest coordinate or time-step. Here are a few simple ways to achieve that."
   ]
  },
  {
   "cell_type": "markdown",
   "id": "0f56469e",
   "metadata": {
    "slideshow": {
     "slide_type": "slide"
    }
   },
   "source": [
    "### Nearest-neighbor Sampling\n",
    "\n",
    "Suppose we want to know the temperature from `2018-01-07`. However, the last day on our `time` axis is `2018-01-05`. We can therefore sample within two days of our desired date of `2018-01-07`. \n",
    "\n",
    "We can do this using the `.sel` method we used earlier, but with the added flexibility of performing [nearest neighbor sampling](https://docs.xarray.dev/en/stable/user-guide/indexing.html#nearest-neighbor-lookups) and specifying an optional tolerance. \n",
    "\n",
    "This is called an **inexact lookup** because we are not searching for a perfect match, although there may be one. \n",
    "\n",
    "Here the **tolerance** is the maximum distance away from our desired point Xarray will search for a nearest neighbor."
   ]
  },
  {
   "cell_type": "code",
   "execution_count": null,
   "id": "c8943443",
   "metadata": {
    "execution": {},
    "executionInfo": {
     "elapsed": 321,
     "status": "ok",
     "timestamp": 1681570696404,
     "user": {
      "displayName": "Sloane Garelick",
      "userId": "04706287370408131987"
     },
     "user_tz": 240
    }
   },
   "outputs": [],
   "source": [
    "temperature.sel(\n",
    "    time = \"2018-01-07\", \n",
    "    method = \"nearest\", \n",
    "    tolerance = timedelta(days=2)\n",
    ")"
   ]
  },
  {
   "cell_type": "markdown",
   "id": "cf1fd9b7",
   "metadata": {
    "execution": {},
    "slideshow": {
     "slide_type": "slide"
    }
   },
   "source": [
    "### Interpolation\n",
    "\n",
    "The latitude values of our dataset are 25ºN, 40ºN, 55ºN, and the longitude values are 120ºW, 100ºW, 80ºW, 60ºW.\n",
    "\n",
    "But suppose we want to extract a timeseries for Boulder, Colorado, USA (40°N, 105°W). \n",
    "\n",
    "Since `lon=-105` is _not_ a point on our longitude axis, this requires interpolation between data points.\n",
    "\n",
    "We can do this using the `.interp()` method (see the docs [here](http://xarray.pydata.org/en/stable/interpolation.html)), which works similarly to `.sel()`. \n",
    "\n",
    "Using `.interp()`, we can interpolate to any latitude/longitude location using an interpolation method of our choice. \n",
    "\n",
    "In the example below, you will linearly interpolate between known points (other methods: nearest, cubic, quadratic)."
   ]
  },
  {
   "cell_type": "code",
   "execution_count": null,
   "id": "78a72467",
   "metadata": {
    "execution": {},
    "executionInfo": {
     "elapsed": 646,
     "status": "ok",
     "timestamp": 1681570700081,
     "user": {
      "displayName": "Sloane Garelick",
      "userId": "04706287370408131987"
     },
     "user_tz": 240
    }
   },
   "outputs": [],
   "source": [
    "temperature.interp(\n",
    "    lon = -105, \n",
    "    lat = 40, \n",
    "    method = \"linear\"\n",
    ")"
   ]
  },
  {
   "cell_type": "markdown",
   "id": "85cc8312",
   "metadata": {
    "execution": {},
    "slideshow": {
     "slide_type": "slide"
    }
   },
   "source": [
    "## Slicing Along Coordinates\n",
    "\n",
    "Frequently we want to select a range (or _slice_) along one or more coordinate(s). \n",
    "\n",
    "For example, you may wish to only assess average annual temperatures in equatorial regions. \n",
    "\n",
    "We can achieve this by passing a Python [slice](https://docs.python.org/3/library/functions.html#slice) object to `.sel()`. \n",
    "\n",
    "The calling sequence for <code>slice</code> always looks like <code>slice(start, stop[, step])</code>, where <code>step</code> is optional. \n",
    "\n",
    "In this case, let's only look at values between 110ºW-70ºW and 25ºN-40ºN:"
   ]
  },
  {
   "cell_type": "code",
   "execution_count": null,
   "id": "c1443668",
   "metadata": {
    "execution": {},
    "executionInfo": {
     "elapsed": 21,
     "status": "ok",
     "timestamp": 1681570702748,
     "user": {
      "displayName": "Sloane Garelick",
      "userId": "04706287370408131987"
     },
     "user_tz": 240
    }
   },
   "outputs": [],
   "source": [
    "temperature.sel(\n",
    "    time = slice(\"2018-01-01\", \"2018-01-03\"), \n",
    "    lon = slice(-110, -70), \n",
    "    lat = slice(25, 45)\n",
    ")"
   ]
  },
  {
   "cell_type": "markdown",
   "id": "33352259",
   "metadata": {
    "execution": {},
    "slideshow": {
     "slide_type": "slide"
    }
   },
   "source": [
    "## One More Selection Method: `.loc`\n",
    "\n",
    "All of these operations can also be done within square brackets on the `.loc` attribute of the `DataArray`.\n",
    "\n",
    "This is sort of in between the NumPy-style selection\n",
    "\n",
    "```\n",
    "temp[1,:,:]\n",
    "```\n",
    "\n",
    "and the fully label-based selection using `.sel()`"
   ]
  },
  {
   "cell_type": "code",
   "execution_count": null,
   "id": "aabbffed",
   "metadata": {
    "execution": {},
    "executionInfo": {
     "elapsed": 14,
     "status": "ok",
     "timestamp": 1681570706874,
     "user": {
      "displayName": "Sloane Garelick",
      "userId": "04706287370408131987"
     },
     "user_tz": 240
    }
   },
   "outputs": [],
   "source": [
    "temperature.loc['2018-01-02']"
   ]
  },
  {
   "cell_type": "markdown",
   "id": "7594bebf",
   "metadata": {
    "execution": {},
    "slideshow": {
     "slide_type": "slide"
    }
   },
   "source": [
    "## One More Selection Method: `.loc`\n",
    "\n",
    "With `.loc`, we make use of the coordinate _values_, but lose the ability to specify the _names_ of the various dimensions. Instead, the slicing must be done in the correct order:"
   ]
  },
  {
   "cell_type": "code",
   "execution_count": null,
   "id": "bd6b5534",
   "metadata": {
    "execution": {},
    "executionInfo": {
     "elapsed": 315,
     "status": "ok",
     "timestamp": 1681570712906,
     "user": {
      "displayName": "Sloane Garelick",
      "userId": "04706287370408131987"
     },
     "user_tz": 240
    }
   },
   "outputs": [],
   "source": [
    "temperature.loc['2018-01-01':'2018-01-03', 25:45, -110:-70]"
   ]
  },
  {
   "cell_type": "markdown",
   "id": "14347710",
   "metadata": {
    "execution": {},
    "slideshow": {
     "slide_type": "slide"
    }
   },
   "source": [
    "## One More Selection Method: `.loc`\n",
    "\n",
    "What _doesn't_ work is passing the slices in a different order to the dimensions of the dataset:\n",
    "\n",
    "```python\n",
    "# This will generate an error\n",
    "# temperature.loc[-110:-70, 25:45,'2018-01-01':'2018-01-03']\n",
    "```"
   ]
  },
  {
   "cell_type": "code",
   "execution_count": null,
   "id": "ebee5c1f",
   "metadata": {
    "execution": {},
    "executionInfo": {
     "elapsed": 365,
     "status": "ok",
     "timestamp": 1681570719989,
     "user": {
      "displayName": "Sloane Garelick",
      "userId": "04706287370408131987"
     },
     "user_tz": 240
    }
   },
   "outputs": [],
   "source": [
    "temperature.loc[\"2018-01-01\":\"2018-01-03\", slice(25, 45), -110:-70]"
   ]
  },
  {
   "cell_type": "markdown",
   "id": "b1d1aafd",
   "metadata": {
    "execution": {},
    "slideshow": {
     "slide_type": "slide"
    }
   },
   "source": [
    "## Opening and Plotting netCDF Data"
   ]
  },
  {
   "cell_type": "markdown",
   "id": "3ce0e0ab",
   "metadata": {
    "slideshow": {
     "slide_type": "slide"
    }
   },
   "source": [
    "##  Some Environmental Sciences\n",
    "\n",
    "### Atmospheric Climate Systems\n",
    "\n",
    "![](l09img06.png)"
   ]
  },
  {
   "cell_type": "markdown",
   "id": "8ddc05c8",
   "metadata": {
    "slideshow": {
     "slide_type": "slide"
    }
   },
   "source": [
    "##  Some Environmental Sciences\n",
    "\n",
    "### Atmospheric Climate Systems\n",
    "\n",
    "![](l09img07.png)"
   ]
  },
  {
   "cell_type": "markdown",
   "id": "925d29ab",
   "metadata": {
    "slideshow": {
     "slide_type": "slide"
    }
   },
   "source": [
    "##  Some Environmental Sciences\n",
    "\n",
    "### Atmospheric Climate Systems\n",
    "\n",
    "![](l09img08.png)"
   ]
  },
  {
   "cell_type": "markdown",
   "id": "e546f383",
   "metadata": {
    "execution": {},
    "slideshow": {
     "slide_type": "slide"
    }
   },
   "source": [
    "## Opening netCDF Data\n",
    "\n",
    "Xarray is closely linked with the netCDF data model, and it even treats netCDF as a 'first-class' file format. \n",
    "\n",
    "This means that Xarray can easily open netCDF datasets. \n",
    "\n",
    "However, these datasets need to follow some of Xarray's rules. One such rule is that coordinates must be 1-dimensional."
   ]
  },
  {
   "cell_type": "code",
   "execution_count": null,
   "id": "32960e9f",
   "metadata": {
    "execution": {},
    "executionInfo": {
     "elapsed": 891,
     "status": "ok",
     "timestamp": 1681571219656,
     "user": {
      "displayName": "Sloane Garelick",
      "userId": "04706287370408131987"
     },
     "user_tz": 240
    },
    "tags": []
   },
   "outputs": [],
   "source": [
    "ds = xr.open_dataset(\"NARR_19930313_0000.nc\")\n",
    "ds"
   ]
  },
  {
   "cell_type": "markdown",
   "id": "88b7b53f",
   "metadata": {
    "execution": {},
    "slideshow": {
     "slide_type": "slide"
    }
   },
   "source": [
    "### Questions 1\n"
   ]
  },
  {
   "cell_type": "markdown",
   "id": "3cd49d5d",
   "metadata": {
    "execution": {}
   },
   "source": [
    "1. What are the dimensions of this dataset?\n",
    "1. How many climate variables are in this dataset?\n"
   ]
  },
  {
   "cell_type": "code",
   "execution_count": null,
   "id": "0a41a457",
   "metadata": {},
   "outputs": [],
   "source": [
    "# Your answers here"
   ]
  }
 ],
 "metadata": {
  "celltoolbar": "Slideshow",
  "kernelspec": {
   "display_name": "Python 3 (ipykernel)",
   "language": "python",
   "name": "python3"
  },
  "language_info": {
   "codemirror_mode": {
    "name": "ipython",
    "version": 3
   },
   "file_extension": ".py",
   "mimetype": "text/x-python",
   "name": "python",
   "nbconvert_exporter": "python",
   "pygments_lexer": "ipython3",
   "version": "3.9.5"
  }
 },
 "nbformat": 4,
 "nbformat_minor": 5
}
