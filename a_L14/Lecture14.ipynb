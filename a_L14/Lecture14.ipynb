{
 "cells": [
  {
   "cell_type": "markdown",
   "id": "852ab240",
   "metadata": {
    "execution": {},
    "slideshow": {
     "slide_type": "slide"
    }
   },
   "source": [
    "# CSS 120: Environmental Data Science\n",
    "\n",
    "## Carbon Cycles, Feedback Loops, and Greenhouse Effect\n",
    "\n",
    "### Umberto Mignozzetti (UCSD)\n",
    "\n",
    "(Based on [ClimateMatch Academy](https://comptools.climatematch.io/tutorials/W1D1_ClimateSystemOverview/student/W1D1_Tutorial7.html))"
   ]
  },
  {
   "cell_type": "markdown",
   "id": "e8282f87",
   "metadata": {
    "execution": {},
    "slideshow": {
     "slide_type": "slide"
    }
   },
   "source": [
    "# Packages"
   ]
  },
  {
   "cell_type": "code",
   "execution_count": null,
   "id": "70f262ae",
   "metadata": {
    "execution": {}
   },
   "outputs": [],
   "source": [
    "# imports\n",
    "from datetime import timedelta\n",
    "import numpy as np\n",
    "import pandas as pd\n",
    "import xarray as xr\n",
    "from matplotlib import pyplot as plt\n",
    "from pythia_datasets import DATASETS"
   ]
  },
  {
   "cell_type": "markdown",
   "id": "29f32825",
   "metadata": {
    "slideshow": {
     "slide_type": "slide"
    }
   },
   "source": [
    "##  Some Environmental Sciences\n",
    "\n",
    "### Carbon Cycles\n",
    "\n",
    "![](l14img01.png)"
   ]
  },
  {
   "cell_type": "markdown",
   "id": "4e2889e7",
   "metadata": {
    "slideshow": {
     "slide_type": "slide"
    }
   },
   "source": [
    "##  Some Environmental Sciences\n",
    "\n",
    "### Carbon Cycles\n",
    "\n",
    "![](l14img02.png)"
   ]
  },
  {
   "cell_type": "markdown",
   "id": "5b8ebc75",
   "metadata": {
    "slideshow": {
     "slide_type": "slide"
    }
   },
   "source": [
    "##  Some Environmental Sciences\n",
    "\n",
    "### Carbon Cycles\n",
    "\n",
    "![](l14img03.png)"
   ]
  },
  {
   "cell_type": "markdown",
   "id": "30933f72",
   "metadata": {
    "slideshow": {
     "slide_type": "slide"
    }
   },
   "source": [
    "##  Some Environmental Sciences\n",
    "\n",
    "### Feedback Loops\n",
    "\n",
    "![](l14img04.png)"
   ]
  },
  {
   "cell_type": "markdown",
   "id": "0842a9c4",
   "metadata": {
    "slideshow": {
     "slide_type": "slide"
    }
   },
   "source": [
    "##  Some Environmental Sciences\n",
    "\n",
    "![](l14img05.png)"
   ]
  },
  {
   "cell_type": "markdown",
   "id": "b3f4e108-f55e-4c25-a00d-99dc00ba849a",
   "metadata": {
    "execution": {},
    "slideshow": {
     "slide_type": "slide"
    },
    "tags": []
   },
   "source": [
    "# Data Resolution and Resampling Methods\n",
    "\n",
    "To study these phenomena, we need to deal with the resolution of the data. Here are three methods:\n",
    "\n",
    "1. `resample`: Useful for temporal upsampling and downsampling\n",
    "    + E.g.: Go from hourly to every six hours<br><br>\n",
    "\n",
    "1. `rolling`: Useful for aggregations on moving windows\n",
    "    + E.g.: Moving averages (smooth out short-term fluctuations and highlight longer-term trends or cycles)<br><br>\n",
    "\n",
    "1. `coarsen`: Downsample the data\n",
    "    + E.g.: Block means for a given window<br><br>\n",
    "    \n",
    "Each resampling strategy will have a different effect, and will be useful for different issues. Let us see each of them in practice."
   ]
  },
  {
   "cell_type": "markdown",
   "id": "1fbc0350",
   "metadata": {
    "slideshow": {
     "slide_type": "slide"
    }
   },
   "source": [
    "# Data Resolution and Resampling Methods"
   ]
  },
  {
   "cell_type": "code",
   "execution_count": null,
   "id": "7837f8bd-da89-4718-ab02-d5107576d2d6",
   "metadata": {
    "execution": {},
    "executionInfo": {
     "elapsed": 303,
     "status": "ok",
     "timestamp": 1681569406112,
     "user": {
      "displayName": "Sloane Garelick",
      "userId": "04706287370408131987"
     },
     "user_tz": 240
    },
    "tags": []
   },
   "outputs": [],
   "source": [
    "filepath = DATASETS.fetch(\"CESM2_sst_data.nc\")\n",
    "ds = xr.open_dataset(filepath)\n",
    "ds"
   ]
  },
  {
   "cell_type": "markdown",
   "id": "8cabb77f",
   "metadata": {
    "execution": {},
    "slideshow": {
     "slide_type": "slide"
    }
   },
   "source": [
    "# Resample\n",
    "\n",
    "The data we have is monthly, and we can downsample it yearly:"
   ]
  },
  {
   "cell_type": "code",
   "execution_count": null,
   "id": "cbe80157",
   "metadata": {
    "execution": {}
   },
   "outputs": [],
   "source": [
    "tos_yearly = ds.tos.resample(time=\"YS\")\n",
    "tos_yearly"
   ]
  },
  {
   "cell_type": "markdown",
   "id": "6a185c07",
   "metadata": {
    "execution": {},
    "slideshow": {
     "slide_type": "slide"
    }
   },
   "source": [
    "# Resample\n",
    "\n",
    "And we can use it to compute the global mean:"
   ]
  },
  {
   "cell_type": "code",
   "execution_count": null,
   "id": "09542eab-998d-4b2d-807c-dccd5bd4329e",
   "metadata": {
    "execution": {},
    "executionInfo": {
     "elapsed": 14,
     "status": "ok",
     "timestamp": 1681569533895,
     "user": {
      "displayName": "Sloane Garelick",
      "userId": "04706287370408131987"
     },
     "user_tz": 240
    },
    "tags": []
   },
   "outputs": [],
   "source": [
    "annual_mean = tos_yearly.mean()\n",
    "annual_mean_global = annual_mean.mean(dim=[\"lat\", \"lon\"])\n",
    "annual_mean_global.plot()"
   ]
  },
  {
   "cell_type": "markdown",
   "id": "6f35c8d6-b0e6-4371-ad80-e182ffcec51b",
   "metadata": {
    "execution": {},
    "slideshow": {
     "slide_type": "slide"
    }
   },
   "source": [
    "# Rolling\n",
    "\n",
    "If you remember COVID, daily data showed lots of variability. This is why the info we received was usually grouped in moving averages.\n",
    "\n",
    "We can do the same with our data, for example, computing moving averages by six months time windows."
   ]
  },
  {
   "cell_type": "code",
   "execution_count": null,
   "id": "78c1ffc2-45cb-40cc-962e-c76021d9ab1c",
   "metadata": {
    "execution": {},
    "executionInfo": {
     "elapsed": 12,
     "status": "ok",
     "timestamp": 1681569537428,
     "user": {
      "displayName": "Sloane Garelick",
      "userId": "04706287370408131987"
     },
     "user_tz": 240
    },
    "tags": []
   },
   "outputs": [],
   "source": [
    "tos_m_avg = ds.tos.rolling(time=6, center=True).mean()\n",
    "tos_m_avg"
   ]
  },
  {
   "cell_type": "markdown",
   "id": "0bebb17b-6906-4ba7-a4ff-c07a9206e790",
   "metadata": {
    "execution": {},
    "slideshow": {
     "slide_type": "slide"
    },
    "tags": []
   },
   "source": [
    "# Rolling"
   ]
  },
  {
   "cell_type": "code",
   "execution_count": null,
   "id": "28609e20",
   "metadata": {},
   "outputs": [],
   "source": [
    "tos_m_avg_global = tos_m_avg.mean(dim=[\"lat\", \"lon\"])\n",
    "tos_m_avg_global.plot()"
   ]
  },
  {
   "cell_type": "markdown",
   "id": "e6f15eca",
   "metadata": {
    "execution": {},
    "slideshow": {
     "slide_type": "slide"
    }
   },
   "source": [
    "# Coarsening\n",
    "\n",
    "This works like block aggregation along multiple dimensions.\n",
    "\n",
    "For instance, let us block for a 4 months period in each latitude and longitude points:"
   ]
  },
  {
   "cell_type": "code",
   "execution_count": null,
   "id": "06e3bfff",
   "metadata": {
    "execution": {},
    "tags": []
   },
   "outputs": [],
   "source": [
    "coarse_data = ds.coarsen(time=4, lat=len(ds.lat), lon=len(ds.lon)).mean()\n",
    "coarse_data"
   ]
  },
  {
   "cell_type": "markdown",
   "id": "01bfdf21",
   "metadata": {
    "execution": {},
    "slideshow": {
     "slide_type": "slide"
    }
   },
   "source": [
    "# Coarsening\n",
    "\n",
    "And this gives us:"
   ]
  },
  {
   "cell_type": "code",
   "execution_count": null,
   "id": "400c3dab",
   "metadata": {
    "execution": {},
    "slideshow": {
     "slide_type": "-"
    },
    "tags": []
   },
   "outputs": [],
   "source": [
    "coarse_data.tos.plot()"
   ]
  },
  {
   "cell_type": "markdown",
   "id": "e8bd66b3",
   "metadata": {
    "execution": {},
    "slideshow": {
     "slide_type": "slide"
    }
   },
   "source": [
    "# Resampling Methods\n",
    "\n",
    "The sampling methods aggregated give us the following:"
   ]
  },
  {
   "cell_type": "code",
   "execution_count": null,
   "id": "5d397f30",
   "metadata": {
    "execution": {},
    "slideshow": {
     "slide_type": "-"
    },
    "tags": []
   },
   "outputs": [],
   "source": [
    "ds.mean(dim = [\"lat\", \"lon\"]).tos.plot(size = 6); coarse_data.tos.plot()\n",
    "tos_m_avg_global.plot(); annual_mean_global.plot()\n",
    "\n",
    "plt.legend([\"original data (monthly)\", \"coarsened (4 months)\", \n",
    "            \"moving average (6 months)\",\"annually resampled (12 months)\",])"
   ]
  },
  {
   "cell_type": "markdown",
   "id": "a4d79093-f013-4821-84f8-3c223141046e",
   "metadata": {
    "execution": {},
    "slideshow": {
     "slide_type": "slide"
    }
   },
   "source": [
    "# Masking Data\n",
    "\n",
    "Suppose we want to analyze one data period, focusing on a particular set of values. We can isolate it using the `isel()` method:"
   ]
  },
  {
   "cell_type": "code",
   "execution_count": null,
   "id": "59b84034-7d42-4080-932f-0eefd165953d",
   "metadata": {
    "execution": {},
    "executionInfo": {
     "elapsed": 297,
     "status": "ok",
     "timestamp": 1681569542731,
     "user": {
      "displayName": "Sloane Garelick",
      "userId": "04706287370408131987"
     },
     "user_tz": 240
    },
    "slideshow": {
     "slide_type": "-"
    },
    "tags": []
   },
   "outputs": [],
   "source": [
    "sample = ds.tos.sel(time='2014-09')\n",
    "sample"
   ]
  },
  {
   "cell_type": "markdown",
   "id": "a75e0064-4363-4328-9a79-d87475ed1c81",
   "metadata": {
    "execution": {},
    "slideshow": {
     "slide_type": "slide"
    }
   },
   "source": [
    "# Masking Data\n",
    "\n",
    "But to mask the data we want to analyze, we need to isolate it.\n",
    "\n",
    "We use the `.where()` to get this done. Unlike `sel`, that changes the shape of the data, `where` masks the data by putting missing values in places where the `where` condition is false.\n",
    "\n",
    "For instance, suppose further that we want to mask the places with temperature lower the zero degrees celsius (less than 32 F, or frozen).\n",
    "\n",
    "Here is what we do:"
   ]
  },
  {
   "cell_type": "code",
   "execution_count": null,
   "id": "a49b957e-ea24-414e-a422-c40a3723fbae",
   "metadata": {
    "execution": {},
    "executionInfo": {
     "elapsed": 815,
     "status": "ok",
     "timestamp": 1681569338417,
     "user": {
      "displayName": "Sloane Garelick",
      "userId": "04706287370408131987"
     },
     "user_tz": 240
    },
    "slideshow": {
     "slide_type": "-"
    },
    "tags": []
   },
   "outputs": [],
   "source": [
    "masked_sample = sample.where(sample <= 0.0)\n",
    "masked_sample"
   ]
  },
  {
   "cell_type": "markdown",
   "id": "65db6f5b",
   "metadata": {
    "execution": {},
    "slideshow": {
     "slide_type": "slide"
    }
   },
   "source": [
    "# Masking Data\n",
    "\n",
    "And this is what we get:"
   ]
  },
  {
   "cell_type": "code",
   "execution_count": null,
   "id": "08f2ad58",
   "metadata": {
    "execution": {},
    "executionInfo": {
     "elapsed": 815,
     "status": "ok",
     "timestamp": 1681569338417,
     "user": {
      "displayName": "Sloane Garelick",
      "userId": "04706287370408131987"
     },
     "user_tz": 240
    },
    "slideshow": {
     "slide_type": "-"
    },
    "tags": []
   },
   "outputs": [],
   "source": [
    "fig, axes = plt.subplots(ncols = 2, figsize = (19, 6))\n",
    "sample.plot(ax = axes[0]); masked_sample.plot(ax = axes[1])"
   ]
  },
  {
   "cell_type": "markdown",
   "id": "aVnchVimEp6k",
   "metadata": {
    "execution": {},
    "slideshow": {
     "slide_type": "slide"
    }
   },
   "source": [
    "# Masking Data\n",
    "\n",
    "And sometimes, we need to mask in more than one condition.\n",
    "\n",
    "To do that, we can use the `where` with multiple expressions enclosed in parenthesis. To combine the expressions, we can use:\n",
    "\n",
    "- & (and)\n",
    "- | (or)\n",
    "- ~ (not)\n",
    "\n",
    "For example, suppose we are studying the [El Niño](https://www.pmel.noaa.gov/elnino/what-is-el-nino).\n",
    "\n",
    "![](l14img06.png)"
   ]
  },
  {
   "cell_type": "markdown",
   "id": "727e977c",
   "metadata": {
    "slideshow": {
     "slide_type": "slide"
    }
   },
   "source": [
    "# Masking Data"
   ]
  },
  {
   "cell_type": "code",
   "execution_count": null,
   "id": "004ea5b2",
   "metadata": {},
   "outputs": [],
   "source": [
    "# Last time period\n",
    "sample = ds.tos.isel(time=-1)\n",
    "\n",
    "# And consider only temperatures in this window.\n",
    "sample.where((sample > 25) & (sample < 30)).plot(size=6)"
   ]
  },
  {
   "cell_type": "markdown",
   "id": "23609319",
   "metadata": {
    "slideshow": {
     "slide_type": "slide"
    }
   },
   "source": [
    "# Masking Data\n",
    "\n",
    "Now, let us add specific coordinates, so that we isolate the ENSO (El Niño Southern Oscillation)."
   ]
  },
  {
   "cell_type": "code",
   "execution_count": null,
   "id": "0a9acede",
   "metadata": {},
   "outputs": [],
   "source": [
    "sample.where(\n",
    "    (sample.lat < 5) & (sample.lat > -5) & (sample.lon > 190) & (sample.lon < 240)\n",
    ").plot(size=6)"
   ]
  },
  {
   "cell_type": "markdown",
   "id": "c928c662",
   "metadata": {
    "slideshow": {
     "slide_type": "slide"
    }
   },
   "source": [
    "# Masking Data\n",
    "\n",
    "And after zooming in:"
   ]
  },
  {
   "cell_type": "code",
   "execution_count": null,
   "id": "cc7f2fa9",
   "metadata": {},
   "outputs": [],
   "source": [
    "sample.where(\n",
    "    (sample.lat < 5) & (sample.lat > -5) & (sample.lon > 190) & (sample.lon < 240)\n",
    ").plot(size = 6)\n",
    "plt.xlim(180,250); plt.ylim(-10,10)"
   ]
  },
  {
   "cell_type": "markdown",
   "id": "54795747",
   "metadata": {
    "slideshow": {
     "slide_type": "slide"
    }
   },
   "source": [
    "# Masking Data\n",
    "\n",
    "We can also look at a time series of averages in the region:"
   ]
  },
  {
   "cell_type": "code",
   "execution_count": null,
   "id": "f8b66531",
   "metadata": {},
   "outputs": [],
   "source": [
    "nino = ds.tos.where(\n",
    "    (sample.lat < 5) & (sample.lat > -5) & (sample.lon > 190) & (sample.lon < 240)\n",
    ")\n",
    "\n",
    "nino_mean = nino.mean(dim=[\"lat\", \"lon\"])\n",
    "nino_mean"
   ]
  },
  {
   "cell_type": "markdown",
   "id": "284c1ccf",
   "metadata": {
    "slideshow": {
     "slide_type": "slide"
    }
   },
   "source": [
    "# Masking Data\n",
    "\n",
    "We can also look at a time series of averages in the region:"
   ]
  },
  {
   "cell_type": "code",
   "execution_count": null,
   "id": "c2037fcd",
   "metadata": {},
   "outputs": [],
   "source": [
    "nino_mean.plot()"
   ]
  },
  {
   "cell_type": "markdown",
   "id": "4beea5ee",
   "metadata": {
    "slideshow": {
     "slide_type": "slide"
    }
   },
   "source": [
    "## Questions?"
   ]
  },
  {
   "cell_type": "markdown",
   "id": "34e8f300",
   "metadata": {
    "slideshow": {
     "slide_type": "slide"
    }
   },
   "source": [
    "## See you next class!"
   ]
  }
 ],
 "metadata": {
  "celltoolbar": "Slideshow",
  "kernelspec": {
   "display_name": "Python 3 (ipykernel)",
   "language": "python",
   "name": "python3"
  },
  "language_info": {
   "codemirror_mode": {
    "name": "ipython",
    "version": 3
   },
   "file_extension": ".py",
   "mimetype": "text/x-python",
   "name": "python",
   "nbconvert_exporter": "python",
   "pygments_lexer": "ipython3",
   "version": "3.9.5"
  }
 },
 "nbformat": 4,
 "nbformat_minor": 5
}
