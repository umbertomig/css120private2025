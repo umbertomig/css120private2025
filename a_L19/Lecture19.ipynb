{
 "cells": [
  {
   "cell_type": "markdown",
   "metadata": {
    "execution": {},
    "slideshow": {
     "slide_type": "slide"
    }
   },
   "source": [
    "# CSS 120: Environmental Data Science\n",
    "\n",
    "## Remote Sensing\n",
    "\n",
    "### Umberto Mignozzetti (UCSD)\n",
    "\n",
    "(Based on Project Pythia and ClimateMatch)"
   ]
  },
  {
   "cell_type": "markdown",
   "metadata": {
    "execution": {},
    "slideshow": {
     "slide_type": "slide"
    }
   },
   "source": [
    "## Packages"
   ]
  },
  {
   "cell_type": "code",
   "execution_count": null,
   "metadata": {},
   "outputs": [],
   "source": [
    "# Packages\n",
    "# !pip install s3fs --quiet"
   ]
  },
  {
   "cell_type": "code",
   "execution_count": null,
   "metadata": {
    "execution": {},
    "tags": []
   },
   "outputs": [],
   "source": [
    "# Packages\n",
    "import s3fs\n",
    "import numpy as np\n",
    "import xarray as xr\n",
    "import matplotlib.pyplot as plt\n",
    "import cartopy\n",
    "import cartopy.crs as ccrs\n",
    "import datetime\n",
    "import boto3\n",
    "import botocore\n",
    "import pooch\n",
    "import os\n",
    "import tempfile"
   ]
  },
  {
   "cell_type": "markdown",
   "metadata": {
    "execution": {},
    "slideshow": {
     "slide_type": "slide"
    }
   },
   "source": [
    "## Announcements\n",
    "\n",
    "1. PS02 and Lab03 will be on later this weekend.\n",
    "\n",
    "2. I will post our make-up lecture every Thursday.\n",
    "\n",
    "We have three make-up lectures, and three weeks left, so it matches perfectly.\n",
    "\n",
    "In the make-up, I am focusing on climate change science, so that we do most of the computational stuff in class."
   ]
  },
  {
   "cell_type": "markdown",
   "metadata": {
    "execution": {},
    "slideshow": {
     "slide_type": "slide"
    }
   },
   "source": [
    "## Today's Lecture\n",
    "\n",
    "Satellites provide a wealthy of reliable data about the environment.\n",
    "\n",
    "In this lecture, we will study:\n",
    "\n",
    "1. Arrays of long-term satellite remote sensing datasets that are tailored for climate applications, brought to you by three leading data providers: NOAA, NASA, and ESA.\n",
    "\n",
    "2. Navigate and utilize these datasets to study vegetation and precipitation."
   ]
  },
  {
   "cell_type": "markdown",
   "metadata": {
    "execution": {},
    "slideshow": {
     "slide_type": "slide"
    }
   },
   "source": [
    "## Exploring Satellite Climate Data Records\n",
    "\n",
    "In 2004, a committee convened by the US National Research Council defined a [***Climate Data Record (CDR)***](https://www.ncei.noaa.gov/products/climate-data-records) is \"a time series of measurements of sufficient length, consistency and continuity to determine climate variability and change.\" \n",
    "\n",
    "Although there are no specific number to determine the \"sufficient length\", the typical climate length is considered to be at least 30 years. \n",
    "\n",
    "To achieve a stable, consistent, and reliable satellite CDR, we need to carefully calibrate the raw satellite data. "
   ]
  },
  {
   "cell_type": "markdown",
   "metadata": {
    "execution": {},
    "slideshow": {
     "slide_type": "slide"
    }
   },
   "source": [
    "## Satellite Missions for Environmental Monitoring\n",
    "\n",
    "The image below illustrates a timeline showcasing a selection of polar-orbiting satellite missions whose data are commonly employed to generate satellite Climate Data Records (CDRs). \n",
    "\n",
    "![satellite timeline](https://github.com/ClimateMatchAcademy/course-content/blob/main/tutorials/W1D3_RemoteSensingLandOceanandAtmosphere/asset/img/t2_satellite_timeline.png?raw=true)\n",
    "\n",
    "Credit: Douglas Rao"
   ]
  },
  {
   "cell_type": "markdown",
   "metadata": {
    "execution": {},
    "slideshow": {
     "slide_type": "slide"
    }
   },
   "source": [
    "## Inter-satellite Calibration\n",
    "\n",
    "To address the differences that are caused by sensor and satellite changes, we often perform an **inter-satellite calibration**\n",
    "\n",
    "This adjusts the raw data collected by different satellites to a pre-defined reference to remove or minimize the systematic difference between data. \n",
    "\n",
    "The pre-defined reference is usually determined using data during the period of time when the satellites overlap. "
   ]
  },
  {
   "cell_type": "markdown",
   "metadata": {
    "slideshow": {
     "slide_type": "slide"
    }
   },
   "source": [
    "## Inter-satellite Calibration\n",
    "\n",
    "![](https://github.com/ClimateMatchAcademy/course-content/blob/main/tutorials/W1D3_RemoteSensingLandOceanandAtmosphere/asset/img/t2_calibration_pt2.png?raw=true)"
   ]
  },
  {
   "cell_type": "markdown",
   "metadata": {
    "execution": {},
    "slideshow": {
     "slide_type": "slide"
    }
   },
   "source": [
    "## Inter-satellite Calibration\n",
    "\n",
    "When choosing satellite data for climate applications, you should be asking yourself a few questions:\n",
    "\n",
    "* Are the data that you are planning to use collected by the same sensor and satellite?\n",
    "* If the data are from multiple satellites/sensors, are there steps to ensure the data are consistent across difference satellites/sensors?\n",
    "* Can you find out how the inter-satellite calibration is done and what is the level of difference between satellites/sensors?\n",
    "\n",
    "These questions will help you determine if the remotely sensed data is appropriate for climate applications that you are interested in."
   ]
  },
  {
   "cell_type": "markdown",
   "metadata": {
    "execution": {},
    "slideshow": {
     "slide_type": "slide"
    }
   },
   "source": [
    "## NOAA Climate Data Records\n",
    "\n",
    "The **National Atmospheric and Oceanic Administration (NOAA)** implemented the recommendation from the US National Research Council to develop satellite-based climate data records in the 2000s. \n",
    "\n",
    "They have maintained a suite of operational CDRs that can be used to study different aspects of the changing climate system since then.\n",
    "\n",
    "All NOAA CDR data are available freely to the public via [NOAA National Centers for Environmental Information](https://www.ncei.noaa.gov/products/climate-data-records). \n",
    "\n",
    "Recently, the [NOAA Open Data Dissemination Program](https://www.noaa.gov/information-technology/open-data-dissemination) also made all NOAA CDRs available on three major commercial cloud service providers (i.e., Amazon Web Service, Google Cloud, and Microsoft Azure).\n",
    "\n",
    "The NOAA Climate Data Records (CDRs) are available to anyone interested in accessing the data and are typically free of charge."
   ]
  },
  {
   "cell_type": "markdown",
   "metadata": {
    "slideshow": {
     "slide_type": "slide"
    }
   },
   "source": [
    "## NOAA Climate Data Records\n",
    "\n",
    "NOAA CDRs have two different categories with different purposes:\n",
    "\n",
    "* _Fundamental CDR (FCDR)_: This category consists of high-quality, low-level processed satellite sensor data, such as reflectance and brightness temperature. The FCDR datasets are carefully calibrated between satellites and sensors to ensure accuracy and consistency. These datasets are primarily used to assess and improve Earth system models (which you will learn about next week).\n",
    "* _Thematic CDR_: Thematic CDRs provide valuable information for understanding climate processes and changes in various domains.  The thematic CDRs are divided into terrestrial, atmospheric, and ocean categories to reflect the different components of the climate system."
   ]
  },
  {
   "cell_type": "markdown",
   "metadata": {
    "slideshow": {
     "slide_type": "slide"
    }
   },
   "source": [
    "## NOAA Climate Data Records\n",
    "\n",
    "The table below lists a selection of thematic CDRs operates by NOAA. You can find out more about all NOAA CDRs by visiting the specific webpage of each CDR categories:\n",
    "\n",
    "* [Fundamental CDR](https://www.ncei.noaa.gov/products/climate-data-records/fundamental) - 16 datasets\n",
    "* [Thematic CDR: Terrestrial](https://www.ncei.noaa.gov/products/climate-data-records/terrestrial) - 4 datasets\n",
    "* [Thematic CDR: Atmospheric](https://www.ncei.noaa.gov/products/climate-data-records/atmospheric) - 18 datasets\n",
    "* [Thematic CDR: Oceanic](https://www.ncei.noaa.gov/products/climate-data-records/oceanic) - 5 datasets"
   ]
  },
  {
   "cell_type": "markdown",
   "metadata": {
    "execution": {},
    "slideshow": {
     "slide_type": "slide"
    }
   },
   "source": [
    "## NOAA Climate Data Records\n",
    "\n",
    "| Dataset | Category | Start Year | Frequency | Spatial Resolution | Example Application Areas |\n",
    "|:--|:--:|:--:|:--:|:--:|:--|\n",
    "|Leaf Area Index and FAPAR|Terrestrial|1981|Daily|0.05°| Vegetation status monitoring; Agriculture monitoring; Crop yield/food security|\n",
    "|Normalized Difference Vegetation Index (NDVI)|Terrestrial|1981|Daily|0.05°|Vegetation status monitoring; Vegetation phenology study|\n",
    "|Snow Cover Extent (Northern Hemisphere)|Terrestrial|1966|Weekly (prior 1999-06) <br><br> Daily (post 1999-06)|~190 km| Hydrology; Water resources; Snow-climate feedback|\n",
    "|Aerosol Optical Thickness|Atmospheric|1981|Daily & Monthly|0.1°|Air quality; Aerosol-climate feedback|\n",
    "|PATMOS-x Cloud Properties|Atmospheric|1979|Daily|0.1°|Cloud process; Cloud-climate feedback|\n",
    "|Precipitation - PERSIANN|Atmospheric|1982|Daily|0.25° <br><br> (60°S–60°N)|Hydrology; Water resources; Extreme events|\n",
    "|Sea Surface Temperature - Optimum Interpolation|Oceanic|1981|Daily|0.25°|Climate variability; Marine heatwave; Marine ecosystem|\n",
    "|Sea Ice Concentration|Oceanic|1978|Daily & Monthly|25 km|Crosphere study; Wildlife conservation; Ocean/climate modeling|"
   ]
  },
  {
   "cell_type": "markdown",
   "metadata": {
    "execution": {},
    "slideshow": {
     "slide_type": "slide"
    }
   },
   "source": [
    "## ESA Climate Change Initiative\n",
    "\n",
    "The **European Space Agency (ESA)** initiated a similar effort to develop consistent satellite-based long-term records to support the mission of climate monitoring for societal benefits in late 2010s. \n",
    "\n",
    "**[ESA Climate Change Initiative (CCI)](https://climate.esa.int/en/esa-climate/esa-cci/)** has established more than 26 projects to develop satellite-based CDRs and directly engage with downstream users.\n",
    "\n",
    "Through CCI, there is very strong emphasis on applications to support the monitoring of [**essential climate variables** (ECVs) defined by Global Climate Observing System (GCOS)](https://public.wmo.int/en/programmes/global-climate-observing-system/essential-climate-variables). \n",
    "\n",
    "An ECV is defined as \"a physical, chemical or biological variable or a group of linked variables that critically contributes to the characterization of Earth’ s climate.\"\n",
    "\n",
    "The table below lists a selection of ESA CCI datasets and their example application areas."
   ]
  },
  {
   "cell_type": "markdown",
   "metadata": {
    "execution": {},
    "slideshow": {
     "slide_type": "slide"
    }
   },
   "source": [
    "## ESA Climate Change Initiative\n",
    "\n",
    "| Dataset | Category | Duration | Frequency | Spatial Resolution | Example Application Areas |\n",
    "|:--|:--:|:--:|:--:|:--:|:--|\n",
    "|Sea Level|Oceanic|1992-2015|Monthly|0.25°|Sea level rise; Ocean modeling|\n",
    "|Water Vapor|Atmospheric|1985-2019|Monthly|5°|Water vapor-climate feedback; Hydrology|\n",
    "|Fire|Terrestrial|1981-2020|Monthly|0.05° (pixel dataset) <br><br> 0.25° (grid dataset)|Ecosystem disturbance; Extreme events; Social impact|\n",
    "|Land Cover|Terrestrial|1992-2020|Yearly|300 m|Terrestrial modeling|\n",
    "|Soil Moisture|Terrestrial|1978-2021|Daily|0.25°|Hydrology; Ecosystem impacts; Extreme events|"
   ]
  },
  {
   "cell_type": "markdown",
   "metadata": {
    "execution": {},
    "slideshow": {
     "slide_type": "slide"
    }
   },
   "source": [
    "## ESA Climate Change Initiative\n",
    "\n",
    "You may observe that some datasets do not span the typical duration necessary for climate studies (for instance, 30 years). This occurrence is influenced by a variety of factors such as:\n",
    "\n",
    "- Legacy sensors were not designed or capable of accurately capturing the ECVs of interest.\n",
    "- The CCI project is executed in stages, initiating with the most recent satellite missions/sensors. However, plans are underway to incorporate older data from heritage satellite missions/sensors.\n",
    "\n",
    "Moreover, each ESA CCI project frequently offers different versions of ECV variables, each designed for specific applications.\n",
    "\n",
    "The specifications of these ECV variables might deviate from the table above if they represent a subset of the time period, utilizing data from the latest sensors. \n",
    "\n",
    "The table primarily provides information on the longest time record for each CCI."
   ]
  },
  {
   "cell_type": "markdown",
   "metadata": {
    "slideshow": {
     "slide_type": "slide"
    }
   },
   "source": [
    "## ESA Climate Change Initiative\n",
    "\n",
    "All ESA CCI data are openly accessible and free of charge to users without any restrictions. \n",
    "\n",
    "All these resources can be accessed via the [**ESA CCI Open Data Portal**](https://climate.esa.int/en/odp/#/dashboard).\n",
    "\n",
    "To further assist users in accessing and analyzing the CCI data, ESA has also developed the [**CCI Analysis Toolbox (Cate)**](https://climate.esa.int/en/explore/analyse-climate-data/). \n",
    "\n",
    "It is described as a \"cloud-enabled computing environment geared for scientists who need to analyze, process, and visualize ESA’s climate data and other spatiotemporal data.\""
   ]
  },
  {
   "cell_type": "markdown",
   "metadata": {
    "execution": {},
    "slideshow": {
     "slide_type": "slide"
    }
   },
   "source": [
    "## NASA Earth System Data Records\n",
    "\n",
    "Similar to other two satellite data providers, the **National Aeronautics and Space Administration (NASA)** also produces and distributes long-term satellite-based data records that may be suitable for different climate applications. \n",
    "\n",
    "NASA [Earth System Data Records (ESDRs)](https://www.earthdata.nasa.gov/esds/competitive-programs/measures?page=0) are defined as \"as a unified and coherent set of observations of a given parameter of the Earth system, which is optimized to meet specific requirements in addressing science questions.\"\n",
    "\n",
    "While NASA's ESDR does not specifically target climate, these records are often created to monitor and study various components of the climate system.\n",
    "\n",
    "For instance, surface temperature, global forest coverage change, atmospheric compositions, and ice sheet velocity are all areas of focus.\n",
    "\n",
    "The table below showcases a selection of NASA ESDRs datasets that nicely complement the satellite Climate Data Records (CDRs) offered by NOAA and ESA."
   ]
  },
  {
   "cell_type": "markdown",
   "metadata": {
    "execution": {},
    "slideshow": {
     "slide_type": "slide"
    }
   },
   "source": [
    "## NASA Earth System Data Records\n",
    "\n",
    "| Dataset | Category | Duration | Frequency | Spatial Resolution | Example Application Areas |\n",
    "|:--|:--:|:--:|:--:|:--:|:--|\n",
    "|[Sulfur Dioxide](https://www.earthdata.nasa.gov/esds/competitive-programs/measures/multi-decadal-sulfur-dioxide)|Atmospheric|1978-2022|Daily|50 km|Atmospheric modeling; Air quality|\n",
    "|[Ozone](https://disc.gsfc.nasa.gov/datasets/MSO3L3zm5_1/summary)|Atmospheric|1970-2013|Monthly|5°|Ozone monitoring; Air quality|\n",
    "|[Sea Surface Height](https://podaac.jpl.nasa.gov/dataset/SEA_SURFACE_HEIGHT_ALT_GRIDS_L4_2SATS_5DAY_6THDEG_V_JPL2205)|Oceanic|1992-ongoing|5-Day|1/6°|Sea level rise; Ocean modeling|\n",
    "|[GPCP Satellite-Gauge Combined Precipitation Data](https://disc.gsfc.nasa.gov/datasets/GPCPMON_3.2/summary)|Atmospheric|1983-2020|Daily & Monthly|0.5°|Hydrology; Extreme events|"
   ]
  },
  {
   "cell_type": "markdown",
   "metadata": {
    "execution": {},
    "slideshow": {
     "slide_type": "slide"
    }
   },
   "source": [
    "## NASA Earth System Data Records\n",
    "\n",
    "If you've visited the linked NASA ESDR page above, you may have noticed that it appears less structured compared to the NOAA CDR program and the ESA CCI open data portal.\n",
    "\n",
    "This is partly because NASA operates different data centers for distinct application areas (e.g., atmosphere, snow/ice, land, etc.).\n",
    "\n",
    "However, you can always visit [**NASA's Earth Data Search**](https://search.earthdata.nasa.gov/search) – a comprehensive portal for accessing datasets provided by NASA's Earth science data system.\n",
    "\n",
    "To access the data, you'll be required to create a user account. Rest assured, registration for the NASA Earthdata system is free and open to anyone."
   ]
  },
  {
   "cell_type": "markdown",
   "metadata": {
    "execution": {},
    "slideshow": {
     "slide_type": "slide"
    }
   },
   "source": [
    "# Visualizing Satellite CDR - Global Vegetation Mapping"
   ]
  },
  {
   "cell_type": "markdown",
   "metadata": {
    "slideshow": {
     "slide_type": "slide"
    }
   },
   "source": [
    "##  Helper functions"
   ]
  },
  {
   "cell_type": "code",
   "execution_count": null,
   "metadata": {
    "cellView": "form",
    "execution": {},
    "tags": [
     "hide-input"
    ]
   },
   "outputs": [],
   "source": [
    "def pooch_load(filelocation=None, filename=None, processor=None):\n",
    "    shared_location = \"~/\"\n",
    "    user_temp_cache = tempfile.gettempdir()\n",
    "\n",
    "    if os.path.exists(os.path.join(shared_location, filename)):\n",
    "        file = os.path.join(shared_location, filename)\n",
    "    else:\n",
    "        file = pooch.retrieve(\n",
    "            filelocation,\n",
    "            known_hash=None,\n",
    "            fname=os.path.join(user_temp_cache, filename),\n",
    "            processor=processor,\n",
    "        )\n",
    "\n",
    "    return file"
   ]
  },
  {
   "cell_type": "markdown",
   "metadata": {
    "execution": {},
    "slideshow": {
     "slide_type": "slide"
    }
   },
   "source": [
    "## Satellite Monitoring of Vegetation Status\n",
    "\n",
    "All the **National Atmospheric and Oceanic Administration Climate Data Record (NOAA-CDR)** datasets are available both at NOAA National Centers for Environmental Information (NCEI) and commercial cloud platforms. \n",
    "\n",
    "Here, we are accessing the data directly via the **Amazon Web Service (AWS)**. You can find out information about the NOAA CDRs on AWS's Open Data Registry.\n",
    "\n",
    "* [NOAA Fundamental CDR on AWS](https://registry.opendata.aws/noaa-cdr-fundamental/) \n",
    "* [NOAA Terrestrial CDR on AWS](https://registry.opendata.aws/noaa-cdr-terrestrial/) \n",
    "* [NOAA Atmospheric CDR on AWS](https://registry.opendata.aws/noaa-cdr-atmospheric/) \n",
    "* [NOAA Oceanic CDR on AWS](https://registry.opendata.aws/noaa-cdr-oceanic/) "
   ]
  },
  {
   "cell_type": "markdown",
   "metadata": {
    "slideshow": {
     "slide_type": "slide"
    }
   },
   "source": [
    "## Satellite Monitoring of Vegetation Status\n",
    "\n",
    "The index we will use in this lecture is the **Normalized Difference Vegetation Index (NDVI)**.\n",
    "\n",
    "It measures the \"greeness\" of vegetation, and is useful in understanding vegetation density and assessing changes in plant health.\n",
    "\n",
    "For example, NDVI can be used to study the impact of drought, heatwave, and insect infestation on plants covering Earth's surface."
   ]
  },
  {
   "cell_type": "markdown",
   "metadata": {
    "execution": {},
    "slideshow": {
     "slide_type": "slide"
    }
   },
   "source": [
    "## Access NOAA NDVI CDR Data from AWS\n",
    "\n",
    "If we go to the [cloud storage space (or a S3 bucket)](https://noaa-cdr-ndvi-pds.s3.amazonaws.com/index.html#data/) that hosts NOAA NDVI CDR data, you will see the pattern of how the NOAA NDVI CDR is organized:\n",
    "\n",
    "`s3://noaa-cdr-ndvi-pds/data/1981/AVHRR-Land_v005_AVH13C1_NOAA-07_19810624_c20170610041337.nc`\n",
    "\n",
    "We can take advantage of the pattern to search for the data file systematically. \n",
    "\n",
    "> Parent directory: `s3://noaa-cdr-ndvi-pds/data/`  \n",
    "> Sub-directory for each year: `1981/`  \n",
    "> File name of each day: `AVHRR-Land_v005_AVH13C1_NOAA-07_19810624_c20170610041337.nc`"
   ]
  },
  {
   "cell_type": "markdown",
   "metadata": {
    "slideshow": {
     "slide_type": "slide"
    }
   },
   "source": [
    "## Access NOAA NDVI CDR Data from AWS\n",
    "\n",
    "The file name also has a clear pattern:\n",
    "\n",
    "> Sensor name: `AVHRR`  \n",
    "> Product category: `Land`  \n",
    "> Product version: `v005`  \n",
    "> Product code: `AVH13C1`  \n",
    "> Satellite platform: `NOAA-07`  \n",
    "> Date of the data: `19810624`  \n",
    "> Processing time: `c20170610041337` (*This will change for each file based on when the file was processed*)  \n",
    "> File format: `.nc` (*netCDR-4 format*)\n",
    "\n",
    "In other words, if we are looking for the data of a specific day, we can easily locate where the file might be. "
   ]
  },
  {
   "cell_type": "markdown",
   "metadata": {
    "execution": {},
    "slideshow": {
     "slide_type": "slide"
    }
   },
   "source": [
    "## Access NOAA NDVI CDR Data from AWS\n",
    "\n",
    "For example, if we want to find the AVHRR data for the day of *2002-03-12 (or March 12, 2002)*, you can use:\n",
    "\n",
    "`s3://noaa-cdr-ndvi-pds/data/2002/AVHRR-Land_v005_AVH13C1_*_20020312_c*.nc`\n",
    "\n",
    "The reasaon that we put `*` in the above directory is because we are not sure about what satellite platform this data is from and when the data was processed.\n",
    "\n",
    "The `*` is called a **wildcard**, and is used because we want *all* the files that contain our specific criteria, but do not want to have to specify all the other pieces of the filename we are not sure about yet.\n",
    "\n",
    "It should return all the data satisfying that initial criteria and you can refine further once you see what is available. Essentially, this first step helps to narrow down the data search."
   ]
  },
  {
   "cell_type": "markdown",
   "metadata": {
    "execution": {},
    "slideshow": {
     "slide_type": "slide"
    }
   },
   "source": [
    "## Access NOAA NDVI CDR Data from AWS"
   ]
  },
  {
   "cell_type": "code",
   "execution_count": null,
   "metadata": {
    "execution": {},
    "tags": []
   },
   "outputs": [],
   "source": [
    "# to access the NDVI data from AWS S3 bucket, we first need to connect to s3 bucket\n",
    "fs = s3fs.S3FileSystem(anon = True)\n",
    "\n",
    "# we can now check to see if the file exist in this cloud storage bucket using the file name pattern we just described\n",
    "date_sel = datetime.datetime(\n",
    "    2002, 3, 12, 0\n",
    ")  # select a desired date and hours (midnight is zero)\n",
    "\n",
    "# automatic filename from data_sel. we use strftime (string format time) to get the text format of the file in question.\n",
    "file_location = fs.glob(\n",
    "    \"s3://noaa-cdr-ndvi-pds/data/\"\n",
    "    + date_sel.strftime(\"%Y\")\n",
    "    + \"/AVHRR-Land_v005_AVH13C1_*\"\n",
    "    + date_sel.strftime(\"%Y%m%d\")\n",
    "    + \"_c*.nc\"\n",
    ")\n",
    "# now let's check if there is a file match the pattern of the date that we are interested in.\n",
    "file_location"
   ]
  },
  {
   "cell_type": "markdown",
   "metadata": {
    "execution": {},
    "slideshow": {
     "slide_type": "slide"
    }
   },
   "source": [
    "### Your turn\n",
    "\n",
    "NDVI CDR data switched sensors on 2014 from AVHRR (the older generation sensor) to VIIRS (the newest generation sensor).\n",
    "\n",
    "Using the code above and the [list of data names](https://noaa-cdr-ndvi-pds.s3.amazonaws.com/index.html#data/) for VIIRS, find data from a day after 2014. You will need to modify string input into `glob()` to do so."
   ]
  },
  {
   "cell_type": "code",
   "execution_count": null,
   "metadata": {
    "execution": {},
    "tags": []
   },
   "outputs": [],
   "source": [
    "# select a desired date and hours (midnight is zero)\n",
    "exercise_date_sel = ...\n",
    "\n",
    "# automatic filename from data_sel. we use strftime (string format time) to get the text format of the file in question.\n",
    "exercise_file_location = ...\n",
    "\n",
    "# now let's check if there is a file match the pattern of the date that we are interested in.\n",
    "exercise_file_location"
   ]
  },
  {
   "cell_type": "markdown",
   "metadata": {
    "execution": {},
    "slideshow": {
     "slide_type": "slide"
    }
   },
   "source": [
    "## Read NDVI CDR Data\n",
    "\n",
    "Now that we have the location of the NDVI data for a specific date, we can read in the data using the python library `xarray` to open the [netCDF-4 file](https://pro.arcgis.com/en/pro-app/latest/help/data/multidimensional/what-is-netcdf-data.htm).\n",
    "\n",
    "First, we need to open the connection to the file object of the selected date. We are still using the date of 2002-03-12 as the example here.\n",
    "\n",
    "To keep consistency, we are going to use boto3 and pooch to open the file. But `s3fs` also has the ability to open files from s3 remotely."
   ]
  },
  {
   "cell_type": "markdown",
   "metadata": {
    "execution": {},
    "slideshow": {
     "slide_type": "slide"
    }
   },
   "source": [
    "## Read NDVI CDR Data"
   ]
  },
  {
   "cell_type": "code",
   "execution_count": null,
   "metadata": {
    "execution": {},
    "tags": []
   },
   "outputs": [],
   "source": [
    "client = boto3.client(\n",
    "    \"s3\", config=botocore.client.Config(signature_version=botocore.UNSIGNED)\n",
    ")  # initialize aws s3 bucket client\n",
    "\n",
    "ds = xr.open_dataset(\n",
    "    pooch_load(\n",
    "        filelocation = \"http://s3.amazonaws.com/\" + file_location[0],\n",
    "        filename = file_location[0],\n",
    "    ),\n",
    "    decode_times = False # to address overflow issue\n",
    ")  # open the file\n",
    "ds"
   ]
  },
  {
   "cell_type": "markdown",
   "metadata": {
    "execution": {},
    "slideshow": {
     "slide_type": "slide"
    }
   },
   "source": [
    "## Read NDVI CDR Data\n",
    "\n",
    "The output from the code block tells us that the NDVI data file of 2002-03-12 has dimensions of `3600x7200`.\n",
    "\n",
    "This makes sense for a dataset with the spatial resolution of 0.05°×0.05° that spans 180° of latitude and 360° of longitude.\n",
    "\n",
    "There is another dimension of the dataset named `time`. Since it is a daily data file, it only contains one value."
   ]
  },
  {
   "cell_type": "markdown",
   "metadata": {
    "slideshow": {
     "slide_type": "slide"
    }
   },
   "source": [
    "## Read NDVI CDR Data\n",
    "\n",
    "Two main data variables are in this dataset are `NDVI` and `QA`.\n",
    "\n",
    "* `NDVI` is the variable that contains the value of Normalized Difference Vegetation Index (NDVI - ranges between -1 and 1) that can be used to measure the vegetation greeness.  \n",
    "\n",
    "* `QA` is the variable that indicates the quality of the NDVI values for each corresponding grid. It reflects whether the data is of high quality or should be discarded because of various reasons (e.g., bad sensor data, potentially contanminated by clouds)."
   ]
  },
  {
   "cell_type": "markdown",
   "metadata": {
    "execution": {},
    "slideshow": {
     "slide_type": "slide"
    }
   },
   "source": [
    "## Visualize NDVI CDR Data"
   ]
  },
  {
   "cell_type": "code",
   "execution_count": null,
   "metadata": {
    "execution": {},
    "tags": []
   },
   "outputs": [],
   "source": [
    "# examine NDVI values from the dataset\n",
    "ndvi = ds.NDVI\n",
    "ndvi"
   ]
  },
  {
   "cell_type": "markdown",
   "metadata": {
    "execution": {},
    "slideshow": {
     "slide_type": "slide"
    },
    "tags": []
   },
   "source": [
    "## Visualize NDVI CDR Data\n",
    "\n",
    "To visualize the raw data, we will will plot it using `matplotlib` by calling `.plot()` on our xarray `DataArray`.\n",
    "\n",
    "Figure settings:\n",
    "1. `vmin` & `vmax`: Minimum and maximum values for the legend\n",
    "1. `aspect`: Setting the aspect ratio of the figure, must be combined with `size`\n",
    "1. `size`: setting the overall size of the figure"
   ]
  },
  {
   "cell_type": "code",
   "execution_count": null,
   "metadata": {
    "execution": {},
    "tags": []
   },
   "outputs": [],
   "source": [
    "# to make plotting faster and less memory intesive, use coarsen to reduce the number of pixels\n",
    "ndvi.coarsen(latitude=5).mean().coarsen(longitude = 5).mean().plot(\n",
    "    vmin=-0.1, vmax=1.0, aspect=1.8, size=5\n",
    ")"
   ]
  },
  {
   "cell_type": "markdown",
   "metadata": {
    "execution": {},
    "slideshow": {
     "slide_type": "slide"
    }
   },
   "source": [
    "## Mask NDVI Data Using a Quality Flag\n",
    "\n",
    "There is also a variable `QA` that indicates the quality of the NDVI value for each grid cell.\n",
    "\n",
    "This quality information is very important when using satellite data to ensure the climate analysis is done using only the highest quality data.\n",
    "\n",
    "For NDVI CDR data, it has a complex quality flag system that is represented using a 16-bit system.\n",
    "\n",
    "`QA` value needs to be converted to binary values of 16 bits and recognize the quality flag based on the information listed in the table below. "
   ]
  },
  {
   "cell_type": "markdown",
   "metadata": {
    "execution": {},
    "slideshow": {
     "slide_type": "slide"
    }
   },
   "source": [
    "## Mask NDVI Data Using a Quality Flag\n",
    "\n",
    "| Bit No. | Description | Value=1 | Value=0 |\n",
    "|-:|:-|:-:|:-:|\n",
    "|15|Flag to indicate if the pixel is in polar region|Yes|No|\n",
    "|14|Flag to indicate BRDF-correction issues|Yes|No|\n",
    "|13|Flag to indicate RH03 value is invalid|Yes|No|\n",
    "|12|Flag to indicate AVHRR Channel 5 value is invalid|Yes|No|\n",
    "|11|Flag to indicate AVHRR Channel 4 value is invalid|Yes|No|\n",
    "|10|Flag to indicate AVHRR Channel 3 value is invalid|Yes|No|\n",
    "| 9|Flag to indicate AVHRR Channel 2 value is invalid|Yes|No|\n",
    "| 8|Flag to indicate AVHRR Channel 1 value is invalid|Yes|No|\n",
    "| 7|Flag to indicate all 5 AVHRR Channels are valid|Yes|No|\n",
    "| 6|Flag to indicate the pixel is at night (no visible channel data)|Yes|No|\n",
    "| 5|Flag to indicate the pixel is over dense dark vegetation|Yes|No|\n",
    "| 4|Flag to indicate the pixel is over sunglint (over ocean)|Yes|No|\n",
    "| 3|Flag to indicate the pixel is over water|Yes|No|\n",
    "| 2|Flag to indicate the pixel contains cloud shadow|Yes|No|\n",
    "| 1|Flag to indicate the pixel is cloudy|Yes|No|\n",
    "| 0|(Unused)|Yes|No|"
   ]
  },
  {
   "cell_type": "markdown",
   "metadata": {
    "execution": {},
    "slideshow": {
     "slide_type": "slide"
    }
   },
   "source": [
    "## Mask NDVI Data Using a Quality Flag\n",
    "\n",
    "This shows the complex system to ensure that satellite CDR data is of high quality for climate applications. But how can we decifer the quality of a given pixel? \n",
    "\n",
    "Assuming that we have a grid with `QA=18`, when converted into a binary value with the length of 16 bits it becomes `0000000000010010`.\n",
    "\n",
    "That is, every `QA` value will be converted into a list of 1's and 0's that is 16 numbers long. \n",
    "\n",
    "Converting our example above of 18 we have:\n",
    "\n",
    "|Bit15|Bit14|Bit13|Bit12|Bit11|Bit10|Bit9|Bit8|Bit7|Bit6|Bit5|Bit4|Bit3|Bit2|Bit1|Bit0|\n",
    "|-:|-:|-:|-:|-:|-:|-:|-:|-:|-:|-:|-:|-:|-:|-:|-:|\n",
    "|0|0|0|0|0|0|0|0|1|0|0|1|0|0|1|0|\n",
    "|No|No|No|No|No|No|No|No|Yes|No|No|Yes|No|No|Yes|No|"
   ]
  },
  {
   "cell_type": "markdown",
   "metadata": {
    "slideshow": {
     "slide_type": "slide"
    }
   },
   "source": [
    "## Mask NDVI Data Using a Quality Flag\n",
    "\n",
    "|Bit15|Bit14|Bit13|Bit12|Bit11|Bit10|Bit9|Bit8|Bit7|Bit6|Bit5|Bit4|Bit3|Bit2|Bit1|Bit0|\n",
    "|-:|-:|-:|-:|-:|-:|-:|-:|-:|-:|-:|-:|-:|-:|-:|-:|\n",
    "|0|0|0|0|0|0|0|0|1|0|0|1|0|0|1|0|\n",
    "|No|No|No|No|No|No|No|No|Yes|No|No|Yes|No|No|Yes|No|\n",
    "\n",
    "Interpreting the table, for a quality flag of 18:\n",
    "\n",
    "1. The NDVI is retrieved from valid values of AVHRR channels (`Bit7=1`) \n",
    "\n",
    "2. The grid is over dense dark vegetation (`Bit5=1`)\n",
    "\n",
    "3. But the grid is cloudy (`Bit1=1`). \n",
    "\n",
    "Therefore, the QA tells us that we should not use this grid since it is covered by clouds and does not reflect vegetation information on the land surface."
   ]
  },
  {
   "cell_type": "markdown",
   "metadata": {
    "execution": {},
    "slideshow": {
     "slide_type": "slide"
    }
   },
   "source": [
    "## Mask NDVI Data Using a Quality Flag"
   ]
  },
  {
   "cell_type": "code",
   "execution_count": null,
   "metadata": {
    "cellView": "form",
    "execution": {},
    "tags": []
   },
   "outputs": [],
   "source": [
    "# Function to extract quality\n",
    "def get_quality_info(QA):\n",
    "    \"\"\"\n",
    "    QA: the QA value read in from the NDVI data\n",
    "\n",
    "    High quality NDVI should meet the following criteria:\n",
    "    Bit 7: 1 (All AVHRR channels have valid values)\n",
    "    Bit 2: 0 (The pixel is not covered by cloud shadow)\n",
    "    Bit 1: 0 (The pixel is not covered by cloud)\n",
    "\n",
    "    Output:\n",
    "    True: high quality\n",
    "    False: low quality\n",
    "    \"\"\"\n",
    "    # unpack quality assurance flag for cloud (byte: 1)\n",
    "    cld_flag = (QA % (2**2)) // 2\n",
    "    # unpack quality assurance flag for cloud shadow (byte: 2)\n",
    "    cld_shadow = (QA % (2**3)) // 2**2\n",
    "    # unpack quality assurance flag for AVHRR values (byte: 7)\n",
    "    value_valid = (QA % (2**8)) // 2**7\n",
    "\n",
    "    mask = (cld_flag == 0) & (cld_shadow == 0) & (value_valid == 1)\n",
    "\n",
    "    return mask"
   ]
  },
  {
   "cell_type": "markdown",
   "metadata": {
    "execution": {},
    "slideshow": {
     "slide_type": "slide"
    }
   },
   "source": [
    "## Mask NDVI Data Using a Quality Flag"
   ]
  },
  {
   "cell_type": "code",
   "execution_count": null,
   "metadata": {
    "cellView": "form",
    "execution": {},
    "tags": []
   },
   "outputs": [],
   "source": [
    "# get the quality assurance value from NDVI data\n",
    "QA = ds.QA\n",
    "\n",
    "# create the high quality information mask\n",
    "mask = get_quality_info(QA)\n",
    "\n",
    "# check the quality flag mask information\n",
    "mask"
   ]
  },
  {
   "cell_type": "markdown",
   "metadata": {
    "execution": {},
    "slideshow": {
     "slide_type": "slide"
    }
   },
   "source": [
    "## Mask NDVI Data Using a Quality Flag\n",
    "\n",
    "The output of the previous operation gives us a data array with logical values to indicate if a grid has high quality NDVI values or not.\n",
    "\n",
    "Now let's mask out the NDVI data array with this quality information to see if this will make a difference in the final map."
   ]
  },
  {
   "cell_type": "code",
   "execution_count": null,
   "metadata": {
    "cellView": "form",
    "execution": {},
    "tags": []
   },
   "outputs": [],
   "source": [
    "# use `.where` to only keep the NDVI values with high quality flag\n",
    "ndvi_masked = ndvi.where(mask)\n",
    "ndvi_masked"
   ]
  },
  {
   "cell_type": "markdown",
   "metadata": {
    "execution": {},
    "slideshow": {
     "slide_type": "slide"
    }
   },
   "source": [
    "## Mask NDVI Data Using a Quality Flag\n",
    "\n",
    "A lot of the NDVI values in the masked data array becomes `nan` which means `not a number`. \n",
    "\n",
    "This means that the grid does not have a high quality NDVI value based on the QA value.\n",
    "\n",
    "Now, let's plot the map one more time to see the difference after the quality masking."
   ]
  },
  {
   "cell_type": "code",
   "execution_count": null,
   "metadata": {
    "execution": {},
    "tags": []
   },
   "outputs": [],
   "source": [
    "# re-plot the NDVI map using masked data\n",
    "ndvi_masked.coarsen(latitude=5).mean().coarsen(longitude=5).mean().plot(\n",
    "    vmin=-0.1, vmax=1.0, aspect=1.8, size=5\n",
    ")"
   ]
  },
  {
   "cell_type": "markdown",
   "metadata": {
    "execution": {},
    "slideshow": {
     "slide_type": "slide"
    }
   },
   "source": [
    "## Mask NDVI Data Using a Quality Flag\n",
    "\n",
    "Note the large difference after the quality mask was applied and you removed data that was compromised due to clouds.\n",
    "\n",
    "Since the NDVI value is calculated using the reflectance values of the red and near-infrared spectral band, this value is only useful for vegetation and surface monitoring when there are no clouds present.\n",
    "\n",
    "Thus, we always need to remove the grid with clouds in the data."
   ]
  },
  {
   "cell_type": "markdown",
   "metadata": {
    "execution": {},
    "slideshow": {
     "slide_type": "slide"
    }
   },
   "source": [
    "## Your turn\n",
    "\n",
    "You just learned how to use `xarray` and `matplotlib` to access NDVI CDR data from AWS and visualize it. \n",
    "\n",
    "Find a different date that you are interested in and visualize the high quality NDVI data of that day?\n",
    "\n",
    "Note the solution is just an example of a date that you could choose."
   ]
  },
  {
   "cell_type": "code",
   "execution_count": null,
   "metadata": {
    "execution": {},
    "tags": []
   },
   "outputs": [],
   "source": [
    "# define the date of your interest YYYYMMDD (e.g., 20030701)\n",
    "# select a desired date and hours (midnight is zero)\n",
    "date_sel_exercise = ...\n",
    "\n",
    "# locate the data in the AWS S3 bucket\n",
    "# hint: use the file pattern that we described\n",
    "file_location_exercise = ...\n",
    "\n",
    "# open file connection to the file in AWS S3 bucket and Use xarray to open the NDVI CDR file\n",
    "# open the file\n",
    "ds_exercise = ...\n",
    "\n",
    "# get the QA value and extract the high quality data mask and Mask NDVI data to keep only high quality value\n",
    "# hint: reuse the get_quality_info helper function we defined\n",
    "ndvi_masked_exercise = ...\n",
    "\n",
    "# plot high quality NDVI data\n",
    "# hint: use plot() function\n",
    "# ndvi_masked_exercise.coarsen(latitude=5).mean().coarsen(longitude=5).mean().plot(\n",
    "#     vmin=-0.1, vmax=1.0, aspect=1.8, size=5\n",
    "# )"
   ]
  },
  {
   "cell_type": "markdown",
   "metadata": {
    "execution": {},
    "slideshow": {
     "slide_type": "slide"
    }
   },
   "source": [
    "# Understanding Climatology Through Precipitation Data"
   ]
  },
  {
   "cell_type": "markdown",
   "metadata": {
    "execution": {}
   },
   "source": [
    "## Obtain Monthly Precipitation Data\n",
    "\n",
    "We will calculate the long-term precipitation climatology using monthly precipitation climate data records from NOAA. \n",
    "\n",
    "We will use the [Global Precipitation Climatology Project (GPCP) Monthly Precipitation Climate Data Record (CDR)](https://www.ncei.noaa.gov/products/climate-data-records/precipitation-gpcp-monthly).\n",
    "\n",
    "This dataset contains monthly satellite-gauge data and corresponding precipitation error estimates from January 1979 to the present, gridded at a 2.5°×2.5° resolution. \n",
    "\n",
    "*Satellite-gauge* means that the climate data record (CDR) is a compilation of precipitation data from multiple satellites and in-situ sources, combined into a final product that optimizes the advantages of each type of data.\n",
    "\n",
    "While a higher spatial resolution (1°×1°) at daily resolution exists for varied applications, we will restrict ourselves to the coarser resolution monthly data due to computational limitations. \n",
    "\n",
    "However, you are encouraged to delve into the daily higher resolution data for your specific project needs."
   ]
  },
  {
   "cell_type": "markdown",
   "metadata": {
    "execution": {},
    "slideshow": {
     "slide_type": "slide"
    }
   },
   "source": [
    "## Access GPCP Monthly CDR Data on AWS\n",
    "\n",
    "To perform analysis, we will need to access the monthly data files from AWS first:"
   ]
  },
  {
   "cell_type": "code",
   "execution_count": null,
   "metadata": {
    "execution": {},
    "tags": []
   },
   "outputs": [],
   "source": [
    "# Step 1: Connect to the AWS S3 bucket for the GPCP Monthly Precipitation CDR data\n",
    "fs = s3fs.S3FileSystem(anon = True)\n",
    "\n",
    "# Step 2: Get the list of all data files in the AWS S3 bucket fit the data file pattern.\n",
    "file_pattern = \"noaa-cdr-precip-gpcp-monthly-pds/data/*/gpcp_v02r03_monthly_*.nc\"\n",
    "file_location = fs.glob(file_pattern)"
   ]
  },
  {
   "cell_type": "code",
   "execution_count": null,
   "metadata": {
    "execution": {},
    "tags": []
   },
   "outputs": [],
   "source": [
    "print(\"Total number of GPCP Monthly precipitation data files:\")\n",
    "print(len(file_location))"
   ]
  },
  {
   "cell_type": "markdown",
   "metadata": {
    "execution": {},
    "slideshow": {
     "slide_type": "slide"
    }
   },
   "source": [
    "## Access GPCP Monthly CDR Data on AWS\n",
    "\n",
    "We have more than 500 GPCP monthly precipitation CDR data files in the AWS S3 bucket.\n",
    "\n",
    "Each data file contains the data of each month globally starting from January 1979.\n",
    "\n",
    "Let's open a single data file to look at the data structure before we open all data files."
   ]
  },
  {
   "cell_type": "code",
   "execution_count": null,
   "metadata": {
    "execution": {},
    "tags": []
   },
   "outputs": [],
   "source": [
    "# first, open a client connection\n",
    "client = boto3.client(\n",
    "    \"s3\", config=botocore.client.Config(signature_version=botocore.UNSIGNED)\n",
    ")  # initialize aws s3 bucket client\n",
    "\n",
    "# read single data file to understand the file structure\n",
    "# ds_single = xr.open_dataset(pooch.retrieve('http://s3.amazonaws.com/'+file_location[0],known_hash=None )) # open the file\n",
    "ds_single = xr.open_dataset(\n",
    "    pooch_load(\n",
    "        filelocation=\"http://s3.amazonaws.com/\" + file_location[0],\n",
    "        filename=file_location[0],\n",
    "    )\n",
    ")\n",
    "\n",
    "# Check variables in the data file\n",
    "ds_single.data_vars"
   ]
  },
  {
   "cell_type": "markdown",
   "metadata": {
    "execution": {},
    "slideshow": {
     "slide_type": "slide"
    }
   },
   "source": [
    "## Access GPCP Monthly CDR Data on AWS\n",
    "\n",
    "From the information provided by `xarray`, there are a total of five data variables in this monthly data file, including `precip` for the monthly precipitation and `precip_error` for the monthly precipitation error."
   ]
  },
  {
   "cell_type": "code",
   "execution_count": null,
   "metadata": {
    "execution": {},
    "tags": []
   },
   "outputs": [],
   "source": [
    "# check the coordinates for the data file\n",
    "ds_single.coords"
   ]
  },
  {
   "cell_type": "markdown",
   "metadata": {
    "execution": {},
    "slideshow": {
     "slide_type": "slide"
    }
   },
   "source": [
    "## Access GPCP Monthly CDR Data on AWS\n",
    "\n",
    "All data is organized in three dimensions: `latitude`, `longitude`, and `time`.\n",
    "\n",
    "We want to create a three-dimensional data array for the monthly precipitation data across the entire data period (from January 1979 until present) so we must open all the available files"
   ]
  },
  {
   "cell_type": "code",
   "execution_count": null,
   "metadata": {
    "execution": {},
    "tags": []
   },
   "outputs": [],
   "source": [
    "# open all the monthly data files\n",
    "# this process will take ~ 5 minute to complete due to the number of data files.\n",
    "\n",
    "# file_ob = [pooch.retrieve('http://s3.amazonaws.com/'+file,known_hash=None ) for file in file_location]\n",
    "file_ob = [\n",
    "    pooch_load(filelocation=\"http://s3.amazonaws.com/\" + file, filename=file)\n",
    "    for file in file_location\n",
    "]"
   ]
  },
  {
   "cell_type": "markdown",
   "metadata": {
    "slideshow": {
     "slide_type": "slide"
    }
   },
   "source": [
    "## Access GPCP Monthly CDR Data on AWS"
   ]
  },
  {
   "cell_type": "code",
   "execution_count": null,
   "metadata": {
    "execution": {},
    "tags": []
   },
   "outputs": [],
   "source": [
    "# using this function instead of 'open_dataset' will concatenate the data along the dimension we specify\n",
    "ds = xr.open_mfdataset(file_ob, combine=\"nested\", concat_dim=\"time\")\n",
    "ds"
   ]
  },
  {
   "cell_type": "markdown",
   "metadata": {
    "execution": {},
    "slideshow": {
     "slide_type": "slide"
    }
   },
   "source": [
    "## Access GPCP Monthly CDR Data on AWS\n",
    "\n",
    "We used `combine='nested', concat_dim='time'` to combine all monthly precipitation data into one data array along the dimension of `time`. \n",
    "\n",
    "This command is very useful when reading in multiple data files of the same structure but covering different parts of the full data record.\n",
    "\n",
    "Since we are interested in the precipitation data globally at this moment, let's extract the entire data array of precipitation from the entire dataset."
   ]
  },
  {
   "cell_type": "code",
   "execution_count": null,
   "metadata": {
    "execution": {},
    "tags": []
   },
   "outputs": [],
   "source": [
    "# examine the precipitation data variable\n",
    "precip = ds.precip\n",
    "precip"
   ]
  },
  {
   "cell_type": "markdown",
   "metadata": {
    "execution": {},
    "slideshow": {
     "slide_type": "slide"
    }
   },
   "source": [
    "## Access GPCP Monthly CDR Data on AWS\n",
    "\n",
    "As you can see, the data array has the dimensions of `time` `longitude` `latitude`.\n",
    "\n",
    "Before delving into further analysis, let's visualize the precipitation data to gain a better understanding of its patterns and characteristics. "
   ]
  },
  {
   "cell_type": "markdown",
   "metadata": {
    "execution": {},
    "slideshow": {
     "slide_type": "slide"
    }
   },
   "source": [
    "## Visualize GPCP Data Using Cartopy\n",
    "\n",
    "We already learned how to make simple visualization using `matplotlib` using `latitude` and `longitude` as the y-axis and x-axis."
   ]
  },
  {
   "cell_type": "code",
   "execution_count": null,
   "metadata": {
    "execution": {},
    "tags": []
   },
   "outputs": [],
   "source": [
    "# create simple map of the GPCP precipitation data using matplotlib\n",
    "fig, ax = plt.subplots(figsize=(9, 6))\n",
    "\n",
    "# use the first month of data as an example\n",
    "precip.sel(time=\"1979-01-01\").plot(ax=ax)"
   ]
  },
  {
   "cell_type": "markdown",
   "metadata": {
    "execution": {},
    "slideshow": {
     "slide_type": "slide"
    }
   },
   "source": [
    "## Visualize GPCP Data Using Cartopy\n",
    "\n",
    "From the figure, the boundary between land and ocean, especially for North and South America, can be observed vaguely.\n",
    "\n",
    "To overcome this limitation, we use `cartopy`. With `cartopy`, we can incorporate additional elements such as coastlines, major grid markings, and specific map projections."
   ]
  },
  {
   "cell_type": "code",
   "execution_count": null,
   "metadata": {
    "execution": {},
    "tags": []
   },
   "outputs": [],
   "source": [
    "# visualize the precipitation data of a selected month using cartopy\n",
    "\n",
    "# select data for the month of interest\n",
    "data = precip.sel(time=\"1979-01-01\", method=\"nearest\")\n",
    "\n",
    "# initate plot with the specific figure size\n",
    "fig, ax = plt.subplots(subplot_kw={\"projection\": ccrs.Robinson()}, figsize=(9, 6))\n",
    "\n",
    "# add coastal lines to indicate land/ocean\n",
    "ax.coastlines()\n",
    "\n",
    "# add major grid lines for latitude and longitute\n",
    "ax.gridlines()\n",
    "\n",
    "# add the precipitation data with map projection transformation\n",
    "# also specify the maximum and minumum value show on the map to increase the\n",
    "# contrast in the map.\n",
    "data.plot(ax = ax, transform=ccrs.PlateCarree(), vmin=0,\n",
    "    vmax=20, cbar_kwargs=dict(shrink=0.5, label=\"GPCP Monthly Precipitation \\n(mm/day)\"),)"
   ]
  },
  {
   "cell_type": "markdown",
   "metadata": {
    "execution": {},
    "slideshow": {
     "slide_type": "slide"
    }
   },
   "source": [
    "## Visualize GPCP Data Using Cartopy\n",
    "\n",
    "The updated map provides significant improvements, offering us a wealth of information to enhance our understanding of the GPCP monthly precipitation data.\n",
    "\n",
    "From the visualization, we can observe that regions such as the Amazon rainforest, the northern part of Australia, and other tropical areas exhibit higher levels of monthly precipitation in January 1979.\n",
    "\n",
    "These patterns align with our basic geographical knowledge, reinforcing the validity of the data and representation."
   ]
  },
  {
   "cell_type": "markdown",
   "metadata": {
    "execution": {},
    "slideshow": {
     "slide_type": "slide"
    }
   },
   "source": [
    "# Climatology"
   ]
  },
  {
   "cell_type": "markdown",
   "metadata": {
    "execution": {},
    "slideshow": {
     "slide_type": "slide"
    },
    "tags": []
   },
   "source": [
    "## Plot Time Series of Data at a Specific Location\n",
    "\n",
    "We have over 40 years of monthly precipitation data.\n",
    "\n",
    "Let's examine a specific location throughout the entire time span covered by the GPCP monthly data. For this purpose, we will focus on the data point located at (0°N, 0°E)."
   ]
  },
  {
   "cell_type": "code",
   "execution_count": null,
   "metadata": {
    "execution": {},
    "tags": []
   },
   "outputs": [],
   "source": [
    "# select the entire time series for the grid that contains the location of (0N, 0E)\n",
    "grid = ds.precip.sel(latitude=0, longitude=0, method=\"nearest\")\n",
    "\n",
    "# initate plot\n",
    "fig, ax = plt.subplots(figsize=(9, 6))\n",
    "\n",
    "# plot the data\n",
    "grid.plot(ax=ax)\n",
    "\n",
    "# remove the automatically generated title\n",
    "ax.set_title(\"\")"
   ]
  },
  {
   "cell_type": "markdown",
   "metadata": {
    "execution": {},
    "slideshow": {
     "slide_type": "slide"
    }
   },
   "source": [
    "## Plot Time Series of Data at a Specific Location\n",
    "\n",
    "From the time series plot, note a repeating pattern with a seasonal cycle (roughly the same ups and downs over the course of a year, for each year).\n",
    "\n",
    "We can apply this same calculation we learned before to this data to investigate the annual cycle of precipitation at this location."
   ]
  },
  {
   "cell_type": "markdown",
   "metadata": {
    "execution": {},
    "slideshow": {
     "slide_type": "slide"
    }
   },
   "source": [
    "## Calculate the Climatology\n",
    "\n",
    "A climatology typically employs a 30-year time period to use for the calculation. In this case, let's use the reference period of 1981-2010."
   ]
  },
  {
   "cell_type": "code",
   "execution_count": null,
   "metadata": {
    "execution": {},
    "tags": []
   },
   "outputs": [],
   "source": [
    "# first, let's extract the data for the time period that we want (1981-2010)\n",
    "precip_30yr = ds.precip.sel(time = slice(\"1981-01-01\", \"2010-12-30\"))\n",
    "precip_30yr"
   ]
  },
  {
   "cell_type": "markdown",
   "metadata": {
    "execution": {},
    "slideshow": {
     "slide_type": "slide"
    }
   },
   "source": [
    "## Calculate the Climatology\n",
    "\n",
    "Now we can use Xarray's `.groupby()` functionality to calculate the monthly climatology.\n",
    "\n",
    "Recall that `.groupby()` splits the data based on a specific criterion (in this case, the month of the year) and then applies a process (in our case, calculating the mean value across 30 years for that specific month) to each group before recombining the data together."
   ]
  },
  {
   "cell_type": "code",
   "execution_count": null,
   "metadata": {
    "execution": {},
    "tags": []
   },
   "outputs": [],
   "source": [
    "# use groupby to calculate monthly climatology (1981-2010)\n",
    "precip_clim = precip_30yr.groupby(\"time.month\").mean(dim=\"time\")\n",
    "precip_clim"
   ]
  },
  {
   "cell_type": "markdown",
   "metadata": {
    "execution": {},
    "slideshow": {
     "slide_type": "slide"
    }
   },
   "source": [
    "## Calculate the Climatology\n",
    "\n",
    "With the resulting climatology data array, we can make a set of maps to visualize the monthly climatology from four different seasons."
   ]
  },
  {
   "cell_type": "code",
   "execution_count": null,
   "metadata": {
    "execution": {},
    "tags": []
   },
   "outputs": [],
   "source": [
    "# define the figure and each axis for the 2 rows and 2 columns\n",
    "fig, axs = plt.subplots(\n",
    "    nrows=2, ncols=2, subplot_kw={\"projection\": ccrs.Robinson()}, figsize=(12, 8)\n",
    ")\n",
    "\n",
    "# axs is a 2 dimensional array of `GeoAxes`.  We will flatten it into a 1-D array\n",
    "axs = axs.flatten()\n",
    "\n",
    "# loop over selected months (Jan, Apr, Jul, Oct)\n",
    "for i, month in enumerate([1, 4, 7, 10]):\n",
    "\n",
    "    # Draw the coastines and major gridline for each subplot\n",
    "    axs[i].coastlines()\n",
    "    axs[i].gridlines()\n",
    "\n",
    "    # Draw the precipitation data\n",
    "    precip_clim.sel(month=month).plot(\n",
    "        ax=axs[i],\n",
    "        transform=ccrs.PlateCarree(),\n",
    "        vmin=0,\n",
    "        vmax=15,  # use the same range of max and min value\n",
    "        cbar_kwargs=dict(shrink=0.5, label=\"GPCP Climatology\\n(mm/day)\"),\n",
    "    )"
   ]
  },
  {
   "cell_type": "markdown",
   "metadata": {
    "execution": {},
    "slideshow": {
     "slide_type": "slide"
    }
   },
   "source": [
    "## Calculate the Climatology\n",
    "\n",
    "In the seasonal collection of the climatology map, we can observe a clear pattern of precipitation across the globe.\n",
    "\n",
    "The tropics exhibit a higher amount of precipitation compared to other regions.\n",
    "\n",
    "Additionally, the map illustrates the seasonal patterns of precipitation changes across different regions of the globe, including areas influenced by monsoons."
   ]
  },
  {
   "cell_type": "markdown",
   "metadata": {
    "execution": {},
    "slideshow": {
     "slide_type": "slide"
    }
   },
   "source": [
    "## Calculate the Climatology\n",
    "\n",
    "Now let's examine the climatology of the location we previously analyzed throughout the entire time series, specifically at (0°N, 0°E)."
   ]
  },
  {
   "cell_type": "code",
   "execution_count": null,
   "metadata": {
    "execution": {},
    "tags": []
   },
   "outputs": [],
   "source": [
    "# initate plot with the specific figure size\n",
    "fig, ax = plt.subplots(figsize=(9, 6))\n",
    "\n",
    "precip_clim.sel(latitude=0, longitude=0, method=\"nearest\").plot(ax=ax)\n",
    "# Remove the automatically generated title\n",
    "ax.set_title(\"\")"
   ]
  },
  {
   "cell_type": "markdown",
   "metadata": {
    "execution": {},
    "slideshow": {
     "slide_type": "slide"
    }
   },
   "source": [
    "## Calculate the Climatology\n",
    "\n",
    "The monthly climatology time series for the point of interest demonstrates a noticeable seasonal pattern, with dry and rainy months observed in the region.\n",
    "\n",
    "Precipitation is typically more abundant between December and May, while August experiences the driest conditions throughout the year."
   ]
  },
  {
   "cell_type": "markdown",
   "metadata": {
    "execution": {},
    "slideshow": {
     "slide_type": "slide"
    }
   },
   "source": [
    "## Your turn (Will be in PS03)\n",
    "\n",
    "As climate changes, the climatology of precipitation may also change. \n",
    "\n",
    "In fact, climate researchers recalculate climatology every 10 years. This allows climate scientists to monitor how the norms of our climate system change. \n",
    "\n",
    "In this exercise, you will visualize how the climatology of our dataset changes depending on the reference period used.\n",
    "\n",
    "Calculate the climatology for a different reference period (1991-2020) and compare it to the climatology that we just generated with reference period (1981-2010). \n",
    "\n",
    "Be sure to compare the two and note differences. Can you see why it is important to re-calculate this climatology?"
   ]
  },
  {
   "cell_type": "code",
   "execution_count": null,
   "metadata": {
    "execution": {},
    "tags": []
   },
   "outputs": [],
   "source": [
    "# extract 30 year data for 1991-2020\n",
    "precip_30yr_exercise = ...\n",
    "\n",
    "# calculate climatology for 1991-2020\n",
    "precip_clim_exercise = ...\n",
    "\n",
    "# find difference in climatologies: (1981-2010) minues (1991-2020)\n",
    "precip_diff_exercise = ...\n",
    "\n",
    "# Compare the climatology for four different seasons by generating the\n",
    "#         difference maps for January, April, July, and October with colorbar max and min = 1,-1\n",
    "\n",
    "# Define the figure and each axis for the 2 rows and 2 columns\n",
    "fig, axs = plt.subplots(\n",
    "    nrows=2, ncols=2, subplot_kw={\"projection\": ccrs.Robinson()}, figsize=(12, 8)\n",
    ")\n",
    "\n",
    "# axs is a 2 dimensional array of `GeoAxes`.  We will flatten it into a 1-D array\n",
    "axs = ...\n",
    "\n",
    "#Loop over selected months (Jan, Apr, Jul, Oct)\n",
    "for i, month in enumerate([1, 4, 7, 10]):\n",
    "    ..."
   ]
  },
  {
   "cell_type": "markdown",
   "metadata": {
    "execution": {},
    "slideshow": {
     "slide_type": "slide"
    }
   },
   "source": [
    "## Questions?"
   ]
  },
  {
   "cell_type": "markdown",
   "metadata": {
    "execution": {},
    "slideshow": {
     "slide_type": "slide"
    }
   },
   "source": [
    "## See you next class!"
   ]
  }
 ],
 "metadata": {
  "celltoolbar": "Slideshow",
  "colab": {
   "collapsed_sections": [],
   "include_colab_link": true,
   "name": "W1D3_Tutorial1",
   "provenance": [],
   "toc_visible": true
  },
  "kernel": {
   "display_name": "Python 3",
   "language": "python",
   "name": "python3"
  },
  "kernelspec": {
   "display_name": "Python 3 (ipykernel)",
   "language": "python",
   "name": "python3"
  },
  "language_info": {
   "codemirror_mode": {
    "name": "ipython",
    "version": 3
   },
   "file_extension": ".py",
   "mimetype": "text/x-python",
   "name": "python",
   "nbconvert_exporter": "python",
   "pygments_lexer": "ipython3",
   "version": "3.9.5"
  }
 },
 "nbformat": 4,
 "nbformat_minor": 4
}
