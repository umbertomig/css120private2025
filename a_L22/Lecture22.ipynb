{
 "cells": [
  {
   "cell_type": "markdown",
   "metadata": {
    "execution": {},
    "slideshow": {
     "slide_type": "slide"
    }
   },
   "source": [
    "# CSS 120: Environmental Data Science\n",
    "\n",
    "## Paleoclimate\n",
    "\n",
    "### Umberto Mignozzetti (UCSD)\n",
    "\n",
    "(Based on Project Pythia and ClimateMatch)"
   ]
  },
  {
   "cell_type": "markdown",
   "metadata": {
    "execution": {},
    "slideshow": {
     "slide_type": "slide"
    }
   },
   "source": [
    "# Packages\n"
   ]
  },
  {
   "cell_type": "code",
   "execution_count": null,
   "metadata": {
    "execution": {}
   },
   "outputs": [],
   "source": [
    "# To install\n",
    "# !pip install LiPD --quiet\n",
    "# !pip install pyleoclim --quiet\n",
    "# !pip install climlab --quiet"
   ]
  },
  {
   "cell_type": "markdown",
   "metadata": {
    "execution": {},
    "slideshow": {
     "slide_type": "slide"
    }
   },
   "source": [
    "# Packages\n"
   ]
  },
  {
   "cell_type": "code",
   "execution_count": null,
   "metadata": {
    "execution": {}
   },
   "outputs": [],
   "source": [
    "# System helpers\n",
    "import os\n",
    "import sys\n",
    "from io import StringIO\n",
    "import tempfile\n",
    "\n",
    "# Data analysis\n",
    "import matplotlib.pyplot as plt\n",
    "import pandas as pd\n",
    "import numpy as np\n",
    "import pooch\n",
    "\n",
    "# Principal Component Analysis\n",
    "from sklearn.decomposition import PCA"
   ]
  },
  {
   "cell_type": "markdown",
   "metadata": {
    "execution": {},
    "slideshow": {
     "slide_type": "slide"
    }
   },
   "source": [
    "# Packages\n"
   ]
  },
  {
   "cell_type": "code",
   "execution_count": null,
   "metadata": {
    "execution": {}
   },
   "outputs": [],
   "source": [
    "# Principal Component Analysis\n",
    "from sklearn.decomposition import PCA\n",
    "\n",
    "# Paleodata analysis\n",
    "import lipd\n",
    "import pyleoclim as pyleo\n",
    "\n",
    "# Climlab\n",
    "from climlab import constants as const\n",
    "from climlab.solar.orbital import OrbitalTable\n",
    "from climlab.solar.insolation import daily_insolation\n",
    "\n",
    "# Maps\n",
    "import cartopy, cartopy.crs as ccrs, cartopy.feature as cfeature, cartopy.io.shapereader as shapereader"
   ]
  },
  {
   "cell_type": "markdown",
   "metadata": {
    "slideshow": {
     "slide_type": "slide"
    }
   },
   "source": [
    "##  Helper functions\n"
   ]
  },
  {
   "cell_type": "code",
   "execution_count": null,
   "metadata": {
    "cellView": "form",
    "execution": {},
    "tags": [
     "hide-input"
    ]
   },
   "outputs": [],
   "source": [
    "# Pooch Load\n",
    "def pooch_load(filelocation=None, filename=None, processor=None):\n",
    "    shared_location = \"~/\"\n",
    "    user_temp_cache = tempfile.gettempdir()\n",
    "\n",
    "    if os.path.exists(os.path.join(shared_location, filename)):\n",
    "        file = os.path.join(shared_location, filename)\n",
    "    else:\n",
    "        file = pooch.retrieve(\n",
    "            filelocation,\n",
    "            known_hash=None,\n",
    "            fname=os.path.join(user_temp_cache, filename),\n",
    "            processor=processor,\n",
    "        )\n",
    "\n",
    "    return file"
   ]
  },
  {
   "cell_type": "markdown",
   "metadata": {
    "slideshow": {
     "slide_type": "slide"
    }
   },
   "source": [
    "##  Helper functions\n"
   ]
  },
  {
   "cell_type": "code",
   "execution_count": null,
   "metadata": {
    "slideshow": {
     "slide_type": "-"
    }
   },
   "outputs": [],
   "source": [
    "# Function to convert the PAGES2K LiDP files in a pandas.DataFrame\n",
    "def lipd2df(\n",
    "    lipd_dirpath,\n",
    "    pkl_filepath=None,\n",
    "    col_str=[\n",
    "        \"paleoData_pages2kID\", \"dataSetName\", \"archiveType\", \"geo_meanElev\", \"geo_meanLat\",\n",
    "        \"geo_meanLon\", \"year\", \"yearUnits\", \"paleoData_variableName\", \"paleoData_units\",\n",
    "        \"paleoData_values\", \"paleoData_proxy\",\n",
    "    ],\n",
    "):\n",
    "    \"\"\"\n",
    "    Convert a bunch of PAGES2k LiPD files to a `pandas.DataFrame` to boost data loading.\n",
    "\n",
    "    If `pkl_filepath` isn't `None`, save the DataFrame as a pikle file.\n",
    "\n",
    "    Parameters:\n",
    "    ----------\n",
    "        lipd_dirpath: str\n",
    "          Path of the PAGES2k LiPD files\n",
    "        pkl_filepath: str or None\n",
    "          Path of the converted pickle file. Default: `None`\n",
    "        col_str: list of str\n",
    "          Name of the variables to extract from the LiPD files\n",
    "\n",
    "    Returns:\n",
    "    -------\n",
    "        df: `pandas.DataFrame`\n",
    "          Converted Pandas DataFrame\n",
    "    \"\"\"\n",
    "\n",
    "    # Save the current working directory for later use, as the LiPD utility will change it in the background\n",
    "    work_dir = os.getcwd()\n",
    "    # LiPD utility requries the absolute path\n",
    "    lipd_dirpath = os.path.abspath(lipd_dirpath)\n",
    "    # Load LiPD files\n",
    "    lipds = lipd.readLipd(lipd_dirpath)\n",
    "    # Extract timeseries from the list of LiDP objects\n",
    "    ts_list = lipd.extractTs(lipds)\n",
    "    # Recover the working directory\n",
    "    os.chdir(work_dir)\n",
    "    # Create an empty pandas.DataFrame with the number of rows to be the number of the timeseries (PAGES2k records),\n",
    "    # and the columns to be the variables we'd like to extract\n",
    "    df_tmp = pd.DataFrame(index=range(len(ts_list)), columns=col_str)\n",
    "    # Loop over the timeseries and pick those for global temperature analysis\n",
    "    i = 0\n",
    "    for ts in ts_list:\n",
    "        if (\n",
    "            \"paleoData_useInGlobalTemperatureAnalysis\" in ts.keys()\n",
    "            and ts[\"paleoData_useInGlobalTemperatureAnalysis\"] == \"TRUE\"\n",
    "        ):\n",
    "            for name in col_str:\n",
    "                try:\n",
    "                    df_tmp.loc[i, name] = ts[name]\n",
    "                except:\n",
    "                    df_tmp.loc[i, name] = np.nan\n",
    "            i += 1\n",
    "    # Drop the rows with all NaNs (those not for global temperature analysis)\n",
    "    df = df_tmp.dropna(how=\"all\")\n",
    "    # Save the dataframe to a pickle file for later use\n",
    "    if pkl_filepath:\n",
    "        save_path = os.path.abspath(pkl_filepath)\n",
    "        print(f\"Saving pickle file at: {save_path}\")\n",
    "        df.to_pickle(save_path)\n",
    "    return df"
   ]
  },
  {
   "cell_type": "markdown",
   "metadata": {
    "slideshow": {
     "slide_type": "slide"
    }
   },
   "source": [
    "##  Helper functions\n"
   ]
  },
  {
   "cell_type": "code",
   "execution_count": null,
   "metadata": {},
   "outputs": [],
   "source": [
    "class SupressOutputs(list):\n",
    "    def __enter__(self):\n",
    "        self._stdout = sys.stdout\n",
    "        sys.stdout = self._stringio = StringIO()\n",
    "        return self\n",
    "\n",
    "    def __exit__(self, *args):\n",
    "        self.extend(self._stringio.getvalue().splitlines())\n",
    "        del self._stringio  # free up some memory\n",
    "        sys.stdout = self._stdout##  Helper functions\n"
   ]
  },
  {
   "cell_type": "markdown",
   "metadata": {
    "execution": {},
    "slideshow": {
     "slide_type": "slide"
    }
   },
   "source": [
    "# Spectral Analysis of Paleoclimate Data"
   ]
  },
  {
   "cell_type": "markdown",
   "metadata": {
    "execution": {},
    "slideshow": {
     "slide_type": "slide"
    }
   },
   "source": [
    "## Spectral Analysis of Paleoclimate Data\n",
    "\n",
    "In this section, we will manipulate paleoclimate proxy datasets using previously learned computational tools, and apply spectral analysis to further interpret the data.\n",
    "\n",
    "We should:\n",
    "\n",
    "*   Interpret the [LR04](https://agupubs.onlinelibrary.wiley.com/doi/full/10.1029/2004PA001071) benthic δ<sup>18</sup>O curve and how it records temperature\n",
    "*   Perform various spectral analysis methods to assess dominant spectral powers in the LR04 data\n",
    "*   Interpret variations in glacial-interglacial cycles recorded by the LR04 δ<sup>18</sup>O record"
   ]
  },
  {
   "cell_type": "markdown",
   "metadata": {
    "execution": {},
    "slideshow": {
     "slide_type": "slide"
    }
   },
   "source": [
    "## Plotting the LR04 δ<sup>18</sup>O benthic stack\n",
    "\n",
    "We will be analyzing a δ<sup>18</sup>O data from LR04: [Lisiecki, L. E., and Raymo, M. E. (2005)](https://agupubs.onlinelibrary.wiley.com/doi/full/10.1029/2004PA001071).\n",
    "\n",
    "This is a stack of 57 globally distributed records of δ<sup>18</sup>O from benthic foraminifera that spans the past ~5 million years.\n",
    "\n",
    "δ<sup>18</sup>O of foraminifera records temperature due to differences in the isotopic composition of the ocean during glacial and interglacial periods. \n",
    "\n",
    "The δ<sup>18</sup>O of the ocean (and forams) is more depleted (takes on a smaller values) during interglacials and more enriched (takes on a larger value) during glacials."
   ]
  },
  {
   "cell_type": "markdown",
   "metadata": {
    "execution": {},
    "slideshow": {
     "slide_type": "slide"
    }
   },
   "source": [
    "## Plotting the LR04 δ<sup>18</sup>O benthic stack\n",
    "\n",
    "Let's start by importing the data:"
   ]
  },
  {
   "cell_type": "code",
   "execution_count": null,
   "metadata": {
    "execution": {},
    "executionInfo": {
     "elapsed": 388,
     "status": "ok",
     "timestamp": 1681085788186,
     "user": {
      "displayName": "Sloane Garelick",
      "userId": "04706287370408131987"
     },
     "user_tz": 240
    }
   },
   "outputs": [],
   "source": [
    "# Donwload the data\n",
    "filename_LR04 = \"LR04.csv\"\n",
    "url_LR04 = (\n",
    "    \"https://raw.githubusercontent.com/LinkedEarth/PyleoTutorials/main/data/LR04.csv\"\n",
    ")\n",
    "lr04_data = pd.read_csv(\n",
    "    pooch_load(filelocation=url_LR04, filename=filename_LR04), skiprows=4\n",
    ")\n",
    "lr04_data.head()"
   ]
  },
  {
   "cell_type": "markdown",
   "metadata": {
    "execution": {},
    "slideshow": {
     "slide_type": "slide"
    }
   },
   "source": [
    "## Plotting the LR04 δ<sup>18</sup>O benthic stack\n",
    "\n",
    "We can now create a `pyleo Series` object containing the data:"
   ]
  },
  {
   "cell_type": "code",
   "execution_count": null,
   "metadata": {
    "execution": {}
   },
   "outputs": [],
   "source": [
    "ts_lr04 = pyleo.Series(\n",
    "    time=lr04_data[\"Time (ka)\"],\n",
    "    value=lr04_data[\"Benthic d18O (per mil)  \"],\n",
    "    time_name=\"Age\",\n",
    "    time_unit=\"kyr BP\",\n",
    "    value_name=\"Benthic d18O (per mil)\",\n",
    "    value_unit=\"\\u2030\",\n",
    "    label=\"LR04\",\n",
    ")"
   ]
  },
  {
   "cell_type": "markdown",
   "metadata": {
    "execution": {},
    "slideshow": {
     "slide_type": "slide"
    }
   },
   "source": [
    "## Plotting the LR04 δ<sup>18</sup>O benthic stack\n",
    "\n",
    "This record spans the past ~5 million years (5,000 kyr), but we're going to focus in on the past 1 million years (1,000 kyr), so let's create a time slice of just this time period, and plot the time series."
   ]
  },
  {
   "cell_type": "code",
   "execution_count": null,
   "metadata": {
    "execution": {},
    "executionInfo": {
     "elapsed": 1136,
     "status": "ok",
     "timestamp": 1681085794552,
     "user": {
      "displayName": "Sloane Garelick",
      "userId": "04706287370408131987"
     },
     "user_tz": 240
    }
   },
   "outputs": [],
   "source": [
    "lr04_slice = ts_lr04.slice([0, 1000])\n",
    "fig, ax = plt.subplots()  # assign a new plot axis\n",
    "lr04_slice.plot(ax=ax, legend=False, invert_yaxis=True)"
   ]
  },
  {
   "cell_type": "markdown",
   "metadata": {
    "execution": {},
    "slideshow": {
     "slide_type": "slide"
    }
   },
   "source": [
    "## Your turn\n",
    "\n",
    "1. What patterns do you observe in the record?\n",
    "2. Does the amplitude of the glacial-interglacial cycles vary over time?\n",
    "3. At what frequency do these glacial-interglacial cycles occur?"
   ]
  },
  {
   "cell_type": "markdown",
   "metadata": {
    "execution": {},
    "slideshow": {
     "slide_type": "slide"
    }
   },
   "source": [
    "## Spectral analysis of the LRO4 δ<sup>18</sup>O benthic stack\n",
    "\n",
    "To better assess the dominant temporal patterns in this record, you can use spectral analysis.\n",
    "\n",
    "Spectral analysis is a useful data analysis tool in paleoclimate because it allows us to discover underlying periodicities in time series data and can help establish quantitative relationships between forcings and climate variations.\n",
    "\n",
    "Let's explore various spectral analysis methods and apply them to the LR04 record to interpret changes in the frequency of glacial-interglacial cycles."
   ]
  },
  {
   "cell_type": "markdown",
   "metadata": {
    "execution": {},
    "slideshow": {
     "slide_type": "slide"
    }
   },
   "source": [
    "## Spectral analysis of the LRO4 δ<sup>18</sup>O benthic stack\n",
    "\n",
    "### Spectral Density\n",
    "\n",
    "Pyleoclim enables five methods to estimate the [spectral density](https://glossary.ametsoc.org/wiki/Spectral_density), which will be our main interest in this tutorial:\n",
    "\n",
    "*   **Basic Periodogram**, which uses a Fourier transform. The method has various windowing available to reduce variance.\n",
    "*  **Welch's periodogram**, a variant of the basic periodogram, which uses Welch's method of overlapping segments. The periodogram is computed on each segment and averaged together.\n",
    "*   **Multi-taper method (MTM)**, which attempts to reduce the variance of spectral estimates by using a small set of tapers rather than the unique data taper or spectral window.\n",
    "*   **Lomb-Scargle periodogram**, an inverse approach designed for unevenly-spaced datasets. Several windows are available and Welch's segmentation can also be used with this method.\n",
    "*   **Weighted wavelet Z-transform (WWZ)**, a wavelet-based method also made for unevenly-spaced datasets."
   ]
  },
  {
   "cell_type": "markdown",
   "metadata": {
    "execution": {},
    "slideshow": {
     "slide_type": "slide"
    }
   },
   "source": [
    "## Spectral analysis of the LRO4 δ<sup>18</sup>O benthic stack\n",
    "\n",
    "### Spectral Density\n",
    "\n",
    "All of these methods are available through [`Series.spectral()`](https://pyleoclim-util.readthedocs.io/en/latest/core/api.html#pyleoclim.core.series.Series.spectral) by changing the `method` argument.\n",
    "\n",
    "Here we will focus on Lomb-Scargle and Weighted wavelet Z-transform in more detail. For additional information on the other methods, refer to [this notebook from Pyleoclim](https://github.com/LinkedEarth/PyleoTutorials/blob/main/notebooks/L2_spectral_analysis.ipynb).\n",
    "\n",
    "To get a sense of how the estimates of the spectral density using each of these methods compare, we can plot them on the same graph below.\n",
    "\n",
    "Note we must first interpolate to an even grid and then standardize before estimating the spectral density."
   ]
  },
  {
   "cell_type": "markdown",
   "metadata": {
    "execution": {},
    "slideshow": {
     "slide_type": "slide"
    }
   },
   "source": [
    "## Spectral analysis of the LRO4 δ<sup>18</sup>O benthic stack\n",
    "\n",
    "### Spectral Density"
   ]
  },
  {
   "cell_type": "code",
   "execution_count": null,
   "metadata": {
    "execution": {}
   },
   "outputs": [],
   "source": [
    "fig, ax = plt.subplots()\n",
    "\n",
    "# basic periodogram\n",
    "lr04_slice.interp(step=0.5).standardize().spectral(method=\"periodogram\").plot(\n",
    "    ax=ax, xlim=[1000, 5], ylim=[0.001, 1000], label=\"periodogram\"\n",
    ")\n",
    "# Welch's periodogram\n",
    "lr04_slice.interp(step=0.5).standardize().spectral(method=\"welch\").plot(\n",
    "    ax=ax, xlim=[1000, 5], ylim=[0.001, 1000], label=\"welch\"\n",
    ")\n",
    "# Multi-taper Method\n",
    "lr04_slice.interp(step=0.5).standardize().spectral(method=\"mtm\").plot(\n",
    "    ax=ax, xlim=[1000, 5], ylim=[0.001, 1000], label=\"mtm\"\n",
    ")\n",
    "# Lomb-Scargle periodogram\n",
    "lr04_slice.interp(step=0.5).standardize().spectral(method=\"lomb_scargle\").plot(\n",
    "    ax=ax, xlim=[1000, 5], ylim=[0.001, 1000], label=\"lomb_scargle\"\n",
    ")\n",
    "# weighted wavelet Z-transform (WWZ)\n",
    "lr04_slice.interp(step=0.5).standardize().spectral(method=\"wwz\").plot(\n",
    "    ax=ax, xlim=[1000, 5], ylim=[0.001, 1000], label=\"wwz\"\n",
    ")"
   ]
  },
  {
   "cell_type": "markdown",
   "metadata": {
    "execution": {},
    "slideshow": {
     "slide_type": "slide"
    }
   },
   "source": [
    "## Spectral analysis of the LRO4 δ<sup>18</sup>O benthic stack\n",
    "\n",
    "### Spectral Density\n",
    "\n",
    "Which method should you choose?\n",
    "\n",
    "The Lomb-Scargle periodogram is the default method in Pyleoclim, and is a good choice for many applications because: \n",
    "\n",
    "1. It works with unevenly-spaced timeseries which are often encountered in paleoclimate data\n",
    "2. It seems to give consistent results over parameter ranges\n",
    "3. It does not require interpolation, limiting timeseries manipulation\n",
    "4. It is fairly fast to compute.\n",
    "\n",
    "We will choose this estimate to analyze."
   ]
  },
  {
   "cell_type": "markdown",
   "metadata": {
    "execution": {},
    "slideshow": {
     "slide_type": "slide"
    }
   },
   "source": [
    "## Spectral analysis of the LRO4 δ<sup>18</sup>O benthic stack\n",
    "\n",
    "### Spectral Density"
   ]
  },
  {
   "cell_type": "code",
   "execution_count": null,
   "metadata": {
    "execution": {}
   },
   "outputs": [],
   "source": [
    "# Lomb-Scargle periodogram\n",
    "lr04_ls_sd = lr04_slice.interp(step=0.5).standardize().spectral(method=\"lomb_scargle\")\n",
    "\n",
    "lr04_ls_sd.plot(xlim=[1000, 5], ylim=[0.001, 1000], label=\"lomb_scargle\")"
   ]
  },
  {
   "cell_type": "markdown",
   "metadata": {
    "execution": {},
    "slideshow": {
     "slide_type": "slide"
    }
   },
   "source": [
    "## Spectral analysis of the LRO4 δ<sup>18</sup>O benthic stack\n",
    "\n",
    "### Significance Testing\n",
    "\n",
    "Note that there are few peaks that seem more dominant than others, but which of these peaks are significant?\n",
    "\n",
    "> That is, do they stand out more than peaks would from a random time series? \n",
    "\n",
    "To figure that out, we can use the method `signif_test`.\n",
    "\n",
    "Pyleoclim generates many *surrogates* of the time series using an AR(1) (Autoregressive Process of order 1 - i.e. a random process). \n",
    "\n",
    "These surrogates serve to identify the probability of a peak not just being from random noise and the likelihood that the peak of the same magnitude would be unlikely to be present in a random dataset. \n",
    "\n",
    "The default number of surrogates generated is 200, and the larger this value, the more smooth and precise our results are."
   ]
  },
  {
   "cell_type": "markdown",
   "metadata": {
    "execution": {},
    "slideshow": {
     "slide_type": "slide"
    }
   },
   "source": [
    "## Spectral analysis of the LRO4 δ<sup>18</sup>O benthic stack\n",
    "\n",
    "### Significance Testing"
   ]
  },
  {
   "cell_type": "code",
   "execution_count": null,
   "metadata": {
    "execution": {},
    "executionInfo": {
     "elapsed": 81823,
     "status": "ok",
     "timestamp": 1680893282423,
     "user": {
      "displayName": "Sloane Garelick",
      "userId": "04706287370408131987"
     },
     "user_tz": 240
    }
   },
   "outputs": [],
   "source": [
    "lr04_ls_sd_sig = lr04_ls_sd.signif_test()"
   ]
  },
  {
   "cell_type": "markdown",
   "metadata": {
    "execution": {},
    "slideshow": {
     "slide_type": "slide"
    }
   },
   "source": [
    "## Spectral analysis of the LRO4 δ<sup>18</sup>O benthic stack\n",
    "\n",
    "### Significance Testing"
   ]
  },
  {
   "cell_type": "code",
   "execution_count": null,
   "metadata": {
    "execution": {}
   },
   "outputs": [],
   "source": [
    "lr04_ls_sd_sig.plot(xlabel=\"Period [kyrs]\")"
   ]
  },
  {
   "cell_type": "markdown",
   "metadata": {
    "execution": {},
    "slideshow": {
     "slide_type": "slide"
    }
   },
   "source": [
    "## Spectral analysis of the LRO4 δ<sup>18</sup>O benthic stack\n",
    "\n",
    "### Significance Testing\n",
    "\n",
    "The variable `lr04_ls_sd_sig` [PSD object](https://pyleoclim-util.readthedocs.io/en/latest/core/api.html#pyleoclim.core.psds.PSD) contains the significant frequencies of the significant peaks from the spectral density of the LR04 data. \n",
    "\n",
    "We can now create the same plot of spectral power, but with only the significant peaks. \n",
    "\n",
    "**Note**: For this figure, we will plot the x-axis a bit differently. \n",
    "\n",
    "In the previous plot, the x-axis was the \"period\" but this time the x-axis will be \"frequency\", which is the inverse of the period."
   ]
  },
  {
   "cell_type": "markdown",
   "metadata": {
    "execution": {},
    "slideshow": {
     "slide_type": "slide"
    }
   },
   "source": [
    "## Spectral analysis of the LRO4 δ<sup>18</sup>O benthic stack\n",
    "\n",
    "### Significance Testing"
   ]
  },
  {
   "cell_type": "code",
   "execution_count": null,
   "metadata": {
    "execution": {},
    "executionInfo": {
     "elapsed": 722,
     "status": "ok",
     "timestamp": 1680891379240,
     "user": {
      "displayName": "Sloane Garelick",
      "userId": "04706287370408131987"
     },
     "user_tz": 240
    }
   },
   "outputs": [],
   "source": [
    "fig, ax = plt.subplots()\n",
    "ax.plot(lr04_ls_sd_sig.frequency, lr04_ls_sd_sig.amplitude)\n",
    "ax.set_xlim([0.005, 0.07])\n",
    "ax.set_ylim([0, 200])\n",
    "ax.set_xlabel(\"Frequency [1/kyr]\")\n",
    "ax.set_ylabel(\"Spectra Amplitude\")"
   ]
  },
  {
   "cell_type": "markdown",
   "metadata": {
    "execution": {},
    "slideshow": {
     "slide_type": "slide"
    }
   },
   "source": [
    "## Spectral analysis of the LRO4 δ<sup>18</sup>O benthic stack\n",
    "\n",
    "### Significance Testing\n",
    "\n",
    "The largest spectral powers in the data occur at a frequencies of ~0.01 and ~0.025, as well as a smaller peak at ~0.042, which correspond to 100 kyr, 40 kyr, and 23 kyr, respectively. \n",
    "\n",
    "> Do those periodicities sound familiar? \n",
    "\n",
    "These are the cycles of **eccentricity, obliquity and precession**. \n",
    "\n",
    "The presence of spectral powers in the LR04 data at the eccentricity, obliquity and precession frequencies highlights the influence of orbital forcings on glacial-interglacial cycles."
   ]
  },
  {
   "cell_type": "markdown",
   "metadata": {
    "execution": {},
    "slideshow": {
     "slide_type": "slide"
    }
   },
   "source": [
    "## Spectral analysis of the LRO4 δ<sup>18</sup>O benthic stack\n",
    "\n",
    "### Wavelet Analysis\n",
    "\n",
    "Another related tool we can use to learn more about the climate variability recorded in the data is wavelet analysis. \n",
    "\n",
    "This method allows us to  \"unfold\" a spectrum and look at its evolution over time. \n",
    "\n",
    "> In other words, wavelet analysis can help us determine changes in the spectral power over time. \n",
    "\n",
    "For additional details about wavelet analysis, refer to [this guide](https://paos.colorado.edu/research/wavelets/bams_79_01_0061.pdf).\n",
    "\n",
    "There are several ways to access this functionality in Pyleoclim, but here we use `summary_plot`.\n",
    "\n",
    "`summary_plot` stacks together the timeseries itself in the upper panel, its scalogram (a plot of the magnitude of the wavelet power) in the middle, and the power spectral density (PSD, which we plotted earlier in this tutorial) obtained from summing the wavelet coefficients over time to the right."
   ]
  },
  {
   "cell_type": "markdown",
   "metadata": {
    "execution": {},
    "slideshow": {
     "slide_type": "slide"
    }
   },
   "source": [
    "## Spectral analysis of the LRO4 δ<sup>18</sup>O benthic stack\n",
    "\n",
    "### Wavelet Analysis"
   ]
  },
  {
   "cell_type": "code",
   "execution_count": null,
   "metadata": {
    "execution": {}
   },
   "outputs": [],
   "source": [
    "# create a scalogram\n",
    "scal = lr04_slice.interp(step=0.5).standardize().wavelet()"
   ]
  },
  {
   "cell_type": "markdown",
   "metadata": {
    "execution": {},
    "slideshow": {
     "slide_type": "slide"
    }
   },
   "source": [
    "## Spectral analysis of the LRO4 δ<sup>18</sup>O benthic stack\n",
    "\n",
    "### Wavelet Analysis"
   ]
  },
  {
   "cell_type": "code",
   "execution_count": null,
   "metadata": {
    "execution": {},
    "executionInfo": {
     "elapsed": 1623,
     "status": "ok",
     "timestamp": 1680893485411,
     "user": {
      "displayName": "Sloane Garelick",
      "userId": "04706287370408131987"
     },
     "user_tz": 240
    }
   },
   "outputs": [],
   "source": [
    "# make plot\n",
    "lr04_slice.summary_plot(\n",
    "    psd=lr04_ls_sd_sig, scalogram=scal, time_lim=[0, 1000], psd_label=\"Amplitude\"\n",
    ")"
   ]
  },
  {
   "cell_type": "markdown",
   "metadata": {
    "execution": {},
    "slideshow": {
     "slide_type": "slide"
    }
   },
   "source": [
    "## Spectral analysis of the LRO4 δ<sup>18</sup>O benthic stack\n",
    "\n",
    "### Wavelet Analysis\n",
    "\n",
    "In this wavelet spectrum, the age of the record is on the x-axis, the period is on the y-axis, and the color represents the amplitude of that power spectrum, with yellow indicating a higher power and purple indicating a lower power. \n",
    "\n",
    "The time series on top is the original LR04 δ<sup>18</sup>O  data, and the plot on the right is the spectral analysis and significance test figure we created earlier in this tutorial."
   ]
  },
  {
   "cell_type": "markdown",
   "metadata": {
    "execution": {},
    "slideshow": {
     "slide_type": "slide"
    }
   },
   "source": [
    "## Spectral analysis of the LRO4 δ<sup>18</sup>O benthic stack\n",
    "\n",
    "### Wavelet Analysis (your turn)\n",
    "\n",
    "In the spectral analysis above, the 100 kyr and 40 kyr period are the most dominant. \n",
    "\n",
    "Here, we further see that over the past 1 million years, the 100 kyr cycle is the strongest (as seen by the yellow color at the 100 kyr scale), followed by the 40 kyr cycle (as seen by the light purple color at the 40 kyr scale). \n",
    "\n",
    "You may notice an absence of much color at the 23 kyr scale. \n",
    "\n",
    "***What does this suggest about the influence of precession on glacial-interglacial cycles on this timescale?***"
   ]
  },
  {
   "cell_type": "markdown",
   "metadata": {
    "execution": {},
    "slideshow": {
     "slide_type": "slide"
    }
   },
   "source": [
    "# Assessing Climate Forcings"
   ]
  },
  {
   "cell_type": "markdown",
   "metadata": {
    "execution": {},
    "slideshow": {
     "slide_type": "slide"
    }
   },
   "source": [
    "## Assessing Climate Forcings\n",
    "\n",
    "Climate forcings are essential to assess the variations observed in paleoclimate records. \n",
    "\n",
    "Analyze climate forcings include:\n",
    "\n",
    "*   Plot and interpret temperature reconstructions from speleothem oxygen isotopes\n",
    "*   Generate and plot time series of solar insolation\n",
    "*   Assess the orbital forcings on monsoon intensity over the past 400,000 years using spectral analysis"
   ]
  },
  {
   "cell_type": "markdown",
   "metadata": {
    "execution": {},
    "slideshow": {
     "slide_type": "slide"
    }
   },
   "source": [
    "## Understanding and Interpreting Climate Forcings\n",
    "\n",
    "A common task in paleoclimatology is to relate a proxy record (or several of them) to the particular forcing(s) that is thought to dominate that particular record (e.g., based on the proxy, location, etc.)\n",
    "\n",
    "We've already spent some time learning about the influence of Earth's orbital configuration on glacial-interglacial cycles. \n",
    "\n",
    "Now we will assess the the climate forcings of monsoon intensity over the past 400,000 years. \n",
    "\n",
    "Recall that monsoons are seasonal changes in the direction of strongest wind and precipitation that are primarily driven by variations in seasonal insolation."
   ]
  },
  {
   "cell_type": "markdown",
   "metadata": {
    "execution": {},
    "slideshow": {
     "slide_type": "slide"
    }
   },
   "source": [
    "## Understanding and Interpreting Climate Forcings\n",
    "\n",
    "Land and the ocean have different abilities to hold onto heat. Land cools and warms much faster than the ocean does due to high heat capacity. \n",
    "\n",
    "This temperature difference leads to a pressure difference that drives atmospheric circulations called monsoons. \n",
    "\n",
    "*   **Summer (Northern Hemisphere)**: land is warmer than the ocean, so the winds blow towards the land, resulting in heavy rainfall over land.\n",
    "*   **Winter (Northern Hemisphere)**: land is cooler than the ocean, so the winds blow away from the land, resulting in heavy rainfall over the ocean and decreased rainfall over land.\n",
    " \n",
    "On longer timescales, changes in insolation and the mean climate state can drive changes in monsoon intensity."
   ]
  },
  {
   "cell_type": "markdown",
   "metadata": {
    "execution": {},
    "slideshow": {
     "slide_type": "slide"
    }
   },
   "source": [
    "## Understanding and Interpreting Climate Forcings\n",
    "\n",
    "To assess these long-term changes, we can analyze paleoclimate reconstructions from monsoon regions such as India, Southeast Asia or Africa.\n",
    "\n",
    "δ<sup>18</sup>O records from speleothems in Chinese caves are broadly interpreted to reflect continental-scale monsoon circulations. \n",
    "\n",
    "We will plot and analyze a composite of three δ<sup>18</sup>O speleothem records from multiple caves in China (Sanbao, Hulu, and Dongge caves) from [Cheng et al. (2016)](https://hwww.nature.com/articles/nature18591).\n",
    "\n",
    "We will then assess the relationship between the climate signals recorded by the speleothem δ<sup>18</sup>O and solar insolation."
   ]
  },
  {
   "cell_type": "markdown",
   "metadata": {
    "execution": {},
    "slideshow": {
     "slide_type": "slide"
    }
   },
   "source": [
    "## Understanding and Interpreting Climate Forcings\n",
    "\n",
    "First, we download and plot the speleothem oxygen isotope data:"
   ]
  },
  {
   "cell_type": "code",
   "execution_count": null,
   "metadata": {
    "execution": {},
    "executionInfo": {
     "elapsed": 927,
     "status": "ok",
     "timestamp": 1681252746094,
     "user": {
      "displayName": "Brodie Pearson",
      "userId": "05269028596972519847"
     },
     "user_tz": 420
    }
   },
   "outputs": [],
   "source": [
    "# download the data from the url\n",
    "filename_Sanbao_composite = \"Sanbao_composite.csv\"\n",
    "url_Sanbao_composite = \"https://raw.githubusercontent.com/LinkedEarth/paleoHackathon/main/data/Orbital_records/Sanbao_composite.csv\"\n",
    "data = pd.read_csv(\n",
    "    pooch_load(filelocation=url_Sanbao_composite, filename=filename_Sanbao_composite)\n",
    ")\n",
    "\n",
    "# create a pyleo.Series\n",
    "d18O_data = pyleo.Series(\n",
    "    time=data[\"age\"] / 1000,\n",
    "    time_name=\"Age\",\n",
    "    time_unit=\"kyr BP\",\n",
    "    value=-data[\"d18O\"],\n",
    "    value_name=r\"$\\delta^{18}$O\",\n",
    "    value_unit=\"\\u2030\",\n",
    ")\n",
    "d18O_data.plot()"
   ]
  },
  {
   "cell_type": "markdown",
   "metadata": {
    "execution": {},
    "slideshow": {
     "slide_type": "slide"
    }
   },
   "source": [
    "## Understanding and Interpreting Climate Forcings\n",
    "\n",
    "You may notice that in the figure we just made, the δ<sup>18</sup>O values on the y-axis is plotted with more positive values up.\n",
    "\n",
    "In the previous plots, we have plotted isotopic data with more negative values up (since more negative/\"depleted\" suggests warmer temperatures or increased rainfall).\n",
    "\n",
    "However, the pre-processed δ<sup>18</sup>O data that we're using here was multipled by $-1$, so now a more positive/\"enriched\" value suggests warmer temperatures or increased rainfall.\n",
    "\n",
    "In other words, in this figure, **upward on the y-axis is *increased* monsoon intensity** and **downward on the y-axis is *decreased* monsoon intensity**."
   ]
  },
  {
   "cell_type": "markdown",
   "metadata": {
    "execution": {},
    "slideshow": {
     "slide_type": "slide"
    }
   },
   "source": [
    "## Understanding and Interpreting Climate Forcings\n",
    "\n",
    "Let's perform spectral analysis on the speleothem oxygen isotope data.\n",
    "\n",
    "Recall that spectral analysis can help us identify dominant cyclicities in the data, which can be useful for assessing potential climate forcings.\n",
    "\n",
    "Here we'll use the Weighted Wavelet Z-Transform (WWZ) method you learned in the previous slides:"
   ]
  },
  {
   "cell_type": "markdown",
   "metadata": {
    "execution": {},
    "slideshow": {
     "slide_type": "slide"
    }
   },
   "source": [
    "## Understanding and Interpreting Climate Forcings\n",
    "\n",
    "Standardize the data:"
   ]
  },
  {
   "cell_type": "code",
   "execution_count": null,
   "metadata": {
    "execution": {}
   },
   "outputs": [],
   "source": [
    "d18O_stnd = d18O_data.interp(step=0.5).standardize()  # save it for future use"
   ]
  },
  {
   "cell_type": "markdown",
   "metadata": {
    "execution": {},
    "slideshow": {
     "slide_type": "slide"
    }
   },
   "source": [
    "## Understanding and Interpreting Climate Forcings\n",
    "\n",
    "Calculate the WWZ spectral analysis:"
   ]
  },
  {
   "cell_type": "code",
   "execution_count": null,
   "metadata": {
    "execution": {}
   },
   "outputs": [],
   "source": [
    "d18O_wwz = d18O_stnd.spectral(method=\"wwz\")"
   ]
  },
  {
   "cell_type": "markdown",
   "metadata": {
    "execution": {},
    "slideshow": {
     "slide_type": "slide"
    }
   },
   "source": [
    "## Understanding and Interpreting Climate Forcings\n",
    "\n",
    "Plot WWZ results:"
   ]
  },
  {
   "cell_type": "code",
   "execution_count": null,
   "metadata": {
    "execution": {},
    "executionInfo": {
     "elapsed": 1575,
     "status": "ok",
     "timestamp": 1681252948290,
     "user": {
      "displayName": "Brodie Pearson",
      "userId": "05269028596972519847"
     },
     "user_tz": 420
    }
   },
   "outputs": [],
   "source": [
    "d18O_wwz.plot(xlim=[100, 5], ylim=[0.001, 1000])"
   ]
  },
  {
   "cell_type": "markdown",
   "metadata": {
    "execution": {},
    "slideshow": {
     "slide_type": "slide"
    }
   },
   "source": [
    "## Understanding and Interpreting Climate Forcings: Your turn\n",
    "\n",
    "The dominant spectral power is at ~23,000 years.\n",
    "\n",
    "This suggests a link between monsoon intensity and orbital precession.\n",
    "\n",
    "**Is this peak significant?**\n",
    "\n",
    "Use the skills you learned in the previous slides to test the significance of this peak at the 95% confidence level.\n",
    "\n",
    "For this exercise, input `number = 30` as the default value which will take a long time to run."
   ]
  },
  {
   "cell_type": "code",
   "execution_count": null,
   "metadata": {
    "execution": {}
   },
   "outputs": [],
   "source": [
    "# perform significance test with 5 surrogates\n",
    "d18O_wwz_sig = ...\n",
    "\n",
    "# plot the results\n",
    "_ = ..."
   ]
  },
  {
   "cell_type": "markdown",
   "metadata": {
    "execution": {},
    "slideshow": {
     "slide_type": "slide"
    }
   },
   "source": [
    "## Constructing Insolation Curves\n",
    "\n",
    "To further explore and confirm the relationship between monsoon intensity and orbital precession, let's take a look at insolation data and compare this to the speleothem δ<sup>18</sup>O records from Asia.\n",
    "\n",
    "Insolation refers to the amount of solar radiation reaching a given area of the Earth’s surface over a specific period.\n",
    "\n",
    "Recall that insolation is controlled by variations in Earth's orbital cycles (eccentricity, obliquity, precession), so by comparing the δ<sup>18</sup>O record to insolation, we can assess the influence of orbital variations on δ<sup>18</sup>O and monsoon intensity. \n",
    "\n",
    "To compute solar insolation, we can use the package [`climlab`](https://climlab.readthedocs.io/en/latest/index.html) by Brian Rose.\n",
    "\n",
    "Let's create a time series over the past 400,000 years of changes in summer insolation at 31.67ºN, which is the latitude of Sanbao, one of the caves from which the speleothem records were produced."
   ]
  },
  {
   "cell_type": "markdown",
   "metadata": {
    "execution": {},
    "slideshow": {
     "slide_type": "slide"
    }
   },
   "source": [
    "## Constructing Insolation Curves"
   ]
  },
  {
   "cell_type": "code",
   "execution_count": null,
   "metadata": {
    "execution": {}
   },
   "outputs": [],
   "source": [
    "# specify time interval and units\n",
    "kyears = np.linspace(-400, 0, 1001)\n",
    "\n",
    "# subset of orbital parameters for specified time\n",
    "orb = OrbitalTable.interp(kyear=kyears)\n",
    "days = np.linspace(0, const.days_per_year, 365)\n",
    "\n",
    "# generate insolation at Sanbao latitude (31.67)\n",
    "Qsb = daily_insolation(31.67, days, orb)\n",
    "\n",
    "# julian days 152-243 are JJA\n",
    "Qsb_jja = np.mean(Qsb[:, 151:243], axis=1)"
   ]
  },
  {
   "cell_type": "markdown",
   "metadata": {
    "execution": {},
    "slideshow": {
     "slide_type": "slide"
    }
   },
   "source": [
    "## Constructing Insolation Curves\n",
    "\n",
    "Now we can store this data as a `Series` in Pyleoclim and plot the data versus time:"
   ]
  },
  {
   "cell_type": "code",
   "execution_count": null,
   "metadata": {
    "execution": {},
    "executionInfo": {
     "elapsed": 540,
     "status": "ok",
     "timestamp": 1681253008796,
     "user": {
      "displayName": "Brodie Pearson",
      "userId": "05269028596972519847"
     },
     "user_tz": 420
    }
   },
   "outputs": [],
   "source": [
    "ts_qsb = pyleo.Series(\n",
    "    time=-kyears,\n",
    "    time_name=\"Age\",\n",
    "    time_unit=\"ky BP\",\n",
    "    value=Qsb_jja,\n",
    "    value_name=\"JJA Insolation\",\n",
    "    value_unit=r\"$W.m^{-2}$\",\n",
    ")\n",
    "\n",
    "ts_qsb.plot()"
   ]
  },
  {
   "cell_type": "markdown",
   "metadata": {
    "execution": {},
    "slideshow": {
     "slide_type": "slide"
    }
   },
   "source": [
    "## Constructing Insolation Curves\n",
    "\n",
    "Next, let's plot and compare the speleothem δ<sup>18</sup>O data and the solar insolation data:"
   ]
  },
  {
   "cell_type": "code",
   "execution_count": null,
   "metadata": {
    "execution": {},
    "executionInfo": {
     "elapsed": 819,
     "status": "ok",
     "timestamp": 1681253013959,
     "user": {
      "displayName": "Brodie Pearson",
      "userId": "05269028596972519847"
     },
     "user_tz": 420
    }
   },
   "outputs": [],
   "source": [
    "# standardize the insolation data\n",
    "ts_qsb_stnd = ts_qsb.standardize()\n",
    "\n",
    "# create a MultipleSeries of the speleothem d18O record and insolation data\n",
    "compare = [d18O_stnd, ts_qsb_stnd]\n",
    "ms_compare = pyleo.MultipleSeries(compare, time_unit=\"kyr BP\", name=None)\n",
    "\n",
    "# create a stackplot to compare the data\n",
    "ms_compare.stackplot()"
   ]
  },
  {
   "cell_type": "markdown",
   "metadata": {
    "execution": {},
    "slideshow": {
     "slide_type": "slide"
    }
   },
   "source": [
    "## Constructing Insolation Curves\n",
    "\n",
    "By visually comparing the time series of the two records, we can see similarites at orbital scales. \n",
    "\n",
    "To confirm this, we can use spectral analysis to determine the dominant spectral power of the insolation data:\n",
    "\n",
    "Calculate the WWZ spectral analysis:"
   ]
  },
  {
   "cell_type": "code",
   "execution_count": null,
   "metadata": {
    "execution": {}
   },
   "outputs": [],
   "source": [
    "psd_wwz = ts_qsb_stnd.spectral(method=\"wwz\")"
   ]
  },
  {
   "cell_type": "markdown",
   "metadata": {
    "execution": {},
    "slideshow": {
     "slide_type": "slide"
    }
   },
   "source": [
    "## Constructing Insolation Curves"
   ]
  },
  {
   "cell_type": "code",
   "execution_count": null,
   "metadata": {
    "execution": {},
    "executionInfo": {
     "elapsed": 602,
     "status": "ok",
     "timestamp": 1681253046710,
     "user": {
      "displayName": "Brodie Pearson",
      "userId": "05269028596972519847"
     },
     "user_tz": 420
    }
   },
   "outputs": [],
   "source": [
    "psd_wwz.plot()"
   ]
  },
  {
   "cell_type": "markdown",
   "metadata": {
    "execution": {},
    "slideshow": {
     "slide_type": "slide"
    }
   },
   "source": [
    "## Constructing Insolation Curves: Your turn\n",
    "\n",
    "1. What is the dominant spectral power in summer insolation at 31ºN latitude? How does this compare to the speleothem data?\n",
    "\n",
    "2. Why might there be a relationship between solar insolation and monsoon intensity? What does the common spectral power in both the insolation and δ<sup>18</sup>O records suggest about the climate forcings driving monsoon intensity in this region?"
   ]
  },
  {
   "cell_type": "markdown",
   "metadata": {
    "execution": {},
    "slideshow": {
     "slide_type": "slide"
    }
   },
   "source": [
    "## Questions?"
   ]
  },
  {
   "cell_type": "markdown",
   "metadata": {
    "execution": {},
    "slideshow": {
     "slide_type": "slide"
    }
   },
   "source": [
    "## See you in the next lecture!"
   ]
  }
 ],
 "metadata": {
  "celltoolbar": "Slideshow",
  "colab": {
   "collapsed_sections": [],
   "include_colab_link": true,
   "name": "W1D4_Tutorial1",
   "provenance": [
    {
     "file_id": "1lHuVrVtAW4fQzc0dFdlZuwY0i71KWw_t",
     "timestamp": 1677637469824
    }
   ],
   "toc_visible": true
  },
  "gpuClass": "standard",
  "kernel": {
   "display_name": "Python 3",
   "language": "python",
   "name": "python3"
  },
  "kernelspec": {
   "display_name": "Python 3 (ipykernel)",
   "language": "python",
   "name": "python3"
  },
  "language_info": {
   "codemirror_mode": {
    "name": "ipython",
    "version": 3
   },
   "file_extension": ".py",
   "mimetype": "text/x-python",
   "name": "python",
   "nbconvert_exporter": "python",
   "pygments_lexer": "ipython3",
   "version": "3.9.5"
  }
 },
 "nbformat": 4,
 "nbformat_minor": 4
}
